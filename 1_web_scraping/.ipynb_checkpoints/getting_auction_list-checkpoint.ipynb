{
 "cells": [
  {
   "cell_type": "code",
   "execution_count": 1,
   "metadata": {},
   "outputs": [],
   "source": [
    "from bs4 import BeautifulSoup\n",
    "import requests\n",
    "import time\n",
    "import re\n",
    "import numpy as np\n",
    "import pandas as pd\n",
    "from tqdm import tqdm"
   ]
  },
  {
   "cell_type": "markdown",
   "metadata": {},
   "source": [
    "## auctions collection"
   ]
  },
  {
   "cell_type": "code",
   "execution_count": 2,
   "metadata": {},
   "outputs": [],
   "source": [
    "flat_size = [[0,30],[30,35],[35,40],[40,42],[42,45],[45,47],[47,50],\n",
    "             [50,52],[52,55],[55,57],[57,60],\n",
    "             [60,62],[62,65],[65,70],[70,80],[80,100],[100,1000]]"
   ]
  },
  {
   "cell_type": "code",
   "execution_count": 3,
   "metadata": {},
   "outputs": [
    {
     "name": "stdout",
     "output_type": "stream",
     "text": [
      "mi=0, ma=30, 131 pages\n",
      "mi=30, ma=35, 166 pages\n",
      "mi=35, ma=40, 283 pages\n",
      "mi=40, ma=42, 135 pages\n",
      "mi=42, ma=45, 201 pages\n",
      "mi=45, ma=47, 150 pages\n",
      "mi=47, ma=50, 237 pages\n",
      "mi=50, ma=52, 136 pages\n",
      "mi=52, ma=55, 213 pages\n",
      "mi=55, ma=57, 141 pages\n",
      "mi=57, ma=60, 199 pages\n",
      "mi=60, ma=62, 149 pages\n",
      "mi=62, ma=65, 179 pages\n",
      "mi=65, ma=70, 221 pages\n",
      "mi=70, ma=80, 265 pages\n",
      "mi=80, ma=100, 241 pages\n",
      "mi=100, ma=1000, 204 pages\n",
      "0.2 min.\n"
     ]
    }
   ],
   "source": [
    "start = time.time()\n",
    "\n",
    "for mi,ma in flat_size:\n",
    "    url = f'https://gratka.pl/nieruchomosci/mieszkania?powierzchnia-w-m2:min={mi}&powierzchnia-w-m2:max={ma}'\n",
    "    page = requests.get(url)\n",
    "    soup = BeautifulSoup(page.content, 'html.parser')\n",
    "    pagination = soup.find_all(class_=\"pagination__input\")\n",
    "    print(f'mi={mi}, ma={ma}, {pagination[0][\"max\"]} pages')\n",
    "        \n",
    "stop = time.time()\n",
    "print(round((stop-start)/60,1),'min.')"
   ]
  },
  {
   "cell_type": "code",
   "execution_count": 4,
   "metadata": {},
   "outputs": [
    {
     "name": "stdout",
     "output_type": "stream",
     "text": [
      "mi=0 ma=30 complete, auction list has now 4191 links\n",
      "mi=30 ma=35 complete, auction list has now 9473 links\n",
      "mi=35 ma=40 complete, auction list has now 18502 links\n",
      "mi=40 ma=42 complete, auction list has now 22816 links\n",
      "mi=42 ma=45 complete, auction list has now 29220 links\n",
      "mi=45 ma=47 complete, auction list has now 33989 links\n",
      "mi=47 ma=50 complete, auction list has now 41566 links\n",
      "mi=50 ma=52 complete, auction list has now 45912 links\n",
      "mi=52 ma=55 complete, auction list has now 52707 links\n",
      "mi=55 ma=57 complete, auction list has now 57215 links\n",
      "mi=57 ma=60 complete, auction list has now 63565 links\n",
      "mi=60 ma=62 complete, auction list has now 68310 links\n",
      "mi=62 ma=65 complete, auction list has now 74014 links\n",
      "mi=65 ma=70 complete, auction list has now 81082 links\n",
      "mi=70 ma=80 complete, auction list has now 89531 links\n",
      "mi=80 ma=100 complete, auction list has now 97213 links\n",
      "mi=100 ma=1000 complete, auction list has now 103720 links\n",
      "49.0 min.\n"
     ]
    }
   ],
   "source": [
    "start = time.time()\n",
    "\n",
    "auction_list = []\n",
    "\n",
    "for mi,ma in flat_size:\n",
    "    url = f'https://gratka.pl/nieruchomosci/mieszkania?powierzchnia-w-m2:min={mi}&powierzchnia-w-m2:max={ma}'\n",
    "    page = requests.get(url)\n",
    "    soup = BeautifulSoup(page.content, 'html.parser')\n",
    "    pagination = soup.find_all(class_=\"pagination__input\")\n",
    "    for i in range(int(pagination[0][\"max\"])):\n",
    "        url = f'https://gratka.pl/nieruchomosci/mieszkania?page={i+1}&powierzchnia-w-m2:min={mi}&powierzchnia-w-m2:max={ma}'\n",
    "        page = requests.get(url)\n",
    "        soup = BeautifulSoup(page.content, 'html.parser')\n",
    "        links = soup.find_all(class_=\"teaserUnified\")\n",
    "        for link in links:\n",
    "            auction_list.append(link['data-href'])\n",
    "#         time.sleep(1)\n",
    "#         if i%50 == 0:\n",
    "#         time.sleep(5)\n",
    "    print(f'mi={mi} ma={ma} complete, auction list has now {len(auction_list)} links')\n",
    "        \n",
    "stop = time.time()\n",
    "print(round((stop-start)/60,1),'min.')"
   ]
  },
  {
   "cell_type": "code",
   "execution_count": 5,
   "metadata": {},
   "outputs": [
    {
     "data": {
      "text/plain": [
       "103720"
      ]
     },
     "execution_count": 5,
     "metadata": {},
     "output_type": "execute_result"
    }
   ],
   "source": [
    "len(auction_list)"
   ]
  },
  {
   "cell_type": "code",
   "execution_count": 6,
   "metadata": {},
   "outputs": [
    {
     "data": {
      "text/plain": [
       "96263"
      ]
     },
     "execution_count": 6,
     "metadata": {},
     "output_type": "execute_result"
    }
   ],
   "source": [
    "len(set(auction_list))"
   ]
  },
  {
   "cell_type": "code",
   "execution_count": 7,
   "metadata": {},
   "outputs": [],
   "source": [
    "auction_list = set(auction_list)"
   ]
  },
  {
   "cell_type": "markdown",
   "metadata": {},
   "source": [
    "## saving auction list"
   ]
  },
  {
   "cell_type": "code",
   "execution_count": 8,
   "metadata": {},
   "outputs": [],
   "source": [
    "with open('apartments_links.txt','w') as file:\n",
    "    for link in auction_list:\n",
    "        file.write(link)\n",
    "        file.write('\\n')"
   ]
  }
 ],
 "metadata": {
  "kernelspec": {
   "display_name": "Python 3",
   "language": "python",
   "name": "python3"
  },
  "language_info": {
   "codemirror_mode": {
    "name": "ipython",
    "version": 3
   },
   "file_extension": ".py",
   "mimetype": "text/x-python",
   "name": "python",
   "nbconvert_exporter": "python",
   "pygments_lexer": "ipython3",
   "version": "3.6.12"
  }
 },
 "nbformat": 4,
 "nbformat_minor": 4
}
