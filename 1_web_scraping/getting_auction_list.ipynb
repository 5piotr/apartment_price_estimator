{
 "cells": [
  {
   "cell_type": "code",
   "execution_count": 2,
   "metadata": {},
   "outputs": [
    {
     "ename": "ModuleNotFoundError",
     "evalue": "No module named 'bs4'",
     "output_type": "error",
     "traceback": [
      "\u001b[1;31m---------------------------------------------------------------------------\u001b[0m",
      "\u001b[1;31mModuleNotFoundError\u001b[0m                       Traceback (most recent call last)",
      "\u001b[1;32m<ipython-input-2-b3bcf4246455>\u001b[0m in \u001b[0;36m<module>\u001b[1;34m\u001b[0m\n\u001b[1;32m----> 1\u001b[1;33m \u001b[1;32mfrom\u001b[0m \u001b[0mbs4\u001b[0m \u001b[1;32mimport\u001b[0m \u001b[0mBeautifulSoup\u001b[0m\u001b[1;33m\u001b[0m\u001b[1;33m\u001b[0m\u001b[0m\n\u001b[0m\u001b[0;32m      2\u001b[0m \u001b[1;32mimport\u001b[0m \u001b[0mrequests\u001b[0m\u001b[1;33m\u001b[0m\u001b[1;33m\u001b[0m\u001b[0m\n\u001b[0;32m      3\u001b[0m \u001b[1;32mimport\u001b[0m \u001b[0mtime\u001b[0m\u001b[1;33m\u001b[0m\u001b[1;33m\u001b[0m\u001b[0m\n\u001b[0;32m      4\u001b[0m \u001b[1;32mimport\u001b[0m \u001b[0mre\u001b[0m\u001b[1;33m\u001b[0m\u001b[1;33m\u001b[0m\u001b[0m\n\u001b[0;32m      5\u001b[0m \u001b[1;32mimport\u001b[0m \u001b[0mnumpy\u001b[0m \u001b[1;32mas\u001b[0m \u001b[0mnp\u001b[0m\u001b[1;33m\u001b[0m\u001b[1;33m\u001b[0m\u001b[0m\n",
      "\u001b[1;31mModuleNotFoundError\u001b[0m: No module named 'bs4'"
     ]
    }
   ],
   "source": [
    "from bs4 import BeautifulSoup\n",
    "import requests\n",
    "import time\n",
    "import re\n",
    "import numpy as np\n",
    "import pandas as pd\n",
    "from tqdm import tqdm"
   ]
  },
  {
   "cell_type": "markdown",
   "metadata": {},
   "source": [
    "## auctions collection"
   ]
  },
  {
   "cell_type": "code",
   "execution_count": 2,
   "metadata": {},
   "outputs": [],
   "source": [
    "flat_size = [[0,30],[30,35],[35,40],[40,42],[42,45],[45,47],[47,50],\n",
    "             [50,52],[52,55],[55,57],[57,60],\n",
    "             [60,62],[62,65],[65,70],[70,80],[80,100],[100,1000]]"
   ]
  },
  {
   "cell_type": "code",
   "execution_count": 3,
   "metadata": {},
   "outputs": [
    {
     "name": "stdout",
     "output_type": "stream",
     "text": [
      "mi=0, ma=30, 114 pages\n",
      "mi=30, ma=35, 129 pages\n",
      "mi=35, ma=40, 209 pages\n",
      "mi=40, ma=42, 104 pages\n",
      "mi=42, ma=45, 145 pages\n",
      "mi=45, ma=47, 102 pages\n",
      "mi=47, ma=50, 164 pages\n",
      "mi=50, ma=52, 98 pages\n",
      "mi=52, ma=55, 147 pages\n",
      "mi=55, ma=57, 103 pages\n",
      "mi=57, ma=60, 146 pages\n",
      "mi=60, ma=62, 104 pages\n",
      "mi=62, ma=65, 136 pages\n",
      "mi=65, ma=70, 170 pages\n",
      "mi=70, ma=80, 230 pages\n",
      "mi=80, ma=100, 222 pages\n",
      "mi=100, ma=1000, 198 pages\n",
      "0.2 min.\n"
     ]
    }
   ],
   "source": [
    "start = time.time()\n",
    "\n",
    "for mi,ma in flat_size:\n",
    "    url = f'https://gratka.pl/nieruchomosci/mieszkania?powierzchnia-w-m2:min={mi}&powierzchnia-w-m2:max={ma}'\n",
    "    page = requests.get(url)\n",
    "    soup = BeautifulSoup(page.content, 'html.parser')\n",
    "    pagination = soup.find_all(class_=\"pagination__input\")\n",
    "    print(f'mi={mi}, ma={ma}, {pagination[0][\"max\"]} pages')\n",
    "        \n",
    "stop = time.time()\n",
    "print(round((stop-start)/60,1),'min.')"
   ]
  },
  {
   "cell_type": "code",
   "execution_count": 4,
   "metadata": {},
   "outputs": [
    {
     "name": "stdout",
     "output_type": "stream",
     "text": [
      "mi=0 ma=30 complete, auction list has now 3639 links\n",
      "mi=30 ma=35 complete, auction list has now 7748 links\n",
      "mi=35 ma=40 complete, auction list has now 14425 links\n",
      "mi=40 ma=42 complete, auction list has now 17743 links\n",
      "mi=42 ma=45 complete, auction list has now 22374 links\n",
      "mi=45 ma=47 complete, auction list has now 25631 links\n",
      "mi=47 ma=50 complete, auction list has now 30853 links\n",
      "mi=50 ma=52 complete, auction list has now 33972 links\n",
      "mi=52 ma=55 complete, auction list has now 38662 links\n",
      "mi=55 ma=57 complete, auction list has now 41939 links\n",
      "mi=57 ma=60 complete, auction list has now 46586 links\n",
      "mi=60 ma=62 complete, auction list has now 49909 links\n",
      "mi=62 ma=65 complete, auction list has now 54238 links\n",
      "mi=65 ma=70 complete, auction list has now 59674 links\n",
      "mi=70 ma=80 complete, auction list has now 67011 links\n",
      "mi=80 ma=100 complete, auction list has now 74105 links\n",
      "mi=100 ma=1000 complete, auction list has now 80415 links\n",
      "37.2 min.\n"
     ]
    }
   ],
   "source": [
    "start = time.time()\n",
    "\n",
    "auction_list = []\n",
    "\n",
    "for mi,ma in flat_size:\n",
    "    url = f'https://gratka.pl/nieruchomosci/mieszkania?powierzchnia-w-m2:min={mi}&powierzchnia-w-m2:max={ma}'\n",
    "    page = requests.get(url)\n",
    "    soup = BeautifulSoup(page.content, 'html.parser')\n",
    "    pagination = soup.find_all(class_=\"pagination__input\")\n",
    "    for i in range(int(pagination[0][\"max\"])):\n",
    "        url = f'https://gratka.pl/nieruchomosci/mieszkania?page={i+1}&powierzchnia-w-m2:min={mi}&powierzchnia-w-m2:max={ma}'\n",
    "        page = requests.get(url)\n",
    "        soup = BeautifulSoup(page.content, 'html.parser')\n",
    "        links = soup.find_all(class_=\"teaserUnified\")\n",
    "        for link in links:\n",
    "            auction_list.append(link['data-href'])\n",
    "#         time.sleep(1)\n",
    "#         if i%50 == 0:\n",
    "#         time.sleep(5)\n",
    "    print(f'mi={mi} ma={ma} complete, auction list has now {len(auction_list)} links')\n",
    "        \n",
    "stop = time.time()\n",
    "print(round((stop-start)/60,1),'min.')"
   ]
  },
  {
   "cell_type": "code",
   "execution_count": 5,
   "metadata": {},
   "outputs": [
    {
     "data": {
      "text/plain": [
       "80415"
      ]
     },
     "execution_count": 5,
     "metadata": {},
     "output_type": "execute_result"
    }
   ],
   "source": [
    "len(auction_list)"
   ]
  },
  {
   "cell_type": "code",
   "execution_count": 6,
   "metadata": {},
   "outputs": [
    {
     "data": {
      "text/plain": [
       "74867"
      ]
     },
     "execution_count": 6,
     "metadata": {},
     "output_type": "execute_result"
    }
   ],
   "source": [
    "len(set(auction_list))"
   ]
  },
  {
   "cell_type": "code",
   "execution_count": 7,
   "metadata": {},
   "outputs": [],
   "source": [
    "auction_list = set(auction_list)"
   ]
  },
  {
   "cell_type": "markdown",
   "metadata": {},
   "source": [
    "## saving auction list"
   ]
  },
  {
   "cell_type": "code",
   "execution_count": 8,
   "metadata": {},
   "outputs": [],
   "source": [
    "with open('apartments_links.txt','w') as file:\n",
    "    for link in auction_list:\n",
    "        file.write(link)\n",
    "        file.write('\\n')"
   ]
  },
  {
   "cell_type": "code",
   "execution_count": null,
   "metadata": {},
   "outputs": [],
   "source": []
  }
 ],
 "metadata": {
  "kernelspec": {
   "display_name": "Python 3",
   "language": "python",
   "name": "python3"
  },
  "language_info": {
   "codemirror_mode": {
    "name": "ipython",
    "version": 3
   },
   "file_extension": ".py",
   "mimetype": "text/x-python",
   "name": "python",
   "nbconvert_exporter": "python",
   "pygments_lexer": "ipython3",
   "version": "3.6.13"
  }
 },
 "nbformat": 4,
 "nbformat_minor": 4
}
