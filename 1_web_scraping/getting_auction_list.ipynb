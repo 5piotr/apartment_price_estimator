{
 "cells": [
  {
   "cell_type": "code",
   "execution_count": 1,
   "metadata": {},
   "outputs": [],
   "source": [
    "from bs4 import BeautifulSoup\n",
    "import requests\n",
    "import time\n",
    "import re\n",
    "import numpy as np\n",
    "import pandas as pd\n",
    "from tqdm import tqdm"
   ]
  },
  {
   "cell_type": "markdown",
   "metadata": {},
   "source": [
    "## auctions collection"
   ]
  },
  {
   "cell_type": "code",
   "execution_count": 2,
   "metadata": {},
   "outputs": [],
   "source": [
    "flat_size = [[0, 25]] \\\n",
    "            + [[25, 30]] \\\n",
    "            + [[a, a+1] for a in range(30, 40, 1)] \\\n",
    "            + [[a, a+2] for a in range(40, 70, 2)] \\\n",
    "            + [[a, a+4] for a in range(70, 100, 4)] \\\n",
    "            + [[100, 150]] \\\n",
    "            + [[151, 1000]]"
   ]
  },
  {
   "cell_type": "code",
   "execution_count": 3,
   "metadata": {},
   "outputs": [
    {
     "name": "stdout",
     "output_type": "stream",
     "text": [
      "mi=0, ma=25, 41 pages\n",
      "mi=25, ma=30, 119 pages\n",
      "mi=30, ma=31, 33 pages\n",
      "mi=31, ma=32, 28 pages\n",
      "mi=32, ma=33, 38 pages\n",
      "mi=33, ma=34, 42 pages\n",
      "mi=34, ma=35, 44 pages\n",
      "mi=35, ma=36, 52 pages\n",
      "mi=36, ma=37, 68 pages\n",
      "mi=37, ma=38, 80 pages\n",
      "mi=38, ma=39, 75 pages\n",
      "mi=39, ma=40, 69 pages\n",
      "mi=40, ma=42, 126 pages\n",
      "mi=42, ma=44, 130 pages\n",
      "mi=44, ma=46, 130 pages\n",
      "mi=46, ma=48, 145 pages\n",
      "mi=48, ma=50, 144 pages\n",
      "mi=50, ma=52, 118 pages\n",
      "mi=52, ma=54, 120 pages\n",
      "mi=54, ma=56, 119 pages\n",
      "mi=56, ma=58, 113 pages\n",
      "mi=58, ma=60, 106 pages\n",
      "mi=60, ma=62, 108 pages\n",
      "mi=62, ma=64, 102 pages\n",
      "mi=64, ma=66, 89 pages\n",
      "mi=66, ma=68, 78 pages\n",
      "mi=68, ma=70, 68 pages\n",
      "mi=70, ma=74, 105 pages\n",
      "mi=74, ma=78, 82 pages\n",
      "mi=78, ma=82, 63 pages\n",
      "mi=82, ma=86, 52 pages\n",
      "mi=86, ma=90, 42 pages\n",
      "mi=90, ma=94, 37 pages\n",
      "mi=94, ma=98, 26 pages\n",
      "mi=98, ma=102, 26 pages\n",
      "mi=100, ma=150, 120 pages\n",
      "mi=151, ma=1000, 24 pages\n",
      "0.9 min.\n"
     ]
    }
   ],
   "source": [
    "start = time.time()\n",
    "\n",
    "for mi,ma in flat_size:\n",
    "    url = f'https://gratka.pl/nieruchomosci/mieszkania?location[map]=1&location[map_bounds]=55.0,24.0:49.0,14.0&powierzchnia-w-m2:max={ma}&powierzchnia-w-m2:min={mi}&sort=relevance'\n",
    "    page = requests.get(url)\n",
    "    soup = BeautifulSoup(page.content, 'html.parser')\n",
    "    pagination = soup.find_all(class_=\"iVM-2V Vr8BLu C-LDOy _2Mk82C\")\n",
    "    print(f'mi={mi}, ma={ma}, {pagination[3].get_text()} pages')\n",
    "        \n",
    "stop = time.time()\n",
    "print(round((stop-start)/60,1),'min.')"
   ]
  },
  {
   "cell_type": "code",
   "execution_count": 11,
   "metadata": {},
   "outputs": [
    {
     "name": "stdout",
     "output_type": "stream",
     "text": [
      "mi=0 ma=25 complete, auction list has now 1505 links\n",
      "mi=25 ma=30 complete, auction list has now 5670 links\n",
      "mi=30 ma=31 complete, auction list has now 6894 links\n",
      "mi=31 ma=32 complete, auction list has now 7909 links\n",
      "mi=32 ma=33 complete, auction list has now 9218 links\n",
      "mi=33 ma=34 complete, auction list has now 10732 links\n",
      "mi=34 ma=35 complete, auction list has now 12286 links\n",
      "mi=35 ma=36 complete, auction list has now 14095 links\n",
      "mi=36 ma=37 complete, auction list has now 16551 links\n",
      "mi=37 ma=38 complete, auction list has now 19448 links\n",
      "mi=38 ma=39 complete, auction list has now 22168 links\n",
      "mi=39 ma=40 complete, auction list has now 24676 links\n",
      "mi=40 ma=42 complete, auction list has now 29225 links\n",
      "mi=42 ma=44 complete, auction list has now 33951 links\n",
      "mi=44 ma=46 complete, auction list has now 38764 links\n",
      "mi=46 ma=48 complete, auction list has now 44074 links\n",
      "mi=48 ma=50 complete, auction list has now 49308 links\n",
      "mi=50 ma=52 complete, auction list has now 53616 links\n",
      "mi=52 ma=54 complete, auction list has now 58010 links\n",
      "mi=54 ma=56 complete, auction list has now 62416 links\n",
      "mi=56 ma=58 complete, auction list has now 66550 links\n",
      "mi=58 ma=60 complete, auction list has now 70414 links\n",
      "mi=60 ma=62 complete, auction list has now 74345 links\n",
      "mi=62 ma=64 complete, auction list has now 78090 links\n",
      "mi=64 ma=66 complete, auction list has now 81332 links\n",
      "mi=66 ma=68 complete, auction list has now 84171 links\n",
      "mi=68 ma=70 complete, auction list has now 86690 links\n",
      "mi=70 ma=74 complete, auction list has now 90533 links\n",
      "mi=74 ma=78 complete, auction list has now 93525 links\n",
      "mi=78 ma=82 complete, auction list has now 95827 links\n",
      "mi=82 ma=86 complete, auction list has now 97726 links\n",
      "mi=86 ma=90 complete, auction list has now 99253 links\n",
      "mi=90 ma=94 complete, auction list has now 100596 links\n",
      "mi=94 ma=98 complete, auction list has now 101513 links\n",
      "mi=98 ma=102 complete, auction list has now 102465 links\n",
      "mi=100 ma=150 complete, auction list has now 106891 links\n",
      "mi=151 ma=1000 complete, auction list has now 107739 links\n",
      "61.3 min.\n"
     ]
    }
   ],
   "source": [
    "start = time.time()\n",
    "\n",
    "auction_list = []\n",
    "\n",
    "for mi,ma in flat_size:\n",
    "    url = f'https://gratka.pl/nieruchomosci/mieszkania?location[map]=1&location[map_bounds]=55.0,24.0:49.0,14.0&powierzchnia-w-m2:max={ma}&powierzchnia-w-m2:min={mi}&sort=relevance'\n",
    "    page = requests.get(url)\n",
    "    soup = BeautifulSoup(page.content, 'html.parser')\n",
    "    pagination = soup.find_all(class_=\"iVM-2V Vr8BLu C-LDOy _2Mk82C\")\n",
    "    for i in range(int(pagination[3].get_text())):\n",
    "        url = f'https://gratka.pl/nieruchomosci/mieszkania?page={i+1}&location[map]=1&location[map_bounds]=55.0,24.0:49.0,14.0&powierzchnia-w-m2:max={ma}&powierzchnia-w-m2:min={mi}&sort=relevance'\n",
    "        page = requests.get(url)\n",
    "        soup = BeautifulSoup(page.content, 'html.parser')\n",
    "        links = soup.find_all(class_=\"card__outer\")\n",
    "        for link in links:\n",
    "            auction_list.append(f'https://gratka.pl{link.a.get(\"href\")}')\n",
    "#         time.sleep(1)\n",
    "#         if i%50 == 0:\n",
    "#         time.sleep(5)\n",
    "    print(f'mi={mi} ma={ma} complete, auction list has now {len(auction_list)} links')\n",
    "        \n",
    "stop = time.time()\n",
    "print(round((stop-start)/60,1),'min.')"
   ]
  },
  {
   "cell_type": "code",
   "execution_count": 12,
   "metadata": {},
   "outputs": [
    {
     "data": {
      "text/plain": [
       "107739"
      ]
     },
     "execution_count": 12,
     "metadata": {},
     "output_type": "execute_result"
    }
   ],
   "source": [
    "len(auction_list)"
   ]
  },
  {
   "cell_type": "code",
   "execution_count": 13,
   "metadata": {},
   "outputs": [
    {
     "data": {
      "text/plain": [
       "91989"
      ]
     },
     "execution_count": 13,
     "metadata": {},
     "output_type": "execute_result"
    }
   ],
   "source": [
    "len(set(auction_list))"
   ]
  },
  {
   "cell_type": "code",
   "execution_count": 14,
   "metadata": {},
   "outputs": [],
   "source": [
    "auction_list = set(auction_list)"
   ]
  },
  {
   "cell_type": "markdown",
   "metadata": {},
   "source": [
    "## saving auction list"
   ]
  },
  {
   "cell_type": "code",
   "execution_count": 15,
   "metadata": {},
   "outputs": [],
   "source": [
    "with open('apartments_links.txt','w') as file:\n",
    "    for link in auction_list:\n",
    "        file.write(link)\n",
    "        file.write('\\n')"
   ]
  },
  {
   "cell_type": "code",
   "execution_count": null,
   "metadata": {},
   "outputs": [],
   "source": []
  }
 ],
 "metadata": {
  "kernelspec": {
   "display_name": "Python 3",
   "language": "python",
   "name": "python3"
  },
  "language_info": {
   "codemirror_mode": {
    "name": "ipython",
    "version": 3
   },
   "file_extension": ".py",
   "mimetype": "text/x-python",
   "name": "python",
   "nbconvert_exporter": "python",
   "pygments_lexer": "ipython3",
   "version": "3.11.5"
  }
 },
 "nbformat": 4,
 "nbformat_minor": 4
}
