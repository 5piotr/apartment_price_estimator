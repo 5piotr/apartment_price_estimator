{
 "cells": [
  {
   "cell_type": "code",
   "execution_count": 1,
   "metadata": {},
   "outputs": [],
   "source": [
    "from bs4 import BeautifulSoup\n",
    "import requests\n",
    "import time\n",
    "import re\n",
    "import numpy as np\n",
    "import pandas as pd"
   ]
  },
  {
   "cell_type": "markdown",
   "metadata": {},
   "source": [
    "## auctions collection"
   ]
  },
  {
   "cell_type": "code",
   "execution_count": 2,
   "metadata": {},
   "outputs": [],
   "source": [
    "flat_size = [[0,30],[30,35],[35,40],[40,45],[45,47],[47,50],\n",
    "             [50,52],[52,55],[55,57],[57,60],\n",
    "             [60,62],[62,65],[65,70],[70,80],[80,100],[100,1000]]"
   ]
  },
  {
   "cell_type": "code",
   "execution_count": 3,
   "metadata": {},
   "outputs": [
    {
     "name": "stdout",
     "output_type": "stream",
     "text": [
      "mi=0, ma=30, 146 pages\n",
      "mi=30, ma=35, 139 pages\n",
      "mi=35, ma=40, 254 pages\n",
      "mi=40, ma=45, 243 pages\n",
      "mi=45, ma=47, 121 pages\n",
      "mi=47, ma=50, 210 pages\n",
      "mi=50, ma=52, 137 pages\n",
      "mi=52, ma=55, 179 pages\n",
      "mi=55, ma=57, 113 pages\n",
      "mi=57, ma=60, 166 pages\n",
      "mi=60, ma=62, 126 pages\n",
      "mi=62, ma=65, 161 pages\n",
      "mi=65, ma=70, 185 pages\n",
      "mi=70, ma=80, 244 pages\n",
      "mi=80, ma=100, 225 pages\n",
      "mi=100, ma=1000, 209 pages\n",
      "0.0 min.\n"
     ]
    }
   ],
   "source": [
    "start = time.time()\n",
    "\n",
    "for mi,ma in flat_size:\n",
    "    url = f'https://gratka.pl/nieruchomosci/mieszkania?powierzchnia-w-m2:min={mi}&powierzchnia-w-m2:max={ma}'\n",
    "    page = requests.get(url)\n",
    "    soup = BeautifulSoup(page.content, 'html.parser')\n",
    "    pagination = soup.find_all(class_=\"pagination__input\")\n",
    "    print(f'mi={mi}, ma={ma}, {pagination[0][\"max\"]} pages')\n",
    "        \n",
    "stop = time.time()\n",
    "print((stop-start)//60,'min.')"
   ]
  },
  {
   "cell_type": "code",
   "execution_count": 4,
   "metadata": {},
   "outputs": [],
   "source": [
    "auction_list = []"
   ]
  },
  {
   "cell_type": "code",
   "execution_count": 5,
   "metadata": {},
   "outputs": [
    {
     "name": "stdout",
     "output_type": "stream",
     "text": [
      "mi=0 ma=30 complete, auction list has now 4611 links\n",
      "mi=30 ma=35 complete, auction list has now 8998 links\n",
      "mi=35 ma=40 complete, auction list has now 17016 links\n",
      "mi=40 ma=45 complete, auction list has now 24725 links\n",
      "mi=45 ma=47 complete, auction list has now 28552 links\n",
      "mi=47 ma=50 complete, auction list has now 35181 links\n",
      "mi=50 ma=52 complete, auction list has now 39528 links\n",
      "mi=52 ma=55 complete, auction list has now 45191 links\n",
      "mi=55 ma=57 complete, auction list has now 48788 links\n",
      "mi=57 ma=60 complete, auction list has now 54054 links\n",
      "mi=60 ma=62 complete, auction list has now 58032 links\n",
      "mi=62 ma=65 complete, auction list has now 63126 links\n",
      "mi=65 ma=70 complete, auction list has now 68998 links\n",
      "mi=70 ma=80 complete, auction list has now 76731 links\n",
      "mi=80 ma=100 complete, auction list has now 83863 links\n",
      "mi=100 ma=1000 complete, auction list has now 90488 links\n",
      "70.0 min.\n"
     ]
    }
   ],
   "source": [
    "start = time.time()\n",
    "\n",
    "for mi,ma in flat_size:\n",
    "    url = f'https://gratka.pl/nieruchomosci/mieszkania?powierzchnia-w-m2:min={mi}&powierzchnia-w-m2:max={ma}'\n",
    "    page = requests.get(url)\n",
    "    soup = BeautifulSoup(page.content, 'html.parser')\n",
    "    pagination = soup.find_all(class_=\"pagination__input\")\n",
    "    for i in range(int(pagination[0][\"max\"])):\n",
    "        url = f'https://gratka.pl/nieruchomosci/mieszkania?page={i+1}&powierzchnia-w-m2:min={mi}&powierzchnia-w-m2:max={ma}'\n",
    "        page = requests.get(url)\n",
    "        soup = BeautifulSoup(page.content, 'html.parser')\n",
    "        links = soup.find_all(class_=\"teaserUnified\")\n",
    "        for link in links:\n",
    "            auction_list.append(link['data-href'])\n",
    "#         time.sleep(1)\n",
    "#         if i%50 == 0:\n",
    "#         time.sleep(5)\n",
    "    print(f'mi={mi} ma={ma} complete, auction list has now {len(auction_list)} links')\n",
    "        \n",
    "stop = time.time()\n",
    "print((stop-start)//60,'min.')"
   ]
  },
  {
   "cell_type": "code",
   "execution_count": 6,
   "metadata": {},
   "outputs": [
    {
     "data": {
      "text/plain": [
       "90488"
      ]
     },
     "execution_count": 6,
     "metadata": {},
     "output_type": "execute_result"
    }
   ],
   "source": [
    "len(auction_list)"
   ]
  },
  {
   "cell_type": "code",
   "execution_count": 7,
   "metadata": {},
   "outputs": [
    {
     "data": {
      "text/plain": [
       "82878"
      ]
     },
     "execution_count": 7,
     "metadata": {},
     "output_type": "execute_result"
    }
   ],
   "source": [
    "len(set(auction_list))"
   ]
  },
  {
   "cell_type": "code",
   "execution_count": 8,
   "metadata": {},
   "outputs": [],
   "source": [
    "auction_list = set(auction_list)"
   ]
  },
  {
   "cell_type": "markdown",
   "metadata": {},
   "source": [
    "## saving auction list"
   ]
  },
  {
   "cell_type": "code",
   "execution_count": 9,
   "metadata": {},
   "outputs": [],
   "source": [
    "with open('apartments_links_2021q2.txt','w') as file:\n",
    "    for link in auction_list:\n",
    "        file.write(link)\n",
    "        file.write('\\n')"
   ]
  },
  {
   "cell_type": "code",
   "execution_count": null,
   "metadata": {},
   "outputs": [],
   "source": []
  }
 ],
 "metadata": {
  "kernelspec": {
   "display_name": "Python 3",
   "language": "python",
   "name": "python3"
  },
  "language_info": {
   "codemirror_mode": {
    "name": "ipython",
    "version": 3
   },
   "file_extension": ".py",
   "mimetype": "text/x-python",
   "name": "python",
   "nbconvert_exporter": "python",
   "pygments_lexer": "ipython3",
   "version": "3.6.12"
  }
 },
 "nbformat": 4,
 "nbformat_minor": 4
}
