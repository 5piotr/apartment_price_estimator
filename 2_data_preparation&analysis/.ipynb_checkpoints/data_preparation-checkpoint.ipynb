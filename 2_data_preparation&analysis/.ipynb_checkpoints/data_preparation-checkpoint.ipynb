{
 "cells": [
  {
   "cell_type": "code",
   "execution_count": 1,
   "metadata": {},
   "outputs": [],
   "source": [
    "import pandas as pd\n",
    "import numpy as np\n",
    "import pickle as pkl\n",
    "import seaborn as sns\n",
    "sns.set_theme(palette=sns.color_palette('Set2'))\n",
    "import matplotlib.pyplot as plt"
   ]
  },
  {
   "cell_type": "code",
   "execution_count": 2,
   "metadata": {},
   "outputs": [],
   "source": [
    "pd.options.display.max_columns = 30\n",
    "pd.options.display.max_colwidth = 150"
   ]
  },
  {
   "cell_type": "markdown",
   "metadata": {},
   "source": [
    "## data import"
   ]
  },
  {
   "cell_type": "code",
   "execution_count": 3,
   "metadata": {},
   "outputs": [],
   "source": [
    "frame = pd.read_csv('..//1_web_scraping//apartment_details.csv')"
   ]
  },
  {
   "cell_type": "code",
   "execution_count": 4,
   "metadata": {},
   "outputs": [
    {
     "data": {
      "text/html": [
       "<div>\n",
       "<style scoped>\n",
       "    .dataframe tbody tr th:only-of-type {\n",
       "        vertical-align: middle;\n",
       "    }\n",
       "\n",
       "    .dataframe tbody tr th {\n",
       "        vertical-align: top;\n",
       "    }\n",
       "\n",
       "    .dataframe thead th {\n",
       "        text-align: right;\n",
       "    }\n",
       "</style>\n",
       "<table border=\"1\" class=\"dataframe\">\n",
       "  <thead>\n",
       "    <tr style=\"text-align: right;\">\n",
       "      <th></th>\n",
       "      <th>city</th>\n",
       "      <th>district</th>\n",
       "      <th>voivodeship</th>\n",
       "      <th>localization_y</th>\n",
       "      <th>localization_x</th>\n",
       "      <th>market</th>\n",
       "      <th>offer_type</th>\n",
       "      <th>area</th>\n",
       "      <th>rooms</th>\n",
       "      <th>floor</th>\n",
       "      <th>floors</th>\n",
       "      <th>build_yr</th>\n",
       "      <th>price</th>\n",
       "      <th>url</th>\n",
       "    </tr>\n",
       "  </thead>\n",
       "  <tbody>\n",
       "    <tr>\n",
       "      <th>0</th>\n",
       "      <td>Pobierowo</td>\n",
       "      <td>gryficki</td>\n",
       "      <td>zachodniopomorskie</td>\n",
       "      <td>54.059815</td>\n",
       "      <td>14.942079</td>\n",
       "      <td>wtorny</td>\n",
       "      <td>sprzedaz</td>\n",
       "      <td>39.30</td>\n",
       "      <td>2</td>\n",
       "      <td>1</td>\n",
       "      <td>3</td>\n",
       "      <td>2022.0</td>\n",
       "      <td>499110</td>\n",
       "      <td>https://gratka.pl/nieruchomosci/mieszkanie-pobierowo-ul-poznanska/ob/25013443</td>\n",
       "    </tr>\n",
       "    <tr>\n",
       "      <th>1</th>\n",
       "      <td>Wieliczka</td>\n",
       "      <td>wielicki</td>\n",
       "      <td>małopolskie</td>\n",
       "      <td>49.994602</td>\n",
       "      <td>20.025094</td>\n",
       "      <td>NaN</td>\n",
       "      <td>NaN</td>\n",
       "      <td>96.18</td>\n",
       "      <td>4</td>\n",
       "      <td>1</td>\n",
       "      <td>1</td>\n",
       "      <td>NaN</td>\n",
       "      <td>20000000</td>\n",
       "      <td>https://gratka.pl/nieruchomosci/nowe-mieszkanie-wieliczka/ob/22535269</td>\n",
       "    </tr>\n",
       "    <tr>\n",
       "      <th>2</th>\n",
       "      <td>Bytom</td>\n",
       "      <td>NaN</td>\n",
       "      <td>śląskie</td>\n",
       "      <td>51.342037</td>\n",
       "      <td>18.289260</td>\n",
       "      <td>wtorny</td>\n",
       "      <td>sprzedaz</td>\n",
       "      <td>47.49</td>\n",
       "      <td>2</td>\n",
       "      <td>3</td>\n",
       "      <td>4</td>\n",
       "      <td>NaN</td>\n",
       "      <td>239000</td>\n",
       "      <td>https://gratka.pl/nieruchomosci/mieszkanie-bytom-ul-zeromskiego/ob/28642049</td>\n",
       "    </tr>\n",
       "    <tr>\n",
       "      <th>3</th>\n",
       "      <td>Kraków</td>\n",
       "      <td>Stare Miasto</td>\n",
       "      <td>małopolskie</td>\n",
       "      <td>50.068541</td>\n",
       "      <td>19.944800</td>\n",
       "      <td>wtorny</td>\n",
       "      <td>sprzedaz</td>\n",
       "      <td>63.00</td>\n",
       "      <td>2</td>\n",
       "      <td>2</td>\n",
       "      <td>3</td>\n",
       "      <td>1895.0</td>\n",
       "      <td>617400</td>\n",
       "      <td>https://gratka.pl/nieruchomosci/mieszkanie-krakow-stare-miasto-ul-ogrodowa/ob/24254915</td>\n",
       "    </tr>\n",
       "    <tr>\n",
       "      <th>4</th>\n",
       "      <td>Piekary Śląskie</td>\n",
       "      <td>NaN</td>\n",
       "      <td>śląskie</td>\n",
       "      <td>50.378911</td>\n",
       "      <td>18.927048</td>\n",
       "      <td>wtorny</td>\n",
       "      <td>sprzedaz</td>\n",
       "      <td>33.78</td>\n",
       "      <td>2</td>\n",
       "      <td>1</td>\n",
       "      <td>3</td>\n",
       "      <td>2023.0</td>\n",
       "      <td>219570</td>\n",
       "      <td>https://gratka.pl/nieruchomosci/mieszkanie-piekary-slaskie/ob/27833825</td>\n",
       "    </tr>\n",
       "  </tbody>\n",
       "</table>\n",
       "</div>"
      ],
      "text/plain": [
       "              city      district         voivodeship  localization_y  \\\n",
       "0        Pobierowo      gryficki  zachodniopomorskie       54.059815   \n",
       "1        Wieliczka      wielicki         małopolskie       49.994602   \n",
       "2            Bytom           NaN             śląskie       51.342037   \n",
       "3           Kraków  Stare Miasto         małopolskie       50.068541   \n",
       "4  Piekary Śląskie           NaN             śląskie       50.378911   \n",
       "\n",
       "   localization_x  market offer_type   area rooms floor floors  build_yr  \\\n",
       "0       14.942079  wtorny   sprzedaz  39.30     2     1      3    2022.0   \n",
       "1       20.025094     NaN        NaN  96.18     4     1      1       NaN   \n",
       "2       18.289260  wtorny   sprzedaz  47.49     2     3      4       NaN   \n",
       "3       19.944800  wtorny   sprzedaz  63.00     2     2      3    1895.0   \n",
       "4       18.927048  wtorny   sprzedaz  33.78     2     1      3    2023.0   \n",
       "\n",
       "      price  \\\n",
       "0    499110   \n",
       "1  20000000   \n",
       "2    239000   \n",
       "3    617400   \n",
       "4    219570   \n",
       "\n",
       "                                                                                      url  \n",
       "0           https://gratka.pl/nieruchomosci/mieszkanie-pobierowo-ul-poznanska/ob/25013443  \n",
       "1                   https://gratka.pl/nieruchomosci/nowe-mieszkanie-wieliczka/ob/22535269  \n",
       "2             https://gratka.pl/nieruchomosci/mieszkanie-bytom-ul-zeromskiego/ob/28642049  \n",
       "3  https://gratka.pl/nieruchomosci/mieszkanie-krakow-stare-miasto-ul-ogrodowa/ob/24254915  \n",
       "4                  https://gratka.pl/nieruchomosci/mieszkanie-piekary-slaskie/ob/27833825  "
      ]
     },
     "execution_count": 4,
     "metadata": {},
     "output_type": "execute_result"
    }
   ],
   "source": [
    "frame.head()"
   ]
  },
  {
   "cell_type": "code",
   "execution_count": 5,
   "metadata": {},
   "outputs": [
    {
     "name": "stdout",
     "output_type": "stream",
     "text": [
      "<class 'pandas.core.frame.DataFrame'>\n",
      "RangeIndex: 96263 entries, 0 to 96262\n",
      "Data columns (total 14 columns):\n",
      " #   Column          Non-Null Count  Dtype  \n",
      "---  ------          --------------  -----  \n",
      " 0   city            96158 non-null  object \n",
      " 1   district        79771 non-null  object \n",
      " 2   voivodeship     96158 non-null  object \n",
      " 3   localization_y  95454 non-null  float64\n",
      " 4   localization_x  95554 non-null  float64\n",
      " 5   market          91418 non-null  object \n",
      " 6   offer_type      91418 non-null  object \n",
      " 7   area            96123 non-null  float64\n",
      " 8   rooms           95415 non-null  object \n",
      " 9   floor           94129 non-null  object \n",
      " 10  floors          88889 non-null  object \n",
      " 11  build_yr        51121 non-null  float64\n",
      " 12  price           96158 non-null  object \n",
      " 13  url             96263 non-null  object \n",
      "dtypes: float64(4), object(10)\n",
      "memory usage: 10.3+ MB\n"
     ]
    }
   ],
   "source": [
    "frame.info()"
   ]
  },
  {
   "cell_type": "code",
   "execution_count": 6,
   "metadata": {},
   "outputs": [
    {
     "data": {
      "text/html": [
       "<div>\n",
       "<style scoped>\n",
       "    .dataframe tbody tr th:only-of-type {\n",
       "        vertical-align: middle;\n",
       "    }\n",
       "\n",
       "    .dataframe tbody tr th {\n",
       "        vertical-align: top;\n",
       "    }\n",
       "\n",
       "    .dataframe thead th {\n",
       "        text-align: right;\n",
       "    }\n",
       "</style>\n",
       "<table border=\"1\" class=\"dataframe\">\n",
       "  <thead>\n",
       "    <tr style=\"text-align: right;\">\n",
       "      <th></th>\n",
       "      <th>count</th>\n",
       "      <th>mean</th>\n",
       "      <th>std</th>\n",
       "      <th>min</th>\n",
       "      <th>25%</th>\n",
       "      <th>50%</th>\n",
       "      <th>75%</th>\n",
       "      <th>max</th>\n",
       "    </tr>\n",
       "  </thead>\n",
       "  <tbody>\n",
       "    <tr>\n",
       "      <th>localization_y</th>\n",
       "      <td>95454.0</td>\n",
       "      <td>51.686469</td>\n",
       "      <td>2.452403</td>\n",
       "      <td>18.236965</td>\n",
       "      <td>50.356506</td>\n",
       "      <td>52.162900</td>\n",
       "      <td>52.792565</td>\n",
       "      <td>54.833385</td>\n",
       "    </tr>\n",
       "    <tr>\n",
       "      <th>localization_x</th>\n",
       "      <td>95554.0</td>\n",
       "      <td>18.981465</td>\n",
       "      <td>3.305733</td>\n",
       "      <td>-157.827000</td>\n",
       "      <td>18.054872</td>\n",
       "      <td>19.210366</td>\n",
       "      <td>20.912209</td>\n",
       "      <td>55.429400</td>\n",
       "    </tr>\n",
       "    <tr>\n",
       "      <th>area</th>\n",
       "      <td>96123.0</td>\n",
       "      <td>59.928001</td>\n",
       "      <td>27.974461</td>\n",
       "      <td>10.000000</td>\n",
       "      <td>43.180000</td>\n",
       "      <td>54.890000</td>\n",
       "      <td>68.180000</td>\n",
       "      <td>1000.000000</td>\n",
       "    </tr>\n",
       "    <tr>\n",
       "      <th>build_yr</th>\n",
       "      <td>51121.0</td>\n",
       "      <td>1995.168913</td>\n",
       "      <td>34.116972</td>\n",
       "      <td>1200.000000</td>\n",
       "      <td>1976.000000</td>\n",
       "      <td>2010.000000</td>\n",
       "      <td>2022.000000</td>\n",
       "      <td>3000.000000</td>\n",
       "    </tr>\n",
       "  </tbody>\n",
       "</table>\n",
       "</div>"
      ],
      "text/plain": [
       "                  count         mean        std          min          25%  \\\n",
       "localization_y  95454.0    51.686469   2.452403    18.236965    50.356506   \n",
       "localization_x  95554.0    18.981465   3.305733  -157.827000    18.054872   \n",
       "area            96123.0    59.928001  27.974461    10.000000    43.180000   \n",
       "build_yr        51121.0  1995.168913  34.116972  1200.000000  1976.000000   \n",
       "\n",
       "                        50%          75%          max  \n",
       "localization_y    52.162900    52.792565    54.833385  \n",
       "localization_x    19.210366    20.912209    55.429400  \n",
       "area              54.890000    68.180000  1000.000000  \n",
       "build_yr        2010.000000  2022.000000  3000.000000  "
      ]
     },
     "execution_count": 6,
     "metadata": {},
     "output_type": "execute_result"
    }
   ],
   "source": [
    "frame.describe().T"
   ]
  },
  {
   "cell_type": "code",
   "execution_count": 7,
   "metadata": {},
   "outputs": [
    {
     "data": {
      "text/plain": [
       "True"
      ]
     },
     "execution_count": 7,
     "metadata": {},
     "output_type": "execute_result"
    }
   ],
   "source": [
    "len(frame) == len(frame.drop_duplicates())"
   ]
  },
  {
   "cell_type": "code",
   "execution_count": 8,
   "metadata": {},
   "outputs": [
    {
     "data": {
      "text/plain": [
       "sprzedaz    1.0\n",
       "Name: offer_type, dtype: float64"
      ]
     },
     "execution_count": 8,
     "metadata": {},
     "output_type": "execute_result"
    }
   ],
   "source": [
    "frame.offer_type.value_counts(normalize=True)"
   ]
  },
  {
   "cell_type": "markdown",
   "metadata": {},
   "source": [
    "## renaming market type"
   ]
  },
  {
   "cell_type": "code",
   "execution_count": 9,
   "metadata": {},
   "outputs": [],
   "source": [
    "frame.market.replace(['pierwotny','wtorny'], ['primary_market','aftermarket'], inplace=True)"
   ]
  },
  {
   "cell_type": "markdown",
   "metadata": {},
   "source": [
    "## removing foreign locations"
   ]
  },
  {
   "cell_type": "code",
   "execution_count": 10,
   "metadata": {
    "scrolled": true
   },
   "outputs": [
    {
     "data": {
      "text/plain": [
       "0.024246075854689755"
      ]
     },
     "execution_count": 10,
     "metadata": {},
     "output_type": "execute_result"
    }
   ],
   "source": [
    "len(frame[frame.voivodeship=='zagranica'])/len(frame)"
   ]
  },
  {
   "cell_type": "code",
   "execution_count": 11,
   "metadata": {},
   "outputs": [],
   "source": [
    "frame.drop(frame[frame.voivodeship=='zagranica'].index, inplace=True)"
   ]
  },
  {
   "cell_type": "markdown",
   "metadata": {},
   "source": [
    "## removing data with no price"
   ]
  },
  {
   "cell_type": "code",
   "execution_count": 12,
   "metadata": {},
   "outputs": [
    {
     "data": {
      "text/plain": [
       "0.23590978854024558"
      ]
     },
     "execution_count": 12,
     "metadata": {},
     "output_type": "execute_result"
    }
   ],
   "source": [
    "frame.price.value_counts(normalize=True).loc['Zapytajoce']"
   ]
  },
  {
   "cell_type": "code",
   "execution_count": 13,
   "metadata": {},
   "outputs": [],
   "source": [
    "frame.drop(index=frame[frame.price=='Zapytajoce'].index, axis=0, inplace=True)"
   ]
  },
  {
   "cell_type": "code",
   "execution_count": 14,
   "metadata": {},
   "outputs": [],
   "source": [
    "frame.price = frame.price.apply(float)"
   ]
  },
  {
   "cell_type": "markdown",
   "metadata": {},
   "source": [
    "## checking the amount of missing data and removing rows with small amount of missing data per column"
   ]
  },
  {
   "cell_type": "code",
   "execution_count": 15,
   "metadata": {},
   "outputs": [
    {
     "data": {
      "text/html": [
       "<div>\n",
       "<style scoped>\n",
       "    .dataframe tbody tr th:only-of-type {\n",
       "        vertical-align: middle;\n",
       "    }\n",
       "\n",
       "    .dataframe tbody tr th {\n",
       "        vertical-align: top;\n",
       "    }\n",
       "\n",
       "    .dataframe thead th {\n",
       "        text-align: right;\n",
       "    }\n",
       "</style>\n",
       "<table border=\"1\" class=\"dataframe\">\n",
       "  <thead>\n",
       "    <tr style=\"text-align: right;\">\n",
       "      <th></th>\n",
       "      <th>count</th>\n",
       "      <th>mean</th>\n",
       "      <th>std</th>\n",
       "      <th>min</th>\n",
       "      <th>25%</th>\n",
       "      <th>50%</th>\n",
       "      <th>75%</th>\n",
       "      <th>max</th>\n",
       "      <th>%missing</th>\n",
       "    </tr>\n",
       "  </thead>\n",
       "  <tbody>\n",
       "    <tr>\n",
       "      <th>localization_y</th>\n",
       "      <td>71445.0</td>\n",
       "      <td>51.890492</td>\n",
       "      <td>1.451089</td>\n",
       "      <td>37.98260</td>\n",
       "      <td>50.443472</td>\n",
       "      <td>52.129824</td>\n",
       "      <td>52.73920</td>\n",
       "      <td>5.483339e+01</td>\n",
       "      <td>0.487499</td>\n",
       "    </tr>\n",
       "    <tr>\n",
       "      <th>localization_x</th>\n",
       "      <td>71545.0</td>\n",
       "      <td>19.160453</td>\n",
       "      <td>1.864122</td>\n",
       "      <td>-0.69733</td>\n",
       "      <td>18.027940</td>\n",
       "      <td>19.195830</td>\n",
       "      <td>20.90482</td>\n",
       "      <td>4.163675e+01</td>\n",
       "      <td>0.348214</td>\n",
       "    </tr>\n",
       "    <tr>\n",
       "      <th>area</th>\n",
       "      <td>71655.0</td>\n",
       "      <td>60.306579</td>\n",
       "      <td>28.736219</td>\n",
       "      <td>10.00000</td>\n",
       "      <td>44.000000</td>\n",
       "      <td>54.900000</td>\n",
       "      <td>68.30000</td>\n",
       "      <td>1.000000e+03</td>\n",
       "      <td>0.195000</td>\n",
       "    </tr>\n",
       "    <tr>\n",
       "      <th>build_yr</th>\n",
       "      <td>49890.0</td>\n",
       "      <td>1994.594067</td>\n",
       "      <td>34.287589</td>\n",
       "      <td>1200.00000</td>\n",
       "      <td>1975.000000</td>\n",
       "      <td>2009.000000</td>\n",
       "      <td>2022.00000</td>\n",
       "      <td>3.000000e+03</td>\n",
       "      <td>30.510481</td>\n",
       "    </tr>\n",
       "    <tr>\n",
       "      <th>price</th>\n",
       "      <td>71690.0</td>\n",
       "      <td>609511.095355</td>\n",
       "      <td>619952.615638</td>\n",
       "      <td>1.00000</td>\n",
       "      <td>355000.000000</td>\n",
       "      <td>487500.000000</td>\n",
       "      <td>670000.00000</td>\n",
       "      <td>2.500000e+07</td>\n",
       "      <td>0.146250</td>\n",
       "    </tr>\n",
       "  </tbody>\n",
       "</table>\n",
       "</div>"
      ],
      "text/plain": [
       "                  count           mean            std         min  \\\n",
       "localization_y  71445.0      51.890492       1.451089    37.98260   \n",
       "localization_x  71545.0      19.160453       1.864122    -0.69733   \n",
       "area            71655.0      60.306579      28.736219    10.00000   \n",
       "build_yr        49890.0    1994.594067      34.287589  1200.00000   \n",
       "price           71690.0  609511.095355  619952.615638     1.00000   \n",
       "\n",
       "                          25%            50%           75%           max  \\\n",
       "localization_y      50.443472      52.129824      52.73920  5.483339e+01   \n",
       "localization_x      18.027940      19.195830      20.90482  4.163675e+01   \n",
       "area                44.000000      54.900000      68.30000  1.000000e+03   \n",
       "build_yr          1975.000000    2009.000000    2022.00000  3.000000e+03   \n",
       "price           355000.000000  487500.000000  670000.00000  2.500000e+07   \n",
       "\n",
       "                 %missing  \n",
       "localization_y   0.487499  \n",
       "localization_x   0.348214  \n",
       "area             0.195000  \n",
       "build_yr        30.510481  \n",
       "price            0.146250  "
      ]
     },
     "execution_count": 15,
     "metadata": {},
     "output_type": "execute_result"
    }
   ],
   "source": [
    "num_desc = frame.describe().T\n",
    "num_desc['%missing'] = (1-num_desc['count']/len(frame))*100\n",
    "num_desc"
   ]
  },
  {
   "cell_type": "code",
   "execution_count": 16,
   "metadata": {
    "scrolled": true
   },
   "outputs": [
    {
     "data": {
      "text/html": [
       "<div>\n",
       "<style scoped>\n",
       "    .dataframe tbody tr th:only-of-type {\n",
       "        vertical-align: middle;\n",
       "    }\n",
       "\n",
       "    .dataframe tbody tr th {\n",
       "        vertical-align: top;\n",
       "    }\n",
       "\n",
       "    .dataframe thead th {\n",
       "        text-align: right;\n",
       "    }\n",
       "</style>\n",
       "<table border=\"1\" class=\"dataframe\">\n",
       "  <thead>\n",
       "    <tr style=\"text-align: right;\">\n",
       "      <th></th>\n",
       "      <th>count</th>\n",
       "      <th>unique</th>\n",
       "      <th>top</th>\n",
       "      <th>freq</th>\n",
       "      <th>%missing</th>\n",
       "    </tr>\n",
       "  </thead>\n",
       "  <tbody>\n",
       "    <tr>\n",
       "      <th>city</th>\n",
       "      <td>71690</td>\n",
       "      <td>1682</td>\n",
       "      <td>Warszawa</td>\n",
       "      <td>12255</td>\n",
       "      <td>0.14625</td>\n",
       "    </tr>\n",
       "    <tr>\n",
       "      <th>district</th>\n",
       "      <td>60023</td>\n",
       "      <td>1177</td>\n",
       "      <td>Śródmieście</td>\n",
       "      <td>3093</td>\n",
       "      <td>16.3967</td>\n",
       "    </tr>\n",
       "    <tr>\n",
       "      <th>voivodeship</th>\n",
       "      <td>71690</td>\n",
       "      <td>17</td>\n",
       "      <td>mazowieckie</td>\n",
       "      <td>15725</td>\n",
       "      <td>0.14625</td>\n",
       "    </tr>\n",
       "    <tr>\n",
       "      <th>market</th>\n",
       "      <td>69543</td>\n",
       "      <td>2</td>\n",
       "      <td>aftermarket</td>\n",
       "      <td>50134</td>\n",
       "      <td>3.13671</td>\n",
       "    </tr>\n",
       "    <tr>\n",
       "      <th>offer_type</th>\n",
       "      <td>69543</td>\n",
       "      <td>1</td>\n",
       "      <td>sprzedaz</td>\n",
       "      <td>69543</td>\n",
       "      <td>3.13671</td>\n",
       "    </tr>\n",
       "    <tr>\n",
       "      <th>rooms</th>\n",
       "      <td>71513</td>\n",
       "      <td>8</td>\n",
       "      <td>3</td>\n",
       "      <td>27382</td>\n",
       "      <td>0.392785</td>\n",
       "    </tr>\n",
       "    <tr>\n",
       "      <th>floor</th>\n",
       "      <td>70564</td>\n",
       "      <td>34</td>\n",
       "      <td>1</td>\n",
       "      <td>16823</td>\n",
       "      <td>1.7146</td>\n",
       "    </tr>\n",
       "    <tr>\n",
       "      <th>floors</th>\n",
       "      <td>67424</td>\n",
       "      <td>31</td>\n",
       "      <td>4</td>\n",
       "      <td>20106</td>\n",
       "      <td>6.08817</td>\n",
       "    </tr>\n",
       "    <tr>\n",
       "      <th>url</th>\n",
       "      <td>71795</td>\n",
       "      <td>71795</td>\n",
       "      <td>https://gratka.pl/nieruchomosci/mieszkanie-bielsk-podlaski/ob/28457869</td>\n",
       "      <td>1</td>\n",
       "      <td>0</td>\n",
       "    </tr>\n",
       "  </tbody>\n",
       "</table>\n",
       "</div>"
      ],
      "text/plain": [
       "             count unique  \\\n",
       "city         71690   1682   \n",
       "district     60023   1177   \n",
       "voivodeship  71690     17   \n",
       "market       69543      2   \n",
       "offer_type   69543      1   \n",
       "rooms        71513      8   \n",
       "floor        70564     34   \n",
       "floors       67424     31   \n",
       "url          71795  71795   \n",
       "\n",
       "                                                                                top  \\\n",
       "city                                                                       Warszawa   \n",
       "district                                                                Śródmieście   \n",
       "voivodeship                                                             mazowieckie   \n",
       "market                                                                  aftermarket   \n",
       "offer_type                                                                 sprzedaz   \n",
       "rooms                                                                             3   \n",
       "floor                                                                             1   \n",
       "floors                                                                            4   \n",
       "url          https://gratka.pl/nieruchomosci/mieszkanie-bielsk-podlaski/ob/28457869   \n",
       "\n",
       "              freq  %missing  \n",
       "city         12255   0.14625  \n",
       "district      3093   16.3967  \n",
       "voivodeship  15725   0.14625  \n",
       "market       50134   3.13671  \n",
       "offer_type   69543   3.13671  \n",
       "rooms        27382  0.392785  \n",
       "floor        16823    1.7146  \n",
       "floors       20106   6.08817  \n",
       "url              1         0  "
      ]
     },
     "execution_count": 16,
     "metadata": {},
     "output_type": "execute_result"
    }
   ],
   "source": [
    "obj_desc = frame.describe(include=['object']).T\n",
    "obj_desc['%missing'] = (1-obj_desc['count']/len(frame))*100\n",
    "obj_desc"
   ]
  },
  {
   "cell_type": "code",
   "execution_count": 17,
   "metadata": {},
   "outputs": [],
   "source": [
    "frame.dropna(subset=['price','localization_y','localization_x','area'], axis=0, inplace=True)"
   ]
  },
  {
   "cell_type": "code",
   "execution_count": 18,
   "metadata": {},
   "outputs": [],
   "source": [
    "frame.dropna(subset=['market','offer_type','rooms','floor'], axis=0, inplace=True)"
   ]
  },
  {
   "cell_type": "markdown",
   "metadata": {},
   "source": [
    "## dealing with missing data for 'floors', 'district', 'build_yr'"
   ]
  },
  {
   "cell_type": "code",
   "execution_count": 19,
   "metadata": {},
   "outputs": [],
   "source": [
    "frame.dropna(subset=['build_yr'], axis=0, inplace=True)"
   ]
  },
  {
   "cell_type": "code",
   "execution_count": 20,
   "metadata": {},
   "outputs": [
    {
     "data": {
      "text/plain": [
       "0.02137281625573039"
      ]
     },
     "execution_count": 20,
     "metadata": {},
     "output_type": "execute_result"
    }
   ],
   "source": [
    "len(frame[pd.isnull(frame.floors)])/len(frame)"
   ]
  },
  {
   "cell_type": "code",
   "execution_count": 21,
   "metadata": {},
   "outputs": [],
   "source": [
    "frame.dropna(subset=['floors'], axis=0, inplace=True)"
   ]
  },
  {
   "cell_type": "code",
   "execution_count": 22,
   "metadata": {},
   "outputs": [],
   "source": [
    "# district will be left with missing data"
   ]
  },
  {
   "cell_type": "code",
   "execution_count": 23,
   "metadata": {},
   "outputs": [
    {
     "data": {
      "text/plain": [
       "(47391, 14)"
      ]
     },
     "execution_count": 23,
     "metadata": {},
     "output_type": "execute_result"
    }
   ],
   "source": [
    "frame.shape"
   ]
  },
  {
   "cell_type": "markdown",
   "metadata": {},
   "source": [
    "## checking categorical data"
   ]
  },
  {
   "cell_type": "code",
   "execution_count": 24,
   "metadata": {},
   "outputs": [
    {
     "data": {
      "image/png": "[encoded data removed]",
      "text/plain": [
       "<Figure size 1080x720 with 6 Axes>"
      ]
     },
     "metadata": {},
     "output_type": "display_data"
    }
   ],
   "source": [
    "fig, axList = plt.subplots(nrows=2, ncols=3)\n",
    "axList = axList.flatten()\n",
    "fig.set_size_inches(15,10)\n",
    "\n",
    "catagorical_columns = [x for x in frame.columns if frame[x].dtype == 'object' and x not in ['city','district','url']]\n",
    "\n",
    "for ax, column in zip(axList, catagorical_columns):\n",
    "    frame[column].value_counts().plot(kind='barh', ax=ax, ylabel=column)\n",
    "    \n",
    "plt.tight_layout()"
   ]
  },
  {
   "cell_type": "code",
   "execution_count": 25,
   "metadata": {},
   "outputs": [],
   "source": [
    "frame.rooms.replace('więcej niż 8', '8', inplace=True)\n",
    "frame.rooms = frame.rooms.astype('int')"
   ]
  },
  {
   "cell_type": "code",
   "execution_count": 26,
   "metadata": {},
   "outputs": [],
   "source": [
    "frame.floor.replace(['niski parter','parter'], '0', inplace=True)\n",
    "frame.floor.replace('powyżej 30', '30', inplace=True)\n",
    "frame.drop(frame[frame.floor=='poddasze'].index, axis=0, inplace=True)\n",
    "frame.floor = frame.floor.astype('int')"
   ]
  },
  {
   "cell_type": "code",
   "execution_count": 27,
   "metadata": {},
   "outputs": [],
   "source": [
    "frame.floors.replace(['0 (parter)','powyżej 30'], ['0','30'], inplace=True)\n",
    "frame.floors = frame.floors.astype('int')"
   ]
  },
  {
   "cell_type": "code",
   "execution_count": 28,
   "metadata": {},
   "outputs": [
    {
     "name": "stdout",
     "output_type": "stream",
     "text": [
      "<class 'pandas.core.frame.DataFrame'>\n",
      "Int64Index: 47319 entries, 0 to 96262\n",
      "Data columns (total 14 columns):\n",
      " #   Column          Non-Null Count  Dtype  \n",
      "---  ------          --------------  -----  \n",
      " 0   city            47319 non-null  object \n",
      " 1   district        40933 non-null  object \n",
      " 2   voivodeship     47319 non-null  object \n",
      " 3   localization_y  47319 non-null  float64\n",
      " 4   localization_x  47319 non-null  float64\n",
      " 5   market          47319 non-null  object \n",
      " 6   offer_type      47319 non-null  object \n",
      " 7   area            47319 non-null  float64\n",
      " 8   rooms           47319 non-null  int32  \n",
      " 9   floor           47319 non-null  int32  \n",
      " 10  floors          47319 non-null  int32  \n",
      " 11  build_yr        47319 non-null  float64\n",
      " 12  price           47319 non-null  float64\n",
      " 13  url             47319 non-null  object \n",
      "dtypes: float64(5), int32(3), object(6)\n",
      "memory usage: 4.9+ MB\n"
     ]
    }
   ],
   "source": [
    "frame.info()"
   ]
  },
  {
   "cell_type": "markdown",
   "metadata": {},
   "source": [
    "## adding custom column"
   ]
  },
  {
   "cell_type": "code",
   "execution_count": 29,
   "metadata": {},
   "outputs": [],
   "source": [
    "frame['price_of_sqm'] = frame.price / frame.area"
   ]
  },
  {
   "cell_type": "markdown",
   "metadata": {},
   "source": [
    "## dealing with outliers"
   ]
  },
  {
   "cell_type": "code",
   "execution_count": 30,
   "metadata": {},
   "outputs": [
    {
     "data": {
      "text/plain": [
       "{'area': (24.0, 167.0),\n",
       " 'build_yr': (1900.0, 2024.0),\n",
       " 'price': (177000.0, 2990000.0),\n",
       " 'price_of_sqm': (3448.1383084442173, 28700.470779220763)}"
      ]
     },
     "execution_count": 30,
     "metadata": {},
     "output_type": "execute_result"
    }
   ],
   "source": [
    "# checking quantile values\n",
    "\n",
    "outliers_dict = dict()\n",
    "\n",
    "for column in ['area','build_yr','price','price_of_sqm']:\n",
    "    upper_quartile = np.nanpercentile(frame[column], 99.0)\n",
    "    lower_quartile = np.nanpercentile(frame[column], 1.0)\n",
    "#     iqr = upper_quartile - lower_quartile\n",
    "#     outliers_dict[column] = (lower_quartile-1.5*iqr, upper_quartile+1.5*iqr)\n",
    "    outliers_dict[column] = (lower_quartile, upper_quartile)\n",
    "\n",
    "outliers_dict"
   ]
  },
  {
   "cell_type": "code",
   "execution_count": 31,
   "metadata": {},
   "outputs": [
    {
     "data": {
      "text/html": [
       "<div>\n",
       "<style scoped>\n",
       "    .dataframe tbody tr th:only-of-type {\n",
       "        vertical-align: middle;\n",
       "    }\n",
       "\n",
       "    .dataframe tbody tr th {\n",
       "        vertical-align: top;\n",
       "    }\n",
       "\n",
       "    .dataframe thead th {\n",
       "        text-align: right;\n",
       "    }\n",
       "</style>\n",
       "<table border=\"1\" class=\"dataframe\">\n",
       "  <thead>\n",
       "    <tr style=\"text-align: right;\">\n",
       "      <th></th>\n",
       "      <th>count</th>\n",
       "      <th>mean</th>\n",
       "      <th>std</th>\n",
       "      <th>min</th>\n",
       "      <th>25%</th>\n",
       "      <th>50%</th>\n",
       "      <th>75%</th>\n",
       "      <th>max</th>\n",
       "    </tr>\n",
       "  </thead>\n",
       "  <tbody>\n",
       "    <tr>\n",
       "      <th>area</th>\n",
       "      <td>47319.0</td>\n",
       "      <td>61.139850</td>\n",
       "      <td>29.170908</td>\n",
       "      <td>10.250000</td>\n",
       "      <td>44.360000</td>\n",
       "      <td>55.300000</td>\n",
       "      <td>69.385000</td>\n",
       "      <td>1.000000e+03</td>\n",
       "    </tr>\n",
       "    <tr>\n",
       "      <th>build_yr</th>\n",
       "      <td>47319.0</td>\n",
       "      <td>1994.098734</td>\n",
       "      <td>34.116236</td>\n",
       "      <td>1200.000000</td>\n",
       "      <td>1975.000000</td>\n",
       "      <td>2008.000000</td>\n",
       "      <td>2022.000000</td>\n",
       "      <td>3.000000e+03</td>\n",
       "    </tr>\n",
       "    <tr>\n",
       "      <th>price</th>\n",
       "      <td>47319.0</td>\n",
       "      <td>666773.184345</td>\n",
       "      <td>651007.442640</td>\n",
       "      <td>75000.000000</td>\n",
       "      <td>395000.000000</td>\n",
       "      <td>528400.000000</td>\n",
       "      <td>725000.000000</td>\n",
       "      <td>2.160000e+07</td>\n",
       "    </tr>\n",
       "    <tr>\n",
       "      <th>price_of_sqm</th>\n",
       "      <td>47319.0</td>\n",
       "      <td>10766.441442</td>\n",
       "      <td>5073.777636</td>\n",
       "      <td>632.102273</td>\n",
       "      <td>7530.666468</td>\n",
       "      <td>9824.945295</td>\n",
       "      <td>12750.227687</td>\n",
       "      <td>1.021972e+05</td>\n",
       "    </tr>\n",
       "  </tbody>\n",
       "</table>\n",
       "</div>"
      ],
      "text/plain": [
       "                count           mean            std           min  \\\n",
       "area          47319.0      61.139850      29.170908     10.250000   \n",
       "build_yr      47319.0    1994.098734      34.116236   1200.000000   \n",
       "price         47319.0  666773.184345  651007.442640  75000.000000   \n",
       "price_of_sqm  47319.0   10766.441442    5073.777636    632.102273   \n",
       "\n",
       "                        25%            50%            75%           max  \n",
       "area              44.360000      55.300000      69.385000  1.000000e+03  \n",
       "build_yr        1975.000000    2008.000000    2022.000000  3.000000e+03  \n",
       "price         395000.000000  528400.000000  725000.000000  2.160000e+07  \n",
       "price_of_sqm    7530.666468    9824.945295   12750.227687  1.021972e+05  "
      ]
     },
     "execution_count": 31,
     "metadata": {},
     "output_type": "execute_result"
    }
   ],
   "source": [
    "frame[['area','build_yr','price','price_of_sqm']].describe().T"
   ]
  },
  {
   "cell_type": "code",
   "execution_count": 32,
   "metadata": {},
   "outputs": [],
   "source": [
    "outliers_dict['build_yr'] = (1900.0, 2024.0)"
   ]
  },
  {
   "cell_type": "code",
   "execution_count": 33,
   "metadata": {},
   "outputs": [],
   "source": [
    "for key in outliers_dict.keys():\n",
    "    frame.drop(frame[frame[key] < outliers_dict[key][0]].index, inplace = True)\n",
    "    frame.drop(frame[frame[key] > outliers_dict[key][1]].index, inplace = True)"
   ]
  },
  {
   "cell_type": "code",
   "execution_count": 34,
   "metadata": {
    "scrolled": true
   },
   "outputs": [
    {
     "data": {
      "text/html": [
       "<div>\n",
       "<style scoped>\n",
       "    .dataframe tbody tr th:only-of-type {\n",
       "        vertical-align: middle;\n",
       "    }\n",
       "\n",
       "    .dataframe tbody tr th {\n",
       "        vertical-align: top;\n",
       "    }\n",
       "\n",
       "    .dataframe thead th {\n",
       "        text-align: right;\n",
       "    }\n",
       "</style>\n",
       "<table border=\"1\" class=\"dataframe\">\n",
       "  <thead>\n",
       "    <tr style=\"text-align: right;\">\n",
       "      <th></th>\n",
       "      <th>count</th>\n",
       "      <th>mean</th>\n",
       "      <th>std</th>\n",
       "      <th>min</th>\n",
       "      <th>25%</th>\n",
       "      <th>50%</th>\n",
       "      <th>75%</th>\n",
       "      <th>max</th>\n",
       "    </tr>\n",
       "  </thead>\n",
       "  <tbody>\n",
       "    <tr>\n",
       "      <th>area</th>\n",
       "      <td>44839.0</td>\n",
       "      <td>59.448206</td>\n",
       "      <td>22.324840</td>\n",
       "      <td>24.000000</td>\n",
       "      <td>44.7</td>\n",
       "      <td>55.090000</td>\n",
       "      <td>68.415000</td>\n",
       "      <td>1.670000e+02</td>\n",
       "    </tr>\n",
       "    <tr>\n",
       "      <th>build_yr</th>\n",
       "      <td>44839.0</td>\n",
       "      <td>1995.823881</td>\n",
       "      <td>30.452976</td>\n",
       "      <td>1900.000000</td>\n",
       "      <td>1976.0</td>\n",
       "      <td>2009.000000</td>\n",
       "      <td>2022.000000</td>\n",
       "      <td>2.024000e+03</td>\n",
       "    </tr>\n",
       "    <tr>\n",
       "      <th>price</th>\n",
       "      <td>44839.0</td>\n",
       "      <td>617690.234840</td>\n",
       "      <td>356597.618242</td>\n",
       "      <td>177000.000000</td>\n",
       "      <td>399000.0</td>\n",
       "      <td>529000.000000</td>\n",
       "      <td>707736.000000</td>\n",
       "      <td>2.990000e+06</td>\n",
       "    </tr>\n",
       "    <tr>\n",
       "      <th>price_of_sqm</th>\n",
       "      <td>44839.0</td>\n",
       "      <td>10511.509558</td>\n",
       "      <td>4120.638295</td>\n",
       "      <td>3451.298346</td>\n",
       "      <td>7600.0</td>\n",
       "      <td>9791.666667</td>\n",
       "      <td>12515.207916</td>\n",
       "      <td>2.865341e+04</td>\n",
       "    </tr>\n",
       "  </tbody>\n",
       "</table>\n",
       "</div>"
      ],
      "text/plain": [
       "                count           mean            std            min       25%  \\\n",
       "area          44839.0      59.448206      22.324840      24.000000      44.7   \n",
       "build_yr      44839.0    1995.823881      30.452976    1900.000000    1976.0   \n",
       "price         44839.0  617690.234840  356597.618242  177000.000000  399000.0   \n",
       "price_of_sqm  44839.0   10511.509558    4120.638295    3451.298346    7600.0   \n",
       "\n",
       "                        50%            75%           max  \n",
       "area              55.090000      68.415000  1.670000e+02  \n",
       "build_yr        2009.000000    2022.000000  2.024000e+03  \n",
       "price         529000.000000  707736.000000  2.990000e+06  \n",
       "price_of_sqm    9791.666667   12515.207916  2.865341e+04  "
      ]
     },
     "execution_count": 34,
     "metadata": {},
     "output_type": "execute_result"
    }
   ],
   "source": [
    "frame[['area','build_yr','price','price_of_sqm']].describe().T"
   ]
  },
  {
   "cell_type": "code",
   "execution_count": 35,
   "metadata": {
    "scrolled": true
   },
   "outputs": [
    {
     "data": {
      "text/plain": [
       "(102, 583)"
      ]
     },
     "execution_count": 35,
     "metadata": {},
     "output_type": "execute_result"
    }
   ],
   "source": [
    "len(frame[frame.floor>15]), len(frame[frame.floors>15])"
   ]
  },
  {
   "cell_type": "code",
   "execution_count": 36,
   "metadata": {},
   "outputs": [],
   "source": [
    "frame.drop(frame[frame.floor>15].index, axis=0, inplace=True)\n",
    "frame.drop(frame[frame.floors>15].index, axis=0, inplace=True)"
   ]
  },
  {
   "cell_type": "code",
   "execution_count": 37,
   "metadata": {},
   "outputs": [
    {
     "data": {
      "text/plain": [
       "61"
      ]
     },
     "execution_count": 37,
     "metadata": {},
     "output_type": "execute_result"
    }
   ],
   "source": [
    "len(frame[frame.rooms>6])"
   ]
  },
  {
   "cell_type": "code",
   "execution_count": 38,
   "metadata": {},
   "outputs": [],
   "source": [
    "frame.drop(frame[frame.rooms>6].index, axis=0, inplace=True)"
   ]
  },
  {
   "cell_type": "markdown",
   "metadata": {},
   "source": [
    "## dealing with outliers in localization"
   ]
  },
  {
   "cell_type": "code",
   "execution_count": 39,
   "metadata": {},
   "outputs": [
    {
     "data": {
      "text/plain": [
       "(-0.69733, 23.88175463)"
      ]
     },
     "execution_count": 39,
     "metadata": {},
     "output_type": "execute_result"
    }
   ],
   "source": [
    "frame.localization_x.min(), frame.localization_x.max()"
   ]
  },
  {
   "cell_type": "code",
   "execution_count": 40,
   "metadata": {},
   "outputs": [
    {
     "data": {
      "text/plain": [
       "(37.9826, 54.83338539999999)"
      ]
     },
     "execution_count": 40,
     "metadata": {},
     "output_type": "execute_result"
    }
   ],
   "source": [
    "frame.localization_y.min(), frame.localization_y.max()"
   ]
  },
  {
   "cell_type": "code",
   "execution_count": 41,
   "metadata": {},
   "outputs": [],
   "source": [
    "outliers_dict_2 = dict()\n",
    "outliers_dict_2['localization_x'] = (14,25)\n",
    "outliers_dict_2['localization_y'] = (48,55)"
   ]
  },
  {
   "cell_type": "code",
   "execution_count": 42,
   "metadata": {},
   "outputs": [],
   "source": [
    "for key in outliers_dict_2.keys():\n",
    "    frame.drop(frame[frame[key] < outliers_dict_2[key][0]].index, inplace = True)\n",
    "    frame.drop(frame[frame[key] > outliers_dict_2[key][1]].index, inplace = True)"
   ]
  },
  {
   "cell_type": "code",
   "execution_count": 43,
   "metadata": {},
   "outputs": [
    {
     "data": {
      "text/plain": [
       "24"
      ]
     },
     "execution_count": 43,
     "metadata": {},
     "output_type": "execute_result"
    }
   ],
   "source": [
    "len(frame[(frame.localization_x%1==0) | (frame.localization_y%1==0)])"
   ]
  },
  {
   "cell_type": "code",
   "execution_count": 44,
   "metadata": {},
   "outputs": [],
   "source": [
    "frame.drop(frame[(frame.localization_x%1==0) | (frame.localization_y%1==0)].index,inplace=True)"
   ]
  },
  {
   "cell_type": "markdown",
   "metadata": {},
   "source": [
    "## checking histograms"
   ]
  },
  {
   "cell_type": "code",
   "execution_count": 45,
   "metadata": {},
   "outputs": [
    {
     "data": {
      "image/png": "[encoded data removed]",
      "text/plain": [
       "<Figure size 1080x360 with 10 Axes>"
      ]
     },
     "metadata": {},
     "output_type": "display_data"
    }
   ],
   "source": [
    "fig, axList = plt.subplots(nrows=2, ncols=5)\n",
    "axList = axList.flatten()\n",
    "fig.set_size_inches(15,5)\n",
    "\n",
    "numeric_columns = [x for x in frame.columns if frame[x].dtype in ['float64','int32']]\n",
    "kurtosis_dict = dict(frame[numeric_columns].kurtosis())\n",
    "\n",
    "for ax, column in zip(axList, numeric_columns):\n",
    "    sns.histplot(frame, x=frame[column], ax=ax, bins=25)\n",
    "    ax.title.set_text(f'skew: {round(frame[column].skew(), 1)}, kurtosis: {round(kurtosis_dict[column], 2)}')\n",
    "    \n",
    "plt.tight_layout()"
   ]
  },
  {
   "cell_type": "markdown",
   "metadata": {},
   "source": [
    "## data summary"
   ]
  },
  {
   "cell_type": "code",
   "execution_count": 46,
   "metadata": {},
   "outputs": [
    {
     "data": {
      "text/html": [
       "<div>\n",
       "<style scoped>\n",
       "    .dataframe tbody tr th:only-of-type {\n",
       "        vertical-align: middle;\n",
       "    }\n",
       "\n",
       "    .dataframe tbody tr th {\n",
       "        vertical-align: top;\n",
       "    }\n",
       "\n",
       "    .dataframe thead th {\n",
       "        text-align: right;\n",
       "    }\n",
       "</style>\n",
       "<table border=\"1\" class=\"dataframe\">\n",
       "  <thead>\n",
       "    <tr style=\"text-align: right;\">\n",
       "      <th></th>\n",
       "      <th>count</th>\n",
       "      <th>mean</th>\n",
       "      <th>std</th>\n",
       "      <th>min</th>\n",
       "      <th>25%</th>\n",
       "      <th>50%</th>\n",
       "      <th>75%</th>\n",
       "      <th>max</th>\n",
       "    </tr>\n",
       "  </thead>\n",
       "  <tbody>\n",
       "    <tr>\n",
       "      <th>localization_y</th>\n",
       "      <td>44166.0</td>\n",
       "      <td>51.98</td>\n",
       "      <td>1.43</td>\n",
       "      <td>48.17</td>\n",
       "      <td>50.89</td>\n",
       "      <td>52.18</td>\n",
       "      <td>52.80</td>\n",
       "      <td>54.83</td>\n",
       "    </tr>\n",
       "    <tr>\n",
       "      <th>localization_x</th>\n",
       "      <td>44166.0</td>\n",
       "      <td>19.32</td>\n",
       "      <td>1.89</td>\n",
       "      <td>14.22</td>\n",
       "      <td>18.24</td>\n",
       "      <td>19.87</td>\n",
       "      <td>20.96</td>\n",
       "      <td>23.88</td>\n",
       "    </tr>\n",
       "    <tr>\n",
       "      <th>area</th>\n",
       "      <td>44166.0</td>\n",
       "      <td>59.34</td>\n",
       "      <td>22.20</td>\n",
       "      <td>24.00</td>\n",
       "      <td>44.67</td>\n",
       "      <td>55.00</td>\n",
       "      <td>68.28</td>\n",
       "      <td>167.00</td>\n",
       "    </tr>\n",
       "    <tr>\n",
       "      <th>rooms</th>\n",
       "      <td>44166.0</td>\n",
       "      <td>2.68</td>\n",
       "      <td>0.90</td>\n",
       "      <td>1.00</td>\n",
       "      <td>2.00</td>\n",
       "      <td>3.00</td>\n",
       "      <td>3.00</td>\n",
       "      <td>6.00</td>\n",
       "    </tr>\n",
       "    <tr>\n",
       "      <th>floor</th>\n",
       "      <td>44166.0</td>\n",
       "      <td>2.38</td>\n",
       "      <td>2.27</td>\n",
       "      <td>0.00</td>\n",
       "      <td>1.00</td>\n",
       "      <td>2.00</td>\n",
       "      <td>3.00</td>\n",
       "      <td>15.00</td>\n",
       "    </tr>\n",
       "    <tr>\n",
       "      <th>floors</th>\n",
       "      <td>44166.0</td>\n",
       "      <td>4.63</td>\n",
       "      <td>2.76</td>\n",
       "      <td>0.00</td>\n",
       "      <td>3.00</td>\n",
       "      <td>4.00</td>\n",
       "      <td>5.00</td>\n",
       "      <td>15.00</td>\n",
       "    </tr>\n",
       "    <tr>\n",
       "      <th>build_yr</th>\n",
       "      <td>44166.0</td>\n",
       "      <td>1995.65</td>\n",
       "      <td>30.53</td>\n",
       "      <td>1900.00</td>\n",
       "      <td>1976.00</td>\n",
       "      <td>2008.00</td>\n",
       "      <td>2022.00</td>\n",
       "      <td>2024.00</td>\n",
       "    </tr>\n",
       "    <tr>\n",
       "      <th>price</th>\n",
       "      <td>44166.0</td>\n",
       "      <td>613357.71</td>\n",
       "      <td>352766.25</td>\n",
       "      <td>177000.00</td>\n",
       "      <td>399000.00</td>\n",
       "      <td>525000.00</td>\n",
       "      <td>699000.00</td>\n",
       "      <td>2990000.00</td>\n",
       "    </tr>\n",
       "    <tr>\n",
       "      <th>price_of_sqm</th>\n",
       "      <td>44166.0</td>\n",
       "      <td>10458.33</td>\n",
       "      <td>4084.30</td>\n",
       "      <td>3451.30</td>\n",
       "      <td>7575.98</td>\n",
       "      <td>9747.73</td>\n",
       "      <td>12467.53</td>\n",
       "      <td>28653.41</td>\n",
       "    </tr>\n",
       "  </tbody>\n",
       "</table>\n",
       "</div>"
      ],
      "text/plain": [
       "                  count       mean        std        min        25%  \\\n",
       "localization_y  44166.0      51.98       1.43      48.17      50.89   \n",
       "localization_x  44166.0      19.32       1.89      14.22      18.24   \n",
       "area            44166.0      59.34      22.20      24.00      44.67   \n",
       "rooms           44166.0       2.68       0.90       1.00       2.00   \n",
       "floor           44166.0       2.38       2.27       0.00       1.00   \n",
       "floors          44166.0       4.63       2.76       0.00       3.00   \n",
       "build_yr        44166.0    1995.65      30.53    1900.00    1976.00   \n",
       "price           44166.0  613357.71  352766.25  177000.00  399000.00   \n",
       "price_of_sqm    44166.0   10458.33    4084.30    3451.30    7575.98   \n",
       "\n",
       "                      50%        75%         max  \n",
       "localization_y      52.18      52.80       54.83  \n",
       "localization_x      19.87      20.96       23.88  \n",
       "area                55.00      68.28      167.00  \n",
       "rooms                3.00       3.00        6.00  \n",
       "floor                2.00       3.00       15.00  \n",
       "floors               4.00       5.00       15.00  \n",
       "build_yr          2008.00    2022.00     2024.00  \n",
       "price           525000.00  699000.00  2990000.00  \n",
       "price_of_sqm      9747.73   12467.53    28653.41  "
      ]
     },
     "execution_count": 46,
     "metadata": {},
     "output_type": "execute_result"
    }
   ],
   "source": [
    "round(frame.describe().T, 2)"
   ]
  },
  {
   "cell_type": "code",
   "execution_count": 47,
   "metadata": {},
   "outputs": [
    {
     "data": {
      "text/html": [
       "<div>\n",
       "<style scoped>\n",
       "    .dataframe tbody tr th:only-of-type {\n",
       "        vertical-align: middle;\n",
       "    }\n",
       "\n",
       "    .dataframe tbody tr th {\n",
       "        vertical-align: top;\n",
       "    }\n",
       "\n",
       "    .dataframe thead th {\n",
       "        text-align: right;\n",
       "    }\n",
       "</style>\n",
       "<table border=\"1\" class=\"dataframe\">\n",
       "  <thead>\n",
       "    <tr style=\"text-align: right;\">\n",
       "      <th></th>\n",
       "      <th>count</th>\n",
       "      <th>unique</th>\n",
       "      <th>top</th>\n",
       "      <th>freq</th>\n",
       "    </tr>\n",
       "  </thead>\n",
       "  <tbody>\n",
       "    <tr>\n",
       "      <th>city</th>\n",
       "      <td>44166</td>\n",
       "      <td>956</td>\n",
       "      <td>Warszawa</td>\n",
       "      <td>9415</td>\n",
       "    </tr>\n",
       "    <tr>\n",
       "      <th>district</th>\n",
       "      <td>38219</td>\n",
       "      <td>1054</td>\n",
       "      <td>Śródmieście</td>\n",
       "      <td>1867</td>\n",
       "    </tr>\n",
       "    <tr>\n",
       "      <th>voivodeship</th>\n",
       "      <td>44166</td>\n",
       "      <td>16</td>\n",
       "      <td>mazowieckie</td>\n",
       "      <td>11958</td>\n",
       "    </tr>\n",
       "    <tr>\n",
       "      <th>market</th>\n",
       "      <td>44166</td>\n",
       "      <td>2</td>\n",
       "      <td>aftermarket</td>\n",
       "      <td>32954</td>\n",
       "    </tr>\n",
       "    <tr>\n",
       "      <th>offer_type</th>\n",
       "      <td>44166</td>\n",
       "      <td>1</td>\n",
       "      <td>sprzedaz</td>\n",
       "      <td>44166</td>\n",
       "    </tr>\n",
       "    <tr>\n",
       "      <th>url</th>\n",
       "      <td>44166</td>\n",
       "      <td>44166</td>\n",
       "      <td>https://gratka.pl/nieruchomosci/mieszkanie-bielsk-podlaski/ob/28457869</td>\n",
       "      <td>1</td>\n",
       "    </tr>\n",
       "  </tbody>\n",
       "</table>\n",
       "</div>"
      ],
      "text/plain": [
       "             count unique  \\\n",
       "city         44166    956   \n",
       "district     38219   1054   \n",
       "voivodeship  44166     16   \n",
       "market       44166      2   \n",
       "offer_type   44166      1   \n",
       "url          44166  44166   \n",
       "\n",
       "                                                                                top  \\\n",
       "city                                                                       Warszawa   \n",
       "district                                                                Śródmieście   \n",
       "voivodeship                                                             mazowieckie   \n",
       "market                                                                  aftermarket   \n",
       "offer_type                                                                 sprzedaz   \n",
       "url          https://gratka.pl/nieruchomosci/mieszkanie-bielsk-podlaski/ob/28457869   \n",
       "\n",
       "              freq  \n",
       "city          9415  \n",
       "district      1867  \n",
       "voivodeship  11958  \n",
       "market       32954  \n",
       "offer_type   44166  \n",
       "url              1  "
      ]
     },
     "execution_count": 47,
     "metadata": {},
     "output_type": "execute_result"
    }
   ],
   "source": [
    "frame.describe(include=['object']).T"
   ]
  },
  {
   "cell_type": "code",
   "execution_count": 48,
   "metadata": {},
   "outputs": [],
   "source": [
    "frame.reset_index(drop=True, inplace=True)"
   ]
  },
  {
   "cell_type": "code",
   "execution_count": 49,
   "metadata": {},
   "outputs": [
    {
     "name": "stdout",
     "output_type": "stream",
     "text": [
      "<class 'pandas.core.frame.DataFrame'>\n",
      "RangeIndex: 44166 entries, 0 to 44165\n",
      "Data columns (total 15 columns):\n",
      " #   Column          Non-Null Count  Dtype  \n",
      "---  ------          --------------  -----  \n",
      " 0   city            44166 non-null  object \n",
      " 1   district        38219 non-null  object \n",
      " 2   voivodeship     44166 non-null  object \n",
      " 3   localization_y  44166 non-null  float64\n",
      " 4   localization_x  44166 non-null  float64\n",
      " 5   market          44166 non-null  object \n",
      " 6   offer_type      44166 non-null  object \n",
      " 7   area            44166 non-null  float64\n",
      " 8   rooms           44166 non-null  int32  \n",
      " 9   floor           44166 non-null  int32  \n",
      " 10  floors          44166 non-null  int32  \n",
      " 11  build_yr        44166 non-null  float64\n",
      " 12  price           44166 non-null  float64\n",
      " 13  url             44166 non-null  object \n",
      " 14  price_of_sqm    44166 non-null  float64\n",
      "dtypes: float64(6), int32(3), object(6)\n",
      "memory usage: 4.5+ MB\n"
     ]
    }
   ],
   "source": [
    "frame.info()"
   ]
  },
  {
   "cell_type": "markdown",
   "metadata": {},
   "source": [
    "## saving the frame"
   ]
  },
  {
   "cell_type": "code",
   "execution_count": 50,
   "metadata": {},
   "outputs": [],
   "source": [
    "outfile = open('apartment_data_frame','wb')\n",
    "pkl.dump(frame, outfile)\n",
    "outfile.close()"
   ]
  },
  {
   "cell_type": "code",
   "execution_count": null,
   "metadata": {},
   "outputs": [],
   "source": []
  }
 ],
 "metadata": {
  "kernelspec": {
   "display_name": "Python 3",
   "language": "python",
   "name": "python3"
  },
  "language_info": {
   "codemirror_mode": {
    "name": "ipython",
    "version": 3
   },
   "file_extension": ".py",
   "mimetype": "text/x-python",
   "name": "python",
   "nbconvert_exporter": "python",
   "pygments_lexer": "ipython3",
   "version": "3.6.12"
  }
 },
 "nbformat": 4,
 "nbformat_minor": 4
}
