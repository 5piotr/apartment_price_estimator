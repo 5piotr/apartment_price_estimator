{
 "cells": [
  {
   "cell_type": "code",
   "execution_count": 1,
   "metadata": {},
   "outputs": [],
   "source": [
    "import os\n",
    "import pandas as pd\n",
    "import numpy as np\n",
    "import pickle as pkl\n",
    "import seaborn as sns\n",
    "sns.set_theme(palette=sns.color_palette('Set2'))\n",
    "import matplotlib.pyplot as plt\n",
    "from sqlalchemy import create_engine"
   ]
  },
  {
   "cell_type": "code",
   "execution_count": 2,
   "metadata": {},
   "outputs": [],
   "source": [
    "pd.options.display.max_columns = 30\n",
    "pd.options.display.max_colwidth = 150"
   ]
  },
  {
   "cell_type": "markdown",
   "metadata": {},
   "source": [
    "## data import"
   ]
  },
  {
   "cell_type": "code",
   "execution_count": 3,
   "metadata": {},
   "outputs": [],
   "source": [
    "# frame = pd.read_csv('..//1_web_scraping//apartment_details.csv')"
   ]
  },
  {
   "cell_type": "code",
   "execution_count": 4,
   "metadata": {},
   "outputs": [],
   "source": [
    "query = '''\n",
    "    select * from apt_details_raw\n",
    "    where date = (select max(date) from apt_details_raw)\n",
    "    '''\n",
    "\n",
    "username = 'piotr'\n",
    "password = os.environ['MYSQL_PASSWORD']\n",
    "host = 'localhost'\n",
    "db_name = 'airflow_db'\n",
    "db_url = f'mysql+mysqlconnector://{username}:{password}@{host}/{db_name}'\n",
    "\n",
    "engine = create_engine(db_url)\n",
    "\n",
    "with engine.connect() as conn:\n",
    "    frame = pd.read_sql_query(sql=query, con=conn, index_col='id')\n",
    "\n",
    "frame.drop(['date'], axis=1, inplace=True)\n",
    "\n",
    "for column in ['localization_y','localization_x','area','build_yr']:\n",
    "    frame[column] = frame[column].astype('float')"
   ]
  },
  {
   "cell_type": "code",
   "execution_count": 5,
   "metadata": {},
   "outputs": [
    {
     "data": {
      "text/plain": [
       "(93414, 14)"
      ]
     },
     "execution_count": 5,
     "metadata": {},
     "output_type": "execute_result"
    }
   ],
   "source": [
    "frame.shape"
   ]
  },
  {
   "cell_type": "code",
   "execution_count": 6,
   "metadata": {},
   "outputs": [
    {
     "data": {
      "text/html": [
       "<div>\n",
       "<style scoped>\n",
       "    .dataframe tbody tr th:only-of-type {\n",
       "        vertical-align: middle;\n",
       "    }\n",
       "\n",
       "    .dataframe tbody tr th {\n",
       "        vertical-align: top;\n",
       "    }\n",
       "\n",
       "    .dataframe thead th {\n",
       "        text-align: right;\n",
       "    }\n",
       "</style>\n",
       "<table border=\"1\" class=\"dataframe\">\n",
       "  <thead>\n",
       "    <tr style=\"text-align: right;\">\n",
       "      <th></th>\n",
       "      <th>city</th>\n",
       "      <th>district</th>\n",
       "      <th>voivodeship</th>\n",
       "      <th>localization_y</th>\n",
       "      <th>localization_x</th>\n",
       "      <th>market</th>\n",
       "      <th>offer_type</th>\n",
       "      <th>area</th>\n",
       "      <th>rooms</th>\n",
       "      <th>floor</th>\n",
       "      <th>floors</th>\n",
       "      <th>build_yr</th>\n",
       "      <th>price</th>\n",
       "      <th>url</th>\n",
       "    </tr>\n",
       "    <tr>\n",
       "      <th>id</th>\n",
       "      <th></th>\n",
       "      <th></th>\n",
       "      <th></th>\n",
       "      <th></th>\n",
       "      <th></th>\n",
       "      <th></th>\n",
       "      <th></th>\n",
       "      <th></th>\n",
       "      <th></th>\n",
       "      <th></th>\n",
       "      <th></th>\n",
       "      <th></th>\n",
       "      <th></th>\n",
       "      <th></th>\n",
       "    </tr>\n",
       "  </thead>\n",
       "  <tbody>\n",
       "    <tr>\n",
       "      <th>745541</th>\n",
       "      <td>Zabrze</td>\n",
       "      <td>Centrum</td>\n",
       "      <td>śląskie</td>\n",
       "      <td>50.310159</td>\n",
       "      <td>18.782158</td>\n",
       "      <td>pierwotny</td>\n",
       "      <td>sprzedaz</td>\n",
       "      <td>65.37</td>\n",
       "      <td>4</td>\n",
       "      <td>3</td>\n",
       "      <td>4</td>\n",
       "      <td>2025.0</td>\n",
       "      <td>Zapytajoce</td>\n",
       "      <td>https://gratka.pl/nieruchomosci/mieszkanie-zabrze-centrum-roberta-kozlika/ob/35346055</td>\n",
       "    </tr>\n",
       "    <tr>\n",
       "      <th>745542</th>\n",
       "      <td>Poznań</td>\n",
       "      <td>Strzeszyn</td>\n",
       "      <td>wielkopolskie</td>\n",
       "      <td>52.443089</td>\n",
       "      <td>16.873670</td>\n",
       "      <td>pierwotny</td>\n",
       "      <td>sprzedaz</td>\n",
       "      <td>35.12</td>\n",
       "      <td>1</td>\n",
       "      <td>3</td>\n",
       "      <td>3</td>\n",
       "      <td>2023.0</td>\n",
       "      <td>340567</td>\n",
       "      <td>https://gratka.pl/nieruchomosci/mieszkanie-poznan-strzeszyn-literacka/ob/29748901</td>\n",
       "    </tr>\n",
       "    <tr>\n",
       "      <th>745543</th>\n",
       "      <td>Chorzów</td>\n",
       "      <td>None</td>\n",
       "      <td>śląskie</td>\n",
       "      <td>50.286577</td>\n",
       "      <td>18.936671</td>\n",
       "      <td>pierwotny</td>\n",
       "      <td>sprzedaz</td>\n",
       "      <td>49.56</td>\n",
       "      <td>3</td>\n",
       "      <td>parter</td>\n",
       "      <td>None</td>\n",
       "      <td>2025.0</td>\n",
       "      <td>Zapytajoce</td>\n",
       "      <td>https://gratka.pl/nieruchomosci/mieszkanie-chorzow-odlegla/ob/30991661</td>\n",
       "    </tr>\n",
       "    <tr>\n",
       "      <th>745544</th>\n",
       "      <td>Wrocław</td>\n",
       "      <td>Krzyki</td>\n",
       "      <td>dolnośląskie</td>\n",
       "      <td>51.094496</td>\n",
       "      <td>17.028210</td>\n",
       "      <td>wtorny</td>\n",
       "      <td>sprzedaz</td>\n",
       "      <td>54.00</td>\n",
       "      <td>3</td>\n",
       "      <td>9</td>\n",
       "      <td>10</td>\n",
       "      <td>1973.0</td>\n",
       "      <td>639000</td>\n",
       "      <td>https://gratka.pl/nieruchomosci/mieszkanie-wroclaw-krzyki-sanocka/ob/37042799</td>\n",
       "    </tr>\n",
       "    <tr>\n",
       "      <th>745545</th>\n",
       "      <td>Lublin</td>\n",
       "      <td>Dziesiąta</td>\n",
       "      <td>lubelskie</td>\n",
       "      <td>51.216284</td>\n",
       "      <td>22.577453</td>\n",
       "      <td>wtorny</td>\n",
       "      <td>sprzedaz</td>\n",
       "      <td>205.00</td>\n",
       "      <td>7</td>\n",
       "      <td>1</td>\n",
       "      <td>2</td>\n",
       "      <td>2010.0</td>\n",
       "      <td>1499000</td>\n",
       "      <td>https://gratka.pl/nieruchomosci/mieszkanie-lublin-dziesiata/ob/31917307</td>\n",
       "    </tr>\n",
       "  </tbody>\n",
       "</table>\n",
       "</div>"
      ],
      "text/plain": [
       "           city   district    voivodeship  localization_y  localization_x  \\\n",
       "id                                                                          \n",
       "745541   Zabrze    Centrum        śląskie       50.310159       18.782158   \n",
       "745542   Poznań  Strzeszyn  wielkopolskie       52.443089       16.873670   \n",
       "745543  Chorzów       None        śląskie       50.286577       18.936671   \n",
       "745544  Wrocław     Krzyki   dolnośląskie       51.094496       17.028210   \n",
       "745545   Lublin  Dziesiąta      lubelskie       51.216284       22.577453   \n",
       "\n",
       "           market offer_type    area rooms   floor floors  build_yr  \\\n",
       "id                                                                    \n",
       "745541  pierwotny   sprzedaz   65.37     4       3      4    2025.0   \n",
       "745542  pierwotny   sprzedaz   35.12     1       3      3    2023.0   \n",
       "745543  pierwotny   sprzedaz   49.56     3  parter   None    2025.0   \n",
       "745544     wtorny   sprzedaz   54.00     3       9     10    1973.0   \n",
       "745545     wtorny   sprzedaz  205.00     7       1      2    2010.0   \n",
       "\n",
       "             price  \\\n",
       "id                   \n",
       "745541  Zapytajoce   \n",
       "745542      340567   \n",
       "745543  Zapytajoce   \n",
       "745544      639000   \n",
       "745545     1499000   \n",
       "\n",
       "                                                                                          url  \n",
       "id                                                                                             \n",
       "745541  https://gratka.pl/nieruchomosci/mieszkanie-zabrze-centrum-roberta-kozlika/ob/35346055  \n",
       "745542      https://gratka.pl/nieruchomosci/mieszkanie-poznan-strzeszyn-literacka/ob/29748901  \n",
       "745543                 https://gratka.pl/nieruchomosci/mieszkanie-chorzow-odlegla/ob/30991661  \n",
       "745544          https://gratka.pl/nieruchomosci/mieszkanie-wroclaw-krzyki-sanocka/ob/37042799  \n",
       "745545                https://gratka.pl/nieruchomosci/mieszkanie-lublin-dziesiata/ob/31917307  "
      ]
     },
     "execution_count": 6,
     "metadata": {},
     "output_type": "execute_result"
    }
   ],
   "source": [
    "frame.head()"
   ]
  },
  {
   "cell_type": "code",
   "execution_count": 7,
   "metadata": {},
   "outputs": [
    {
     "name": "stdout",
     "output_type": "stream",
     "text": [
      "<class 'pandas.core.frame.DataFrame'>\n",
      "Index: 93414 entries, 745541 to 838954\n",
      "Data columns (total 14 columns):\n",
      " #   Column          Non-Null Count  Dtype  \n",
      "---  ------          --------------  -----  \n",
      " 0   city            93316 non-null  object \n",
      " 1   district        63307 non-null  object \n",
      " 2   voivodeship     93316 non-null  object \n",
      " 3   localization_y  93379 non-null  float64\n",
      " 4   localization_x  93379 non-null  float64\n",
      " 5   market          93331 non-null  object \n",
      " 6   offer_type      93414 non-null  object \n",
      " 7   area            93331 non-null  float64\n",
      " 8   rooms           93100 non-null  object \n",
      " 9   floor           92410 non-null  object \n",
      " 10  floors          80139 non-null  object \n",
      " 11  build_yr        80322 non-null  float64\n",
      " 12  price           93414 non-null  object \n",
      " 13  url             93414 non-null  object \n",
      "dtypes: float64(4), object(10)\n",
      "memory usage: 10.7+ MB\n"
     ]
    }
   ],
   "source": [
    "frame.info()"
   ]
  },
  {
   "cell_type": "code",
   "execution_count": 8,
   "metadata": {},
   "outputs": [
    {
     "data": {
      "text/html": [
       "<div>\n",
       "<style scoped>\n",
       "    .dataframe tbody tr th:only-of-type {\n",
       "        vertical-align: middle;\n",
       "    }\n",
       "\n",
       "    .dataframe tbody tr th {\n",
       "        vertical-align: top;\n",
       "    }\n",
       "\n",
       "    .dataframe thead th {\n",
       "        text-align: right;\n",
       "    }\n",
       "</style>\n",
       "<table border=\"1\" class=\"dataframe\">\n",
       "  <thead>\n",
       "    <tr style=\"text-align: right;\">\n",
       "      <th></th>\n",
       "      <th>count</th>\n",
       "      <th>mean</th>\n",
       "      <th>std</th>\n",
       "      <th>min</th>\n",
       "      <th>25%</th>\n",
       "      <th>50%</th>\n",
       "      <th>75%</th>\n",
       "      <th>max</th>\n",
       "    </tr>\n",
       "  </thead>\n",
       "  <tbody>\n",
       "    <tr>\n",
       "      <th>localization_y</th>\n",
       "      <td>93379.0</td>\n",
       "      <td>51.915886</td>\n",
       "      <td>1.434228</td>\n",
       "      <td>49.276875</td>\n",
       "      <td>50.751550</td>\n",
       "      <td>52.128627</td>\n",
       "      <td>52.606460</td>\n",
       "      <td>54.833530</td>\n",
       "    </tr>\n",
       "    <tr>\n",
       "      <th>localization_x</th>\n",
       "      <td>93379.0</td>\n",
       "      <td>19.085460</td>\n",
       "      <td>1.827806</td>\n",
       "      <td>14.224291</td>\n",
       "      <td>17.956817</td>\n",
       "      <td>19.092900</td>\n",
       "      <td>20.880895</td>\n",
       "      <td>23.892034</td>\n",
       "    </tr>\n",
       "    <tr>\n",
       "      <th>area</th>\n",
       "      <td>93331.0</td>\n",
       "      <td>57.118243</td>\n",
       "      <td>25.707333</td>\n",
       "      <td>1.000000</td>\n",
       "      <td>41.090000</td>\n",
       "      <td>52.200000</td>\n",
       "      <td>66.000000</td>\n",
       "      <td>500.000000</td>\n",
       "    </tr>\n",
       "    <tr>\n",
       "      <th>build_yr</th>\n",
       "      <td>80322.0</td>\n",
       "      <td>2007.273449</td>\n",
       "      <td>31.262414</td>\n",
       "      <td>1200.000000</td>\n",
       "      <td>2001.000000</td>\n",
       "      <td>2023.000000</td>\n",
       "      <td>2025.000000</td>\n",
       "      <td>2032.000000</td>\n",
       "    </tr>\n",
       "  </tbody>\n",
       "</table>\n",
       "</div>"
      ],
      "text/plain": [
       "                  count         mean        std          min          25%  \\\n",
       "localization_y  93379.0    51.915886   1.434228    49.276875    50.751550   \n",
       "localization_x  93379.0    19.085460   1.827806    14.224291    17.956817   \n",
       "area            93331.0    57.118243  25.707333     1.000000    41.090000   \n",
       "build_yr        80322.0  2007.273449  31.262414  1200.000000  2001.000000   \n",
       "\n",
       "                        50%          75%          max  \n",
       "localization_y    52.128627    52.606460    54.833530  \n",
       "localization_x    19.092900    20.880895    23.892034  \n",
       "area              52.200000    66.000000   500.000000  \n",
       "build_yr        2023.000000  2025.000000  2032.000000  "
      ]
     },
     "execution_count": 8,
     "metadata": {},
     "output_type": "execute_result"
    }
   ],
   "source": [
    "frame.describe().T"
   ]
  },
  {
   "cell_type": "code",
   "execution_count": 9,
   "metadata": {},
   "outputs": [
    {
     "data": {
      "text/plain": [
       "True"
      ]
     },
     "execution_count": 9,
     "metadata": {},
     "output_type": "execute_result"
    }
   ],
   "source": [
    "len(frame) == len(frame.drop_duplicates())"
   ]
  },
  {
   "cell_type": "code",
   "execution_count": 10,
   "metadata": {},
   "outputs": [
    {
     "data": {
      "text/plain": [
       "offer_type\n",
       "sprzedaz    0.999807\n",
       "wynajem     0.000193\n",
       "Name: proportion, dtype: float64"
      ]
     },
     "execution_count": 10,
     "metadata": {},
     "output_type": "execute_result"
    }
   ],
   "source": [
    "frame.offer_type.value_counts(normalize=True)"
   ]
  },
  {
   "cell_type": "code",
   "execution_count": 11,
   "metadata": {},
   "outputs": [],
   "source": [
    "frame.drop(frame[frame.offer_type=='wynajem'].index, inplace=True)"
   ]
  },
  {
   "cell_type": "markdown",
   "metadata": {},
   "source": [
    "## renaming market type"
   ]
  },
  {
   "cell_type": "code",
   "execution_count": 12,
   "metadata": {},
   "outputs": [
    {
     "data": {
      "text/plain": [
       "market\n",
       "pierwotny    46855\n",
       "wtorny       46458\n",
       "Name: count, dtype: int64"
      ]
     },
     "execution_count": 12,
     "metadata": {},
     "output_type": "execute_result"
    }
   ],
   "source": [
    "frame.market.value_counts()"
   ]
  },
  {
   "cell_type": "code",
   "execution_count": 13,
   "metadata": {},
   "outputs": [],
   "source": [
    "frame.market.replace(['pierwotny','wtorny'], ['primary_market','aftermarket'], inplace=True)"
   ]
  },
  {
   "cell_type": "markdown",
   "metadata": {},
   "source": [
    "## removing foreign locations"
   ]
  },
  {
   "cell_type": "code",
   "execution_count": 14,
   "metadata": {},
   "outputs": [
    {
     "data": {
      "text/plain": [
       "voivodeship\n",
       "mazowieckie            19749\n",
       "pomorskie              11721\n",
       "małopolskie            11586\n",
       "dolnośląskie           10944\n",
       "śląskie                 9860\n",
       "wielkopolskie           6619\n",
       "łódzkie                 5374\n",
       "kujawsko-pomorskie      4319\n",
       "zachodniopomorskie      3992\n",
       "warmińsko-mazurskie     2096\n",
       "lubelskie               1951\n",
       "świętokrzyskie          1448\n",
       "podkarpackie            1430\n",
       "lubuskie                 798\n",
       "opolskie                 713\n",
       "podlaskie                565\n",
       "zagranica                133\n",
       "Name: count, dtype: int64"
      ]
     },
     "execution_count": 14,
     "metadata": {},
     "output_type": "execute_result"
    }
   ],
   "source": [
    "frame.voivodeship.value_counts()"
   ]
  },
  {
   "cell_type": "code",
   "execution_count": 15,
   "metadata": {
    "scrolled": true
   },
   "outputs": [
    {
     "data": {
      "text/plain": [
       "0.0014240438562679344"
      ]
     },
     "execution_count": 15,
     "metadata": {},
     "output_type": "execute_result"
    }
   ],
   "source": [
    "len(frame[frame.voivodeship=='zagranica'])/len(frame)"
   ]
  },
  {
   "cell_type": "code",
   "execution_count": 16,
   "metadata": {},
   "outputs": [],
   "source": [
    "frame.drop(frame[frame.voivodeship=='zagranica'].index, inplace=True)"
   ]
  },
  {
   "cell_type": "code",
   "execution_count": 17,
   "metadata": {},
   "outputs": [
    {
     "data": {
      "text/plain": [
       "(93263, 14)"
      ]
     },
     "execution_count": 17,
     "metadata": {},
     "output_type": "execute_result"
    }
   ],
   "source": [
    "frame.shape"
   ]
  },
  {
   "cell_type": "markdown",
   "metadata": {},
   "source": [
    "## removing data with no price"
   ]
  },
  {
   "cell_type": "code",
   "execution_count": 18,
   "metadata": {},
   "outputs": [
    {
     "data": {
      "text/plain": [
       "0.2478045956059745"
      ]
     },
     "execution_count": 18,
     "metadata": {},
     "output_type": "execute_result"
    }
   ],
   "source": [
    "frame.price.value_counts(normalize=True).loc['Zapytajoce']"
   ]
  },
  {
   "cell_type": "code",
   "execution_count": 19,
   "metadata": {},
   "outputs": [],
   "source": [
    "frame.drop(index=frame[frame.price=='Zapytajoce'].index, axis=0, inplace=True)"
   ]
  },
  {
   "cell_type": "code",
   "execution_count": 20,
   "metadata": {},
   "outputs": [],
   "source": [
    "frame.price = frame.price.astype('float')"
   ]
  },
  {
   "cell_type": "code",
   "execution_count": 21,
   "metadata": {},
   "outputs": [
    {
     "data": {
      "text/plain": [
       "(70152, 14)"
      ]
     },
     "execution_count": 21,
     "metadata": {},
     "output_type": "execute_result"
    }
   ],
   "source": [
    "frame.shape"
   ]
  },
  {
   "cell_type": "markdown",
   "metadata": {},
   "source": [
    "## checking the amount of missing data and removing rows with small amount of missing data per column"
   ]
  },
  {
   "cell_type": "code",
   "execution_count": 22,
   "metadata": {},
   "outputs": [
    {
     "data": {
      "text/html": [
       "<div>\n",
       "<style scoped>\n",
       "    .dataframe tbody tr th:only-of-type {\n",
       "        vertical-align: middle;\n",
       "    }\n",
       "\n",
       "    .dataframe tbody tr th {\n",
       "        vertical-align: top;\n",
       "    }\n",
       "\n",
       "    .dataframe thead th {\n",
       "        text-align: right;\n",
       "    }\n",
       "</style>\n",
       "<table border=\"1\" class=\"dataframe\">\n",
       "  <thead>\n",
       "    <tr style=\"text-align: right;\">\n",
       "      <th></th>\n",
       "      <th>count</th>\n",
       "      <th>mean</th>\n",
       "      <th>std</th>\n",
       "      <th>min</th>\n",
       "      <th>25%</th>\n",
       "      <th>50%</th>\n",
       "      <th>75%</th>\n",
       "      <th>max</th>\n",
       "      <th>%missing</th>\n",
       "    </tr>\n",
       "  </thead>\n",
       "  <tbody>\n",
       "    <tr>\n",
       "      <th>localization_y</th>\n",
       "      <td>70118.0</td>\n",
       "      <td>51.926604</td>\n",
       "      <td>1.462897</td>\n",
       "      <td>49.276875</td>\n",
       "      <td>50.589362</td>\n",
       "      <td>52.148850</td>\n",
       "      <td>53.083211</td>\n",
       "      <td>5.483353e+01</td>\n",
       "      <td>0.048466</td>\n",
       "    </tr>\n",
       "    <tr>\n",
       "      <th>localization_x</th>\n",
       "      <td>70118.0</td>\n",
       "      <td>19.031041</td>\n",
       "      <td>1.849191</td>\n",
       "      <td>14.224291</td>\n",
       "      <td>17.951108</td>\n",
       "      <td>19.041398</td>\n",
       "      <td>20.652902</td>\n",
       "      <td>2.389203e+01</td>\n",
       "      <td>0.048466</td>\n",
       "    </tr>\n",
       "    <tr>\n",
       "      <th>area</th>\n",
       "      <td>70069.0</td>\n",
       "      <td>58.651413</td>\n",
       "      <td>27.150834</td>\n",
       "      <td>1.000000</td>\n",
       "      <td>42.200000</td>\n",
       "      <td>53.160000</td>\n",
       "      <td>67.580000</td>\n",
       "      <td>5.000000e+02</td>\n",
       "      <td>0.118315</td>\n",
       "    </tr>\n",
       "    <tr>\n",
       "      <th>build_yr</th>\n",
       "      <td>57200.0</td>\n",
       "      <td>2000.196416</td>\n",
       "      <td>34.606111</td>\n",
       "      <td>1200.000000</td>\n",
       "      <td>1980.000000</td>\n",
       "      <td>2018.000000</td>\n",
       "      <td>2024.000000</td>\n",
       "      <td>2.032000e+03</td>\n",
       "      <td>18.462767</td>\n",
       "    </tr>\n",
       "    <tr>\n",
       "      <th>price</th>\n",
       "      <td>70152.0</td>\n",
       "      <td>717293.454328</td>\n",
       "      <td>577870.897179</td>\n",
       "      <td>0.000000</td>\n",
       "      <td>419000.000000</td>\n",
       "      <td>599900.000000</td>\n",
       "      <td>839000.000000</td>\n",
       "      <td>2.500000e+07</td>\n",
       "      <td>0.000000</td>\n",
       "    </tr>\n",
       "  </tbody>\n",
       "</table>\n",
       "</div>"
      ],
      "text/plain": [
       "                  count           mean            std          min  \\\n",
       "localization_y  70118.0      51.926604       1.462897    49.276875   \n",
       "localization_x  70118.0      19.031041       1.849191    14.224291   \n",
       "area            70069.0      58.651413      27.150834     1.000000   \n",
       "build_yr        57200.0    2000.196416      34.606111  1200.000000   \n",
       "price           70152.0  717293.454328  577870.897179     0.000000   \n",
       "\n",
       "                          25%            50%            75%           max  \\\n",
       "localization_y      50.589362      52.148850      53.083211  5.483353e+01   \n",
       "localization_x      17.951108      19.041398      20.652902  2.389203e+01   \n",
       "area                42.200000      53.160000      67.580000  5.000000e+02   \n",
       "build_yr          1980.000000    2018.000000    2024.000000  2.032000e+03   \n",
       "price           419000.000000  599900.000000  839000.000000  2.500000e+07   \n",
       "\n",
       "                 %missing  \n",
       "localization_y   0.048466  \n",
       "localization_x   0.048466  \n",
       "area             0.118315  \n",
       "build_yr        18.462767  \n",
       "price            0.000000  "
      ]
     },
     "execution_count": 22,
     "metadata": {},
     "output_type": "execute_result"
    }
   ],
   "source": [
    "num_desc = frame.describe().T\n",
    "num_desc['%missing'] = (1-num_desc['count']/len(frame))*100\n",
    "num_desc"
   ]
  },
  {
   "cell_type": "code",
   "execution_count": 23,
   "metadata": {
    "scrolled": true
   },
   "outputs": [
    {
     "data": {
      "text/html": [
       "<div>\n",
       "<style scoped>\n",
       "    .dataframe tbody tr th:only-of-type {\n",
       "        vertical-align: middle;\n",
       "    }\n",
       "\n",
       "    .dataframe tbody tr th {\n",
       "        vertical-align: top;\n",
       "    }\n",
       "\n",
       "    .dataframe thead th {\n",
       "        text-align: right;\n",
       "    }\n",
       "</style>\n",
       "<table border=\"1\" class=\"dataframe\">\n",
       "  <thead>\n",
       "    <tr style=\"text-align: right;\">\n",
       "      <th></th>\n",
       "      <th>count</th>\n",
       "      <th>unique</th>\n",
       "      <th>top</th>\n",
       "      <th>freq</th>\n",
       "      <th>%missing</th>\n",
       "    </tr>\n",
       "  </thead>\n",
       "  <tbody>\n",
       "    <tr>\n",
       "      <th>city</th>\n",
       "      <td>70056</td>\n",
       "      <td>1060</td>\n",
       "      <td>Warszawa</td>\n",
       "      <td>11181</td>\n",
       "      <td>0.136846</td>\n",
       "    </tr>\n",
       "    <tr>\n",
       "      <th>district</th>\n",
       "      <td>45040</td>\n",
       "      <td>598</td>\n",
       "      <td>Śródmieście</td>\n",
       "      <td>4511</td>\n",
       "      <td>35.796556</td>\n",
       "    </tr>\n",
       "    <tr>\n",
       "      <th>voivodeship</th>\n",
       "      <td>70056</td>\n",
       "      <td>16</td>\n",
       "      <td>mazowieckie</td>\n",
       "      <td>13794</td>\n",
       "      <td>0.136846</td>\n",
       "    </tr>\n",
       "    <tr>\n",
       "      <th>market</th>\n",
       "      <td>70069</td>\n",
       "      <td>2</td>\n",
       "      <td>aftermarket</td>\n",
       "      <td>46331</td>\n",
       "      <td>0.118315</td>\n",
       "    </tr>\n",
       "    <tr>\n",
       "      <th>offer_type</th>\n",
       "      <td>70152</td>\n",
       "      <td>1</td>\n",
       "      <td>sprzedaz</td>\n",
       "      <td>70152</td>\n",
       "      <td>0.0</td>\n",
       "    </tr>\n",
       "    <tr>\n",
       "      <th>rooms</th>\n",
       "      <td>69850</td>\n",
       "      <td>29</td>\n",
       "      <td>2</td>\n",
       "      <td>27366</td>\n",
       "      <td>0.430494</td>\n",
       "    </tr>\n",
       "    <tr>\n",
       "      <th>floor</th>\n",
       "      <td>69292</td>\n",
       "      <td>40</td>\n",
       "      <td>1</td>\n",
       "      <td>16411</td>\n",
       "      <td>1.225909</td>\n",
       "    </tr>\n",
       "    <tr>\n",
       "      <th>floors</th>\n",
       "      <td>64971</td>\n",
       "      <td>41</td>\n",
       "      <td>4</td>\n",
       "      <td>17938</td>\n",
       "      <td>7.385392</td>\n",
       "    </tr>\n",
       "    <tr>\n",
       "      <th>url</th>\n",
       "      <td>70152</td>\n",
       "      <td>70152</td>\n",
       "      <td>https://gratka.pl/nieruchomosci/mieszkanie-poznan-strzeszyn-literacka/ob/29748901</td>\n",
       "      <td>1</td>\n",
       "      <td>0.0</td>\n",
       "    </tr>\n",
       "  </tbody>\n",
       "</table>\n",
       "</div>"
      ],
      "text/plain": [
       "             count unique  \\\n",
       "city         70056   1060   \n",
       "district     45040    598   \n",
       "voivodeship  70056     16   \n",
       "market       70069      2   \n",
       "offer_type   70152      1   \n",
       "rooms        69850     29   \n",
       "floor        69292     40   \n",
       "floors       64971     41   \n",
       "url          70152  70152   \n",
       "\n",
       "                                                                                           top  \\\n",
       "city                                                                                  Warszawa   \n",
       "district                                                                           Śródmieście   \n",
       "voivodeship                                                                        mazowieckie   \n",
       "market                                                                             aftermarket   \n",
       "offer_type                                                                            sprzedaz   \n",
       "rooms                                                                                        2   \n",
       "floor                                                                                        1   \n",
       "floors                                                                                       4   \n",
       "url          https://gratka.pl/nieruchomosci/mieszkanie-poznan-strzeszyn-literacka/ob/29748901   \n",
       "\n",
       "              freq   %missing  \n",
       "city         11181   0.136846  \n",
       "district      4511  35.796556  \n",
       "voivodeship  13794   0.136846  \n",
       "market       46331   0.118315  \n",
       "offer_type   70152        0.0  \n",
       "rooms        27366   0.430494  \n",
       "floor        16411   1.225909  \n",
       "floors       17938   7.385392  \n",
       "url              1        0.0  "
      ]
     },
     "execution_count": 23,
     "metadata": {},
     "output_type": "execute_result"
    }
   ],
   "source": [
    "obj_desc = frame.describe(include=['object']).T\n",
    "obj_desc['%missing'] = (1-obj_desc['count']/len(frame))*100\n",
    "obj_desc"
   ]
  },
  {
   "cell_type": "code",
   "execution_count": 24,
   "metadata": {},
   "outputs": [],
   "source": [
    "frame.dropna(subset=['price','localization_y','localization_x','area'], axis=0, inplace=True)"
   ]
  },
  {
   "cell_type": "code",
   "execution_count": 25,
   "metadata": {},
   "outputs": [],
   "source": [
    "frame.dropna(subset=['market','offer_type','rooms','floor'], axis=0, inplace=True)"
   ]
  },
  {
   "cell_type": "code",
   "execution_count": 26,
   "metadata": {},
   "outputs": [
    {
     "data": {
      "text/plain": [
       "(69265, 14)"
      ]
     },
     "execution_count": 26,
     "metadata": {},
     "output_type": "execute_result"
    }
   ],
   "source": [
    "frame.shape"
   ]
  },
  {
   "cell_type": "markdown",
   "metadata": {},
   "source": [
    "## dealing with missing data for 'floors', 'district', 'build_yr'"
   ]
  },
  {
   "cell_type": "code",
   "execution_count": 27,
   "metadata": {},
   "outputs": [],
   "source": [
    "frame.dropna(subset=['build_yr'], axis=0, inplace=True)"
   ]
  },
  {
   "cell_type": "code",
   "execution_count": 28,
   "metadata": {},
   "outputs": [
    {
     "data": {
      "text/plain": [
       "0.050599693548671165"
      ]
     },
     "execution_count": 28,
     "metadata": {},
     "output_type": "execute_result"
    }
   ],
   "source": [
    "len(frame[pd.isnull(frame.floors)])/len(frame)"
   ]
  },
  {
   "cell_type": "code",
   "execution_count": 29,
   "metadata": {},
   "outputs": [],
   "source": [
    "frame.dropna(subset=['floors'], axis=0, inplace=True)"
   ]
  },
  {
   "cell_type": "code",
   "execution_count": 30,
   "metadata": {},
   "outputs": [],
   "source": [
    "# district will be left with missing data"
   ]
  },
  {
   "cell_type": "code",
   "execution_count": 31,
   "metadata": {},
   "outputs": [
    {
     "data": {
      "text/plain": [
       "(53906, 14)"
      ]
     },
     "execution_count": 31,
     "metadata": {},
     "output_type": "execute_result"
    }
   ],
   "source": [
    "frame.shape"
   ]
  },
  {
   "cell_type": "markdown",
   "metadata": {},
   "source": [
    "## checking categorical data"
   ]
  },
  {
   "cell_type": "code",
   "execution_count": 32,
   "metadata": {},
   "outputs": [
    {
     "data": {
      "image/png": "[encoded data removed]",
      "text/plain": [
       "<Figure size 1500x1000 with 6 Axes>"
      ]
     },
     "metadata": {},
     "output_type": "display_data"
    }
   ],
   "source": [
    "fig, axList = plt.subplots(nrows=2, ncols=3)\n",
    "axList = axList.flatten()\n",
    "fig.set_size_inches(15,10)\n",
    "\n",
    "catagorical_columns = [x for x in frame.columns if frame[x].dtype == 'object' and x not in ['city','district','url']]\n",
    "\n",
    "for ax, column in zip(axList, catagorical_columns):\n",
    "    frame[column].value_counts().plot(kind='barh', ax=ax, ylabel=column)\n",
    "    \n",
    "plt.tight_layout()"
   ]
  },
  {
   "cell_type": "code",
   "execution_count": 33,
   "metadata": {},
   "outputs": [],
   "source": [
    "frame.rooms = frame.rooms.astype('int')"
   ]
  },
  {
   "cell_type": "code",
   "execution_count": 34,
   "metadata": {},
   "outputs": [
    {
     "data": {
      "text/plain": [
       "0.0007234816161466256"
      ]
     },
     "execution_count": 34,
     "metadata": {},
     "output_type": "execute_result"
    }
   ],
   "source": [
    "len(frame[frame.rooms>8])/len(frame)"
   ]
  },
  {
   "cell_type": "code",
   "execution_count": 35,
   "metadata": {},
   "outputs": [],
   "source": [
    "frame.floor.replace('parter', '0', inplace=True)\n",
    "frame.floor = frame.floor.astype('int')"
   ]
  },
  {
   "cell_type": "code",
   "execution_count": 36,
   "metadata": {},
   "outputs": [
    {
     "data": {
      "text/plain": [
       "0.003543204838051423"
      ]
     },
     "execution_count": 36,
     "metadata": {},
     "output_type": "execute_result"
    }
   ],
   "source": [
    "len(frame[frame.floor>15])/len(frame)"
   ]
  },
  {
   "cell_type": "code",
   "execution_count": 37,
   "metadata": {},
   "outputs": [],
   "source": [
    "frame.floors = frame.floors.astype('int')"
   ]
  },
  {
   "cell_type": "code",
   "execution_count": 38,
   "metadata": {},
   "outputs": [
    {
     "data": {
      "text/plain": [
       "0.017103847438133046"
      ]
     },
     "execution_count": 38,
     "metadata": {},
     "output_type": "execute_result"
    }
   ],
   "source": [
    "len(frame[frame.floors>15])/len(frame)"
   ]
  },
  {
   "cell_type": "code",
   "execution_count": 39,
   "metadata": {},
   "outputs": [
    {
     "name": "stdout",
     "output_type": "stream",
     "text": [
      "<class 'pandas.core.frame.DataFrame'>\n",
      "Index: 53906 entries, 745542 to 838953\n",
      "Data columns (total 14 columns):\n",
      " #   Column          Non-Null Count  Dtype  \n",
      "---  ------          --------------  -----  \n",
      " 0   city            53903 non-null  object \n",
      " 1   district        36743 non-null  object \n",
      " 2   voivodeship     53903 non-null  object \n",
      " 3   localization_y  53906 non-null  float64\n",
      " 4   localization_x  53906 non-null  float64\n",
      " 5   market          53906 non-null  object \n",
      " 6   offer_type      53906 non-null  object \n",
      " 7   area            53906 non-null  float64\n",
      " 8   rooms           53906 non-null  int64  \n",
      " 9   floor           53906 non-null  int64  \n",
      " 10  floors          53906 non-null  int64  \n",
      " 11  build_yr        53906 non-null  float64\n",
      " 12  price           53906 non-null  float64\n",
      " 13  url             53906 non-null  object \n",
      "dtypes: float64(5), int64(3), object(6)\n",
      "memory usage: 6.2+ MB\n"
     ]
    }
   ],
   "source": [
    "frame.info()"
   ]
  },
  {
   "cell_type": "code",
   "execution_count": 40,
   "metadata": {},
   "outputs": [
    {
     "data": {
      "text/plain": [
       "(53906, 14)"
      ]
     },
     "execution_count": 40,
     "metadata": {},
     "output_type": "execute_result"
    }
   ],
   "source": [
    "frame.shape"
   ]
  },
  {
   "cell_type": "markdown",
   "metadata": {},
   "source": [
    "## adding custom column"
   ]
  },
  {
   "cell_type": "code",
   "execution_count": 41,
   "metadata": {},
   "outputs": [],
   "source": [
    "frame['price_of_sqm'] = frame.price / frame.area"
   ]
  },
  {
   "cell_type": "markdown",
   "metadata": {},
   "source": [
    "## dealing with outliers"
   ]
  },
  {
   "cell_type": "code",
   "execution_count": 42,
   "metadata": {},
   "outputs": [
    {
     "data": {
      "text/plain": [
       "{'area': (22.83, 154.20749999999987),\n",
       " 'build_yr': (1900.0, 2026.0),\n",
       " 'price': (185000.0, 2999000.0),\n",
       " 'price_of_sqm': (3530.621917013251, 30650.944821267796)}"
      ]
     },
     "execution_count": 42,
     "metadata": {},
     "output_type": "execute_result"
    }
   ],
   "source": [
    "# checking quantile values\n",
    "\n",
    "outliers_dict = dict()\n",
    "\n",
    "for column in ['area','build_yr','price','price_of_sqm']:\n",
    "    upper_quartile = np.nanpercentile(frame[column], 99.0)\n",
    "    lower_quartile = np.nanpercentile(frame[column], 1.0)\n",
    "#     iqr = upper_quartile - lower_quartile\n",
    "#     outliers_dict[column] = (lower_quartile-1.5*iqr, upper_quartile+1.5*iqr)\n",
    "    outliers_dict[column] = (lower_quartile, upper_quartile)\n",
    "\n",
    "outliers_dict"
   ]
  },
  {
   "cell_type": "code",
   "execution_count": 43,
   "metadata": {},
   "outputs": [
    {
     "data": {
      "text/html": [
       "<div>\n",
       "<style scoped>\n",
       "    .dataframe tbody tr th:only-of-type {\n",
       "        vertical-align: middle;\n",
       "    }\n",
       "\n",
       "    .dataframe tbody tr th {\n",
       "        vertical-align: top;\n",
       "    }\n",
       "\n",
       "    .dataframe thead th {\n",
       "        text-align: right;\n",
       "    }\n",
       "</style>\n",
       "<table border=\"1\" class=\"dataframe\">\n",
       "  <thead>\n",
       "    <tr style=\"text-align: right;\">\n",
       "      <th></th>\n",
       "      <th>count</th>\n",
       "      <th>mean</th>\n",
       "      <th>std</th>\n",
       "      <th>min</th>\n",
       "      <th>25%</th>\n",
       "      <th>50%</th>\n",
       "      <th>75%</th>\n",
       "      <th>max</th>\n",
       "    </tr>\n",
       "  </thead>\n",
       "  <tbody>\n",
       "    <tr>\n",
       "      <th>area</th>\n",
       "      <td>53906.0</td>\n",
       "      <td>58.932445</td>\n",
       "      <td>26.987661</td>\n",
       "      <td>9.030000</td>\n",
       "      <td>42.38</td>\n",
       "      <td>53.600000</td>\n",
       "      <td>68.000000</td>\n",
       "      <td>490.1</td>\n",
       "    </tr>\n",
       "    <tr>\n",
       "      <th>build_yr</th>\n",
       "      <td>53906.0</td>\n",
       "      <td>1999.439135</td>\n",
       "      <td>34.684420</td>\n",
       "      <td>1200.000000</td>\n",
       "      <td>1980.00</td>\n",
       "      <td>2017.000000</td>\n",
       "      <td>2024.000000</td>\n",
       "      <td>2032.0</td>\n",
       "    </tr>\n",
       "    <tr>\n",
       "      <th>price</th>\n",
       "      <td>53906.0</td>\n",
       "      <td>770406.766093</td>\n",
       "      <td>571877.926251</td>\n",
       "      <td>4540.000000</td>\n",
       "      <td>465000.00</td>\n",
       "      <td>649000.000000</td>\n",
       "      <td>880933.750000</td>\n",
       "      <td>16500000.0</td>\n",
       "    </tr>\n",
       "    <tr>\n",
       "      <th>price_of_sqm</th>\n",
       "      <td>53906.0</td>\n",
       "      <td>13265.091741</td>\n",
       "      <td>6046.892953</td>\n",
       "      <td>103.181818</td>\n",
       "      <td>9000.00</td>\n",
       "      <td>12390.972221</td>\n",
       "      <td>16509.485655</td>\n",
       "      <td>279960.0</td>\n",
       "    </tr>\n",
       "  </tbody>\n",
       "</table>\n",
       "</div>"
      ],
      "text/plain": [
       "                count           mean            std          min        25%  \\\n",
       "area          53906.0      58.932445      26.987661     9.030000      42.38   \n",
       "build_yr      53906.0    1999.439135      34.684420  1200.000000    1980.00   \n",
       "price         53906.0  770406.766093  571877.926251  4540.000000  465000.00   \n",
       "price_of_sqm  53906.0   13265.091741    6046.892953   103.181818    9000.00   \n",
       "\n",
       "                        50%            75%         max  \n",
       "area              53.600000      68.000000       490.1  \n",
       "build_yr        2017.000000    2024.000000      2032.0  \n",
       "price         649000.000000  880933.750000  16500000.0  \n",
       "price_of_sqm   12390.972221   16509.485655    279960.0  "
      ]
     },
     "execution_count": 43,
     "metadata": {},
     "output_type": "execute_result"
    }
   ],
   "source": [
    "frame[['area','build_yr','price','price_of_sqm']].describe().T"
   ]
  },
  {
   "cell_type": "code",
   "execution_count": 44,
   "metadata": {},
   "outputs": [],
   "source": [
    "outliers_dict['build_yr'] = (1900.0, 2024.0)"
   ]
  },
  {
   "cell_type": "code",
   "execution_count": 45,
   "metadata": {},
   "outputs": [],
   "source": [
    "for key in outliers_dict.keys():\n",
    "    frame.drop(frame[frame[key] < outliers_dict[key][0]].index, inplace = True)\n",
    "    frame.drop(frame[frame[key] > outliers_dict[key][1]].index, inplace = True)"
   ]
  },
  {
   "cell_type": "code",
   "execution_count": 46,
   "metadata": {
    "scrolled": true
   },
   "outputs": [
    {
     "data": {
      "text/html": [
       "<div>\n",
       "<style scoped>\n",
       "    .dataframe tbody tr th:only-of-type {\n",
       "        vertical-align: middle;\n",
       "    }\n",
       "\n",
       "    .dataframe tbody tr th {\n",
       "        vertical-align: top;\n",
       "    }\n",
       "\n",
       "    .dataframe thead th {\n",
       "        text-align: right;\n",
       "    }\n",
       "</style>\n",
       "<table border=\"1\" class=\"dataframe\">\n",
       "  <thead>\n",
       "    <tr style=\"text-align: right;\">\n",
       "      <th></th>\n",
       "      <th>count</th>\n",
       "      <th>mean</th>\n",
       "      <th>std</th>\n",
       "      <th>min</th>\n",
       "      <th>25%</th>\n",
       "      <th>50%</th>\n",
       "      <th>75%</th>\n",
       "      <th>max</th>\n",
       "    </tr>\n",
       "  </thead>\n",
       "  <tbody>\n",
       "    <tr>\n",
       "      <th>area</th>\n",
       "      <td>42142.0</td>\n",
       "      <td>58.286025</td>\n",
       "      <td>21.799758</td>\n",
       "      <td>22.86000</td>\n",
       "      <td>43.500000</td>\n",
       "      <td>54.000000</td>\n",
       "      <td>67.91</td>\n",
       "      <td>1.541600e+02</td>\n",
       "    </tr>\n",
       "    <tr>\n",
       "      <th>build_yr</th>\n",
       "      <td>42142.0</td>\n",
       "      <td>1996.239690</td>\n",
       "      <td>31.338932</td>\n",
       "      <td>1900.00000</td>\n",
       "      <td>1975.000000</td>\n",
       "      <td>2010.000000</td>\n",
       "      <td>2023.00</td>\n",
       "      <td>2.024000e+03</td>\n",
       "    </tr>\n",
       "    <tr>\n",
       "      <th>price</th>\n",
       "      <td>42142.0</td>\n",
       "      <td>741941.450121</td>\n",
       "      <td>405981.334358</td>\n",
       "      <td>185000.00000</td>\n",
       "      <td>474000.000000</td>\n",
       "      <td>654000.000000</td>\n",
       "      <td>885000.00</td>\n",
       "      <td>2.999000e+06</td>\n",
       "    </tr>\n",
       "    <tr>\n",
       "      <th>price_of_sqm</th>\n",
       "      <td>42142.0</td>\n",
       "      <td>13046.402908</td>\n",
       "      <td>5337.826790</td>\n",
       "      <td>3532.00883</td>\n",
       "      <td>8882.078919</td>\n",
       "      <td>12315.068493</td>\n",
       "      <td>16500.00</td>\n",
       "      <td>3.063209e+04</td>\n",
       "    </tr>\n",
       "  </tbody>\n",
       "</table>\n",
       "</div>"
      ],
      "text/plain": [
       "                count           mean            std           min  \\\n",
       "area          42142.0      58.286025      21.799758      22.86000   \n",
       "build_yr      42142.0    1996.239690      31.338932    1900.00000   \n",
       "price         42142.0  741941.450121  405981.334358  185000.00000   \n",
       "price_of_sqm  42142.0   13046.402908    5337.826790    3532.00883   \n",
       "\n",
       "                        25%            50%        75%           max  \n",
       "area              43.500000      54.000000      67.91  1.541600e+02  \n",
       "build_yr        1975.000000    2010.000000    2023.00  2.024000e+03  \n",
       "price         474000.000000  654000.000000  885000.00  2.999000e+06  \n",
       "price_of_sqm    8882.078919   12315.068493   16500.00  3.063209e+04  "
      ]
     },
     "execution_count": 46,
     "metadata": {},
     "output_type": "execute_result"
    }
   ],
   "source": [
    "frame[['area','build_yr','price','price_of_sqm']].describe().T"
   ]
  },
  {
   "cell_type": "code",
   "execution_count": 47,
   "metadata": {
    "scrolled": true
   },
   "outputs": [
    {
     "data": {
      "text/plain": [
       "(120, 668)"
      ]
     },
     "execution_count": 47,
     "metadata": {},
     "output_type": "execute_result"
    }
   ],
   "source": [
    "len(frame[frame.floor>15]), len(frame[frame.floors>15])"
   ]
  },
  {
   "cell_type": "code",
   "execution_count": 48,
   "metadata": {},
   "outputs": [],
   "source": [
    "frame.drop(frame[frame.floor>15].index, axis=0, inplace=True)\n",
    "frame.drop(frame[frame.floors>15].index, axis=0, inplace=True)"
   ]
  },
  {
   "cell_type": "code",
   "execution_count": 49,
   "metadata": {},
   "outputs": [
    {
     "data": {
      "text/plain": [
       "50"
      ]
     },
     "execution_count": 49,
     "metadata": {},
     "output_type": "execute_result"
    }
   ],
   "source": [
    "len(frame[frame.rooms>6])"
   ]
  },
  {
   "cell_type": "code",
   "execution_count": 50,
   "metadata": {},
   "outputs": [],
   "source": [
    "frame.drop(frame[frame.rooms>6].index, axis=0, inplace=True)"
   ]
  },
  {
   "cell_type": "code",
   "execution_count": 51,
   "metadata": {},
   "outputs": [
    {
     "data": {
      "text/plain": [
       "(41424, 15)"
      ]
     },
     "execution_count": 51,
     "metadata": {},
     "output_type": "execute_result"
    }
   ],
   "source": [
    "frame.shape"
   ]
  },
  {
   "cell_type": "markdown",
   "metadata": {},
   "source": [
    "## dealing with outliers in localization"
   ]
  },
  {
   "cell_type": "code",
   "execution_count": 52,
   "metadata": {},
   "outputs": [
    {
     "data": {
      "text/plain": [
       "(14.22429085, 23.6725471)"
      ]
     },
     "execution_count": 52,
     "metadata": {},
     "output_type": "execute_result"
    }
   ],
   "source": [
    "frame.localization_x.min(), frame.localization_x.max()"
   ]
  },
  {
   "cell_type": "code",
   "execution_count": 53,
   "metadata": {},
   "outputs": [
    {
     "data": {
      "text/plain": [
       "(49.27687469, 54.83353)"
      ]
     },
     "execution_count": 53,
     "metadata": {},
     "output_type": "execute_result"
    }
   ],
   "source": [
    "frame.localization_y.min(), frame.localization_y.max()"
   ]
  },
  {
   "cell_type": "code",
   "execution_count": 54,
   "metadata": {},
   "outputs": [],
   "source": [
    "outliers_dict_2 = dict()\n",
    "outliers_dict_2['localization_x'] = (14,25)\n",
    "outliers_dict_2['localization_y'] = (48,55)"
   ]
  },
  {
   "cell_type": "code",
   "execution_count": 55,
   "metadata": {},
   "outputs": [],
   "source": [
    "for key in outliers_dict_2.keys():\n",
    "    frame.drop(frame[frame[key] < outliers_dict_2[key][0]].index, inplace = True)\n",
    "    frame.drop(frame[frame[key] > outliers_dict_2[key][1]].index, inplace = True)"
   ]
  },
  {
   "cell_type": "code",
   "execution_count": 56,
   "metadata": {},
   "outputs": [
    {
     "data": {
      "text/plain": [
       "0"
      ]
     },
     "execution_count": 56,
     "metadata": {},
     "output_type": "execute_result"
    }
   ],
   "source": [
    "len(frame[(frame.localization_x%1==0) | (frame.localization_y%1==0)])"
   ]
  },
  {
   "cell_type": "code",
   "execution_count": 57,
   "metadata": {},
   "outputs": [],
   "source": [
    "frame.drop(frame[(frame.localization_x%1==0) | (frame.localization_y%1==0)].index,inplace=True)"
   ]
  },
  {
   "cell_type": "code",
   "execution_count": 58,
   "metadata": {},
   "outputs": [
    {
     "data": {
      "text/plain": [
       "(41424, 15)"
      ]
     },
     "execution_count": 58,
     "metadata": {},
     "output_type": "execute_result"
    }
   ],
   "source": [
    "frame.shape"
   ]
  },
  {
   "cell_type": "markdown",
   "metadata": {},
   "source": [
    "## checking histograms"
   ]
  },
  {
   "cell_type": "code",
   "execution_count": 59,
   "metadata": {},
   "outputs": [
    {
     "data": {
      "image/png": "[encoded data removed]",
      "text/plain": [
       "<Figure size 1500x500 with 10 Axes>"
      ]
     },
     "metadata": {},
     "output_type": "display_data"
    }
   ],
   "source": [
    "fig, axList = plt.subplots(nrows=2, ncols=5)\n",
    "axList = axList.flatten()\n",
    "fig.set_size_inches(15,5)\n",
    "\n",
    "numeric_columns = [x for x in frame.columns if frame[x].dtype in ['float64','int64']]\n",
    "kurtosis_dict = dict(frame[numeric_columns].kurtosis())\n",
    "\n",
    "for ax, column in zip(axList, numeric_columns):\n",
    "    sns.histplot(frame, x=frame[column], ax=ax, bins=25)\n",
    "    ax.title.set_text(f'skew: {round(frame[column].skew(), 1)}, kurtosis: {round(kurtosis_dict[column], 2)}')\n",
    "    \n",
    "plt.tight_layout()"
   ]
  },
  {
   "cell_type": "markdown",
   "metadata": {},
   "source": [
    "## data summary"
   ]
  },
  {
   "cell_type": "code",
   "execution_count": 60,
   "metadata": {},
   "outputs": [
    {
     "data": {
      "text/html": [
       "<div>\n",
       "<style scoped>\n",
       "    .dataframe tbody tr th:only-of-type {\n",
       "        vertical-align: middle;\n",
       "    }\n",
       "\n",
       "    .dataframe tbody tr th {\n",
       "        vertical-align: top;\n",
       "    }\n",
       "\n",
       "    .dataframe thead th {\n",
       "        text-align: right;\n",
       "    }\n",
       "</style>\n",
       "<table border=\"1\" class=\"dataframe\">\n",
       "  <thead>\n",
       "    <tr style=\"text-align: right;\">\n",
       "      <th></th>\n",
       "      <th>count</th>\n",
       "      <th>mean</th>\n",
       "      <th>std</th>\n",
       "      <th>min</th>\n",
       "      <th>25%</th>\n",
       "      <th>50%</th>\n",
       "      <th>75%</th>\n",
       "      <th>max</th>\n",
       "    </tr>\n",
       "  </thead>\n",
       "  <tbody>\n",
       "    <tr>\n",
       "      <th>localization_y</th>\n",
       "      <td>41424.0</td>\n",
       "      <td>52.02</td>\n",
       "      <td>1.46</td>\n",
       "      <td>49.28</td>\n",
       "      <td>50.89</td>\n",
       "      <td>52.19</td>\n",
       "      <td>53.12</td>\n",
       "      <td>54.83</td>\n",
       "    </tr>\n",
       "    <tr>\n",
       "      <th>localization_x</th>\n",
       "      <td>41424.0</td>\n",
       "      <td>19.14</td>\n",
       "      <td>1.92</td>\n",
       "      <td>14.22</td>\n",
       "      <td>18.00</td>\n",
       "      <td>19.42</td>\n",
       "      <td>20.93</td>\n",
       "      <td>23.67</td>\n",
       "    </tr>\n",
       "    <tr>\n",
       "      <th>area</th>\n",
       "      <td>41424.0</td>\n",
       "      <td>58.23</td>\n",
       "      <td>21.70</td>\n",
       "      <td>22.86</td>\n",
       "      <td>43.41</td>\n",
       "      <td>54.00</td>\n",
       "      <td>67.84</td>\n",
       "      <td>154.16</td>\n",
       "    </tr>\n",
       "    <tr>\n",
       "      <th>rooms</th>\n",
       "      <td>41424.0</td>\n",
       "      <td>2.63</td>\n",
       "      <td>0.91</td>\n",
       "      <td>1.00</td>\n",
       "      <td>2.00</td>\n",
       "      <td>3.00</td>\n",
       "      <td>3.00</td>\n",
       "      <td>6.00</td>\n",
       "    </tr>\n",
       "    <tr>\n",
       "      <th>floor</th>\n",
       "      <td>41424.0</td>\n",
       "      <td>2.36</td>\n",
       "      <td>2.20</td>\n",
       "      <td>-1.00</td>\n",
       "      <td>1.00</td>\n",
       "      <td>2.00</td>\n",
       "      <td>3.00</td>\n",
       "      <td>15.00</td>\n",
       "    </tr>\n",
       "    <tr>\n",
       "      <th>floors</th>\n",
       "      <td>41424.0</td>\n",
       "      <td>4.57</td>\n",
       "      <td>2.71</td>\n",
       "      <td>1.00</td>\n",
       "      <td>3.00</td>\n",
       "      <td>4.00</td>\n",
       "      <td>5.00</td>\n",
       "      <td>15.00</td>\n",
       "    </tr>\n",
       "    <tr>\n",
       "      <th>build_yr</th>\n",
       "      <td>41424.0</td>\n",
       "      <td>1996.01</td>\n",
       "      <td>31.43</td>\n",
       "      <td>1900.00</td>\n",
       "      <td>1975.00</td>\n",
       "      <td>2009.00</td>\n",
       "      <td>2023.00</td>\n",
       "      <td>2024.00</td>\n",
       "    </tr>\n",
       "    <tr>\n",
       "      <th>price</th>\n",
       "      <td>41424.0</td>\n",
       "      <td>736516.26</td>\n",
       "      <td>402485.81</td>\n",
       "      <td>185000.00</td>\n",
       "      <td>470000.00</td>\n",
       "      <td>650000.00</td>\n",
       "      <td>877126.75</td>\n",
       "      <td>2999000.00</td>\n",
       "    </tr>\n",
       "    <tr>\n",
       "      <th>price_of_sqm</th>\n",
       "      <td>41424.0</td>\n",
       "      <td>12964.51</td>\n",
       "      <td>5300.04</td>\n",
       "      <td>3532.01</td>\n",
       "      <td>8840.90</td>\n",
       "      <td>12218.17</td>\n",
       "      <td>16379.31</td>\n",
       "      <td>30632.09</td>\n",
       "    </tr>\n",
       "  </tbody>\n",
       "</table>\n",
       "</div>"
      ],
      "text/plain": [
       "                  count       mean        std        min        25%  \\\n",
       "localization_y  41424.0      52.02       1.46      49.28      50.89   \n",
       "localization_x  41424.0      19.14       1.92      14.22      18.00   \n",
       "area            41424.0      58.23      21.70      22.86      43.41   \n",
       "rooms           41424.0       2.63       0.91       1.00       2.00   \n",
       "floor           41424.0       2.36       2.20      -1.00       1.00   \n",
       "floors          41424.0       4.57       2.71       1.00       3.00   \n",
       "build_yr        41424.0    1996.01      31.43    1900.00    1975.00   \n",
       "price           41424.0  736516.26  402485.81  185000.00  470000.00   \n",
       "price_of_sqm    41424.0   12964.51    5300.04    3532.01    8840.90   \n",
       "\n",
       "                      50%        75%         max  \n",
       "localization_y      52.19      53.12       54.83  \n",
       "localization_x      19.42      20.93       23.67  \n",
       "area                54.00      67.84      154.16  \n",
       "rooms                3.00       3.00        6.00  \n",
       "floor                2.00       3.00       15.00  \n",
       "floors               4.00       5.00       15.00  \n",
       "build_yr          2009.00    2023.00     2024.00  \n",
       "price           650000.00  877126.75  2999000.00  \n",
       "price_of_sqm     12218.17   16379.31    30632.09  "
      ]
     },
     "execution_count": 60,
     "metadata": {},
     "output_type": "execute_result"
    }
   ],
   "source": [
    "round(frame.describe().T, 2)"
   ]
  },
  {
   "cell_type": "code",
   "execution_count": 61,
   "metadata": {},
   "outputs": [
    {
     "data": {
      "text/html": [
       "<div>\n",
       "<style scoped>\n",
       "    .dataframe tbody tr th:only-of-type {\n",
       "        vertical-align: middle;\n",
       "    }\n",
       "\n",
       "    .dataframe tbody tr th {\n",
       "        vertical-align: top;\n",
       "    }\n",
       "\n",
       "    .dataframe thead th {\n",
       "        text-align: right;\n",
       "    }\n",
       "</style>\n",
       "<table border=\"1\" class=\"dataframe\">\n",
       "  <thead>\n",
       "    <tr style=\"text-align: right;\">\n",
       "      <th></th>\n",
       "      <th>count</th>\n",
       "      <th>unique</th>\n",
       "      <th>top</th>\n",
       "      <th>freq</th>\n",
       "    </tr>\n",
       "  </thead>\n",
       "  <tbody>\n",
       "    <tr>\n",
       "      <th>city</th>\n",
       "      <td>41421</td>\n",
       "      <td>737</td>\n",
       "      <td>Warszawa</td>\n",
       "      <td>8049</td>\n",
       "    </tr>\n",
       "    <tr>\n",
       "      <th>district</th>\n",
       "      <td>27961</td>\n",
       "      <td>539</td>\n",
       "      <td>Śródmieście</td>\n",
       "      <td>2506</td>\n",
       "    </tr>\n",
       "    <tr>\n",
       "      <th>voivodeship</th>\n",
       "      <td>41421</td>\n",
       "      <td>16</td>\n",
       "      <td>mazowieckie</td>\n",
       "      <td>9806</td>\n",
       "    </tr>\n",
       "    <tr>\n",
       "      <th>market</th>\n",
       "      <td>41424</td>\n",
       "      <td>2</td>\n",
       "      <td>aftermarket</td>\n",
       "      <td>30966</td>\n",
       "    </tr>\n",
       "    <tr>\n",
       "      <th>offer_type</th>\n",
       "      <td>41424</td>\n",
       "      <td>1</td>\n",
       "      <td>sprzedaz</td>\n",
       "      <td>41424</td>\n",
       "    </tr>\n",
       "    <tr>\n",
       "      <th>url</th>\n",
       "      <td>41424</td>\n",
       "      <td>41424</td>\n",
       "      <td>https://gratka.pl/nieruchomosci/mieszkanie-poznan-strzeszyn-literacka/ob/29748901</td>\n",
       "      <td>1</td>\n",
       "    </tr>\n",
       "  </tbody>\n",
       "</table>\n",
       "</div>"
      ],
      "text/plain": [
       "             count unique  \\\n",
       "city         41421    737   \n",
       "district     27961    539   \n",
       "voivodeship  41421     16   \n",
       "market       41424      2   \n",
       "offer_type   41424      1   \n",
       "url          41424  41424   \n",
       "\n",
       "                                                                                           top  \\\n",
       "city                                                                                  Warszawa   \n",
       "district                                                                           Śródmieście   \n",
       "voivodeship                                                                        mazowieckie   \n",
       "market                                                                             aftermarket   \n",
       "offer_type                                                                            sprzedaz   \n",
       "url          https://gratka.pl/nieruchomosci/mieszkanie-poznan-strzeszyn-literacka/ob/29748901   \n",
       "\n",
       "              freq  \n",
       "city          8049  \n",
       "district      2506  \n",
       "voivodeship   9806  \n",
       "market       30966  \n",
       "offer_type   41424  \n",
       "url              1  "
      ]
     },
     "execution_count": 61,
     "metadata": {},
     "output_type": "execute_result"
    }
   ],
   "source": [
    "frame.describe(include=['object']).T"
   ]
  },
  {
   "cell_type": "code",
   "execution_count": 62,
   "metadata": {},
   "outputs": [],
   "source": [
    "frame.reset_index(drop=True, inplace=True)"
   ]
  },
  {
   "cell_type": "code",
   "execution_count": 63,
   "metadata": {},
   "outputs": [
    {
     "name": "stdout",
     "output_type": "stream",
     "text": [
      "<class 'pandas.core.frame.DataFrame'>\n",
      "RangeIndex: 41424 entries, 0 to 41423\n",
      "Data columns (total 15 columns):\n",
      " #   Column          Non-Null Count  Dtype  \n",
      "---  ------          --------------  -----  \n",
      " 0   city            41421 non-null  object \n",
      " 1   district        27961 non-null  object \n",
      " 2   voivodeship     41421 non-null  object \n",
      " 3   localization_y  41424 non-null  float64\n",
      " 4   localization_x  41424 non-null  float64\n",
      " 5   market          41424 non-null  object \n",
      " 6   offer_type      41424 non-null  object \n",
      " 7   area            41424 non-null  float64\n",
      " 8   rooms           41424 non-null  int64  \n",
      " 9   floor           41424 non-null  int64  \n",
      " 10  floors          41424 non-null  int64  \n",
      " 11  build_yr        41424 non-null  float64\n",
      " 12  price           41424 non-null  float64\n",
      " 13  url             41424 non-null  object \n",
      " 14  price_of_sqm    41424 non-null  float64\n",
      "dtypes: float64(6), int64(3), object(6)\n",
      "memory usage: 4.7+ MB\n"
     ]
    }
   ],
   "source": [
    "frame.info()"
   ]
  },
  {
   "cell_type": "markdown",
   "metadata": {},
   "source": [
    "## saving the frame"
   ]
  },
  {
   "cell_type": "code",
   "execution_count": 64,
   "metadata": {},
   "outputs": [],
   "source": [
    "# outfile = open('apartment_data_frame','wb')\n",
    "# pkl.dump(frame, outfile)\n",
    "# outfile.close()"
   ]
  },
  {
   "cell_type": "code",
   "execution_count": null,
   "metadata": {},
   "outputs": [],
   "source": []
  }
 ],
 "metadata": {
  "kernelspec": {
   "display_name": "Python 3",
   "language": "python",
   "name": "python3"
  },
  "language_info": {
   "codemirror_mode": {
    "name": "ipython",
    "version": 3
   },
   "file_extension": ".py",
   "mimetype": "text/x-python",
   "name": "python",
   "nbconvert_exporter": "python",
   "pygments_lexer": "ipython3",
   "version": "3.11.5"
  }
 },
 "nbformat": 4,
 "nbformat_minor": 4
}
