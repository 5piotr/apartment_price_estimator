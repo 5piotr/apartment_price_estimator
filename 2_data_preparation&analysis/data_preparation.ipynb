{
 "cells": [
  {
   "cell_type": "code",
   "execution_count": 1,
   "metadata": {},
   "outputs": [],
   "source": [
    "import pandas as pd\n",
    "import numpy as np\n",
    "import pickle as pkl\n",
    "import seaborn as sns\n",
    "sns.set_theme(palette=sns.color_palette('Set2'))\n",
    "import matplotlib.pyplot as plt"
   ]
  },
  {
   "cell_type": "code",
   "execution_count": 2,
   "metadata": {},
   "outputs": [],
   "source": [
    "pd.options.display.max_columns = 30\n",
    "pd.options.display.max_colwidth = 150"
   ]
  },
  {
   "cell_type": "markdown",
   "metadata": {},
   "source": [
    "## data import"
   ]
  },
  {
   "cell_type": "code",
   "execution_count": 3,
   "metadata": {},
   "outputs": [],
   "source": [
    "frame = pd.read_csv('..//1_web_scraping//apartment_details.csv')"
   ]
  },
  {
   "cell_type": "code",
   "execution_count": 4,
   "metadata": {},
   "outputs": [
    {
     "data": {
      "text/html": [
       "<div>\n",
       "<style scoped>\n",
       "    .dataframe tbody tr th:only-of-type {\n",
       "        vertical-align: middle;\n",
       "    }\n",
       "\n",
       "    .dataframe tbody tr th {\n",
       "        vertical-align: top;\n",
       "    }\n",
       "\n",
       "    .dataframe thead th {\n",
       "        text-align: right;\n",
       "    }\n",
       "</style>\n",
       "<table border=\"1\" class=\"dataframe\">\n",
       "  <thead>\n",
       "    <tr style=\"text-align: right;\">\n",
       "      <th></th>\n",
       "      <th>city</th>\n",
       "      <th>district</th>\n",
       "      <th>voivodeship</th>\n",
       "      <th>localization_y</th>\n",
       "      <th>localization_x</th>\n",
       "      <th>market</th>\n",
       "      <th>offer_type</th>\n",
       "      <th>area</th>\n",
       "      <th>rooms</th>\n",
       "      <th>floor</th>\n",
       "      <th>floors</th>\n",
       "      <th>build_yr</th>\n",
       "      <th>price</th>\n",
       "      <th>url</th>\n",
       "    </tr>\n",
       "  </thead>\n",
       "  <tbody>\n",
       "    <tr>\n",
       "      <th>0</th>\n",
       "      <td>Kołobrzeg</td>\n",
       "      <td>kołobrzeski</td>\n",
       "      <td>zachodniopomorskie</td>\n",
       "      <td>54.192422</td>\n",
       "      <td>15.667552</td>\n",
       "      <td>pierwotny</td>\n",
       "      <td>sprzedaz</td>\n",
       "      <td>22.63</td>\n",
       "      <td>1</td>\n",
       "      <td>2</td>\n",
       "      <td>5</td>\n",
       "      <td>NaN</td>\n",
       "      <td>Zapytajoce</td>\n",
       "      <td>https://gratka.pl/nieruchomosci/nowe-mieszkanie-kolobrzeg-ul-lwowska-11/ob/29285893</td>\n",
       "    </tr>\n",
       "    <tr>\n",
       "      <th>1</th>\n",
       "      <td>Warszawa</td>\n",
       "      <td>Targówek</td>\n",
       "      <td>mazowieckie</td>\n",
       "      <td>52.277560</td>\n",
       "      <td>21.055740</td>\n",
       "      <td>wtorny</td>\n",
       "      <td>sprzedaz</td>\n",
       "      <td>46.00</td>\n",
       "      <td>2</td>\n",
       "      <td>5</td>\n",
       "      <td>10</td>\n",
       "      <td>NaN</td>\n",
       "      <td>575000</td>\n",
       "      <td>https://gratka.pl/nieruchomosci/mieszkanie-warszawa-targowek-ul-szymona-askenazego/ob/32268317</td>\n",
       "    </tr>\n",
       "    <tr>\n",
       "      <th>2</th>\n",
       "      <td>Wrocław</td>\n",
       "      <td>Krzyki</td>\n",
       "      <td>dolnośląskie</td>\n",
       "      <td>51.082940</td>\n",
       "      <td>16.993370</td>\n",
       "      <td>pierwotny</td>\n",
       "      <td>sprzedaz</td>\n",
       "      <td>40.60</td>\n",
       "      <td>2</td>\n",
       "      <td>4</td>\n",
       "      <td>4</td>\n",
       "      <td>NaN</td>\n",
       "      <td>600900</td>\n",
       "      <td>https://gratka.pl/nieruchomosci/nowe-mieszkanie-wroclaw-krzyki/ob/32302519</td>\n",
       "    </tr>\n",
       "    <tr>\n",
       "      <th>3</th>\n",
       "      <td>Ryjewo</td>\n",
       "      <td>kwidzyński</td>\n",
       "      <td>pomorskie</td>\n",
       "      <td>53.845000</td>\n",
       "      <td>18.960800</td>\n",
       "      <td>wtorny</td>\n",
       "      <td>sprzedaz</td>\n",
       "      <td>55.30</td>\n",
       "      <td>2</td>\n",
       "      <td>1</td>\n",
       "      <td>2</td>\n",
       "      <td>NaN</td>\n",
       "      <td>240000</td>\n",
       "      <td>https://gratka.pl/nieruchomosci/mieszkanie-ryjewo/ob/31978159</td>\n",
       "    </tr>\n",
       "    <tr>\n",
       "      <th>4</th>\n",
       "      <td>Bydgoszcz</td>\n",
       "      <td>Kapuściska</td>\n",
       "      <td>kujawsko-pomorskie</td>\n",
       "      <td>53.108500</td>\n",
       "      <td>18.063100</td>\n",
       "      <td>NaN</td>\n",
       "      <td>NaN</td>\n",
       "      <td>56.16</td>\n",
       "      <td>3</td>\n",
       "      <td>parter</td>\n",
       "      <td>5</td>\n",
       "      <td>NaN</td>\n",
       "      <td>486800</td>\n",
       "      <td>https://gratka.pl/nieruchomosci/nowe-mieszkanie-bydgoszcz-kapusciska-ul-sandomierska-36-38/ob/25256041</td>\n",
       "    </tr>\n",
       "  </tbody>\n",
       "</table>\n",
       "</div>"
      ],
      "text/plain": [
       "        city     district         voivodeship  localization_y  localization_x  \\\n",
       "0  Kołobrzeg  kołobrzeski  zachodniopomorskie       54.192422       15.667552   \n",
       "1   Warszawa     Targówek         mazowieckie       52.277560       21.055740   \n",
       "2    Wrocław       Krzyki        dolnośląskie       51.082940       16.993370   \n",
       "3     Ryjewo   kwidzyński           pomorskie       53.845000       18.960800   \n",
       "4  Bydgoszcz   Kapuściska  kujawsko-pomorskie       53.108500       18.063100   \n",
       "\n",
       "      market offer_type   area rooms   floor floors  build_yr       price  \\\n",
       "0  pierwotny   sprzedaz  22.63     1       2      5       NaN  Zapytajoce   \n",
       "1     wtorny   sprzedaz  46.00     2       5     10       NaN      575000   \n",
       "2  pierwotny   sprzedaz  40.60     2       4      4       NaN      600900   \n",
       "3     wtorny   sprzedaz  55.30     2       1      2       NaN      240000   \n",
       "4        NaN        NaN  56.16     3  parter      5       NaN      486800   \n",
       "\n",
       "                                                                                                      url  \n",
       "0                     https://gratka.pl/nieruchomosci/nowe-mieszkanie-kolobrzeg-ul-lwowska-11/ob/29285893  \n",
       "1          https://gratka.pl/nieruchomosci/mieszkanie-warszawa-targowek-ul-szymona-askenazego/ob/32268317  \n",
       "2                              https://gratka.pl/nieruchomosci/nowe-mieszkanie-wroclaw-krzyki/ob/32302519  \n",
       "3                                           https://gratka.pl/nieruchomosci/mieszkanie-ryjewo/ob/31978159  \n",
       "4  https://gratka.pl/nieruchomosci/nowe-mieszkanie-bydgoszcz-kapusciska-ul-sandomierska-36-38/ob/25256041  "
      ]
     },
     "execution_count": 4,
     "metadata": {},
     "output_type": "execute_result"
    }
   ],
   "source": [
    "frame.head()"
   ]
  },
  {
   "cell_type": "code",
   "execution_count": 5,
   "metadata": {},
   "outputs": [
    {
     "name": "stdout",
     "output_type": "stream",
     "text": [
      "<class 'pandas.core.frame.DataFrame'>\n",
      "RangeIndex: 74867 entries, 0 to 74866\n",
      "Data columns (total 14 columns):\n",
      " #   Column          Non-Null Count  Dtype  \n",
      "---  ------          --------------  -----  \n",
      " 0   city            74750 non-null  object \n",
      " 1   district        62499 non-null  object \n",
      " 2   voivodeship     74750 non-null  object \n",
      " 3   localization_y  74242 non-null  float64\n",
      " 4   localization_x  74353 non-null  float64\n",
      " 5   market          70814 non-null  object \n",
      " 6   offer_type      70814 non-null  object \n",
      " 7   area            74711 non-null  float64\n",
      " 8   rooms           74575 non-null  object \n",
      " 9   floor           71874 non-null  object \n",
      " 10  floors          67561 non-null  object \n",
      " 11  build_yr        39793 non-null  float64\n",
      " 12  price           74750 non-null  object \n",
      " 13  url             74867 non-null  object \n",
      "dtypes: float64(4), object(10)\n",
      "memory usage: 8.0+ MB\n"
     ]
    }
   ],
   "source": [
    "frame.info()"
   ]
  },
  {
   "cell_type": "code",
   "execution_count": 6,
   "metadata": {},
   "outputs": [
    {
     "data": {
      "text/html": [
       "<div>\n",
       "<style scoped>\n",
       "    .dataframe tbody tr th:only-of-type {\n",
       "        vertical-align: middle;\n",
       "    }\n",
       "\n",
       "    .dataframe tbody tr th {\n",
       "        vertical-align: top;\n",
       "    }\n",
       "\n",
       "    .dataframe thead th {\n",
       "        text-align: right;\n",
       "    }\n",
       "</style>\n",
       "<table border=\"1\" class=\"dataframe\">\n",
       "  <thead>\n",
       "    <tr style=\"text-align: right;\">\n",
       "      <th></th>\n",
       "      <th>count</th>\n",
       "      <th>mean</th>\n",
       "      <th>std</th>\n",
       "      <th>min</th>\n",
       "      <th>25%</th>\n",
       "      <th>50%</th>\n",
       "      <th>75%</th>\n",
       "      <th>max</th>\n",
       "    </tr>\n",
       "  </thead>\n",
       "  <tbody>\n",
       "    <tr>\n",
       "      <th>localization_y</th>\n",
       "      <td>74242.0</td>\n",
       "      <td>51.229600</td>\n",
       "      <td>3.740227</td>\n",
       "      <td>-9.390</td>\n",
       "      <td>50.302678</td>\n",
       "      <td>52.048651</td>\n",
       "      <td>53.114086</td>\n",
       "      <td>54.83313</td>\n",
       "    </tr>\n",
       "    <tr>\n",
       "      <th>localization_x</th>\n",
       "      <td>74353.0</td>\n",
       "      <td>18.848607</td>\n",
       "      <td>5.054247</td>\n",
       "      <td>-157.827</td>\n",
       "      <td>17.145200</td>\n",
       "      <td>18.995700</td>\n",
       "      <td>20.791326</td>\n",
       "      <td>55.84100</td>\n",
       "    </tr>\n",
       "    <tr>\n",
       "      <th>area</th>\n",
       "      <td>74711.0</td>\n",
       "      <td>62.216774</td>\n",
       "      <td>31.562059</td>\n",
       "      <td>10.000</td>\n",
       "      <td>43.340000</td>\n",
       "      <td>56.050000</td>\n",
       "      <td>71.500000</td>\n",
       "      <td>700.00000</td>\n",
       "    </tr>\n",
       "    <tr>\n",
       "      <th>build_yr</th>\n",
       "      <td>39793.0</td>\n",
       "      <td>1997.287990</td>\n",
       "      <td>35.981588</td>\n",
       "      <td>1300.000</td>\n",
       "      <td>1980.000000</td>\n",
       "      <td>2015.000000</td>\n",
       "      <td>2023.000000</td>\n",
       "      <td>2028.00000</td>\n",
       "    </tr>\n",
       "  </tbody>\n",
       "</table>\n",
       "</div>"
      ],
      "text/plain": [
       "                  count         mean        std       min          25%  \\\n",
       "localization_y  74242.0    51.229600   3.740227    -9.390    50.302678   \n",
       "localization_x  74353.0    18.848607   5.054247  -157.827    17.145200   \n",
       "area            74711.0    62.216774  31.562059    10.000    43.340000   \n",
       "build_yr        39793.0  1997.287990  35.981588  1300.000  1980.000000   \n",
       "\n",
       "                        50%          75%         max  \n",
       "localization_y    52.048651    53.114086    54.83313  \n",
       "localization_x    18.995700    20.791326    55.84100  \n",
       "area              56.050000    71.500000   700.00000  \n",
       "build_yr        2015.000000  2023.000000  2028.00000  "
      ]
     },
     "execution_count": 6,
     "metadata": {},
     "output_type": "execute_result"
    }
   ],
   "source": [
    "frame.describe().T"
   ]
  },
  {
   "cell_type": "code",
   "execution_count": 7,
   "metadata": {},
   "outputs": [
    {
     "data": {
      "text/plain": [
       "True"
      ]
     },
     "execution_count": 7,
     "metadata": {},
     "output_type": "execute_result"
    }
   ],
   "source": [
    "len(frame) == len(frame.drop_duplicates())"
   ]
  },
  {
   "cell_type": "code",
   "execution_count": 8,
   "metadata": {},
   "outputs": [
    {
     "data": {
      "text/plain": [
       "sprzedaz    1.0\n",
       "Name: offer_type, dtype: float64"
      ]
     },
     "execution_count": 8,
     "metadata": {},
     "output_type": "execute_result"
    }
   ],
   "source": [
    "frame.offer_type.value_counts(normalize=True)"
   ]
  },
  {
   "cell_type": "markdown",
   "metadata": {},
   "source": [
    "## renaming market type"
   ]
  },
  {
   "cell_type": "code",
   "execution_count": 9,
   "metadata": {},
   "outputs": [],
   "source": [
    "frame.market.replace(['pierwotny','wtorny'], ['primary_market','aftermarket'], inplace=True)"
   ]
  },
  {
   "cell_type": "markdown",
   "metadata": {},
   "source": [
    "## removing foreign locations"
   ]
  },
  {
   "cell_type": "code",
   "execution_count": 10,
   "metadata": {
    "scrolled": true
   },
   "outputs": [
    {
     "data": {
      "text/plain": [
       "0.05849038962426703"
      ]
     },
     "execution_count": 10,
     "metadata": {},
     "output_type": "execute_result"
    }
   ],
   "source": [
    "len(frame[frame.voivodeship=='zagranica'])/len(frame)"
   ]
  },
  {
   "cell_type": "code",
   "execution_count": 11,
   "metadata": {},
   "outputs": [],
   "source": [
    "frame.drop(frame[frame.voivodeship=='zagranica'].index, inplace=True)"
   ]
  },
  {
   "cell_type": "markdown",
   "metadata": {},
   "source": [
    "## removing data with no price"
   ]
  },
  {
   "cell_type": "code",
   "execution_count": 12,
   "metadata": {},
   "outputs": [
    {
     "data": {
      "text/plain": [
       "0.21326967074505124"
      ]
     },
     "execution_count": 12,
     "metadata": {},
     "output_type": "execute_result"
    }
   ],
   "source": [
    "frame.price.value_counts(normalize=True).loc['Zapytajoce']"
   ]
  },
  {
   "cell_type": "code",
   "execution_count": 13,
   "metadata": {},
   "outputs": [],
   "source": [
    "frame.drop(index=frame[frame.price=='Zapytajoce'].index, axis=0, inplace=True)"
   ]
  },
  {
   "cell_type": "code",
   "execution_count": 14,
   "metadata": {},
   "outputs": [],
   "source": [
    "frame.price = frame.price.apply(float)"
   ]
  },
  {
   "cell_type": "markdown",
   "metadata": {},
   "source": [
    "## checking the amount of missing data and removing rows with small amount of missing data per column"
   ]
  },
  {
   "cell_type": "code",
   "execution_count": 15,
   "metadata": {},
   "outputs": [
    {
     "data": {
      "text/html": [
       "<div>\n",
       "<style scoped>\n",
       "    .dataframe tbody tr th:only-of-type {\n",
       "        vertical-align: middle;\n",
       "    }\n",
       "\n",
       "    .dataframe tbody tr th {\n",
       "        vertical-align: top;\n",
       "    }\n",
       "\n",
       "    .dataframe thead th {\n",
       "        text-align: right;\n",
       "    }\n",
       "</style>\n",
       "<table border=\"1\" class=\"dataframe\">\n",
       "  <thead>\n",
       "    <tr style=\"text-align: right;\">\n",
       "      <th></th>\n",
       "      <th>count</th>\n",
       "      <th>mean</th>\n",
       "      <th>std</th>\n",
       "      <th>min</th>\n",
       "      <th>25%</th>\n",
       "      <th>50%</th>\n",
       "      <th>75%</th>\n",
       "      <th>max</th>\n",
       "      <th>%missing</th>\n",
       "    </tr>\n",
       "  </thead>\n",
       "  <tbody>\n",
       "    <tr>\n",
       "      <th>localization_y</th>\n",
       "      <td>55093.0</td>\n",
       "      <td>51.941019</td>\n",
       "      <td>1.587188</td>\n",
       "      <td>-9.390000</td>\n",
       "      <td>50.673596</td>\n",
       "      <td>52.118586</td>\n",
       "      <td>53.116600</td>\n",
       "      <td>5.483313e+01</td>\n",
       "      <td>0.697549</td>\n",
       "    </tr>\n",
       "    <tr>\n",
       "      <th>localization_x</th>\n",
       "      <td>55204.0</td>\n",
       "      <td>18.960590</td>\n",
       "      <td>1.970155</td>\n",
       "      <td>-5.147781</td>\n",
       "      <td>17.305362</td>\n",
       "      <td>19.003672</td>\n",
       "      <td>20.635894</td>\n",
       "      <td>5.527290e+01</td>\n",
       "      <td>0.497477</td>\n",
       "    </tr>\n",
       "    <tr>\n",
       "      <th>area</th>\n",
       "      <td>55324.0</td>\n",
       "      <td>61.708952</td>\n",
       "      <td>29.742449</td>\n",
       "      <td>10.000000</td>\n",
       "      <td>43.817500</td>\n",
       "      <td>56.000000</td>\n",
       "      <td>71.110000</td>\n",
       "      <td>5.080000e+02</td>\n",
       "      <td>0.281182</td>\n",
       "    </tr>\n",
       "    <tr>\n",
       "      <th>build_yr</th>\n",
       "      <td>38066.0</td>\n",
       "      <td>1996.300531</td>\n",
       "      <td>36.424636</td>\n",
       "      <td>1300.000000</td>\n",
       "      <td>1978.000000</td>\n",
       "      <td>2014.000000</td>\n",
       "      <td>2023.000000</td>\n",
       "      <td>2.027000e+03</td>\n",
       "      <td>31.387888</td>\n",
       "    </tr>\n",
       "    <tr>\n",
       "      <th>price</th>\n",
       "      <td>55363.0</td>\n",
       "      <td>678740.812456</td>\n",
       "      <td>589314.779367</td>\n",
       "      <td>1.000000</td>\n",
       "      <td>370000.500000</td>\n",
       "      <td>555000.000000</td>\n",
       "      <td>794437.000000</td>\n",
       "      <td>2.100000e+07</td>\n",
       "      <td>0.210887</td>\n",
       "    </tr>\n",
       "  </tbody>\n",
       "</table>\n",
       "</div>"
      ],
      "text/plain": [
       "                  count           mean            std          min  \\\n",
       "localization_y  55093.0      51.941019       1.587188    -9.390000   \n",
       "localization_x  55204.0      18.960590       1.970155    -5.147781   \n",
       "area            55324.0      61.708952      29.742449    10.000000   \n",
       "build_yr        38066.0    1996.300531      36.424636  1300.000000   \n",
       "price           55363.0  678740.812456  589314.779367     1.000000   \n",
       "\n",
       "                          25%            50%            75%           max  \\\n",
       "localization_y      50.673596      52.118586      53.116600  5.483313e+01   \n",
       "localization_x      17.305362      19.003672      20.635894  5.527290e+01   \n",
       "area                43.817500      56.000000      71.110000  5.080000e+02   \n",
       "build_yr          1978.000000    2014.000000    2023.000000  2.027000e+03   \n",
       "price           370000.500000  555000.000000  794437.000000  2.100000e+07   \n",
       "\n",
       "                 %missing  \n",
       "localization_y   0.697549  \n",
       "localization_x   0.497477  \n",
       "area             0.281182  \n",
       "build_yr        31.387888  \n",
       "price            0.210887  "
      ]
     },
     "execution_count": 15,
     "metadata": {},
     "output_type": "execute_result"
    }
   ],
   "source": [
    "num_desc = frame.describe().T\n",
    "num_desc['%missing'] = (1-num_desc['count']/len(frame))*100\n",
    "num_desc"
   ]
  },
  {
   "cell_type": "code",
   "execution_count": 16,
   "metadata": {
    "scrolled": true
   },
   "outputs": [
    {
     "data": {
      "text/html": [
       "<div>\n",
       "<style scoped>\n",
       "    .dataframe tbody tr th:only-of-type {\n",
       "        vertical-align: middle;\n",
       "    }\n",
       "\n",
       "    .dataframe tbody tr th {\n",
       "        vertical-align: top;\n",
       "    }\n",
       "\n",
       "    .dataframe thead th {\n",
       "        text-align: right;\n",
       "    }\n",
       "</style>\n",
       "<table border=\"1\" class=\"dataframe\">\n",
       "  <thead>\n",
       "    <tr style=\"text-align: right;\">\n",
       "      <th></th>\n",
       "      <th>count</th>\n",
       "      <th>unique</th>\n",
       "      <th>top</th>\n",
       "      <th>freq</th>\n",
       "      <th>%missing</th>\n",
       "    </tr>\n",
       "  </thead>\n",
       "  <tbody>\n",
       "    <tr>\n",
       "      <th>city</th>\n",
       "      <td>55363</td>\n",
       "      <td>1833</td>\n",
       "      <td>Warszawa</td>\n",
       "      <td>7635</td>\n",
       "      <td>0.210887</td>\n",
       "    </tr>\n",
       "    <tr>\n",
       "      <th>district</th>\n",
       "      <td>45945</td>\n",
       "      <td>1178</td>\n",
       "      <td>Śródmieście</td>\n",
       "      <td>2730</td>\n",
       "      <td>17.1864</td>\n",
       "    </tr>\n",
       "    <tr>\n",
       "      <th>voivodeship</th>\n",
       "      <td>55363</td>\n",
       "      <td>17</td>\n",
       "      <td>mazowieckie</td>\n",
       "      <td>10245</td>\n",
       "      <td>0.210887</td>\n",
       "    </tr>\n",
       "    <tr>\n",
       "      <th>market</th>\n",
       "      <td>53506</td>\n",
       "      <td>2</td>\n",
       "      <td>aftermarket</td>\n",
       "      <td>36291</td>\n",
       "      <td>3.55804</td>\n",
       "    </tr>\n",
       "    <tr>\n",
       "      <th>offer_type</th>\n",
       "      <td>53506</td>\n",
       "      <td>1</td>\n",
       "      <td>sprzedaz</td>\n",
       "      <td>53506</td>\n",
       "      <td>3.55804</td>\n",
       "    </tr>\n",
       "    <tr>\n",
       "      <th>rooms</th>\n",
       "      <td>55244</td>\n",
       "      <td>8</td>\n",
       "      <td>2</td>\n",
       "      <td>20218</td>\n",
       "      <td>0.425379</td>\n",
       "    </tr>\n",
       "    <tr>\n",
       "      <th>floor</th>\n",
       "      <td>54429</td>\n",
       "      <td>34</td>\n",
       "      <td>1</td>\n",
       "      <td>13592</td>\n",
       "      <td>1.89438</td>\n",
       "    </tr>\n",
       "    <tr>\n",
       "      <th>floors</th>\n",
       "      <td>52568</td>\n",
       "      <td>31</td>\n",
       "      <td>4</td>\n",
       "      <td>14782</td>\n",
       "      <td>5.24874</td>\n",
       "    </tr>\n",
       "    <tr>\n",
       "      <th>url</th>\n",
       "      <td>55480</td>\n",
       "      <td>55480</td>\n",
       "      <td>https://gratka.pl/nieruchomosci/mieszkanie-lublin/ob/32013769</td>\n",
       "      <td>1</td>\n",
       "      <td>0</td>\n",
       "    </tr>\n",
       "  </tbody>\n",
       "</table>\n",
       "</div>"
      ],
      "text/plain": [
       "             count unique  \\\n",
       "city         55363   1833   \n",
       "district     45945   1178   \n",
       "voivodeship  55363     17   \n",
       "market       53506      2   \n",
       "offer_type   53506      1   \n",
       "rooms        55244      8   \n",
       "floor        54429     34   \n",
       "floors       52568     31   \n",
       "url          55480  55480   \n",
       "\n",
       "                                                                       top  \\\n",
       "city                                                              Warszawa   \n",
       "district                                                       Śródmieście   \n",
       "voivodeship                                                    mazowieckie   \n",
       "market                                                         aftermarket   \n",
       "offer_type                                                        sprzedaz   \n",
       "rooms                                                                    2   \n",
       "floor                                                                    1   \n",
       "floors                                                                   4   \n",
       "url          https://gratka.pl/nieruchomosci/mieszkanie-lublin/ob/32013769   \n",
       "\n",
       "              freq  %missing  \n",
       "city          7635  0.210887  \n",
       "district      2730   17.1864  \n",
       "voivodeship  10245  0.210887  \n",
       "market       36291   3.55804  \n",
       "offer_type   53506   3.55804  \n",
       "rooms        20218  0.425379  \n",
       "floor        13592   1.89438  \n",
       "floors       14782   5.24874  \n",
       "url              1         0  "
      ]
     },
     "execution_count": 16,
     "metadata": {},
     "output_type": "execute_result"
    }
   ],
   "source": [
    "obj_desc = frame.describe(include=['object']).T\n",
    "obj_desc['%missing'] = (1-obj_desc['count']/len(frame))*100\n",
    "obj_desc"
   ]
  },
  {
   "cell_type": "code",
   "execution_count": 17,
   "metadata": {},
   "outputs": [],
   "source": [
    "frame.dropna(subset=['price','localization_y','localization_x','area'], axis=0, inplace=True)"
   ]
  },
  {
   "cell_type": "code",
   "execution_count": 18,
   "metadata": {},
   "outputs": [],
   "source": [
    "frame.dropna(subset=['market','offer_type','rooms','floor'], axis=0, inplace=True)"
   ]
  },
  {
   "cell_type": "markdown",
   "metadata": {},
   "source": [
    "## dealing with missing data for 'floors', 'district', 'build_yr'"
   ]
  },
  {
   "cell_type": "code",
   "execution_count": 19,
   "metadata": {},
   "outputs": [],
   "source": [
    "frame.dropna(subset=['build_yr'], axis=0, inplace=True)"
   ]
  },
  {
   "cell_type": "code",
   "execution_count": 20,
   "metadata": {},
   "outputs": [
    {
     "data": {
      "text/plain": [
       "0.01902144627653842"
      ]
     },
     "execution_count": 20,
     "metadata": {},
     "output_type": "execute_result"
    }
   ],
   "source": [
    "len(frame[pd.isnull(frame.floors)])/len(frame)"
   ]
  },
  {
   "cell_type": "code",
   "execution_count": 21,
   "metadata": {},
   "outputs": [],
   "source": [
    "frame.dropna(subset=['floors'], axis=0, inplace=True)"
   ]
  },
  {
   "cell_type": "code",
   "execution_count": 22,
   "metadata": {},
   "outputs": [],
   "source": [
    "# district will be left with missing data"
   ]
  },
  {
   "cell_type": "code",
   "execution_count": 23,
   "metadata": {},
   "outputs": [
    {
     "data": {
      "text/plain": [
       "(36410, 14)"
      ]
     },
     "execution_count": 23,
     "metadata": {},
     "output_type": "execute_result"
    }
   ],
   "source": [
    "frame.shape"
   ]
  },
  {
   "cell_type": "markdown",
   "metadata": {},
   "source": [
    "## checking categorical data"
   ]
  },
  {
   "cell_type": "code",
   "execution_count": 24,
   "metadata": {},
   "outputs": [
    {
     "data": {
      "image/png": "[encoded data removed]",
      "text/plain": [
       "<Figure size 1080x720 with 6 Axes>"
      ]
     },
     "metadata": {},
     "output_type": "display_data"
    }
   ],
   "source": [
    "fig, axList = plt.subplots(nrows=2, ncols=3)\n",
    "axList = axList.flatten()\n",
    "fig.set_size_inches(15,10)\n",
    "\n",
    "catagorical_columns = [x for x in frame.columns if frame[x].dtype == 'object' and x not in ['city','district','url']]\n",
    "\n",
    "for ax, column in zip(axList, catagorical_columns):\n",
    "    frame[column].value_counts().plot(kind='barh', ax=ax, ylabel=column)\n",
    "    \n",
    "plt.tight_layout()"
   ]
  },
  {
   "cell_type": "code",
   "execution_count": 25,
   "metadata": {},
   "outputs": [],
   "source": [
    "frame.rooms.replace('więcej niż 8', '8', inplace=True)\n",
    "frame.rooms = frame.rooms.astype('int')"
   ]
  },
  {
   "cell_type": "code",
   "execution_count": 26,
   "metadata": {},
   "outputs": [],
   "source": [
    "frame.floor.replace(['niski parter','parter'], '0', inplace=True)\n",
    "frame.floor.replace('powyżej 30', '30', inplace=True)\n",
    "frame.drop(frame[frame.floor=='poddasze'].index, axis=0, inplace=True)\n",
    "frame.floor = frame.floor.astype('int')"
   ]
  },
  {
   "cell_type": "code",
   "execution_count": 27,
   "metadata": {},
   "outputs": [],
   "source": [
    "frame.floors.replace(['0 (parter)','powyżej 30'], ['0','30'], inplace=True)\n",
    "frame.floors = frame.floors.astype('int')"
   ]
  },
  {
   "cell_type": "code",
   "execution_count": 28,
   "metadata": {},
   "outputs": [
    {
     "name": "stdout",
     "output_type": "stream",
     "text": [
      "<class 'pandas.core.frame.DataFrame'>\n",
      "Int64Index: 36311 entries, 7 to 74863\n",
      "Data columns (total 14 columns):\n",
      " #   Column          Non-Null Count  Dtype  \n",
      "---  ------          --------------  -----  \n",
      " 0   city            36311 non-null  object \n",
      " 1   district        30767 non-null  object \n",
      " 2   voivodeship     36311 non-null  object \n",
      " 3   localization_y  36311 non-null  float64\n",
      " 4   localization_x  36311 non-null  float64\n",
      " 5   market          36311 non-null  object \n",
      " 6   offer_type      36311 non-null  object \n",
      " 7   area            36311 non-null  float64\n",
      " 8   rooms           36311 non-null  int32  \n",
      " 9   floor           36311 non-null  int32  \n",
      " 10  floors          36311 non-null  int32  \n",
      " 11  build_yr        36311 non-null  float64\n",
      " 12  price           36311 non-null  float64\n",
      " 13  url             36311 non-null  object \n",
      "dtypes: float64(5), int32(3), object(6)\n",
      "memory usage: 3.7+ MB\n"
     ]
    }
   ],
   "source": [
    "frame.info()"
   ]
  },
  {
   "cell_type": "markdown",
   "metadata": {},
   "source": [
    "## adding custom column"
   ]
  },
  {
   "cell_type": "code",
   "execution_count": 29,
   "metadata": {},
   "outputs": [],
   "source": [
    "frame['price_of_sqm'] = frame.price / frame.area"
   ]
  },
  {
   "cell_type": "markdown",
   "metadata": {},
   "source": [
    "## dealing with outliers"
   ]
  },
  {
   "cell_type": "code",
   "execution_count": 30,
   "metadata": {},
   "outputs": [
    {
     "data": {
      "text/plain": [
       "{'area': (23.209000000000003, 170.9790000000003),\n",
       " 'build_yr': (1900.0, 2025.0),\n",
       " 'price': (165000.0, 3300000.0),\n",
       " 'price_of_sqm': (3112.93876386225, 30515.723131357834)}"
      ]
     },
     "execution_count": 30,
     "metadata": {},
     "output_type": "execute_result"
    }
   ],
   "source": [
    "# checking quantile values\n",
    "\n",
    "outliers_dict = dict()\n",
    "\n",
    "for column in ['area','build_yr','price','price_of_sqm']:\n",
    "    upper_quartile = np.nanpercentile(frame[column], 99.0)\n",
    "    lower_quartile = np.nanpercentile(frame[column], 1.0)\n",
    "#     iqr = upper_quartile - lower_quartile\n",
    "#     outliers_dict[column] = (lower_quartile-1.5*iqr, upper_quartile+1.5*iqr)\n",
    "    outliers_dict[column] = (lower_quartile, upper_quartile)\n",
    "\n",
    "outliers_dict"
   ]
  },
  {
   "cell_type": "code",
   "execution_count": 31,
   "metadata": {},
   "outputs": [
    {
     "data": {
      "text/html": [
       "<div>\n",
       "<style scoped>\n",
       "    .dataframe tbody tr th:only-of-type {\n",
       "        vertical-align: middle;\n",
       "    }\n",
       "\n",
       "    .dataframe tbody tr th {\n",
       "        vertical-align: top;\n",
       "    }\n",
       "\n",
       "    .dataframe thead th {\n",
       "        text-align: right;\n",
       "    }\n",
       "</style>\n",
       "<table border=\"1\" class=\"dataframe\">\n",
       "  <thead>\n",
       "    <tr style=\"text-align: right;\">\n",
       "      <th></th>\n",
       "      <th>count</th>\n",
       "      <th>mean</th>\n",
       "      <th>std</th>\n",
       "      <th>min</th>\n",
       "      <th>25%</th>\n",
       "      <th>50%</th>\n",
       "      <th>75%</th>\n",
       "      <th>max</th>\n",
       "    </tr>\n",
       "  </thead>\n",
       "  <tbody>\n",
       "    <tr>\n",
       "      <th>area</th>\n",
       "      <td>36311.0</td>\n",
       "      <td>62.945649</td>\n",
       "      <td>30.534020</td>\n",
       "      <td>10.000000</td>\n",
       "      <td>44.56</td>\n",
       "      <td>57.0</td>\n",
       "      <td>72.600000</td>\n",
       "      <td>4.770000e+02</td>\n",
       "    </tr>\n",
       "    <tr>\n",
       "      <th>build_yr</th>\n",
       "      <td>36311.0</td>\n",
       "      <td>1995.962904</td>\n",
       "      <td>36.232887</td>\n",
       "      <td>1300.000000</td>\n",
       "      <td>1977.00</td>\n",
       "      <td>2013.0</td>\n",
       "      <td>2023.000000</td>\n",
       "      <td>2.027000e+03</td>\n",
       "    </tr>\n",
       "    <tr>\n",
       "      <th>price</th>\n",
       "      <td>36311.0</td>\n",
       "      <td>748885.597174</td>\n",
       "      <td>633821.226420</td>\n",
       "      <td>79000.000000</td>\n",
       "      <td>421316.00</td>\n",
       "      <td>609000.0</td>\n",
       "      <td>852000.000000</td>\n",
       "      <td>1.490000e+07</td>\n",
       "    </tr>\n",
       "    <tr>\n",
       "      <th>price_of_sqm</th>\n",
       "      <td>36311.0</td>\n",
       "      <td>11962.204221</td>\n",
       "      <td>6019.110108</td>\n",
       "      <td>555.555556</td>\n",
       "      <td>7800.00</td>\n",
       "      <td>10900.0</td>\n",
       "      <td>14827.897986</td>\n",
       "      <td>1.575251e+05</td>\n",
       "    </tr>\n",
       "  </tbody>\n",
       "</table>\n",
       "</div>"
      ],
      "text/plain": [
       "                count           mean            std           min        25%  \\\n",
       "area          36311.0      62.945649      30.534020     10.000000      44.56   \n",
       "build_yr      36311.0    1995.962904      36.232887   1300.000000    1977.00   \n",
       "price         36311.0  748885.597174  633821.226420  79000.000000  421316.00   \n",
       "price_of_sqm  36311.0   11962.204221    6019.110108    555.555556    7800.00   \n",
       "\n",
       "                   50%            75%           max  \n",
       "area              57.0      72.600000  4.770000e+02  \n",
       "build_yr        2013.0    2023.000000  2.027000e+03  \n",
       "price         609000.0  852000.000000  1.490000e+07  \n",
       "price_of_sqm   10900.0   14827.897986  1.575251e+05  "
      ]
     },
     "execution_count": 31,
     "metadata": {},
     "output_type": "execute_result"
    }
   ],
   "source": [
    "frame[['area','build_yr','price','price_of_sqm']].describe().T"
   ]
  },
  {
   "cell_type": "code",
   "execution_count": 32,
   "metadata": {},
   "outputs": [],
   "source": [
    "outliers_dict['build_yr'] = (1900.0, 2024.0)"
   ]
  },
  {
   "cell_type": "code",
   "execution_count": 33,
   "metadata": {},
   "outputs": [],
   "source": [
    "for key in outliers_dict.keys():\n",
    "    frame.drop(frame[frame[key] < outliers_dict[key][0]].index, inplace = True)\n",
    "    frame.drop(frame[frame[key] > outliers_dict[key][1]].index, inplace = True)"
   ]
  },
  {
   "cell_type": "code",
   "execution_count": 34,
   "metadata": {
    "scrolled": true
   },
   "outputs": [
    {
     "data": {
      "text/html": [
       "<div>\n",
       "<style scoped>\n",
       "    .dataframe tbody tr th:only-of-type {\n",
       "        vertical-align: middle;\n",
       "    }\n",
       "\n",
       "    .dataframe tbody tr th {\n",
       "        vertical-align: top;\n",
       "    }\n",
       "\n",
       "    .dataframe thead th {\n",
       "        text-align: right;\n",
       "    }\n",
       "</style>\n",
       "<table border=\"1\" class=\"dataframe\">\n",
       "  <thead>\n",
       "    <tr style=\"text-align: right;\">\n",
       "      <th></th>\n",
       "      <th>count</th>\n",
       "      <th>mean</th>\n",
       "      <th>std</th>\n",
       "      <th>min</th>\n",
       "      <th>25%</th>\n",
       "      <th>50%</th>\n",
       "      <th>75%</th>\n",
       "      <th>max</th>\n",
       "    </tr>\n",
       "  </thead>\n",
       "  <tbody>\n",
       "    <tr>\n",
       "      <th>area</th>\n",
       "      <td>33065.0</td>\n",
       "      <td>61.521758</td>\n",
       "      <td>23.964746</td>\n",
       "      <td>23.290000</td>\n",
       "      <td>45.000000</td>\n",
       "      <td>57.000000</td>\n",
       "      <td>72.000000</td>\n",
       "      <td>170.79</td>\n",
       "    </tr>\n",
       "    <tr>\n",
       "      <th>build_yr</th>\n",
       "      <td>33065.0</td>\n",
       "      <td>1997.088250</td>\n",
       "      <td>32.136303</td>\n",
       "      <td>1900.000000</td>\n",
       "      <td>1978.000000</td>\n",
       "      <td>2012.000000</td>\n",
       "      <td>2023.000000</td>\n",
       "      <td>2024.00</td>\n",
       "    </tr>\n",
       "    <tr>\n",
       "      <th>price</th>\n",
       "      <td>33065.0</td>\n",
       "      <td>705359.897626</td>\n",
       "      <td>419693.782725</td>\n",
       "      <td>165000.000000</td>\n",
       "      <td>429524.000000</td>\n",
       "      <td>610000.000000</td>\n",
       "      <td>849000.000000</td>\n",
       "      <td>3300000.00</td>\n",
       "    </tr>\n",
       "    <tr>\n",
       "      <th>price_of_sqm</th>\n",
       "      <td>33065.0</td>\n",
       "      <td>11681.038358</td>\n",
       "      <td>5089.151263</td>\n",
       "      <td>3116.883117</td>\n",
       "      <td>7800.555942</td>\n",
       "      <td>10770.416025</td>\n",
       "      <td>14621.429998</td>\n",
       "      <td>30500.00</td>\n",
       "    </tr>\n",
       "  </tbody>\n",
       "</table>\n",
       "</div>"
      ],
      "text/plain": [
       "                count           mean            std            min  \\\n",
       "area          33065.0      61.521758      23.964746      23.290000   \n",
       "build_yr      33065.0    1997.088250      32.136303    1900.000000   \n",
       "price         33065.0  705359.897626  419693.782725  165000.000000   \n",
       "price_of_sqm  33065.0   11681.038358    5089.151263    3116.883117   \n",
       "\n",
       "                        25%            50%            75%         max  \n",
       "area              45.000000      57.000000      72.000000      170.79  \n",
       "build_yr        1978.000000    2012.000000    2023.000000     2024.00  \n",
       "price         429524.000000  610000.000000  849000.000000  3300000.00  \n",
       "price_of_sqm    7800.555942   10770.416025   14621.429998    30500.00  "
      ]
     },
     "execution_count": 34,
     "metadata": {},
     "output_type": "execute_result"
    }
   ],
   "source": [
    "frame[['area','build_yr','price','price_of_sqm']].describe().T"
   ]
  },
  {
   "cell_type": "code",
   "execution_count": 35,
   "metadata": {
    "scrolled": true
   },
   "outputs": [
    {
     "data": {
      "text/plain": [
       "(99, 555)"
      ]
     },
     "execution_count": 35,
     "metadata": {},
     "output_type": "execute_result"
    }
   ],
   "source": [
    "len(frame[frame.floor>15]), len(frame[frame.floors>15])"
   ]
  },
  {
   "cell_type": "code",
   "execution_count": 36,
   "metadata": {},
   "outputs": [],
   "source": [
    "frame.drop(frame[frame.floor>15].index, axis=0, inplace=True)\n",
    "frame.drop(frame[frame.floors>15].index, axis=0, inplace=True)"
   ]
  },
  {
   "cell_type": "code",
   "execution_count": 37,
   "metadata": {},
   "outputs": [
    {
     "data": {
      "text/plain": [
       "61"
      ]
     },
     "execution_count": 37,
     "metadata": {},
     "output_type": "execute_result"
    }
   ],
   "source": [
    "len(frame[frame.rooms>6])"
   ]
  },
  {
   "cell_type": "code",
   "execution_count": 38,
   "metadata": {},
   "outputs": [],
   "source": [
    "frame.drop(frame[frame.rooms>6].index, axis=0, inplace=True)"
   ]
  },
  {
   "cell_type": "markdown",
   "metadata": {},
   "source": [
    "## dealing with outliers in localization"
   ]
  },
  {
   "cell_type": "code",
   "execution_count": 39,
   "metadata": {},
   "outputs": [
    {
     "data": {
      "text/plain": [
       "(-0.82794, 54.5685)"
      ]
     },
     "execution_count": 39,
     "metadata": {},
     "output_type": "execute_result"
    }
   ],
   "source": [
    "frame.localization_x.min(), frame.localization_x.max()"
   ]
  },
  {
   "cell_type": "code",
   "execution_count": 40,
   "metadata": {},
   "outputs": [
    {
     "data": {
      "text/plain": [
       "(-0.00133, 54.833130000000004)"
      ]
     },
     "execution_count": 40,
     "metadata": {},
     "output_type": "execute_result"
    }
   ],
   "source": [
    "frame.localization_y.min(), frame.localization_y.max()"
   ]
  },
  {
   "cell_type": "code",
   "execution_count": 41,
   "metadata": {},
   "outputs": [],
   "source": [
    "outliers_dict_2 = dict()\n",
    "outliers_dict_2['localization_x'] = (14,25)\n",
    "outliers_dict_2['localization_y'] = (48,55)"
   ]
  },
  {
   "cell_type": "code",
   "execution_count": 42,
   "metadata": {},
   "outputs": [],
   "source": [
    "for key in outliers_dict_2.keys():\n",
    "    frame.drop(frame[frame[key] < outliers_dict_2[key][0]].index, inplace = True)\n",
    "    frame.drop(frame[frame[key] > outliers_dict_2[key][1]].index, inplace = True)"
   ]
  },
  {
   "cell_type": "code",
   "execution_count": 43,
   "metadata": {},
   "outputs": [
    {
     "data": {
      "text/plain": [
       "28"
      ]
     },
     "execution_count": 43,
     "metadata": {},
     "output_type": "execute_result"
    }
   ],
   "source": [
    "len(frame[(frame.localization_x%1==0) | (frame.localization_y%1==0)])"
   ]
  },
  {
   "cell_type": "code",
   "execution_count": 44,
   "metadata": {},
   "outputs": [],
   "source": [
    "frame.drop(frame[(frame.localization_x%1==0) | (frame.localization_y%1==0)].index,inplace=True)"
   ]
  },
  {
   "cell_type": "markdown",
   "metadata": {},
   "source": [
    "## checking histograms"
   ]
  },
  {
   "cell_type": "code",
   "execution_count": 45,
   "metadata": {},
   "outputs": [
    {
     "data": {
      "image/png": "[encoded data removed]",
      "text/plain": [
       "<Figure size 1080x360 with 10 Axes>"
      ]
     },
     "metadata": {},
     "output_type": "display_data"
    }
   ],
   "source": [
    "fig, axList = plt.subplots(nrows=2, ncols=5)\n",
    "axList = axList.flatten()\n",
    "fig.set_size_inches(15,5)\n",
    "\n",
    "numeric_columns = [x for x in frame.columns if frame[x].dtype in ['float64','int32']]\n",
    "kurtosis_dict = dict(frame[numeric_columns].kurtosis())\n",
    "\n",
    "for ax, column in zip(axList, numeric_columns):\n",
    "    sns.histplot(frame, x=frame[column], ax=ax, bins=25)\n",
    "    ax.title.set_text(f'skew: {round(frame[column].skew(), 1)}, kurtosis: {round(kurtosis_dict[column], 2)}')\n",
    "    \n",
    "plt.tight_layout()"
   ]
  },
  {
   "cell_type": "markdown",
   "metadata": {},
   "source": [
    "## data summary"
   ]
  },
  {
   "cell_type": "code",
   "execution_count": 46,
   "metadata": {},
   "outputs": [
    {
     "data": {
      "text/html": [
       "<div>\n",
       "<style scoped>\n",
       "    .dataframe tbody tr th:only-of-type {\n",
       "        vertical-align: middle;\n",
       "    }\n",
       "\n",
       "    .dataframe tbody tr th {\n",
       "        vertical-align: top;\n",
       "    }\n",
       "\n",
       "    .dataframe thead th {\n",
       "        text-align: right;\n",
       "    }\n",
       "</style>\n",
       "<table border=\"1\" class=\"dataframe\">\n",
       "  <thead>\n",
       "    <tr style=\"text-align: right;\">\n",
       "      <th></th>\n",
       "      <th>count</th>\n",
       "      <th>mean</th>\n",
       "      <th>std</th>\n",
       "      <th>min</th>\n",
       "      <th>25%</th>\n",
       "      <th>50%</th>\n",
       "      <th>75%</th>\n",
       "      <th>max</th>\n",
       "    </tr>\n",
       "  </thead>\n",
       "  <tbody>\n",
       "    <tr>\n",
       "      <th>localization_y</th>\n",
       "      <td>32412.0</td>\n",
       "      <td>52.04</td>\n",
       "      <td>1.47</td>\n",
       "      <td>48.17</td>\n",
       "      <td>50.91</td>\n",
       "      <td>52.17</td>\n",
       "      <td>53.14</td>\n",
       "      <td>54.83</td>\n",
       "    </tr>\n",
       "    <tr>\n",
       "      <th>localization_x</th>\n",
       "      <td>32412.0</td>\n",
       "      <td>19.09</td>\n",
       "      <td>1.95</td>\n",
       "      <td>14.22</td>\n",
       "      <td>17.96</td>\n",
       "      <td>19.13</td>\n",
       "      <td>20.92</td>\n",
       "      <td>23.90</td>\n",
       "    </tr>\n",
       "    <tr>\n",
       "      <th>area</th>\n",
       "      <td>32412.0</td>\n",
       "      <td>61.43</td>\n",
       "      <td>23.83</td>\n",
       "      <td>23.29</td>\n",
       "      <td>45.00</td>\n",
       "      <td>57.00</td>\n",
       "      <td>72.00</td>\n",
       "      <td>170.79</td>\n",
       "    </tr>\n",
       "    <tr>\n",
       "      <th>rooms</th>\n",
       "      <td>32412.0</td>\n",
       "      <td>2.73</td>\n",
       "      <td>0.95</td>\n",
       "      <td>1.00</td>\n",
       "      <td>2.00</td>\n",
       "      <td>3.00</td>\n",
       "      <td>3.00</td>\n",
       "      <td>6.00</td>\n",
       "    </tr>\n",
       "    <tr>\n",
       "      <th>floor</th>\n",
       "      <td>32412.0</td>\n",
       "      <td>2.23</td>\n",
       "      <td>2.14</td>\n",
       "      <td>0.00</td>\n",
       "      <td>1.00</td>\n",
       "      <td>2.00</td>\n",
       "      <td>3.00</td>\n",
       "      <td>15.00</td>\n",
       "    </tr>\n",
       "    <tr>\n",
       "      <th>floors</th>\n",
       "      <td>32412.0</td>\n",
       "      <td>4.31</td>\n",
       "      <td>2.55</td>\n",
       "      <td>0.00</td>\n",
       "      <td>3.00</td>\n",
       "      <td>4.00</td>\n",
       "      <td>5.00</td>\n",
       "      <td>15.00</td>\n",
       "    </tr>\n",
       "    <tr>\n",
       "      <th>build_yr</th>\n",
       "      <td>32412.0</td>\n",
       "      <td>1996.77</td>\n",
       "      <td>32.25</td>\n",
       "      <td>1900.00</td>\n",
       "      <td>1978.00</td>\n",
       "      <td>2012.00</td>\n",
       "      <td>2023.00</td>\n",
       "      <td>2024.00</td>\n",
       "    </tr>\n",
       "    <tr>\n",
       "      <th>price</th>\n",
       "      <td>32412.0</td>\n",
       "      <td>699186.43</td>\n",
       "      <td>415964.58</td>\n",
       "      <td>165000.00</td>\n",
       "      <td>426616.00</td>\n",
       "      <td>600000.00</td>\n",
       "      <td>838456.00</td>\n",
       "      <td>3300000.00</td>\n",
       "    </tr>\n",
       "    <tr>\n",
       "      <th>price_of_sqm</th>\n",
       "      <td>32412.0</td>\n",
       "      <td>11593.12</td>\n",
       "      <td>5045.38</td>\n",
       "      <td>3116.88</td>\n",
       "      <td>7760.15</td>\n",
       "      <td>10669.54</td>\n",
       "      <td>14500.00</td>\n",
       "      <td>30500.00</td>\n",
       "    </tr>\n",
       "  </tbody>\n",
       "</table>\n",
       "</div>"
      ],
      "text/plain": [
       "                  count       mean        std        min        25%  \\\n",
       "localization_y  32412.0      52.04       1.47      48.17      50.91   \n",
       "localization_x  32412.0      19.09       1.95      14.22      17.96   \n",
       "area            32412.0      61.43      23.83      23.29      45.00   \n",
       "rooms           32412.0       2.73       0.95       1.00       2.00   \n",
       "floor           32412.0       2.23       2.14       0.00       1.00   \n",
       "floors          32412.0       4.31       2.55       0.00       3.00   \n",
       "build_yr        32412.0    1996.77      32.25    1900.00    1978.00   \n",
       "price           32412.0  699186.43  415964.58  165000.00  426616.00   \n",
       "price_of_sqm    32412.0   11593.12    5045.38    3116.88    7760.15   \n",
       "\n",
       "                      50%        75%         max  \n",
       "localization_y      52.17      53.14       54.83  \n",
       "localization_x      19.13      20.92       23.90  \n",
       "area                57.00      72.00      170.79  \n",
       "rooms                3.00       3.00        6.00  \n",
       "floor                2.00       3.00       15.00  \n",
       "floors               4.00       5.00       15.00  \n",
       "build_yr          2012.00    2023.00     2024.00  \n",
       "price           600000.00  838456.00  3300000.00  \n",
       "price_of_sqm     10669.54   14500.00    30500.00  "
      ]
     },
     "execution_count": 46,
     "metadata": {},
     "output_type": "execute_result"
    }
   ],
   "source": [
    "round(frame.describe().T, 2)"
   ]
  },
  {
   "cell_type": "code",
   "execution_count": 47,
   "metadata": {},
   "outputs": [
    {
     "data": {
      "text/html": [
       "<div>\n",
       "<style scoped>\n",
       "    .dataframe tbody tr th:only-of-type {\n",
       "        vertical-align: middle;\n",
       "    }\n",
       "\n",
       "    .dataframe tbody tr th {\n",
       "        vertical-align: top;\n",
       "    }\n",
       "\n",
       "    .dataframe thead th {\n",
       "        text-align: right;\n",
       "    }\n",
       "</style>\n",
       "<table border=\"1\" class=\"dataframe\">\n",
       "  <thead>\n",
       "    <tr style=\"text-align: right;\">\n",
       "      <th></th>\n",
       "      <th>count</th>\n",
       "      <th>unique</th>\n",
       "      <th>top</th>\n",
       "      <th>freq</th>\n",
       "    </tr>\n",
       "  </thead>\n",
       "  <tbody>\n",
       "    <tr>\n",
       "      <th>city</th>\n",
       "      <td>32412</td>\n",
       "      <td>1085</td>\n",
       "      <td>Warszawa</td>\n",
       "      <td>5448</td>\n",
       "    </tr>\n",
       "    <tr>\n",
       "      <th>district</th>\n",
       "      <td>27423</td>\n",
       "      <td>1049</td>\n",
       "      <td>Śródmieście</td>\n",
       "      <td>1714</td>\n",
       "    </tr>\n",
       "    <tr>\n",
       "      <th>voivodeship</th>\n",
       "      <td>32412</td>\n",
       "      <td>16</td>\n",
       "      <td>mazowieckie</td>\n",
       "      <td>7358</td>\n",
       "    </tr>\n",
       "    <tr>\n",
       "      <th>market</th>\n",
       "      <td>32412</td>\n",
       "      <td>2</td>\n",
       "      <td>aftermarket</td>\n",
       "      <td>23001</td>\n",
       "    </tr>\n",
       "    <tr>\n",
       "      <th>offer_type</th>\n",
       "      <td>32412</td>\n",
       "      <td>1</td>\n",
       "      <td>sprzedaz</td>\n",
       "      <td>32412</td>\n",
       "    </tr>\n",
       "    <tr>\n",
       "      <th>url</th>\n",
       "      <td>32412</td>\n",
       "      <td>32412</td>\n",
       "      <td>https://gratka.pl/nieruchomosci/nowe-mieszkanie-lublin-ul-kwarcowa/ob/21557851</td>\n",
       "      <td>1</td>\n",
       "    </tr>\n",
       "  </tbody>\n",
       "</table>\n",
       "</div>"
      ],
      "text/plain": [
       "             count unique  \\\n",
       "city         32412   1085   \n",
       "district     27423   1049   \n",
       "voivodeship  32412     16   \n",
       "market       32412      2   \n",
       "offer_type   32412      1   \n",
       "url          32412  32412   \n",
       "\n",
       "                                                                                        top  \\\n",
       "city                                                                               Warszawa   \n",
       "district                                                                        Śródmieście   \n",
       "voivodeship                                                                     mazowieckie   \n",
       "market                                                                          aftermarket   \n",
       "offer_type                                                                         sprzedaz   \n",
       "url          https://gratka.pl/nieruchomosci/nowe-mieszkanie-lublin-ul-kwarcowa/ob/21557851   \n",
       "\n",
       "              freq  \n",
       "city          5448  \n",
       "district      1714  \n",
       "voivodeship   7358  \n",
       "market       23001  \n",
       "offer_type   32412  \n",
       "url              1  "
      ]
     },
     "execution_count": 47,
     "metadata": {},
     "output_type": "execute_result"
    }
   ],
   "source": [
    "frame.describe(include=['object']).T"
   ]
  },
  {
   "cell_type": "code",
   "execution_count": 48,
   "metadata": {},
   "outputs": [],
   "source": [
    "frame.reset_index(drop=True, inplace=True)"
   ]
  },
  {
   "cell_type": "code",
   "execution_count": 49,
   "metadata": {},
   "outputs": [
    {
     "name": "stdout",
     "output_type": "stream",
     "text": [
      "<class 'pandas.core.frame.DataFrame'>\n",
      "RangeIndex: 32412 entries, 0 to 32411\n",
      "Data columns (total 15 columns):\n",
      " #   Column          Non-Null Count  Dtype  \n",
      "---  ------          --------------  -----  \n",
      " 0   city            32412 non-null  object \n",
      " 1   district        27423 non-null  object \n",
      " 2   voivodeship     32412 non-null  object \n",
      " 3   localization_y  32412 non-null  float64\n",
      " 4   localization_x  32412 non-null  float64\n",
      " 5   market          32412 non-null  object \n",
      " 6   offer_type      32412 non-null  object \n",
      " 7   area            32412 non-null  float64\n",
      " 8   rooms           32412 non-null  int32  \n",
      " 9   floor           32412 non-null  int32  \n",
      " 10  floors          32412 non-null  int32  \n",
      " 11  build_yr        32412 non-null  float64\n",
      " 12  price           32412 non-null  float64\n",
      " 13  url             32412 non-null  object \n",
      " 14  price_of_sqm    32412 non-null  float64\n",
      "dtypes: float64(6), int32(3), object(6)\n",
      "memory usage: 3.3+ MB\n"
     ]
    }
   ],
   "source": [
    "frame.info()"
   ]
  },
  {
   "cell_type": "markdown",
   "metadata": {},
   "source": [
    "## saving the frame"
   ]
  },
  {
   "cell_type": "code",
   "execution_count": 50,
   "metadata": {},
   "outputs": [],
   "source": [
    "outfile = open('apartment_data_frame','wb')\n",
    "pkl.dump(frame, outfile)\n",
    "outfile.close()"
   ]
  },
  {
   "cell_type": "code",
   "execution_count": null,
   "metadata": {},
   "outputs": [],
   "source": []
  }
 ],
 "metadata": {
  "kernelspec": {
   "display_name": "Python 3",
   "language": "python",
   "name": "python3"
  },
  "language_info": {
   "codemirror_mode": {
    "name": "ipython",
    "version": 3
   },
   "file_extension": ".py",
   "mimetype": "text/x-python",
   "name": "python",
   "nbconvert_exporter": "python",
   "pygments_lexer": "ipython3",
   "version": "3.6.13"
  }
 },
 "nbformat": 4,
 "nbformat_minor": 4
}
