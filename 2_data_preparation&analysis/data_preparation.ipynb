{
 "cells": [
  {
   "cell_type": "code",
   "execution_count": 1,
   "metadata": {},
   "outputs": [],
   "source": [
    "import pandas as pd\n",
    "import numpy as np\n",
    "import pickle as pkl\n",
    "import seaborn as sns\n",
    "sns.set_theme()\n",
    "import matplotlib.pyplot as plt"
   ]
  },
  {
   "cell_type": "code",
   "execution_count": 2,
   "metadata": {},
   "outputs": [],
   "source": [
    "pd.options.display.max_columns = 30\n",
    "pd.options.display.max_colwidth = 150"
   ]
  },
  {
   "cell_type": "markdown",
   "metadata": {},
   "source": [
    "## data import"
   ]
  },
  {
   "cell_type": "code",
   "execution_count": 3,
   "metadata": {},
   "outputs": [],
   "source": [
    "frame = pd.read_csv('..//1_web_scraping//apartment_details.csv')"
   ]
  },
  {
   "cell_type": "code",
   "execution_count": 4,
   "metadata": {},
   "outputs": [
    {
     "data": {
      "text/html": [
       "<div>\n",
       "<style scoped>\n",
       "    .dataframe tbody tr th:only-of-type {\n",
       "        vertical-align: middle;\n",
       "    }\n",
       "\n",
       "    .dataframe tbody tr th {\n",
       "        vertical-align: top;\n",
       "    }\n",
       "\n",
       "    .dataframe thead th {\n",
       "        text-align: right;\n",
       "    }\n",
       "</style>\n",
       "<table border=\"1\" class=\"dataframe\">\n",
       "  <thead>\n",
       "    <tr style=\"text-align: right;\">\n",
       "      <th></th>\n",
       "      <th>city</th>\n",
       "      <th>district</th>\n",
       "      <th>voivodeship</th>\n",
       "      <th>localization_y</th>\n",
       "      <th>localization_x</th>\n",
       "      <th>market</th>\n",
       "      <th>offer_type</th>\n",
       "      <th>area</th>\n",
       "      <th>rooms</th>\n",
       "      <th>floor</th>\n",
       "      <th>floors</th>\n",
       "      <th>build_yr</th>\n",
       "      <th>price</th>\n",
       "      <th>url</th>\n",
       "    </tr>\n",
       "  </thead>\n",
       "  <tbody>\n",
       "    <tr>\n",
       "      <th>0</th>\n",
       "      <td>Kraków</td>\n",
       "      <td>NaN</td>\n",
       "      <td>małopolskie</td>\n",
       "      <td>50.015650</td>\n",
       "      <td>19.988633</td>\n",
       "      <td>pierwotny</td>\n",
       "      <td>sprzedaz</td>\n",
       "      <td>85.12</td>\n",
       "      <td>4</td>\n",
       "      <td>NaN</td>\n",
       "      <td>5</td>\n",
       "      <td>NaN</td>\n",
       "      <td>952000</td>\n",
       "      <td>https://gratka.pl/nieruchomosci/nowe-mieszkanie-krakow-ul-facimiech/ob/25557745</td>\n",
       "    </tr>\n",
       "    <tr>\n",
       "      <th>1</th>\n",
       "      <td>Kołobrzeg</td>\n",
       "      <td>kołobrzeski</td>\n",
       "      <td>zachodniopomorskie</td>\n",
       "      <td>54.175917</td>\n",
       "      <td>15.583267</td>\n",
       "      <td>wtorny</td>\n",
       "      <td>sprzedaz</td>\n",
       "      <td>75.85</td>\n",
       "      <td>2</td>\n",
       "      <td>4</td>\n",
       "      <td>4</td>\n",
       "      <td>1970.0</td>\n",
       "      <td>850000</td>\n",
       "      <td>https://gratka.pl/nieruchomosci/mieszkanie-kolobrzeg/ob/25201643</td>\n",
       "    </tr>\n",
       "    <tr>\n",
       "      <th>2</th>\n",
       "      <td>Bydgoszcz</td>\n",
       "      <td>Fordon</td>\n",
       "      <td>kujawsko-pomorskie</td>\n",
       "      <td>53.141262</td>\n",
       "      <td>18.124716</td>\n",
       "      <td>pierwotny</td>\n",
       "      <td>sprzedaz</td>\n",
       "      <td>43.16</td>\n",
       "      <td>2</td>\n",
       "      <td>4</td>\n",
       "      <td>NaN</td>\n",
       "      <td>NaN</td>\n",
       "      <td>Zapytajoce</td>\n",
       "      <td>https://gratka.pl/nieruchomosci/nowe-mieszkanie-bydgoszcz-fordon-ul-akademicka/ob/26034877</td>\n",
       "    </tr>\n",
       "    <tr>\n",
       "      <th>3</th>\n",
       "      <td>Zakopane</td>\n",
       "      <td>tatrzański</td>\n",
       "      <td>małopolskie</td>\n",
       "      <td>49.294420</td>\n",
       "      <td>19.980946</td>\n",
       "      <td>pierwotny</td>\n",
       "      <td>sprzedaz</td>\n",
       "      <td>51.00</td>\n",
       "      <td>2</td>\n",
       "      <td>1</td>\n",
       "      <td>3</td>\n",
       "      <td>NaN</td>\n",
       "      <td>770000</td>\n",
       "      <td>https://gratka.pl/nieruchomosci/nowe-mieszkanie-zakopane-ul-salwatorianska/ob/24164937</td>\n",
       "    </tr>\n",
       "    <tr>\n",
       "      <th>4</th>\n",
       "      <td>Wałbrzych</td>\n",
       "      <td>NaN</td>\n",
       "      <td>dolnośląskie</td>\n",
       "      <td>50.784783</td>\n",
       "      <td>16.284914</td>\n",
       "      <td>wtorny</td>\n",
       "      <td>sprzedaz</td>\n",
       "      <td>59.90</td>\n",
       "      <td>3</td>\n",
       "      <td>4</td>\n",
       "      <td>4</td>\n",
       "      <td>NaN</td>\n",
       "      <td>229000</td>\n",
       "      <td>https://gratka.pl/nieruchomosci/mieszkanie-walbrzych/ob/26462687</td>\n",
       "    </tr>\n",
       "  </tbody>\n",
       "</table>\n",
       "</div>"
      ],
      "text/plain": [
       "        city     district         voivodeship  localization_y  localization_x  \\\n",
       "0     Kraków          NaN         małopolskie       50.015650       19.988633   \n",
       "1  Kołobrzeg  kołobrzeski  zachodniopomorskie       54.175917       15.583267   \n",
       "2  Bydgoszcz       Fordon  kujawsko-pomorskie       53.141262       18.124716   \n",
       "3   Zakopane   tatrzański         małopolskie       49.294420       19.980946   \n",
       "4  Wałbrzych          NaN        dolnośląskie       50.784783       16.284914   \n",
       "\n",
       "      market offer_type   area rooms floor floors  build_yr       price  \\\n",
       "0  pierwotny   sprzedaz  85.12     4   NaN      5       NaN      952000   \n",
       "1     wtorny   sprzedaz  75.85     2     4      4    1970.0      850000   \n",
       "2  pierwotny   sprzedaz  43.16     2     4    NaN       NaN  Zapytajoce   \n",
       "3  pierwotny   sprzedaz  51.00     2     1      3       NaN      770000   \n",
       "4     wtorny   sprzedaz  59.90     3     4      4       NaN      229000   \n",
       "\n",
       "                                                                                          url  \n",
       "0             https://gratka.pl/nieruchomosci/nowe-mieszkanie-krakow-ul-facimiech/ob/25557745  \n",
       "1                            https://gratka.pl/nieruchomosci/mieszkanie-kolobrzeg/ob/25201643  \n",
       "2  https://gratka.pl/nieruchomosci/nowe-mieszkanie-bydgoszcz-fordon-ul-akademicka/ob/26034877  \n",
       "3      https://gratka.pl/nieruchomosci/nowe-mieszkanie-zakopane-ul-salwatorianska/ob/24164937  \n",
       "4                            https://gratka.pl/nieruchomosci/mieszkanie-walbrzych/ob/26462687  "
      ]
     },
     "execution_count": 4,
     "metadata": {},
     "output_type": "execute_result"
    }
   ],
   "source": [
    "frame.head()"
   ]
  },
  {
   "cell_type": "code",
   "execution_count": 5,
   "metadata": {},
   "outputs": [
    {
     "name": "stdout",
     "output_type": "stream",
     "text": [
      "<class 'pandas.core.frame.DataFrame'>\n",
      "RangeIndex: 98166 entries, 0 to 98165\n",
      "Data columns (total 14 columns):\n",
      " #   Column          Non-Null Count  Dtype  \n",
      "---  ------          --------------  -----  \n",
      " 0   city            97511 non-null  object \n",
      " 1   district        79199 non-null  object \n",
      " 2   voivodeship     97511 non-null  object \n",
      " 3   localization_y  97139 non-null  float64\n",
      " 4   localization_x  97766 non-null  float64\n",
      " 5   market          92807 non-null  object \n",
      " 6   offer_type      92808 non-null  object \n",
      " 7   area            97411 non-null  float64\n",
      " 8   rooms           96725 non-null  object \n",
      " 9   floor           95002 non-null  object \n",
      " 10  floors          72442 non-null  object \n",
      " 11  build_yr        55801 non-null  float64\n",
      " 12  price           97511 non-null  object \n",
      " 13  url             98166 non-null  object \n",
      "dtypes: float64(4), object(10)\n",
      "memory usage: 10.5+ MB\n"
     ]
    }
   ],
   "source": [
    "frame.info()"
   ]
  },
  {
   "cell_type": "code",
   "execution_count": 6,
   "metadata": {},
   "outputs": [
    {
     "data": {
      "text/html": [
       "<div>\n",
       "<style scoped>\n",
       "    .dataframe tbody tr th:only-of-type {\n",
       "        vertical-align: middle;\n",
       "    }\n",
       "\n",
       "    .dataframe tbody tr th {\n",
       "        vertical-align: top;\n",
       "    }\n",
       "\n",
       "    .dataframe thead th {\n",
       "        text-align: right;\n",
       "    }\n",
       "</style>\n",
       "<table border=\"1\" class=\"dataframe\">\n",
       "  <thead>\n",
       "    <tr style=\"text-align: right;\">\n",
       "      <th></th>\n",
       "      <th>count</th>\n",
       "      <th>mean</th>\n",
       "      <th>std</th>\n",
       "      <th>min</th>\n",
       "      <th>25%</th>\n",
       "      <th>50%</th>\n",
       "      <th>75%</th>\n",
       "      <th>max</th>\n",
       "    </tr>\n",
       "  </thead>\n",
       "  <tbody>\n",
       "    <tr>\n",
       "      <th>localization_y</th>\n",
       "      <td>97139.0</td>\n",
       "      <td>51.576559</td>\n",
       "      <td>2.672358</td>\n",
       "      <td>-0.002747</td>\n",
       "      <td>50.317778</td>\n",
       "      <td>52.156798</td>\n",
       "      <td>52.991282</td>\n",
       "      <td>85.05113</td>\n",
       "    </tr>\n",
       "    <tr>\n",
       "      <th>localization_x</th>\n",
       "      <td>97766.0</td>\n",
       "      <td>17.767082</td>\n",
       "      <td>11.697809</td>\n",
       "      <td>-157.827000</td>\n",
       "      <td>18.054872</td>\n",
       "      <td>19.227171</td>\n",
       "      <td>20.926981</td>\n",
       "      <td>55.39860</td>\n",
       "    </tr>\n",
       "    <tr>\n",
       "      <th>area</th>\n",
       "      <td>97411.0</td>\n",
       "      <td>59.830341</td>\n",
       "      <td>27.992648</td>\n",
       "      <td>10.000000</td>\n",
       "      <td>43.060000</td>\n",
       "      <td>54.600000</td>\n",
       "      <td>68.160000</td>\n",
       "      <td>796.00000</td>\n",
       "    </tr>\n",
       "    <tr>\n",
       "      <th>build_yr</th>\n",
       "      <td>55801.0</td>\n",
       "      <td>1996.723302</td>\n",
       "      <td>33.299318</td>\n",
       "      <td>1200.000000</td>\n",
       "      <td>1979.000000</td>\n",
       "      <td>2012.000000</td>\n",
       "      <td>2022.000000</td>\n",
       "      <td>2025.00000</td>\n",
       "    </tr>\n",
       "  </tbody>\n",
       "</table>\n",
       "</div>"
      ],
      "text/plain": [
       "                  count         mean        std          min          25%  \\\n",
       "localization_y  97139.0    51.576559   2.672358    -0.002747    50.317778   \n",
       "localization_x  97766.0    17.767082  11.697809  -157.827000    18.054872   \n",
       "area            97411.0    59.830341  27.992648    10.000000    43.060000   \n",
       "build_yr        55801.0  1996.723302  33.299318  1200.000000  1979.000000   \n",
       "\n",
       "                        50%          75%         max  \n",
       "localization_y    52.156798    52.991282    85.05113  \n",
       "localization_x    19.227171    20.926981    55.39860  \n",
       "area              54.600000    68.160000   796.00000  \n",
       "build_yr        2012.000000  2022.000000  2025.00000  "
      ]
     },
     "execution_count": 6,
     "metadata": {},
     "output_type": "execute_result"
    }
   ],
   "source": [
    "frame.describe().T"
   ]
  },
  {
   "cell_type": "code",
   "execution_count": 7,
   "metadata": {},
   "outputs": [
    {
     "data": {
      "text/plain": [
       "True"
      ]
     },
     "execution_count": 7,
     "metadata": {},
     "output_type": "execute_result"
    }
   ],
   "source": [
    "len(frame) == len(frame.drop_duplicates())"
   ]
  },
  {
   "cell_type": "code",
   "execution_count": 8,
   "metadata": {},
   "outputs": [
    {
     "data": {
      "text/plain": [
       "sprzedaz    1.0\n",
       "Name: offer_type, dtype: float64"
      ]
     },
     "execution_count": 8,
     "metadata": {},
     "output_type": "execute_result"
    }
   ],
   "source": [
    "frame.offer_type.value_counts(normalize=True)"
   ]
  },
  {
   "cell_type": "markdown",
   "metadata": {},
   "source": [
    "## renaming market type"
   ]
  },
  {
   "cell_type": "code",
   "execution_count": 9,
   "metadata": {},
   "outputs": [],
   "source": [
    "frame.market.replace(['pierwotny','wtorny'], ['primary_market','aftermarket'], inplace=True)"
   ]
  },
  {
   "cell_type": "markdown",
   "metadata": {},
   "source": [
    "## removing foreign locations"
   ]
  },
  {
   "cell_type": "code",
   "execution_count": 10,
   "metadata": {
    "scrolled": true
   },
   "outputs": [
    {
     "data": {
      "text/plain": [
       "0.014444919829676262"
      ]
     },
     "execution_count": 10,
     "metadata": {},
     "output_type": "execute_result"
    }
   ],
   "source": [
    "len(frame[frame.voivodeship=='zagranica'])/len(frame)"
   ]
  },
  {
   "cell_type": "code",
   "execution_count": 11,
   "metadata": {},
   "outputs": [],
   "source": [
    "frame.drop(frame[frame.voivodeship=='zagranica'].index, inplace=True)"
   ]
  },
  {
   "cell_type": "markdown",
   "metadata": {},
   "source": [
    "## removing data with no price"
   ]
  },
  {
   "cell_type": "code",
   "execution_count": 12,
   "metadata": {},
   "outputs": [
    {
     "data": {
      "text/plain": [
       "0.18046059546481014"
      ]
     },
     "execution_count": 12,
     "metadata": {},
     "output_type": "execute_result"
    }
   ],
   "source": [
    "frame.price.value_counts(normalize=True).loc['Zapytajoce']"
   ]
  },
  {
   "cell_type": "code",
   "execution_count": 13,
   "metadata": {},
   "outputs": [],
   "source": [
    "frame.drop(index=frame[frame.price=='Zapytajoce'].index, axis=0, inplace=True)"
   ]
  },
  {
   "cell_type": "code",
   "execution_count": 14,
   "metadata": {},
   "outputs": [],
   "source": [
    "frame.price = frame.price.apply(float)"
   ]
  },
  {
   "cell_type": "markdown",
   "metadata": {},
   "source": [
    "## checking the amount of missing data and removing rows with small amount of missing data per column"
   ]
  },
  {
   "cell_type": "code",
   "execution_count": 15,
   "metadata": {},
   "outputs": [
    {
     "data": {
      "text/html": [
       "<div>\n",
       "<style scoped>\n",
       "    .dataframe tbody tr th:only-of-type {\n",
       "        vertical-align: middle;\n",
       "    }\n",
       "\n",
       "    .dataframe tbody tr th {\n",
       "        vertical-align: top;\n",
       "    }\n",
       "\n",
       "    .dataframe thead th {\n",
       "        text-align: right;\n",
       "    }\n",
       "</style>\n",
       "<table border=\"1\" class=\"dataframe\">\n",
       "  <thead>\n",
       "    <tr style=\"text-align: right;\">\n",
       "      <th></th>\n",
       "      <th>count</th>\n",
       "      <th>mean</th>\n",
       "      <th>std</th>\n",
       "      <th>min</th>\n",
       "      <th>25%</th>\n",
       "      <th>50%</th>\n",
       "      <th>75%</th>\n",
       "      <th>max</th>\n",
       "      <th>%missing</th>\n",
       "    </tr>\n",
       "  </thead>\n",
       "  <tbody>\n",
       "    <tr>\n",
       "      <th>localization_y</th>\n",
       "      <td>78474.0</td>\n",
       "      <td>51.872995</td>\n",
       "      <td>1.441995</td>\n",
       "      <td>-0.002747</td>\n",
       "      <td>50.397317</td>\n",
       "      <td>52.150683</td>\n",
       "      <td>52.653200</td>\n",
       "      <td>8.505113e+01</td>\n",
       "      <td>1.174959</td>\n",
       "    </tr>\n",
       "    <tr>\n",
       "      <th>localization_x</th>\n",
       "      <td>79101.0</td>\n",
       "      <td>19.226406</td>\n",
       "      <td>2.233771</td>\n",
       "      <td>-99.999990</td>\n",
       "      <td>18.081980</td>\n",
       "      <td>19.437186</td>\n",
       "      <td>20.939234</td>\n",
       "      <td>2.385012e+01</td>\n",
       "      <td>0.385356</td>\n",
       "    </tr>\n",
       "    <tr>\n",
       "      <th>area</th>\n",
       "      <td>78652.0</td>\n",
       "      <td>60.488119</td>\n",
       "      <td>28.832004</td>\n",
       "      <td>10.000000</td>\n",
       "      <td>44.000000</td>\n",
       "      <td>55.000000</td>\n",
       "      <td>69.000000</td>\n",
       "      <td>7.960000e+02</td>\n",
       "      <td>0.950798</td>\n",
       "    </tr>\n",
       "    <tr>\n",
       "      <th>build_yr</th>\n",
       "      <td>54843.0</td>\n",
       "      <td>1996.329668</td>\n",
       "      <td>33.440728</td>\n",
       "      <td>1200.000000</td>\n",
       "      <td>1978.000000</td>\n",
       "      <td>2011.000000</td>\n",
       "      <td>2022.000000</td>\n",
       "      <td>2.025000e+03</td>\n",
       "      <td>30.934301</td>\n",
       "    </tr>\n",
       "    <tr>\n",
       "      <th>price</th>\n",
       "      <td>78752.0</td>\n",
       "      <td>606490.427900</td>\n",
       "      <td>548886.303710</td>\n",
       "      <td>1.000000</td>\n",
       "      <td>363880.500000</td>\n",
       "      <td>492012.000000</td>\n",
       "      <td>670000.000000</td>\n",
       "      <td>2.135010e+07</td>\n",
       "      <td>0.824864</td>\n",
       "    </tr>\n",
       "  </tbody>\n",
       "</table>\n",
       "</div>"
      ],
      "text/plain": [
       "                  count           mean            std          min  \\\n",
       "localization_y  78474.0      51.872995       1.441995    -0.002747   \n",
       "localization_x  79101.0      19.226406       2.233771   -99.999990   \n",
       "area            78652.0      60.488119      28.832004    10.000000   \n",
       "build_yr        54843.0    1996.329668      33.440728  1200.000000   \n",
       "price           78752.0  606490.427900  548886.303710     1.000000   \n",
       "\n",
       "                          25%            50%            75%           max  \\\n",
       "localization_y      50.397317      52.150683      52.653200  8.505113e+01   \n",
       "localization_x      18.081980      19.437186      20.939234  2.385012e+01   \n",
       "area                44.000000      55.000000      69.000000  7.960000e+02   \n",
       "build_yr          1978.000000    2011.000000    2022.000000  2.025000e+03   \n",
       "price           363880.500000  492012.000000  670000.000000  2.135010e+07   \n",
       "\n",
       "                 %missing  \n",
       "localization_y   1.174959  \n",
       "localization_x   0.385356  \n",
       "area             0.950798  \n",
       "build_yr        30.934301  \n",
       "price            0.824864  "
      ]
     },
     "execution_count": 15,
     "metadata": {},
     "output_type": "execute_result"
    }
   ],
   "source": [
    "num_desc = frame.describe().T\n",
    "num_desc['%missing'] = (1-num_desc['count']/len(frame))*100\n",
    "num_desc"
   ]
  },
  {
   "cell_type": "code",
   "execution_count": 16,
   "metadata": {
    "scrolled": true
   },
   "outputs": [
    {
     "data": {
      "text/html": [
       "<div>\n",
       "<style scoped>\n",
       "    .dataframe tbody tr th:only-of-type {\n",
       "        vertical-align: middle;\n",
       "    }\n",
       "\n",
       "    .dataframe tbody tr th {\n",
       "        vertical-align: top;\n",
       "    }\n",
       "\n",
       "    .dataframe thead th {\n",
       "        text-align: right;\n",
       "    }\n",
       "</style>\n",
       "<table border=\"1\" class=\"dataframe\">\n",
       "  <thead>\n",
       "    <tr style=\"text-align: right;\">\n",
       "      <th></th>\n",
       "      <th>count</th>\n",
       "      <th>unique</th>\n",
       "      <th>top</th>\n",
       "      <th>freq</th>\n",
       "      <th>%missing</th>\n",
       "    </tr>\n",
       "  </thead>\n",
       "  <tbody>\n",
       "    <tr>\n",
       "      <th>city</th>\n",
       "      <td>78752</td>\n",
       "      <td>1612</td>\n",
       "      <td>Warszawa</td>\n",
       "      <td>14624</td>\n",
       "      <td>0.824864</td>\n",
       "    </tr>\n",
       "    <tr>\n",
       "      <th>district</th>\n",
       "      <td>65164</td>\n",
       "      <td>1178</td>\n",
       "      <td>Śródmieście</td>\n",
       "      <td>3824</td>\n",
       "      <td>17.9367</td>\n",
       "    </tr>\n",
       "    <tr>\n",
       "      <th>voivodeship</th>\n",
       "      <td>78752</td>\n",
       "      <td>16</td>\n",
       "      <td>mazowieckie</td>\n",
       "      <td>18028</td>\n",
       "      <td>0.824864</td>\n",
       "    </tr>\n",
       "    <tr>\n",
       "      <th>market</th>\n",
       "      <td>76305</td>\n",
       "      <td>2</td>\n",
       "      <td>aftermarket</td>\n",
       "      <td>52442</td>\n",
       "      <td>3.90646</td>\n",
       "    </tr>\n",
       "    <tr>\n",
       "      <th>offer_type</th>\n",
       "      <td>76306</td>\n",
       "      <td>1</td>\n",
       "      <td>sprzedaz</td>\n",
       "      <td>76306</td>\n",
       "      <td>3.9052</td>\n",
       "    </tr>\n",
       "    <tr>\n",
       "      <th>rooms</th>\n",
       "      <td>78266</td>\n",
       "      <td>9</td>\n",
       "      <td>3</td>\n",
       "      <td>29631</td>\n",
       "      <td>1.4369</td>\n",
       "    </tr>\n",
       "    <tr>\n",
       "      <th>floor</th>\n",
       "      <td>76736</td>\n",
       "      <td>35</td>\n",
       "      <td>1</td>\n",
       "      <td>17928</td>\n",
       "      <td>3.36368</td>\n",
       "    </tr>\n",
       "    <tr>\n",
       "      <th>floors</th>\n",
       "      <td>70185</td>\n",
       "      <td>31</td>\n",
       "      <td>4</td>\n",
       "      <td>20372</td>\n",
       "      <td>11.6136</td>\n",
       "    </tr>\n",
       "    <tr>\n",
       "      <th>url</th>\n",
       "      <td>79407</td>\n",
       "      <td>79407</td>\n",
       "      <td>https://gratka.pl/nieruchomosci/nowe-mieszkanie-warszawa-rembertow/ob/26253749</td>\n",
       "      <td>1</td>\n",
       "      <td>0</td>\n",
       "    </tr>\n",
       "  </tbody>\n",
       "</table>\n",
       "</div>"
      ],
      "text/plain": [
       "             count unique  \\\n",
       "city         78752   1612   \n",
       "district     65164   1178   \n",
       "voivodeship  78752     16   \n",
       "market       76305      2   \n",
       "offer_type   76306      1   \n",
       "rooms        78266      9   \n",
       "floor        76736     35   \n",
       "floors       70185     31   \n",
       "url          79407  79407   \n",
       "\n",
       "                                                                                        top  \\\n",
       "city                                                                               Warszawa   \n",
       "district                                                                        Śródmieście   \n",
       "voivodeship                                                                     mazowieckie   \n",
       "market                                                                          aftermarket   \n",
       "offer_type                                                                         sprzedaz   \n",
       "rooms                                                                                     3   \n",
       "floor                                                                                     1   \n",
       "floors                                                                                    4   \n",
       "url          https://gratka.pl/nieruchomosci/nowe-mieszkanie-warszawa-rembertow/ob/26253749   \n",
       "\n",
       "              freq  %missing  \n",
       "city         14624  0.824864  \n",
       "district      3824   17.9367  \n",
       "voivodeship  18028  0.824864  \n",
       "market       52442   3.90646  \n",
       "offer_type   76306    3.9052  \n",
       "rooms        29631    1.4369  \n",
       "floor        17928   3.36368  \n",
       "floors       20372   11.6136  \n",
       "url              1         0  "
      ]
     },
     "execution_count": 16,
     "metadata": {},
     "output_type": "execute_result"
    }
   ],
   "source": [
    "obj_desc = frame.describe(include=['object']).T\n",
    "obj_desc['%missing'] = (1-obj_desc['count']/len(frame))*100\n",
    "obj_desc"
   ]
  },
  {
   "cell_type": "code",
   "execution_count": 17,
   "metadata": {},
   "outputs": [],
   "source": [
    "frame.dropna(subset=['price','localization_y','localization_x','area'], axis=0, inplace=True)"
   ]
  },
  {
   "cell_type": "code",
   "execution_count": 18,
   "metadata": {},
   "outputs": [],
   "source": [
    "frame.dropna(subset=['market','offer_type','rooms','floor'], axis=0, inplace=True)"
   ]
  },
  {
   "cell_type": "markdown",
   "metadata": {},
   "source": [
    "## dealing with missing data for 'floors', 'district', 'build_yr'"
   ]
  },
  {
   "cell_type": "code",
   "execution_count": 19,
   "metadata": {},
   "outputs": [],
   "source": [
    "frame.dropna(subset=['build_yr'], axis=0, inplace=True)"
   ]
  },
  {
   "cell_type": "code",
   "execution_count": 20,
   "metadata": {},
   "outputs": [
    {
     "data": {
      "text/plain": [
       "0.023404654654654654"
      ]
     },
     "execution_count": 20,
     "metadata": {},
     "output_type": "execute_result"
    }
   ],
   "source": [
    "len(frame[pd.isnull(frame.floors)])/len(frame)"
   ]
  },
  {
   "cell_type": "code",
   "execution_count": 21,
   "metadata": {},
   "outputs": [],
   "source": [
    "frame.dropna(subset=['floors'], axis=0, inplace=True)"
   ]
  },
  {
   "cell_type": "code",
   "execution_count": 22,
   "metadata": {},
   "outputs": [],
   "source": [
    "# district will be left with missing data"
   ]
  },
  {
   "cell_type": "code",
   "execution_count": 23,
   "metadata": {},
   "outputs": [
    {
     "data": {
      "text/plain": [
       "(52033, 14)"
      ]
     },
     "execution_count": 23,
     "metadata": {},
     "output_type": "execute_result"
    }
   ],
   "source": [
    "frame.shape"
   ]
  },
  {
   "cell_type": "markdown",
   "metadata": {},
   "source": [
    "## checking categorical data"
   ]
  },
  {
   "cell_type": "code",
   "execution_count": 24,
   "metadata": {},
   "outputs": [
    {
     "data": {
      "image/png": "[encoded data removed]",
      "text/plain": [
       "<Figure size 1080x720 with 6 Axes>"
      ]
     },
     "metadata": {},
     "output_type": "display_data"
    }
   ],
   "source": [
    "fig, axList = plt.subplots(nrows=2, ncols=3)\n",
    "axList = axList.flatten()\n",
    "fig.set_size_inches(15,10)\n",
    "\n",
    "catagorical_columns = [x for x in frame.columns if frame[x].dtype == 'object' and x not in ['city','district','url']]\n",
    "\n",
    "for ax, column in zip(axList, catagorical_columns):\n",
    "    frame[column].value_counts().plot(kind='barh', ax=ax, ylabel=column)\n",
    "    \n",
    "plt.tight_layout()"
   ]
  },
  {
   "cell_type": "code",
   "execution_count": 25,
   "metadata": {},
   "outputs": [],
   "source": [
    "frame.rooms.replace('więcej niż 8', '8', inplace=True)\n",
    "frame.rooms = frame.rooms.astype('int')"
   ]
  },
  {
   "cell_type": "code",
   "execution_count": 26,
   "metadata": {},
   "outputs": [],
   "source": [
    "frame.floor.replace(['niski parter','parter'], '0', inplace=True)\n",
    "frame.floor.replace('powyżej 30', '30', inplace=True)\n",
    "frame.drop(frame[frame.floor=='poddasze'].index, axis=0, inplace=True)\n",
    "frame.floor = frame.floor.astype('int')"
   ]
  },
  {
   "cell_type": "code",
   "execution_count": 27,
   "metadata": {},
   "outputs": [],
   "source": [
    "frame.floors.replace(['0 (parter)','powyżej 30'], ['0','30'], inplace=True)\n",
    "frame.floors = frame.floors.astype('int')"
   ]
  },
  {
   "cell_type": "code",
   "execution_count": 28,
   "metadata": {
    "scrolled": false
   },
   "outputs": [
    {
     "name": "stdout",
     "output_type": "stream",
     "text": [
      "<class 'pandas.core.frame.DataFrame'>\n",
      "Int64Index: 51967 entries, 1 to 98164\n",
      "Data columns (total 14 columns):\n",
      " #   Column          Non-Null Count  Dtype  \n",
      "---  ------          --------------  -----  \n",
      " 0   city            51967 non-null  object \n",
      " 1   district        44216 non-null  object \n",
      " 2   voivodeship     51967 non-null  object \n",
      " 3   localization_y  51967 non-null  float64\n",
      " 4   localization_x  51967 non-null  float64\n",
      " 5   market          51967 non-null  object \n",
      " 6   offer_type      51967 non-null  object \n",
      " 7   area            51967 non-null  float64\n",
      " 8   rooms           51967 non-null  int32  \n",
      " 9   floor           51967 non-null  int32  \n",
      " 10  floors          51967 non-null  int32  \n",
      " 11  build_yr        51967 non-null  float64\n",
      " 12  price           51967 non-null  float64\n",
      " 13  url             51967 non-null  object \n",
      "dtypes: float64(5), int32(3), object(6)\n",
      "memory usage: 5.4+ MB\n"
     ]
    }
   ],
   "source": [
    "frame.info()"
   ]
  },
  {
   "cell_type": "markdown",
   "metadata": {},
   "source": [
    "## adding custom column"
   ]
  },
  {
   "cell_type": "code",
   "execution_count": 29,
   "metadata": {},
   "outputs": [],
   "source": [
    "frame['price_of_sqm'] = frame.price / frame.area"
   ]
  },
  {
   "cell_type": "markdown",
   "metadata": {},
   "source": [
    "## dealing with outliers"
   ]
  },
  {
   "cell_type": "code",
   "execution_count": 30,
   "metadata": {},
   "outputs": [
    {
     "data": {
      "text/plain": [
       "{'area': (24.0, 168.26059999999967),\n",
       " 'build_yr': (1900.0, 2024.0),\n",
       " 'price': (180000.0, 2893960.4999999944),\n",
       " 'price_of_sqm': (3458.3162031438933, 27451.468435104638)}"
      ]
     },
     "execution_count": 30,
     "metadata": {},
     "output_type": "execute_result"
    }
   ],
   "source": [
    "# checking quantile values\n",
    "\n",
    "outliers_dict = dict()\n",
    "\n",
    "for column in ['area','build_yr','price','price_of_sqm']:\n",
    "    upper_quartile = np.nanpercentile(frame[column], 99.0)\n",
    "    lower_quartile = np.nanpercentile(frame[column], 1.0)\n",
    "#     iqr = upper_quartile - lower_quartile\n",
    "#     outliers_dict[column] = (lower_quartile-1.5*iqr, upper_quartile+1.5*iqr)\n",
    "    outliers_dict[column] = (lower_quartile, upper_quartile)\n",
    "\n",
    "outliers_dict"
   ]
  },
  {
   "cell_type": "code",
   "execution_count": 31,
   "metadata": {},
   "outputs": [
    {
     "data": {
      "text/html": [
       "<div>\n",
       "<style scoped>\n",
       "    .dataframe tbody tr th:only-of-type {\n",
       "        vertical-align: middle;\n",
       "    }\n",
       "\n",
       "    .dataframe tbody tr th {\n",
       "        vertical-align: top;\n",
       "    }\n",
       "\n",
       "    .dataframe thead th {\n",
       "        text-align: right;\n",
       "    }\n",
       "</style>\n",
       "<table border=\"1\" class=\"dataframe\">\n",
       "  <thead>\n",
       "    <tr style=\"text-align: right;\">\n",
       "      <th></th>\n",
       "      <th>count</th>\n",
       "      <th>mean</th>\n",
       "      <th>std</th>\n",
       "      <th>min</th>\n",
       "      <th>25%</th>\n",
       "      <th>50%</th>\n",
       "      <th>75%</th>\n",
       "      <th>max</th>\n",
       "    </tr>\n",
       "  </thead>\n",
       "  <tbody>\n",
       "    <tr>\n",
       "      <th>area</th>\n",
       "      <td>51967.0</td>\n",
       "      <td>61.121745</td>\n",
       "      <td>29.474299</td>\n",
       "      <td>12.000000</td>\n",
       "      <td>44.000000</td>\n",
       "      <td>55.440000</td>\n",
       "      <td>69.700000</td>\n",
       "      <td>7.520000e+02</td>\n",
       "    </tr>\n",
       "    <tr>\n",
       "      <th>build_yr</th>\n",
       "      <td>51967.0</td>\n",
       "      <td>1995.903496</td>\n",
       "      <td>33.327901</td>\n",
       "      <td>1200.000000</td>\n",
       "      <td>1978.000000</td>\n",
       "      <td>2010.000000</td>\n",
       "      <td>2022.000000</td>\n",
       "      <td>2.025000e+03</td>\n",
       "    </tr>\n",
       "    <tr>\n",
       "      <th>price</th>\n",
       "      <td>51967.0</td>\n",
       "      <td>664453.178344</td>\n",
       "      <td>600816.186181</td>\n",
       "      <td>75000.000000</td>\n",
       "      <td>399000.000000</td>\n",
       "      <td>530000.000000</td>\n",
       "      <td>720000.000000</td>\n",
       "      <td>2.135010e+07</td>\n",
       "    </tr>\n",
       "    <tr>\n",
       "      <th>price_of_sqm</th>\n",
       "      <td>51967.0</td>\n",
       "      <td>10828.806146</td>\n",
       "      <td>4819.490299</td>\n",
       "      <td>592.391304</td>\n",
       "      <td>7602.739726</td>\n",
       "      <td>9977.777778</td>\n",
       "      <td>12912.686519</td>\n",
       "      <td>9.598930e+04</td>\n",
       "    </tr>\n",
       "  </tbody>\n",
       "</table>\n",
       "</div>"
      ],
      "text/plain": [
       "                count           mean            std           min  \\\n",
       "area          51967.0      61.121745      29.474299     12.000000   \n",
       "build_yr      51967.0    1995.903496      33.327901   1200.000000   \n",
       "price         51967.0  664453.178344  600816.186181  75000.000000   \n",
       "price_of_sqm  51967.0   10828.806146    4819.490299    592.391304   \n",
       "\n",
       "                        25%            50%            75%           max  \n",
       "area              44.000000      55.440000      69.700000  7.520000e+02  \n",
       "build_yr        1978.000000    2010.000000    2022.000000  2.025000e+03  \n",
       "price         399000.000000  530000.000000  720000.000000  2.135010e+07  \n",
       "price_of_sqm    7602.739726    9977.777778   12912.686519  9.598930e+04  "
      ]
     },
     "execution_count": 31,
     "metadata": {},
     "output_type": "execute_result"
    }
   ],
   "source": [
    "frame[['area','build_yr','price','price_of_sqm']].describe().T"
   ]
  },
  {
   "cell_type": "code",
   "execution_count": 32,
   "metadata": {},
   "outputs": [],
   "source": [
    "outliers_dict['build_yr'] = (1900.0, 2024.0)"
   ]
  },
  {
   "cell_type": "code",
   "execution_count": 33,
   "metadata": {},
   "outputs": [],
   "source": [
    "for key in outliers_dict.keys():\n",
    "    frame.drop(frame[frame[key] < outliers_dict[key][0]].index, inplace = True)\n",
    "    frame.drop(frame[frame[key] > outliers_dict[key][1]].index, inplace = True)"
   ]
  },
  {
   "cell_type": "code",
   "execution_count": 34,
   "metadata": {},
   "outputs": [
    {
     "data": {
      "text/html": [
       "<div>\n",
       "<style scoped>\n",
       "    .dataframe tbody tr th:only-of-type {\n",
       "        vertical-align: middle;\n",
       "    }\n",
       "\n",
       "    .dataframe tbody tr th {\n",
       "        vertical-align: top;\n",
       "    }\n",
       "\n",
       "    .dataframe thead th {\n",
       "        text-align: right;\n",
       "    }\n",
       "</style>\n",
       "<table border=\"1\" class=\"dataframe\">\n",
       "  <thead>\n",
       "    <tr style=\"text-align: right;\">\n",
       "      <th></th>\n",
       "      <th>count</th>\n",
       "      <th>mean</th>\n",
       "      <th>std</th>\n",
       "      <th>min</th>\n",
       "      <th>25%</th>\n",
       "      <th>50%</th>\n",
       "      <th>75%</th>\n",
       "      <th>max</th>\n",
       "    </tr>\n",
       "  </thead>\n",
       "  <tbody>\n",
       "    <tr>\n",
       "      <th>area</th>\n",
       "      <td>49297.0</td>\n",
       "      <td>59.360291</td>\n",
       "      <td>22.407138</td>\n",
       "      <td>24.000000</td>\n",
       "      <td>44.490000</td>\n",
       "      <td>55.200000</td>\n",
       "      <td>68.600000</td>\n",
       "      <td>1.682300e+02</td>\n",
       "    </tr>\n",
       "    <tr>\n",
       "      <th>build_yr</th>\n",
       "      <td>49297.0</td>\n",
       "      <td>1997.709739</td>\n",
       "      <td>29.941068</td>\n",
       "      <td>1900.000000</td>\n",
       "      <td>1980.000000</td>\n",
       "      <td>2011.000000</td>\n",
       "      <td>2022.000000</td>\n",
       "      <td>2.024000e+03</td>\n",
       "    </tr>\n",
       "    <tr>\n",
       "      <th>price</th>\n",
       "      <td>49297.0</td>\n",
       "      <td>619336.134856</td>\n",
       "      <td>347293.316186</td>\n",
       "      <td>180000.000000</td>\n",
       "      <td>407232.000000</td>\n",
       "      <td>530000.000000</td>\n",
       "      <td>701300.000000</td>\n",
       "      <td>2.893425e+06</td>\n",
       "    </tr>\n",
       "    <tr>\n",
       "      <th>price_of_sqm</th>\n",
       "      <td>49297.0</td>\n",
       "      <td>10605.526654</td>\n",
       "      <td>4015.539006</td>\n",
       "      <td>3458.333333</td>\n",
       "      <td>7680.722892</td>\n",
       "      <td>9939.759036</td>\n",
       "      <td>12731.481481</td>\n",
       "      <td>2.743296e+04</td>\n",
       "    </tr>\n",
       "  </tbody>\n",
       "</table>\n",
       "</div>"
      ],
      "text/plain": [
       "                count           mean            std            min  \\\n",
       "area          49297.0      59.360291      22.407138      24.000000   \n",
       "build_yr      49297.0    1997.709739      29.941068    1900.000000   \n",
       "price         49297.0  619336.134856  347293.316186  180000.000000   \n",
       "price_of_sqm  49297.0   10605.526654    4015.539006    3458.333333   \n",
       "\n",
       "                        25%            50%            75%           max  \n",
       "area              44.490000      55.200000      68.600000  1.682300e+02  \n",
       "build_yr        1980.000000    2011.000000    2022.000000  2.024000e+03  \n",
       "price         407232.000000  530000.000000  701300.000000  2.893425e+06  \n",
       "price_of_sqm    7680.722892    9939.759036   12731.481481  2.743296e+04  "
      ]
     },
     "execution_count": 34,
     "metadata": {},
     "output_type": "execute_result"
    }
   ],
   "source": [
    "frame[['area','build_yr','price','price_of_sqm']].describe().T"
   ]
  },
  {
   "cell_type": "markdown",
   "metadata": {},
   "source": [
    "## dealing with outliers in localization"
   ]
  },
  {
   "cell_type": "code",
   "execution_count": 35,
   "metadata": {},
   "outputs": [
    {
     "data": {
      "text/plain": [
       "(-99.99999, 23.612565)"
      ]
     },
     "execution_count": 35,
     "metadata": {},
     "output_type": "execute_result"
    }
   ],
   "source": [
    "frame.localization_x.min(), frame.localization_x.max()"
   ]
  },
  {
   "cell_type": "code",
   "execution_count": 36,
   "metadata": {},
   "outputs": [
    {
     "data": {
      "text/plain": [
       "(-0.00274658, 85.05113)"
      ]
     },
     "execution_count": 36,
     "metadata": {},
     "output_type": "execute_result"
    }
   ],
   "source": [
    "frame.localization_y.min(), frame.localization_y.max()"
   ]
  },
  {
   "cell_type": "code",
   "execution_count": 37,
   "metadata": {},
   "outputs": [],
   "source": [
    "outliers_dict_2 = dict()\n",
    "outliers_dict_2['localization_x'] = (14,25)\n",
    "outliers_dict_2['localization_y'] = (48,55)"
   ]
  },
  {
   "cell_type": "code",
   "execution_count": 38,
   "metadata": {},
   "outputs": [],
   "source": [
    "for key in outliers_dict_2.keys():\n",
    "    frame.drop(frame[frame[key] < outliers_dict_2[key][0]].index, inplace = True)\n",
    "    frame.drop(frame[frame[key] > outliers_dict_2[key][1]].index, inplace = True)"
   ]
  },
  {
   "cell_type": "code",
   "execution_count": 39,
   "metadata": {},
   "outputs": [
    {
     "data": {
      "text/plain": [
       "32"
      ]
     },
     "execution_count": 39,
     "metadata": {},
     "output_type": "execute_result"
    }
   ],
   "source": [
    "len(frame[(frame.localization_x%1==0) | (frame.localization_y%1==0)])"
   ]
  },
  {
   "cell_type": "code",
   "execution_count": 40,
   "metadata": {},
   "outputs": [],
   "source": [
    "frame.drop(frame[(frame.localization_x%1==0) | (frame.localization_y%1==0)].index,inplace=True)"
   ]
  },
  {
   "cell_type": "markdown",
   "metadata": {},
   "source": [
    "## checking histograms"
   ]
  },
  {
   "cell_type": "code",
   "execution_count": 41,
   "metadata": {},
   "outputs": [
    {
     "data": {
      "image/png": "[encoded data removed]",
      "text/plain": [
       "<Figure size 1080x360 with 10 Axes>"
      ]
     },
     "metadata": {},
     "output_type": "display_data"
    }
   ],
   "source": [
    "fig, axList = plt.subplots(nrows=2, ncols=5)\n",
    "axList = axList.flatten()\n",
    "fig.set_size_inches(15,5)\n",
    "\n",
    "numeric_columns = [x for x in frame.columns if frame[x].dtype in ['float64','int32']]\n",
    "kurtosis_dict = dict(frame[numeric_columns].kurtosis())\n",
    "\n",
    "for ax, column in zip(axList, numeric_columns):\n",
    "    sns.histplot(frame, x=frame[column], ax=ax, bins=25)\n",
    "    ax.title.set_text(f'skew: {round(frame[column].skew(), 1)}, kurtosis: {round(kurtosis_dict[column], 2)}')\n",
    "    \n",
    "plt.tight_layout()"
   ]
  },
  {
   "cell_type": "markdown",
   "metadata": {},
   "source": [
    "## data summary"
   ]
  },
  {
   "cell_type": "code",
   "execution_count": 42,
   "metadata": {},
   "outputs": [
    {
     "data": {
      "text/html": [
       "<div>\n",
       "<style scoped>\n",
       "    .dataframe tbody tr th:only-of-type {\n",
       "        vertical-align: middle;\n",
       "    }\n",
       "\n",
       "    .dataframe tbody tr th {\n",
       "        vertical-align: top;\n",
       "    }\n",
       "\n",
       "    .dataframe thead th {\n",
       "        text-align: right;\n",
       "    }\n",
       "</style>\n",
       "<table border=\"1\" class=\"dataframe\">\n",
       "  <thead>\n",
       "    <tr style=\"text-align: right;\">\n",
       "      <th></th>\n",
       "      <th>count</th>\n",
       "      <th>mean</th>\n",
       "      <th>std</th>\n",
       "      <th>min</th>\n",
       "      <th>25%</th>\n",
       "      <th>50%</th>\n",
       "      <th>75%</th>\n",
       "      <th>max</th>\n",
       "    </tr>\n",
       "  </thead>\n",
       "  <tbody>\n",
       "    <tr>\n",
       "      <th>localization_y</th>\n",
       "      <td>49263.0</td>\n",
       "      <td>51.934690</td>\n",
       "      <td>1.420051</td>\n",
       "      <td>48.741100</td>\n",
       "      <td>50.837440</td>\n",
       "      <td>52.184300</td>\n",
       "      <td>52.533425</td>\n",
       "      <td>5.483224e+01</td>\n",
       "    </tr>\n",
       "    <tr>\n",
       "      <th>localization_x</th>\n",
       "      <td>49263.0</td>\n",
       "      <td>19.388761</td>\n",
       "      <td>1.880816</td>\n",
       "      <td>14.218489</td>\n",
       "      <td>18.368965</td>\n",
       "      <td>19.919131</td>\n",
       "      <td>20.973502</td>\n",
       "      <td>2.361257e+01</td>\n",
       "    </tr>\n",
       "    <tr>\n",
       "      <th>area</th>\n",
       "      <td>49263.0</td>\n",
       "      <td>59.359105</td>\n",
       "      <td>22.409410</td>\n",
       "      <td>24.000000</td>\n",
       "      <td>44.490000</td>\n",
       "      <td>55.200000</td>\n",
       "      <td>68.600000</td>\n",
       "      <td>1.682300e+02</td>\n",
       "    </tr>\n",
       "    <tr>\n",
       "      <th>rooms</th>\n",
       "      <td>49263.0</td>\n",
       "      <td>2.684165</td>\n",
       "      <td>0.929915</td>\n",
       "      <td>1.000000</td>\n",
       "      <td>2.000000</td>\n",
       "      <td>3.000000</td>\n",
       "      <td>3.000000</td>\n",
       "      <td>8.000000e+00</td>\n",
       "    </tr>\n",
       "    <tr>\n",
       "      <th>floor</th>\n",
       "      <td>49263.0</td>\n",
       "      <td>2.513266</td>\n",
       "      <td>2.564514</td>\n",
       "      <td>0.000000</td>\n",
       "      <td>1.000000</td>\n",
       "      <td>2.000000</td>\n",
       "      <td>3.000000</td>\n",
       "      <td>3.000000e+01</td>\n",
       "    </tr>\n",
       "    <tr>\n",
       "      <th>floors</th>\n",
       "      <td>49263.0</td>\n",
       "      <td>4.922802</td>\n",
       "      <td>3.332986</td>\n",
       "      <td>0.000000</td>\n",
       "      <td>3.000000</td>\n",
       "      <td>4.000000</td>\n",
       "      <td>6.000000</td>\n",
       "      <td>3.000000e+01</td>\n",
       "    </tr>\n",
       "    <tr>\n",
       "      <th>build_yr</th>\n",
       "      <td>49263.0</td>\n",
       "      <td>1997.714187</td>\n",
       "      <td>29.936368</td>\n",
       "      <td>1900.000000</td>\n",
       "      <td>1980.000000</td>\n",
       "      <td>2011.000000</td>\n",
       "      <td>2022.000000</td>\n",
       "      <td>2.024000e+03</td>\n",
       "    </tr>\n",
       "    <tr>\n",
       "      <th>price</th>\n",
       "      <td>49263.0</td>\n",
       "      <td>619429.061547</td>\n",
       "      <td>347359.774713</td>\n",
       "      <td>180000.000000</td>\n",
       "      <td>407502.000000</td>\n",
       "      <td>530025.000000</td>\n",
       "      <td>701300.000000</td>\n",
       "      <td>2.893425e+06</td>\n",
       "    </tr>\n",
       "    <tr>\n",
       "      <th>price_of_sqm</th>\n",
       "      <td>49263.0</td>\n",
       "      <td>10607.193547</td>\n",
       "      <td>4015.768293</td>\n",
       "      <td>3458.333333</td>\n",
       "      <td>7681.818182</td>\n",
       "      <td>9940.005651</td>\n",
       "      <td>12735.139035</td>\n",
       "      <td>2.743296e+04</td>\n",
       "    </tr>\n",
       "  </tbody>\n",
       "</table>\n",
       "</div>"
      ],
      "text/plain": [
       "                  count           mean            std            min  \\\n",
       "localization_y  49263.0      51.934690       1.420051      48.741100   \n",
       "localization_x  49263.0      19.388761       1.880816      14.218489   \n",
       "area            49263.0      59.359105      22.409410      24.000000   \n",
       "rooms           49263.0       2.684165       0.929915       1.000000   \n",
       "floor           49263.0       2.513266       2.564514       0.000000   \n",
       "floors          49263.0       4.922802       3.332986       0.000000   \n",
       "build_yr        49263.0    1997.714187      29.936368    1900.000000   \n",
       "price           49263.0  619429.061547  347359.774713  180000.000000   \n",
       "price_of_sqm    49263.0   10607.193547    4015.768293    3458.333333   \n",
       "\n",
       "                          25%            50%            75%           max  \n",
       "localization_y      50.837440      52.184300      52.533425  5.483224e+01  \n",
       "localization_x      18.368965      19.919131      20.973502  2.361257e+01  \n",
       "area                44.490000      55.200000      68.600000  1.682300e+02  \n",
       "rooms                2.000000       3.000000       3.000000  8.000000e+00  \n",
       "floor                1.000000       2.000000       3.000000  3.000000e+01  \n",
       "floors               3.000000       4.000000       6.000000  3.000000e+01  \n",
       "build_yr          1980.000000    2011.000000    2022.000000  2.024000e+03  \n",
       "price           407502.000000  530025.000000  701300.000000  2.893425e+06  \n",
       "price_of_sqm      7681.818182    9940.005651   12735.139035  2.743296e+04  "
      ]
     },
     "execution_count": 42,
     "metadata": {},
     "output_type": "execute_result"
    }
   ],
   "source": [
    "frame.describe().T"
   ]
  },
  {
   "cell_type": "code",
   "execution_count": 43,
   "metadata": {},
   "outputs": [
    {
     "data": {
      "text/html": [
       "<div>\n",
       "<style scoped>\n",
       "    .dataframe tbody tr th:only-of-type {\n",
       "        vertical-align: middle;\n",
       "    }\n",
       "\n",
       "    .dataframe tbody tr th {\n",
       "        vertical-align: top;\n",
       "    }\n",
       "\n",
       "    .dataframe thead th {\n",
       "        text-align: right;\n",
       "    }\n",
       "</style>\n",
       "<table border=\"1\" class=\"dataframe\">\n",
       "  <thead>\n",
       "    <tr style=\"text-align: right;\">\n",
       "      <th></th>\n",
       "      <th>count</th>\n",
       "      <th>unique</th>\n",
       "      <th>top</th>\n",
       "      <th>freq</th>\n",
       "    </tr>\n",
       "  </thead>\n",
       "  <tbody>\n",
       "    <tr>\n",
       "      <th>city</th>\n",
       "      <td>49263</td>\n",
       "      <td>876</td>\n",
       "      <td>Warszawa</td>\n",
       "      <td>11568</td>\n",
       "    </tr>\n",
       "    <tr>\n",
       "      <th>district</th>\n",
       "      <td>41912</td>\n",
       "      <td>1011</td>\n",
       "      <td>Śródmieście</td>\n",
       "      <td>2194</td>\n",
       "    </tr>\n",
       "    <tr>\n",
       "      <th>voivodeship</th>\n",
       "      <td>49263</td>\n",
       "      <td>16</td>\n",
       "      <td>mazowieckie</td>\n",
       "      <td>13944</td>\n",
       "    </tr>\n",
       "    <tr>\n",
       "      <th>market</th>\n",
       "      <td>49263</td>\n",
       "      <td>2</td>\n",
       "      <td>aftermarket</td>\n",
       "      <td>34578</td>\n",
       "    </tr>\n",
       "    <tr>\n",
       "      <th>offer_type</th>\n",
       "      <td>49263</td>\n",
       "      <td>1</td>\n",
       "      <td>sprzedaz</td>\n",
       "      <td>49263</td>\n",
       "    </tr>\n",
       "    <tr>\n",
       "      <th>url</th>\n",
       "      <td>49263</td>\n",
       "      <td>49263</td>\n",
       "      <td>https://gratka.pl/nieruchomosci/mieszkanie-warszawa-srodmiescie-ul-antonia-corazziego/ob/26430279</td>\n",
       "      <td>1</td>\n",
       "    </tr>\n",
       "  </tbody>\n",
       "</table>\n",
       "</div>"
      ],
      "text/plain": [
       "             count unique  \\\n",
       "city         49263    876   \n",
       "district     41912   1011   \n",
       "voivodeship  49263     16   \n",
       "market       49263      2   \n",
       "offer_type   49263      1   \n",
       "url          49263  49263   \n",
       "\n",
       "                                                                                                           top  \\\n",
       "city                                                                                                  Warszawa   \n",
       "district                                                                                           Śródmieście   \n",
       "voivodeship                                                                                        mazowieckie   \n",
       "market                                                                                             aftermarket   \n",
       "offer_type                                                                                            sprzedaz   \n",
       "url          https://gratka.pl/nieruchomosci/mieszkanie-warszawa-srodmiescie-ul-antonia-corazziego/ob/26430279   \n",
       "\n",
       "              freq  \n",
       "city         11568  \n",
       "district      2194  \n",
       "voivodeship  13944  \n",
       "market       34578  \n",
       "offer_type   49263  \n",
       "url              1  "
      ]
     },
     "execution_count": 43,
     "metadata": {},
     "output_type": "execute_result"
    }
   ],
   "source": [
    "frame.describe(include=['object']).T"
   ]
  },
  {
   "cell_type": "code",
   "execution_count": 44,
   "metadata": {},
   "outputs": [],
   "source": [
    "frame.reset_index(drop=True, inplace=True)"
   ]
  },
  {
   "cell_type": "code",
   "execution_count": 45,
   "metadata": {},
   "outputs": [
    {
     "name": "stdout",
     "output_type": "stream",
     "text": [
      "<class 'pandas.core.frame.DataFrame'>\n",
      "RangeIndex: 49263 entries, 0 to 49262\n",
      "Data columns (total 15 columns):\n",
      " #   Column          Non-Null Count  Dtype  \n",
      "---  ------          --------------  -----  \n",
      " 0   city            49263 non-null  object \n",
      " 1   district        41912 non-null  object \n",
      " 2   voivodeship     49263 non-null  object \n",
      " 3   localization_y  49263 non-null  float64\n",
      " 4   localization_x  49263 non-null  float64\n",
      " 5   market          49263 non-null  object \n",
      " 6   offer_type      49263 non-null  object \n",
      " 7   area            49263 non-null  float64\n",
      " 8   rooms           49263 non-null  int32  \n",
      " 9   floor           49263 non-null  int32  \n",
      " 10  floors          49263 non-null  int32  \n",
      " 11  build_yr        49263 non-null  float64\n",
      " 12  price           49263 non-null  float64\n",
      " 13  url             49263 non-null  object \n",
      " 14  price_of_sqm    49263 non-null  float64\n",
      "dtypes: float64(6), int32(3), object(6)\n",
      "memory usage: 5.1+ MB\n"
     ]
    }
   ],
   "source": [
    "frame.info()"
   ]
  },
  {
   "cell_type": "markdown",
   "metadata": {},
   "source": [
    "## saving the frame"
   ]
  },
  {
   "cell_type": "code",
   "execution_count": 46,
   "metadata": {},
   "outputs": [],
   "source": [
    "outfile = open('apartment_data_frame','wb')\n",
    "pkl.dump(frame, outfile)\n",
    "outfile.close()"
   ]
  },
  {
   "cell_type": "code",
   "execution_count": null,
   "metadata": {},
   "outputs": [],
   "source": []
  }
 ],
 "metadata": {
  "kernelspec": {
   "display_name": "Python 3",
   "language": "python",
   "name": "python3"
  },
  "language_info": {
   "codemirror_mode": {
    "name": "ipython",
    "version": 3
   },
   "file_extension": ".py",
   "mimetype": "text/x-python",
   "name": "python",
   "nbconvert_exporter": "python",
   "pygments_lexer": "ipython3",
   "version": "3.6.12"
  }
 },
 "nbformat": 4,
 "nbformat_minor": 4
}
