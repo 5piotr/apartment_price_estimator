{
 "cells": [
  {
   "cell_type": "code",
   "execution_count": 1,
   "metadata": {},
   "outputs": [],
   "source": [
    "import os\n",
    "import pandas as pd\n",
    "import numpy as np\n",
    "import pickle as pkl\n",
    "import seaborn as sns\n",
    "sns.set_theme(palette=sns.color_palette('Set2'))\n",
    "import matplotlib.pyplot as plt\n",
    "from sqlalchemy import create_engine"
   ]
  },
  {
   "cell_type": "code",
   "execution_count": 2,
   "metadata": {},
   "outputs": [],
   "source": [
    "pd.options.display.max_columns = 30\n",
    "pd.options.display.max_colwidth = 150"
   ]
  },
  {
   "cell_type": "markdown",
   "metadata": {},
   "source": [
    "## data import"
   ]
  },
  {
   "cell_type": "code",
   "execution_count": 3,
   "metadata": {},
   "outputs": [],
   "source": [
    "# frame = pd.read_csv('..//1_web_scraping//apartment_details.csv')"
   ]
  },
  {
   "cell_type": "code",
   "execution_count": 48,
   "metadata": {},
   "outputs": [],
   "source": [
    "query = '''\n",
    "    select * from apt_details_raw\n",
    "    where date = (select max(date) from apt_details_raw)\n",
    "    '''\n",
    "\n",
    "username = 'piotr'\n",
    "password = os.environ['MYSQL_PASSWORD']\n",
    "host = 'localhost'\n",
    "db_name = 'airflow_db'\n",
    "db_url = f'mysql+mysqlconnector://{username}:{password}@{host}/{db_name}'\n",
    "\n",
    "engine = create_engine(db_url)\n",
    "\n",
    "with engine.connect() as conn:\n",
    "    frame = pd.read_sql_query(sql=query, con=conn, index_col='id')\n",
    "\n",
    "frame.drop(['date'], axis=1, inplace=True)\n",
    "\n",
    "for column in ['localization_y','localization_x','area','build_yr']:\n",
    "    frame[column] = frame[column].astype('float')"
   ]
  },
  {
   "cell_type": "code",
   "execution_count": 49,
   "metadata": {},
   "outputs": [
    {
     "data": {
      "text/html": [
       "<div>\n",
       "<style scoped>\n",
       "    .dataframe tbody tr th:only-of-type {\n",
       "        vertical-align: middle;\n",
       "    }\n",
       "\n",
       "    .dataframe tbody tr th {\n",
       "        vertical-align: top;\n",
       "    }\n",
       "\n",
       "    .dataframe thead th {\n",
       "        text-align: right;\n",
       "    }\n",
       "</style>\n",
       "<table border=\"1\" class=\"dataframe\">\n",
       "  <thead>\n",
       "    <tr style=\"text-align: right;\">\n",
       "      <th></th>\n",
       "      <th>city</th>\n",
       "      <th>district</th>\n",
       "      <th>voivodeship</th>\n",
       "      <th>localization_y</th>\n",
       "      <th>localization_x</th>\n",
       "      <th>market</th>\n",
       "      <th>offer_type</th>\n",
       "      <th>area</th>\n",
       "      <th>rooms</th>\n",
       "      <th>floor</th>\n",
       "      <th>floors</th>\n",
       "      <th>build_yr</th>\n",
       "      <th>price</th>\n",
       "      <th>url</th>\n",
       "    </tr>\n",
       "    <tr>\n",
       "      <th>id</th>\n",
       "      <th></th>\n",
       "      <th></th>\n",
       "      <th></th>\n",
       "      <th></th>\n",
       "      <th></th>\n",
       "      <th></th>\n",
       "      <th></th>\n",
       "      <th></th>\n",
       "      <th></th>\n",
       "      <th></th>\n",
       "      <th></th>\n",
       "      <th></th>\n",
       "      <th></th>\n",
       "      <th></th>\n",
       "    </tr>\n",
       "  </thead>\n",
       "  <tbody>\n",
       "    <tr>\n",
       "      <th>0</th>\n",
       "      <td>Zakopane</td>\n",
       "      <td>tatrzański</td>\n",
       "      <td>małopolskie</td>\n",
       "      <td>49.299181</td>\n",
       "      <td>19.949562</td>\n",
       "      <td>pierwotny</td>\n",
       "      <td>sprzedaz</td>\n",
       "      <td>13.00</td>\n",
       "      <td>1</td>\n",
       "      <td>1</td>\n",
       "      <td>2</td>\n",
       "      <td>NaN</td>\n",
       "      <td>299999</td>\n",
       "      <td>https://gratka.pl/nieruchomosci/nowe-mieszkanie-zakopane-ul-krzeptowki/ob/33222047</td>\n",
       "    </tr>\n",
       "    <tr>\n",
       "      <th>0</th>\n",
       "      <td>Wrocław</td>\n",
       "      <td>Stare Miasto</td>\n",
       "      <td>dolnośląskie</td>\n",
       "      <td>51.111980</td>\n",
       "      <td>17.031187</td>\n",
       "      <td>wtorny</td>\n",
       "      <td>sprzedaz</td>\n",
       "      <td>19.00</td>\n",
       "      <td>1</td>\n",
       "      <td>parter</td>\n",
       "      <td>4</td>\n",
       "      <td>1930.0</td>\n",
       "      <td>375000</td>\n",
       "      <td>https://gratka.pl/nieruchomosci/mieszkanie-wroclaw-stare-miasto-ul-odrzanska/ob/33007209</td>\n",
       "    </tr>\n",
       "    <tr>\n",
       "      <th>0</th>\n",
       "      <td>Kraków</td>\n",
       "      <td>Stare Miasto</td>\n",
       "      <td>małopolskie</td>\n",
       "      <td>50.073995</td>\n",
       "      <td>19.946945</td>\n",
       "      <td>wtorny</td>\n",
       "      <td>sprzedaz</td>\n",
       "      <td>16.03</td>\n",
       "      <td>1</td>\n",
       "      <td>3</td>\n",
       "      <td>4</td>\n",
       "      <td>2023.0</td>\n",
       "      <td>356667</td>\n",
       "      <td>https://gratka.pl/nieruchomosci/mieszkanie-krakow-stare-miasto-ul-zelazna/ob/31022665</td>\n",
       "    </tr>\n",
       "    <tr>\n",
       "      <th>0</th>\n",
       "      <td>Warszawa</td>\n",
       "      <td>Mokotów</td>\n",
       "      <td>mazowieckie</td>\n",
       "      <td>52.195588</td>\n",
       "      <td>21.023771</td>\n",
       "      <td>wtorny</td>\n",
       "      <td>sprzedaz</td>\n",
       "      <td>19.00</td>\n",
       "      <td>1</td>\n",
       "      <td>2</td>\n",
       "      <td>6</td>\n",
       "      <td>1958.0</td>\n",
       "      <td>521000</td>\n",
       "      <td>https://gratka.pl/nieruchomosci/mieszkanie-warszawa-mokotow-ul-pulawska/ob/33301239</td>\n",
       "    </tr>\n",
       "    <tr>\n",
       "      <th>0</th>\n",
       "      <td>Warszawa</td>\n",
       "      <td>Śródmieście</td>\n",
       "      <td>mazowieckie</td>\n",
       "      <td>52.229676</td>\n",
       "      <td>21.012229</td>\n",
       "      <td>wtorny</td>\n",
       "      <td>sprzedaz</td>\n",
       "      <td>20.00</td>\n",
       "      <td>1</td>\n",
       "      <td>9</td>\n",
       "      <td>None</td>\n",
       "      <td>1966.0</td>\n",
       "      <td>600000</td>\n",
       "      <td>https://gratka.pl/nieruchomosci/mieszkanie-warszawa-srodmiescie/ob/33233857</td>\n",
       "    </tr>\n",
       "  </tbody>\n",
       "</table>\n",
       "</div>"
      ],
      "text/plain": [
       "        city      district   voivodeship  localization_y  localization_x  \\\n",
       "id                                                                         \n",
       "0   Zakopane    tatrzański   małopolskie       49.299181       19.949562   \n",
       "0    Wrocław  Stare Miasto  dolnośląskie       51.111980       17.031187   \n",
       "0     Kraków  Stare Miasto   małopolskie       50.073995       19.946945   \n",
       "0   Warszawa       Mokotów   mazowieckie       52.195588       21.023771   \n",
       "0   Warszawa   Śródmieście   mazowieckie       52.229676       21.012229   \n",
       "\n",
       "       market offer_type   area rooms   floor floors  build_yr   price  \\\n",
       "id                                                                       \n",
       "0   pierwotny   sprzedaz  13.00     1       1      2       NaN  299999   \n",
       "0      wtorny   sprzedaz  19.00     1  parter      4    1930.0  375000   \n",
       "0      wtorny   sprzedaz  16.03     1       3      4    2023.0  356667   \n",
       "0      wtorny   sprzedaz  19.00     1       2      6    1958.0  521000   \n",
       "0      wtorny   sprzedaz  20.00     1       9   None    1966.0  600000   \n",
       "\n",
       "                                                                                         url  \n",
       "id                                                                                            \n",
       "0         https://gratka.pl/nieruchomosci/nowe-mieszkanie-zakopane-ul-krzeptowki/ob/33222047  \n",
       "0   https://gratka.pl/nieruchomosci/mieszkanie-wroclaw-stare-miasto-ul-odrzanska/ob/33007209  \n",
       "0      https://gratka.pl/nieruchomosci/mieszkanie-krakow-stare-miasto-ul-zelazna/ob/31022665  \n",
       "0        https://gratka.pl/nieruchomosci/mieszkanie-warszawa-mokotow-ul-pulawska/ob/33301239  \n",
       "0                https://gratka.pl/nieruchomosci/mieszkanie-warszawa-srodmiescie/ob/33233857  "
      ]
     },
     "execution_count": 49,
     "metadata": {},
     "output_type": "execute_result"
    }
   ],
   "source": [
    "frame.head()"
   ]
  },
  {
   "cell_type": "code",
   "execution_count": 50,
   "metadata": {},
   "outputs": [
    {
     "name": "stdout",
     "output_type": "stream",
     "text": [
      "<class 'pandas.core.frame.DataFrame'>\n",
      "Index: 439 entries, 0 to 0\n",
      "Data columns (total 14 columns):\n",
      " #   Column          Non-Null Count  Dtype  \n",
      "---  ------          --------------  -----  \n",
      " 0   city            439 non-null    object \n",
      " 1   district        387 non-null    object \n",
      " 2   voivodeship     439 non-null    object \n",
      " 3   localization_y  414 non-null    float64\n",
      " 4   localization_x  414 non-null    float64\n",
      " 5   market          364 non-null    object \n",
      " 6   offer_type      364 non-null    object \n",
      " 7   area            402 non-null    float64\n",
      " 8   rooms           438 non-null    object \n",
      " 9   floor           399 non-null    object \n",
      " 10  floors          383 non-null    object \n",
      " 11  build_yr        201 non-null    float64\n",
      " 12  price           439 non-null    object \n",
      " 13  url             439 non-null    object \n",
      "dtypes: float64(4), object(10)\n",
      "memory usage: 51.4+ KB\n"
     ]
    }
   ],
   "source": [
    "frame.info()"
   ]
  },
  {
   "cell_type": "code",
   "execution_count": 51,
   "metadata": {},
   "outputs": [
    {
     "data": {
      "text/html": [
       "<div>\n",
       "<style scoped>\n",
       "    .dataframe tbody tr th:only-of-type {\n",
       "        vertical-align: middle;\n",
       "    }\n",
       "\n",
       "    .dataframe tbody tr th {\n",
       "        vertical-align: top;\n",
       "    }\n",
       "\n",
       "    .dataframe thead th {\n",
       "        text-align: right;\n",
       "    }\n",
       "</style>\n",
       "<table border=\"1\" class=\"dataframe\">\n",
       "  <thead>\n",
       "    <tr style=\"text-align: right;\">\n",
       "      <th></th>\n",
       "      <th>count</th>\n",
       "      <th>mean</th>\n",
       "      <th>std</th>\n",
       "      <th>min</th>\n",
       "      <th>25%</th>\n",
       "      <th>50%</th>\n",
       "      <th>75%</th>\n",
       "      <th>max</th>\n",
       "    </tr>\n",
       "  </thead>\n",
       "  <tbody>\n",
       "    <tr>\n",
       "      <th>localization_y</th>\n",
       "      <td>414.0</td>\n",
       "      <td>51.654885</td>\n",
       "      <td>1.400859</td>\n",
       "      <td>49.281157</td>\n",
       "      <td>50.082281</td>\n",
       "      <td>52.171892</td>\n",
       "      <td>52.238328</td>\n",
       "      <td>54.554022</td>\n",
       "    </tr>\n",
       "    <tr>\n",
       "      <th>localization_x</th>\n",
       "      <td>414.0</td>\n",
       "      <td>19.616459</td>\n",
       "      <td>1.584382</td>\n",
       "      <td>14.241210</td>\n",
       "      <td>18.646600</td>\n",
       "      <td>19.947715</td>\n",
       "      <td>20.849221</td>\n",
       "      <td>23.791770</td>\n",
       "    </tr>\n",
       "    <tr>\n",
       "      <th>area</th>\n",
       "      <td>402.0</td>\n",
       "      <td>17.545274</td>\n",
       "      <td>1.934595</td>\n",
       "      <td>10.000000</td>\n",
       "      <td>16.200000</td>\n",
       "      <td>17.670000</td>\n",
       "      <td>19.000000</td>\n",
       "      <td>20.000000</td>\n",
       "    </tr>\n",
       "    <tr>\n",
       "      <th>build_yr</th>\n",
       "      <td>201.0</td>\n",
       "      <td>1986.945274</td>\n",
       "      <td>40.288733</td>\n",
       "      <td>1896.000000</td>\n",
       "      <td>1958.000000</td>\n",
       "      <td>2010.000000</td>\n",
       "      <td>2023.000000</td>\n",
       "      <td>2025.000000</td>\n",
       "    </tr>\n",
       "  </tbody>\n",
       "</table>\n",
       "</div>"
      ],
      "text/plain": [
       "                count         mean        std          min          25%  \\\n",
       "localization_y  414.0    51.654885   1.400859    49.281157    50.082281   \n",
       "localization_x  414.0    19.616459   1.584382    14.241210    18.646600   \n",
       "area            402.0    17.545274   1.934595    10.000000    16.200000   \n",
       "build_yr        201.0  1986.945274  40.288733  1896.000000  1958.000000   \n",
       "\n",
       "                        50%          75%          max  \n",
       "localization_y    52.171892    52.238328    54.554022  \n",
       "localization_x    19.947715    20.849221    23.791770  \n",
       "area              17.670000    19.000000    20.000000  \n",
       "build_yr        2010.000000  2023.000000  2025.000000  "
      ]
     },
     "execution_count": 51,
     "metadata": {},
     "output_type": "execute_result"
    }
   ],
   "source": [
    "frame.describe().T"
   ]
  },
  {
   "cell_type": "code",
   "execution_count": 52,
   "metadata": {},
   "outputs": [
    {
     "data": {
      "text/plain": [
       "True"
      ]
     },
     "execution_count": 52,
     "metadata": {},
     "output_type": "execute_result"
    }
   ],
   "source": [
    "len(frame) == len(frame.drop_duplicates())"
   ]
  },
  {
   "cell_type": "code",
   "execution_count": 53,
   "metadata": {},
   "outputs": [
    {
     "data": {
      "text/plain": [
       "offer_type\n",
       "sprzedaz    1.0\n",
       "Name: proportion, dtype: float64"
      ]
     },
     "execution_count": 53,
     "metadata": {},
     "output_type": "execute_result"
    }
   ],
   "source": [
    "frame.offer_type.value_counts(normalize=True)"
   ]
  },
  {
   "cell_type": "markdown",
   "metadata": {},
   "source": [
    "## renaming market type"
   ]
  },
  {
   "cell_type": "code",
   "execution_count": 54,
   "metadata": {},
   "outputs": [],
   "source": [
    "frame.market.replace(['pierwotny','wtorny'], ['primary_market','aftermarket'], inplace=True)"
   ]
  },
  {
   "cell_type": "markdown",
   "metadata": {},
   "source": [
    "## removing foreign locations"
   ]
  },
  {
   "cell_type": "code",
   "execution_count": 55,
   "metadata": {
    "scrolled": true
   },
   "outputs": [
    {
     "data": {
      "text/plain": [
       "0.0"
      ]
     },
     "execution_count": 55,
     "metadata": {},
     "output_type": "execute_result"
    }
   ],
   "source": [
    "len(frame[frame.voivodeship=='zagranica'])/len(frame)"
   ]
  },
  {
   "cell_type": "code",
   "execution_count": 56,
   "metadata": {},
   "outputs": [],
   "source": [
    "frame.drop(frame[frame.voivodeship=='zagranica'].index, inplace=True)"
   ]
  },
  {
   "cell_type": "markdown",
   "metadata": {},
   "source": [
    "## removing data with no price"
   ]
  },
  {
   "cell_type": "code",
   "execution_count": 57,
   "metadata": {},
   "outputs": [
    {
     "data": {
      "text/plain": [
       "0.1867881548974943"
      ]
     },
     "execution_count": 57,
     "metadata": {},
     "output_type": "execute_result"
    }
   ],
   "source": [
    "frame.price.value_counts(normalize=True).loc['Zapytajoce']"
   ]
  },
  {
   "cell_type": "code",
   "execution_count": 58,
   "metadata": {},
   "outputs": [
    {
     "data": {
      "text/html": [
       "<div>\n",
       "<style scoped>\n",
       "    .dataframe tbody tr th:only-of-type {\n",
       "        vertical-align: middle;\n",
       "    }\n",
       "\n",
       "    .dataframe tbody tr th {\n",
       "        vertical-align: top;\n",
       "    }\n",
       "\n",
       "    .dataframe thead th {\n",
       "        text-align: right;\n",
       "    }\n",
       "</style>\n",
       "<table border=\"1\" class=\"dataframe\">\n",
       "  <thead>\n",
       "    <tr style=\"text-align: right;\">\n",
       "      <th></th>\n",
       "      <th>city</th>\n",
       "      <th>district</th>\n",
       "      <th>voivodeship</th>\n",
       "      <th>localization_y</th>\n",
       "      <th>localization_x</th>\n",
       "      <th>market</th>\n",
       "      <th>offer_type</th>\n",
       "      <th>area</th>\n",
       "      <th>rooms</th>\n",
       "      <th>floor</th>\n",
       "      <th>floors</th>\n",
       "      <th>build_yr</th>\n",
       "      <th>price</th>\n",
       "      <th>url</th>\n",
       "    </tr>\n",
       "    <tr>\n",
       "      <th>id</th>\n",
       "      <th></th>\n",
       "      <th></th>\n",
       "      <th></th>\n",
       "      <th></th>\n",
       "      <th></th>\n",
       "      <th></th>\n",
       "      <th></th>\n",
       "      <th></th>\n",
       "      <th></th>\n",
       "      <th></th>\n",
       "      <th></th>\n",
       "      <th></th>\n",
       "      <th></th>\n",
       "      <th></th>\n",
       "    </tr>\n",
       "  </thead>\n",
       "  <tbody>\n",
       "    <tr>\n",
       "      <th>0</th>\n",
       "      <td>Zakopane</td>\n",
       "      <td>tatrzański</td>\n",
       "      <td>małopolskie</td>\n",
       "      <td>49.299181</td>\n",
       "      <td>19.949562</td>\n",
       "      <td>primary_market</td>\n",
       "      <td>sprzedaz</td>\n",
       "      <td>13.00</td>\n",
       "      <td>1</td>\n",
       "      <td>1</td>\n",
       "      <td>2</td>\n",
       "      <td>NaN</td>\n",
       "      <td>299999</td>\n",
       "      <td>https://gratka.pl/nieruchomosci/nowe-mieszkanie-zakopane-ul-krzeptowki/ob/33222047</td>\n",
       "    </tr>\n",
       "    <tr>\n",
       "      <th>0</th>\n",
       "      <td>Wrocław</td>\n",
       "      <td>Stare Miasto</td>\n",
       "      <td>dolnośląskie</td>\n",
       "      <td>51.111980</td>\n",
       "      <td>17.031187</td>\n",
       "      <td>aftermarket</td>\n",
       "      <td>sprzedaz</td>\n",
       "      <td>19.00</td>\n",
       "      <td>1</td>\n",
       "      <td>parter</td>\n",
       "      <td>4</td>\n",
       "      <td>1930.0</td>\n",
       "      <td>375000</td>\n",
       "      <td>https://gratka.pl/nieruchomosci/mieszkanie-wroclaw-stare-miasto-ul-odrzanska/ob/33007209</td>\n",
       "    </tr>\n",
       "    <tr>\n",
       "      <th>0</th>\n",
       "      <td>Kraków</td>\n",
       "      <td>Stare Miasto</td>\n",
       "      <td>małopolskie</td>\n",
       "      <td>50.073995</td>\n",
       "      <td>19.946945</td>\n",
       "      <td>aftermarket</td>\n",
       "      <td>sprzedaz</td>\n",
       "      <td>16.03</td>\n",
       "      <td>1</td>\n",
       "      <td>3</td>\n",
       "      <td>4</td>\n",
       "      <td>2023.0</td>\n",
       "      <td>356667</td>\n",
       "      <td>https://gratka.pl/nieruchomosci/mieszkanie-krakow-stare-miasto-ul-zelazna/ob/31022665</td>\n",
       "    </tr>\n",
       "    <tr>\n",
       "      <th>0</th>\n",
       "      <td>Warszawa</td>\n",
       "      <td>Mokotów</td>\n",
       "      <td>mazowieckie</td>\n",
       "      <td>52.195588</td>\n",
       "      <td>21.023771</td>\n",
       "      <td>aftermarket</td>\n",
       "      <td>sprzedaz</td>\n",
       "      <td>19.00</td>\n",
       "      <td>1</td>\n",
       "      <td>2</td>\n",
       "      <td>6</td>\n",
       "      <td>1958.0</td>\n",
       "      <td>521000</td>\n",
       "      <td>https://gratka.pl/nieruchomosci/mieszkanie-warszawa-mokotow-ul-pulawska/ob/33301239</td>\n",
       "    </tr>\n",
       "    <tr>\n",
       "      <th>0</th>\n",
       "      <td>Warszawa</td>\n",
       "      <td>Śródmieście</td>\n",
       "      <td>mazowieckie</td>\n",
       "      <td>52.229676</td>\n",
       "      <td>21.012229</td>\n",
       "      <td>aftermarket</td>\n",
       "      <td>sprzedaz</td>\n",
       "      <td>20.00</td>\n",
       "      <td>1</td>\n",
       "      <td>9</td>\n",
       "      <td>None</td>\n",
       "      <td>1966.0</td>\n",
       "      <td>600000</td>\n",
       "      <td>https://gratka.pl/nieruchomosci/mieszkanie-warszawa-srodmiescie/ob/33233857</td>\n",
       "    </tr>\n",
       "    <tr>\n",
       "      <th>...</th>\n",
       "      <td>...</td>\n",
       "      <td>...</td>\n",
       "      <td>...</td>\n",
       "      <td>...</td>\n",
       "      <td>...</td>\n",
       "      <td>...</td>\n",
       "      <td>...</td>\n",
       "      <td>...</td>\n",
       "      <td>...</td>\n",
       "      <td>...</td>\n",
       "      <td>...</td>\n",
       "      <td>...</td>\n",
       "      <td>...</td>\n",
       "      <td>...</td>\n",
       "    </tr>\n",
       "    <tr>\n",
       "      <th>0</th>\n",
       "      <td>Wadowice</td>\n",
       "      <td>os. XX- lecia</td>\n",
       "      <td>małopolskie</td>\n",
       "      <td>NaN</td>\n",
       "      <td>NaN</td>\n",
       "      <td>None</td>\n",
       "      <td>None</td>\n",
       "      <td>NaN</td>\n",
       "      <td>3</td>\n",
       "      <td>None</td>\n",
       "      <td>None</td>\n",
       "      <td>NaN</td>\n",
       "      <td>408000</td>\n",
       "      <td>https://gratka.pl/nieruchomosci/mieszkanie-wadowice-os-xx-lecia/oi/33255863</td>\n",
       "    </tr>\n",
       "    <tr>\n",
       "      <th>0</th>\n",
       "      <td>Warszawa</td>\n",
       "      <td>Wola</td>\n",
       "      <td>mazowieckie</td>\n",
       "      <td>52.225810</td>\n",
       "      <td>20.944630</td>\n",
       "      <td>aftermarket</td>\n",
       "      <td>sprzedaz</td>\n",
       "      <td>15.00</td>\n",
       "      <td>1</td>\n",
       "      <td>6</td>\n",
       "      <td>10</td>\n",
       "      <td>2018.0</td>\n",
       "      <td>360000</td>\n",
       "      <td>https://gratka.pl/nieruchomosci/mieszkanie-warszawa-wola-ul-wolska/ob/32617879</td>\n",
       "    </tr>\n",
       "    <tr>\n",
       "      <th>0</th>\n",
       "      <td>Reguły</td>\n",
       "      <td>pruszkowski</td>\n",
       "      <td>mazowieckie</td>\n",
       "      <td>52.171892</td>\n",
       "      <td>20.849221</td>\n",
       "      <td>primary_market</td>\n",
       "      <td>sprzedaz</td>\n",
       "      <td>17.67</td>\n",
       "      <td>1</td>\n",
       "      <td>2</td>\n",
       "      <td>2</td>\n",
       "      <td>NaN</td>\n",
       "      <td>Zapytajoce</td>\n",
       "      <td>https://gratka.pl/nieruchomosci/nowe-mieszkanie-reguly-ul-platanowa-6/ob/32518317</td>\n",
       "    </tr>\n",
       "    <tr>\n",
       "      <th>0</th>\n",
       "      <td>Poznań</td>\n",
       "      <td>Rataje</td>\n",
       "      <td>wielkopolskie</td>\n",
       "      <td>52.396900</td>\n",
       "      <td>16.945700</td>\n",
       "      <td>aftermarket</td>\n",
       "      <td>sprzedaz</td>\n",
       "      <td>18.47</td>\n",
       "      <td>1</td>\n",
       "      <td>4</td>\n",
       "      <td>5</td>\n",
       "      <td>2018.0</td>\n",
       "      <td>320000</td>\n",
       "      <td>https://gratka.pl/nieruchomosci/mieszkanie-poznan-rataje-ul-serafitek/ob/32728333</td>\n",
       "    </tr>\n",
       "    <tr>\n",
       "      <th>0</th>\n",
       "      <td>Bydgoszcz</td>\n",
       "      <td>None</td>\n",
       "      <td>kujawsko-pomorskie</td>\n",
       "      <td>53.132647</td>\n",
       "      <td>18.034700</td>\n",
       "      <td>aftermarket</td>\n",
       "      <td>sprzedaz</td>\n",
       "      <td>19.53</td>\n",
       "      <td>1</td>\n",
       "      <td>3</td>\n",
       "      <td>6</td>\n",
       "      <td>1976.0</td>\n",
       "      <td>199000</td>\n",
       "      <td>https://gratka.pl/nieruchomosci/mieszkanie-bydgoszcz-ul-jana-karola-chodkiewicza/ob/30431753</td>\n",
       "    </tr>\n",
       "  </tbody>\n",
       "</table>\n",
       "<p>439 rows × 14 columns</p>\n",
       "</div>"
      ],
      "text/plain": [
       "         city       district         voivodeship  localization_y  \\\n",
       "id                                                                 \n",
       "0    Zakopane     tatrzański         małopolskie       49.299181   \n",
       "0     Wrocław   Stare Miasto        dolnośląskie       51.111980   \n",
       "0      Kraków   Stare Miasto         małopolskie       50.073995   \n",
       "0    Warszawa        Mokotów         mazowieckie       52.195588   \n",
       "0    Warszawa    Śródmieście         mazowieckie       52.229676   \n",
       "..        ...            ...                 ...             ...   \n",
       "0    Wadowice  os. XX- lecia         małopolskie             NaN   \n",
       "0    Warszawa           Wola         mazowieckie       52.225810   \n",
       "0      Reguły    pruszkowski         mazowieckie       52.171892   \n",
       "0      Poznań         Rataje       wielkopolskie       52.396900   \n",
       "0   Bydgoszcz           None  kujawsko-pomorskie       53.132647   \n",
       "\n",
       "    localization_x          market offer_type   area rooms   floor floors  \\\n",
       "id                                                                          \n",
       "0        19.949562  primary_market   sprzedaz  13.00     1       1      2   \n",
       "0        17.031187     aftermarket   sprzedaz  19.00     1  parter      4   \n",
       "0        19.946945     aftermarket   sprzedaz  16.03     1       3      4   \n",
       "0        21.023771     aftermarket   sprzedaz  19.00     1       2      6   \n",
       "0        21.012229     aftermarket   sprzedaz  20.00     1       9   None   \n",
       "..             ...             ...        ...    ...   ...     ...    ...   \n",
       "0              NaN            None       None    NaN     3    None   None   \n",
       "0        20.944630     aftermarket   sprzedaz  15.00     1       6     10   \n",
       "0        20.849221  primary_market   sprzedaz  17.67     1       2      2   \n",
       "0        16.945700     aftermarket   sprzedaz  18.47     1       4      5   \n",
       "0        18.034700     aftermarket   sprzedaz  19.53     1       3      6   \n",
       "\n",
       "    build_yr       price  \\\n",
       "id                         \n",
       "0        NaN      299999   \n",
       "0     1930.0      375000   \n",
       "0     2023.0      356667   \n",
       "0     1958.0      521000   \n",
       "0     1966.0      600000   \n",
       "..       ...         ...   \n",
       "0        NaN      408000   \n",
       "0     2018.0      360000   \n",
       "0        NaN  Zapytajoce   \n",
       "0     2018.0      320000   \n",
       "0     1976.0      199000   \n",
       "\n",
       "                                                                                             url  \n",
       "id                                                                                                \n",
       "0             https://gratka.pl/nieruchomosci/nowe-mieszkanie-zakopane-ul-krzeptowki/ob/33222047  \n",
       "0       https://gratka.pl/nieruchomosci/mieszkanie-wroclaw-stare-miasto-ul-odrzanska/ob/33007209  \n",
       "0          https://gratka.pl/nieruchomosci/mieszkanie-krakow-stare-miasto-ul-zelazna/ob/31022665  \n",
       "0            https://gratka.pl/nieruchomosci/mieszkanie-warszawa-mokotow-ul-pulawska/ob/33301239  \n",
       "0                    https://gratka.pl/nieruchomosci/mieszkanie-warszawa-srodmiescie/ob/33233857  \n",
       "..                                                                                           ...  \n",
       "0                    https://gratka.pl/nieruchomosci/mieszkanie-wadowice-os-xx-lecia/oi/33255863  \n",
       "0                 https://gratka.pl/nieruchomosci/mieszkanie-warszawa-wola-ul-wolska/ob/32617879  \n",
       "0              https://gratka.pl/nieruchomosci/nowe-mieszkanie-reguly-ul-platanowa-6/ob/32518317  \n",
       "0              https://gratka.pl/nieruchomosci/mieszkanie-poznan-rataje-ul-serafitek/ob/32728333  \n",
       "0   https://gratka.pl/nieruchomosci/mieszkanie-bydgoszcz-ul-jana-karola-chodkiewicza/ob/30431753  \n",
       "\n",
       "[439 rows x 14 columns]"
      ]
     },
     "execution_count": 58,
     "metadata": {},
     "output_type": "execute_result"
    }
   ],
   "source": [
    "frame"
   ]
  },
  {
   "cell_type": "code",
   "execution_count": 59,
   "metadata": {},
   "outputs": [
    {
     "data": {
      "text/html": [
       "<div>\n",
       "<style scoped>\n",
       "    .dataframe tbody tr th:only-of-type {\n",
       "        vertical-align: middle;\n",
       "    }\n",
       "\n",
       "    .dataframe tbody tr th {\n",
       "        vertical-align: top;\n",
       "    }\n",
       "\n",
       "    .dataframe thead th {\n",
       "        text-align: right;\n",
       "    }\n",
       "</style>\n",
       "<table border=\"1\" class=\"dataframe\">\n",
       "  <thead>\n",
       "    <tr style=\"text-align: right;\">\n",
       "      <th></th>\n",
       "      <th>city</th>\n",
       "      <th>district</th>\n",
       "      <th>voivodeship</th>\n",
       "      <th>localization_y</th>\n",
       "      <th>localization_x</th>\n",
       "      <th>market</th>\n",
       "      <th>offer_type</th>\n",
       "      <th>area</th>\n",
       "      <th>rooms</th>\n",
       "      <th>floor</th>\n",
       "      <th>floors</th>\n",
       "      <th>build_yr</th>\n",
       "      <th>price</th>\n",
       "      <th>url</th>\n",
       "    </tr>\n",
       "    <tr>\n",
       "      <th>id</th>\n",
       "      <th></th>\n",
       "      <th></th>\n",
       "      <th></th>\n",
       "      <th></th>\n",
       "      <th></th>\n",
       "      <th></th>\n",
       "      <th></th>\n",
       "      <th></th>\n",
       "      <th></th>\n",
       "      <th></th>\n",
       "      <th></th>\n",
       "      <th></th>\n",
       "      <th></th>\n",
       "      <th></th>\n",
       "    </tr>\n",
       "  </thead>\n",
       "  <tbody>\n",
       "  </tbody>\n",
       "</table>\n",
       "</div>"
      ],
      "text/plain": [
       "Empty DataFrame\n",
       "Columns: [city, district, voivodeship, localization_y, localization_x, market, offer_type, area, rooms, floor, floors, build_yr, price, url]\n",
       "Index: []"
      ]
     },
     "execution_count": 59,
     "metadata": {},
     "output_type": "execute_result"
    }
   ],
   "source": [
    "frame.drop(index=frame[frame.price=='Zapytajoce'].index, axis=0)"
   ]
  },
  {
   "cell_type": "code",
   "execution_count": 62,
   "metadata": {},
   "outputs": [
    {
     "data": {
      "text/html": [
       "<div>\n",
       "<style scoped>\n",
       "    .dataframe tbody tr th:only-of-type {\n",
       "        vertical-align: middle;\n",
       "    }\n",
       "\n",
       "    .dataframe tbody tr th {\n",
       "        vertical-align: top;\n",
       "    }\n",
       "\n",
       "    .dataframe thead th {\n",
       "        text-align: right;\n",
       "    }\n",
       "</style>\n",
       "<table border=\"1\" class=\"dataframe\">\n",
       "  <thead>\n",
       "    <tr style=\"text-align: right;\">\n",
       "      <th></th>\n",
       "      <th>city</th>\n",
       "      <th>district</th>\n",
       "      <th>voivodeship</th>\n",
       "      <th>localization_y</th>\n",
       "      <th>localization_x</th>\n",
       "      <th>market</th>\n",
       "      <th>offer_type</th>\n",
       "      <th>area</th>\n",
       "      <th>rooms</th>\n",
       "      <th>floor</th>\n",
       "      <th>floors</th>\n",
       "      <th>build_yr</th>\n",
       "      <th>price</th>\n",
       "      <th>url</th>\n",
       "    </tr>\n",
       "    <tr>\n",
       "      <th>id</th>\n",
       "      <th></th>\n",
       "      <th></th>\n",
       "      <th></th>\n",
       "      <th></th>\n",
       "      <th></th>\n",
       "      <th></th>\n",
       "      <th></th>\n",
       "      <th></th>\n",
       "      <th></th>\n",
       "      <th></th>\n",
       "      <th></th>\n",
       "      <th></th>\n",
       "      <th></th>\n",
       "      <th></th>\n",
       "    </tr>\n",
       "  </thead>\n",
       "  <tbody>\n",
       "    <tr>\n",
       "      <th>0</th>\n",
       "      <td>Sienna</td>\n",
       "      <td>kłodzki</td>\n",
       "      <td>dolnośląskie</td>\n",
       "      <td>50.253736</td>\n",
       "      <td>16.822729</td>\n",
       "      <td>None</td>\n",
       "      <td>None</td>\n",
       "      <td>19.89</td>\n",
       "      <td>1</td>\n",
       "      <td>parter</td>\n",
       "      <td>4</td>\n",
       "      <td>NaN</td>\n",
       "      <td>Zapytajoce</td>\n",
       "      <td>https://gratka.pl/nieruchomosci/nowe-mieszkanie-sienna-ul-sienna/ob/30122213</td>\n",
       "    </tr>\n",
       "    <tr>\n",
       "      <th>0</th>\n",
       "      <td>Poznań</td>\n",
       "      <td>Główna</td>\n",
       "      <td>wielkopolskie</td>\n",
       "      <td>52.424700</td>\n",
       "      <td>16.969800</td>\n",
       "      <td>primary_market</td>\n",
       "      <td>sprzedaz</td>\n",
       "      <td>19.96</td>\n",
       "      <td>1</td>\n",
       "      <td>parter</td>\n",
       "      <td>6</td>\n",
       "      <td>NaN</td>\n",
       "      <td>Zapytajoce</td>\n",
       "      <td>https://gratka.pl/nieruchomosci/nowe-mieszkanie-poznan-glowna-ul-nadolnik-8/ob/25561755</td>\n",
       "    </tr>\n",
       "    <tr>\n",
       "      <th>0</th>\n",
       "      <td>Reguły</td>\n",
       "      <td>pruszkowski</td>\n",
       "      <td>mazowieckie</td>\n",
       "      <td>52.171892</td>\n",
       "      <td>20.849221</td>\n",
       "      <td>primary_market</td>\n",
       "      <td>sprzedaz</td>\n",
       "      <td>17.67</td>\n",
       "      <td>1</td>\n",
       "      <td>1</td>\n",
       "      <td>2</td>\n",
       "      <td>NaN</td>\n",
       "      <td>Zapytajoce</td>\n",
       "      <td>https://gratka.pl/nieruchomosci/nowe-mieszkanie-reguly-ul-platanowa-6/ob/32518251</td>\n",
       "    </tr>\n",
       "    <tr>\n",
       "      <th>0</th>\n",
       "      <td>Poznań</td>\n",
       "      <td>Główna</td>\n",
       "      <td>wielkopolskie</td>\n",
       "      <td>52.424700</td>\n",
       "      <td>16.969800</td>\n",
       "      <td>primary_market</td>\n",
       "      <td>sprzedaz</td>\n",
       "      <td>19.96</td>\n",
       "      <td>1</td>\n",
       "      <td>parter</td>\n",
       "      <td>6</td>\n",
       "      <td>NaN</td>\n",
       "      <td>Zapytajoce</td>\n",
       "      <td>https://gratka.pl/nieruchomosci/nowe-mieszkanie-poznan-glowna-ul-nadolnik-8/ob/25561779</td>\n",
       "    </tr>\n",
       "    <tr>\n",
       "      <th>0</th>\n",
       "      <td>Reguły</td>\n",
       "      <td>pruszkowski</td>\n",
       "      <td>mazowieckie</td>\n",
       "      <td>52.171892</td>\n",
       "      <td>20.849221</td>\n",
       "      <td>primary_market</td>\n",
       "      <td>sprzedaz</td>\n",
       "      <td>17.67</td>\n",
       "      <td>1</td>\n",
       "      <td>2</td>\n",
       "      <td>2</td>\n",
       "      <td>NaN</td>\n",
       "      <td>Zapytajoce</td>\n",
       "      <td>https://gratka.pl/nieruchomosci/nowe-mieszkanie-reguly-ul-platanowa-6/ob/32518305</td>\n",
       "    </tr>\n",
       "    <tr>\n",
       "      <th>...</th>\n",
       "      <td>...</td>\n",
       "      <td>...</td>\n",
       "      <td>...</td>\n",
       "      <td>...</td>\n",
       "      <td>...</td>\n",
       "      <td>...</td>\n",
       "      <td>...</td>\n",
       "      <td>...</td>\n",
       "      <td>...</td>\n",
       "      <td>...</td>\n",
       "      <td>...</td>\n",
       "      <td>...</td>\n",
       "      <td>...</td>\n",
       "      <td>...</td>\n",
       "    </tr>\n",
       "    <tr>\n",
       "      <th>0</th>\n",
       "      <td>Reguły</td>\n",
       "      <td>pruszkowski</td>\n",
       "      <td>mazowieckie</td>\n",
       "      <td>52.171892</td>\n",
       "      <td>20.849221</td>\n",
       "      <td>primary_market</td>\n",
       "      <td>sprzedaz</td>\n",
       "      <td>17.67</td>\n",
       "      <td>1</td>\n",
       "      <td>1</td>\n",
       "      <td>2</td>\n",
       "      <td>NaN</td>\n",
       "      <td>Zapytajoce</td>\n",
       "      <td>https://gratka.pl/nieruchomosci/nowe-mieszkanie-reguly-ul-platanowa-6/ob/32518247</td>\n",
       "    </tr>\n",
       "    <tr>\n",
       "      <th>0</th>\n",
       "      <td>Reguły</td>\n",
       "      <td>pruszkowski</td>\n",
       "      <td>mazowieckie</td>\n",
       "      <td>52.171892</td>\n",
       "      <td>20.849221</td>\n",
       "      <td>primary_market</td>\n",
       "      <td>sprzedaz</td>\n",
       "      <td>17.67</td>\n",
       "      <td>1</td>\n",
       "      <td>2</td>\n",
       "      <td>2</td>\n",
       "      <td>NaN</td>\n",
       "      <td>Zapytajoce</td>\n",
       "      <td>https://gratka.pl/nieruchomosci/nowe-mieszkanie-reguly-ul-platanowa-6/ob/32518313</td>\n",
       "    </tr>\n",
       "    <tr>\n",
       "      <th>0</th>\n",
       "      <td>Poznań</td>\n",
       "      <td>Główna</td>\n",
       "      <td>wielkopolskie</td>\n",
       "      <td>52.424700</td>\n",
       "      <td>16.969800</td>\n",
       "      <td>primary_market</td>\n",
       "      <td>sprzedaz</td>\n",
       "      <td>19.96</td>\n",
       "      <td>1</td>\n",
       "      <td>parter</td>\n",
       "      <td>6</td>\n",
       "      <td>NaN</td>\n",
       "      <td>Zapytajoce</td>\n",
       "      <td>https://gratka.pl/nieruchomosci/nowe-mieszkanie-poznan-glowna-ul-nadolnik-8/ob/25561749</td>\n",
       "    </tr>\n",
       "    <tr>\n",
       "      <th>0</th>\n",
       "      <td>Reguły</td>\n",
       "      <td>pruszkowski</td>\n",
       "      <td>mazowieckie</td>\n",
       "      <td>52.171892</td>\n",
       "      <td>20.849221</td>\n",
       "      <td>primary_market</td>\n",
       "      <td>sprzedaz</td>\n",
       "      <td>17.67</td>\n",
       "      <td>1</td>\n",
       "      <td>1</td>\n",
       "      <td>2</td>\n",
       "      <td>NaN</td>\n",
       "      <td>Zapytajoce</td>\n",
       "      <td>https://gratka.pl/nieruchomosci/nowe-mieszkanie-reguly-ul-platanowa-6/ob/32518249</td>\n",
       "    </tr>\n",
       "    <tr>\n",
       "      <th>0</th>\n",
       "      <td>Reguły</td>\n",
       "      <td>pruszkowski</td>\n",
       "      <td>mazowieckie</td>\n",
       "      <td>52.171892</td>\n",
       "      <td>20.849221</td>\n",
       "      <td>primary_market</td>\n",
       "      <td>sprzedaz</td>\n",
       "      <td>17.67</td>\n",
       "      <td>1</td>\n",
       "      <td>2</td>\n",
       "      <td>2</td>\n",
       "      <td>NaN</td>\n",
       "      <td>Zapytajoce</td>\n",
       "      <td>https://gratka.pl/nieruchomosci/nowe-mieszkanie-reguly-ul-platanowa-6/ob/32518317</td>\n",
       "    </tr>\n",
       "  </tbody>\n",
       "</table>\n",
       "<p>82 rows × 14 columns</p>\n",
       "</div>"
      ],
      "text/plain": [
       "      city     district    voivodeship  localization_y  localization_x  \\\n",
       "id                                                                       \n",
       "0   Sienna      kłodzki   dolnośląskie       50.253736       16.822729   \n",
       "0   Poznań       Główna  wielkopolskie       52.424700       16.969800   \n",
       "0   Reguły  pruszkowski    mazowieckie       52.171892       20.849221   \n",
       "0   Poznań       Główna  wielkopolskie       52.424700       16.969800   \n",
       "0   Reguły  pruszkowski    mazowieckie       52.171892       20.849221   \n",
       "..     ...          ...            ...             ...             ...   \n",
       "0   Reguły  pruszkowski    mazowieckie       52.171892       20.849221   \n",
       "0   Reguły  pruszkowski    mazowieckie       52.171892       20.849221   \n",
       "0   Poznań       Główna  wielkopolskie       52.424700       16.969800   \n",
       "0   Reguły  pruszkowski    mazowieckie       52.171892       20.849221   \n",
       "0   Reguły  pruszkowski    mazowieckie       52.171892       20.849221   \n",
       "\n",
       "            market offer_type   area rooms   floor floors  build_yr  \\\n",
       "id                                                                    \n",
       "0             None       None  19.89     1  parter      4       NaN   \n",
       "0   primary_market   sprzedaz  19.96     1  parter      6       NaN   \n",
       "0   primary_market   sprzedaz  17.67     1       1      2       NaN   \n",
       "0   primary_market   sprzedaz  19.96     1  parter      6       NaN   \n",
       "0   primary_market   sprzedaz  17.67     1       2      2       NaN   \n",
       "..             ...        ...    ...   ...     ...    ...       ...   \n",
       "0   primary_market   sprzedaz  17.67     1       1      2       NaN   \n",
       "0   primary_market   sprzedaz  17.67     1       2      2       NaN   \n",
       "0   primary_market   sprzedaz  19.96     1  parter      6       NaN   \n",
       "0   primary_market   sprzedaz  17.67     1       1      2       NaN   \n",
       "0   primary_market   sprzedaz  17.67     1       2      2       NaN   \n",
       "\n",
       "         price  \\\n",
       "id               \n",
       "0   Zapytajoce   \n",
       "0   Zapytajoce   \n",
       "0   Zapytajoce   \n",
       "0   Zapytajoce   \n",
       "0   Zapytajoce   \n",
       "..         ...   \n",
       "0   Zapytajoce   \n",
       "0   Zapytajoce   \n",
       "0   Zapytajoce   \n",
       "0   Zapytajoce   \n",
       "0   Zapytajoce   \n",
       "\n",
       "                                                                                        url  \n",
       "id                                                                                           \n",
       "0              https://gratka.pl/nieruchomosci/nowe-mieszkanie-sienna-ul-sienna/ob/30122213  \n",
       "0   https://gratka.pl/nieruchomosci/nowe-mieszkanie-poznan-glowna-ul-nadolnik-8/ob/25561755  \n",
       "0         https://gratka.pl/nieruchomosci/nowe-mieszkanie-reguly-ul-platanowa-6/ob/32518251  \n",
       "0   https://gratka.pl/nieruchomosci/nowe-mieszkanie-poznan-glowna-ul-nadolnik-8/ob/25561779  \n",
       "0         https://gratka.pl/nieruchomosci/nowe-mieszkanie-reguly-ul-platanowa-6/ob/32518305  \n",
       "..                                                                                      ...  \n",
       "0         https://gratka.pl/nieruchomosci/nowe-mieszkanie-reguly-ul-platanowa-6/ob/32518247  \n",
       "0         https://gratka.pl/nieruchomosci/nowe-mieszkanie-reguly-ul-platanowa-6/ob/32518313  \n",
       "0   https://gratka.pl/nieruchomosci/nowe-mieszkanie-poznan-glowna-ul-nadolnik-8/ob/25561749  \n",
       "0         https://gratka.pl/nieruchomosci/nowe-mieszkanie-reguly-ul-platanowa-6/ob/32518249  \n",
       "0         https://gratka.pl/nieruchomosci/nowe-mieszkanie-reguly-ul-platanowa-6/ob/32518317  \n",
       "\n",
       "[82 rows x 14 columns]"
      ]
     },
     "execution_count": 62,
     "metadata": {},
     "output_type": "execute_result"
    }
   ],
   "source": [
    "frame[frame.price=='Zapytajoce']"
   ]
  },
  {
   "cell_type": "code",
   "execution_count": 46,
   "metadata": {},
   "outputs": [],
   "source": [
    "frame.drop(index=frame[frame.price=='Zapytajoce'].index, axis=0, inplace=True)"
   ]
  },
  {
   "cell_type": "code",
   "execution_count": 15,
   "metadata": {},
   "outputs": [],
   "source": [
    "frame.price = frame.price.astype('float')"
   ]
  },
  {
   "cell_type": "markdown",
   "metadata": {},
   "source": [
    "## checking the amount of missing data and removing rows with small amount of missing data per column"
   ]
  },
  {
   "cell_type": "code",
   "execution_count": 16,
   "metadata": {},
   "outputs": [
    {
     "data": {
      "text/html": [
       "<div>\n",
       "<style scoped>\n",
       "    .dataframe tbody tr th:only-of-type {\n",
       "        vertical-align: middle;\n",
       "    }\n",
       "\n",
       "    .dataframe tbody tr th {\n",
       "        vertical-align: top;\n",
       "    }\n",
       "\n",
       "    .dataframe thead th {\n",
       "        text-align: right;\n",
       "    }\n",
       "</style>\n",
       "<table border=\"1\" class=\"dataframe\">\n",
       "  <thead>\n",
       "    <tr style=\"text-align: right;\">\n",
       "      <th></th>\n",
       "      <th>count</th>\n",
       "      <th>mean</th>\n",
       "      <th>std</th>\n",
       "      <th>min</th>\n",
       "      <th>25%</th>\n",
       "      <th>50%</th>\n",
       "      <th>75%</th>\n",
       "      <th>max</th>\n",
       "      <th>%missing</th>\n",
       "    </tr>\n",
       "  </thead>\n",
       "  <tbody>\n",
       "    <tr>\n",
       "      <th>localization_y</th>\n",
       "      <td>0.0</td>\n",
       "      <td>NaN</td>\n",
       "      <td>NaN</td>\n",
       "      <td>NaN</td>\n",
       "      <td>NaN</td>\n",
       "      <td>NaN</td>\n",
       "      <td>NaN</td>\n",
       "      <td>NaN</td>\n",
       "      <td>NaN</td>\n",
       "    </tr>\n",
       "    <tr>\n",
       "      <th>localization_x</th>\n",
       "      <td>0.0</td>\n",
       "      <td>NaN</td>\n",
       "      <td>NaN</td>\n",
       "      <td>NaN</td>\n",
       "      <td>NaN</td>\n",
       "      <td>NaN</td>\n",
       "      <td>NaN</td>\n",
       "      <td>NaN</td>\n",
       "      <td>NaN</td>\n",
       "    </tr>\n",
       "    <tr>\n",
       "      <th>area</th>\n",
       "      <td>0.0</td>\n",
       "      <td>NaN</td>\n",
       "      <td>NaN</td>\n",
       "      <td>NaN</td>\n",
       "      <td>NaN</td>\n",
       "      <td>NaN</td>\n",
       "      <td>NaN</td>\n",
       "      <td>NaN</td>\n",
       "      <td>NaN</td>\n",
       "    </tr>\n",
       "    <tr>\n",
       "      <th>build_yr</th>\n",
       "      <td>0.0</td>\n",
       "      <td>NaN</td>\n",
       "      <td>NaN</td>\n",
       "      <td>NaN</td>\n",
       "      <td>NaN</td>\n",
       "      <td>NaN</td>\n",
       "      <td>NaN</td>\n",
       "      <td>NaN</td>\n",
       "      <td>NaN</td>\n",
       "    </tr>\n",
       "    <tr>\n",
       "      <th>price</th>\n",
       "      <td>0.0</td>\n",
       "      <td>NaN</td>\n",
       "      <td>NaN</td>\n",
       "      <td>NaN</td>\n",
       "      <td>NaN</td>\n",
       "      <td>NaN</td>\n",
       "      <td>NaN</td>\n",
       "      <td>NaN</td>\n",
       "      <td>NaN</td>\n",
       "    </tr>\n",
       "  </tbody>\n",
       "</table>\n",
       "</div>"
      ],
      "text/plain": [
       "                count  mean  std  min  25%  50%  75%  max  %missing\n",
       "localization_y    0.0   NaN  NaN  NaN  NaN  NaN  NaN  NaN       NaN\n",
       "localization_x    0.0   NaN  NaN  NaN  NaN  NaN  NaN  NaN       NaN\n",
       "area              0.0   NaN  NaN  NaN  NaN  NaN  NaN  NaN       NaN\n",
       "build_yr          0.0   NaN  NaN  NaN  NaN  NaN  NaN  NaN       NaN\n",
       "price             0.0   NaN  NaN  NaN  NaN  NaN  NaN  NaN       NaN"
      ]
     },
     "execution_count": 16,
     "metadata": {},
     "output_type": "execute_result"
    }
   ],
   "source": [
    "num_desc = frame.describe().T\n",
    "num_desc['%missing'] = (1-num_desc['count']/len(frame))*100\n",
    "num_desc"
   ]
  },
  {
   "cell_type": "code",
   "execution_count": 17,
   "metadata": {
    "scrolled": true
   },
   "outputs": [
    {
     "data": {
      "text/html": [
       "<div>\n",
       "<style scoped>\n",
       "    .dataframe tbody tr th:only-of-type {\n",
       "        vertical-align: middle;\n",
       "    }\n",
       "\n",
       "    .dataframe tbody tr th {\n",
       "        vertical-align: top;\n",
       "    }\n",
       "\n",
       "    .dataframe thead th {\n",
       "        text-align: right;\n",
       "    }\n",
       "</style>\n",
       "<table border=\"1\" class=\"dataframe\">\n",
       "  <thead>\n",
       "    <tr style=\"text-align: right;\">\n",
       "      <th></th>\n",
       "      <th>count</th>\n",
       "      <th>unique</th>\n",
       "      <th>top</th>\n",
       "      <th>freq</th>\n",
       "      <th>%missing</th>\n",
       "    </tr>\n",
       "  </thead>\n",
       "  <tbody>\n",
       "    <tr>\n",
       "      <th>city</th>\n",
       "      <td>0</td>\n",
       "      <td>0</td>\n",
       "      <td>NaN</td>\n",
       "      <td>NaN</td>\n",
       "      <td>NaN</td>\n",
       "    </tr>\n",
       "    <tr>\n",
       "      <th>district</th>\n",
       "      <td>0</td>\n",
       "      <td>0</td>\n",
       "      <td>NaN</td>\n",
       "      <td>NaN</td>\n",
       "      <td>NaN</td>\n",
       "    </tr>\n",
       "    <tr>\n",
       "      <th>voivodeship</th>\n",
       "      <td>0</td>\n",
       "      <td>0</td>\n",
       "      <td>NaN</td>\n",
       "      <td>NaN</td>\n",
       "      <td>NaN</td>\n",
       "    </tr>\n",
       "    <tr>\n",
       "      <th>market</th>\n",
       "      <td>0</td>\n",
       "      <td>0</td>\n",
       "      <td>NaN</td>\n",
       "      <td>NaN</td>\n",
       "      <td>NaN</td>\n",
       "    </tr>\n",
       "    <tr>\n",
       "      <th>offer_type</th>\n",
       "      <td>0</td>\n",
       "      <td>0</td>\n",
       "      <td>NaN</td>\n",
       "      <td>NaN</td>\n",
       "      <td>NaN</td>\n",
       "    </tr>\n",
       "    <tr>\n",
       "      <th>rooms</th>\n",
       "      <td>0</td>\n",
       "      <td>0</td>\n",
       "      <td>NaN</td>\n",
       "      <td>NaN</td>\n",
       "      <td>NaN</td>\n",
       "    </tr>\n",
       "    <tr>\n",
       "      <th>floor</th>\n",
       "      <td>0</td>\n",
       "      <td>0</td>\n",
       "      <td>NaN</td>\n",
       "      <td>NaN</td>\n",
       "      <td>NaN</td>\n",
       "    </tr>\n",
       "    <tr>\n",
       "      <th>floors</th>\n",
       "      <td>0</td>\n",
       "      <td>0</td>\n",
       "      <td>NaN</td>\n",
       "      <td>NaN</td>\n",
       "      <td>NaN</td>\n",
       "    </tr>\n",
       "    <tr>\n",
       "      <th>url</th>\n",
       "      <td>0</td>\n",
       "      <td>0</td>\n",
       "      <td>NaN</td>\n",
       "      <td>NaN</td>\n",
       "      <td>NaN</td>\n",
       "    </tr>\n",
       "  </tbody>\n",
       "</table>\n",
       "</div>"
      ],
      "text/plain": [
       "            count unique  top freq %missing\n",
       "city            0      0  NaN  NaN      NaN\n",
       "district        0      0  NaN  NaN      NaN\n",
       "voivodeship     0      0  NaN  NaN      NaN\n",
       "market          0      0  NaN  NaN      NaN\n",
       "offer_type      0      0  NaN  NaN      NaN\n",
       "rooms           0      0  NaN  NaN      NaN\n",
       "floor           0      0  NaN  NaN      NaN\n",
       "floors          0      0  NaN  NaN      NaN\n",
       "url             0      0  NaN  NaN      NaN"
      ]
     },
     "execution_count": 17,
     "metadata": {},
     "output_type": "execute_result"
    }
   ],
   "source": [
    "obj_desc = frame.describe(include=['object']).T\n",
    "obj_desc['%missing'] = (1-obj_desc['count']/len(frame))*100\n",
    "obj_desc"
   ]
  },
  {
   "cell_type": "code",
   "execution_count": 18,
   "metadata": {},
   "outputs": [],
   "source": [
    "frame.dropna(subset=['price','localization_y','localization_x','area'], axis=0, inplace=True)"
   ]
  },
  {
   "cell_type": "code",
   "execution_count": 19,
   "metadata": {},
   "outputs": [],
   "source": [
    "frame.dropna(subset=['market','offer_type','rooms','floor'], axis=0, inplace=True)"
   ]
  },
  {
   "cell_type": "markdown",
   "metadata": {},
   "source": [
    "## dealing with missing data for 'floors', 'district', 'build_yr'"
   ]
  },
  {
   "cell_type": "code",
   "execution_count": 20,
   "metadata": {},
   "outputs": [],
   "source": [
    "frame.dropna(subset=['build_yr'], axis=0, inplace=True)"
   ]
  },
  {
   "cell_type": "code",
   "execution_count": 21,
   "metadata": {},
   "outputs": [
    {
     "ename": "ZeroDivisionError",
     "evalue": "division by zero",
     "output_type": "error",
     "traceback": [
      "\u001b[0;31m---------------------------------------------------------------------------\u001b[0m",
      "\u001b[0;31mZeroDivisionError\u001b[0m                         Traceback (most recent call last)",
      "Cell \u001b[0;32mIn[21], line 1\u001b[0m\n\u001b[0;32m----> 1\u001b[0m \u001b[38;5;28;43mlen\u001b[39;49m\u001b[43m(\u001b[49m\u001b[43mframe\u001b[49m\u001b[43m[\u001b[49m\u001b[43mpd\u001b[49m\u001b[38;5;241;43m.\u001b[39;49m\u001b[43misnull\u001b[49m\u001b[43m(\u001b[49m\u001b[43mframe\u001b[49m\u001b[38;5;241;43m.\u001b[39;49m\u001b[43mfloors\u001b[49m\u001b[43m)\u001b[49m\u001b[43m]\u001b[49m\u001b[43m)\u001b[49m\u001b[38;5;241;43m/\u001b[39;49m\u001b[38;5;28;43mlen\u001b[39;49m\u001b[43m(\u001b[49m\u001b[43mframe\u001b[49m\u001b[43m)\u001b[49m\n",
      "\u001b[0;31mZeroDivisionError\u001b[0m: division by zero"
     ]
    }
   ],
   "source": [
    "len(frame[pd.isnull(frame.floors)])/len(frame)"
   ]
  },
  {
   "cell_type": "code",
   "execution_count": 22,
   "metadata": {},
   "outputs": [],
   "source": [
    "frame.dropna(subset=['floors'], axis=0, inplace=True)"
   ]
  },
  {
   "cell_type": "code",
   "execution_count": 23,
   "metadata": {},
   "outputs": [],
   "source": [
    "# district will be left with missing data"
   ]
  },
  {
   "cell_type": "code",
   "execution_count": 24,
   "metadata": {},
   "outputs": [
    {
     "data": {
      "text/plain": [
       "(34779, 14)"
      ]
     },
     "execution_count": 24,
     "metadata": {},
     "output_type": "execute_result"
    }
   ],
   "source": [
    "frame.shape"
   ]
  },
  {
   "cell_type": "markdown",
   "metadata": {},
   "source": [
    "## checking categorical data"
   ]
  },
  {
   "cell_type": "code",
   "execution_count": 25,
   "metadata": {},
   "outputs": [
    {
     "data": {
      "image/png": "[encoded data removed]",
      "text/plain": [
       "<Figure size 1500x1000 with 6 Axes>"
      ]
     },
     "metadata": {},
     "output_type": "display_data"
    }
   ],
   "source": [
    "fig, axList = plt.subplots(nrows=2, ncols=3)\n",
    "axList = axList.flatten()\n",
    "fig.set_size_inches(15,10)\n",
    "\n",
    "catagorical_columns = [x for x in frame.columns if frame[x].dtype == 'object' and x not in ['city','district','url']]\n",
    "\n",
    "for ax, column in zip(axList, catagorical_columns):\n",
    "    frame[column].value_counts().plot(kind='barh', ax=ax, ylabel=column)\n",
    "    \n",
    "plt.tight_layout()"
   ]
  },
  {
   "cell_type": "code",
   "execution_count": 26,
   "metadata": {},
   "outputs": [],
   "source": [
    "frame.rooms.replace('więcej niż 8', '8', inplace=True)\n",
    "frame.rooms = frame.rooms.astype('int')"
   ]
  },
  {
   "cell_type": "code",
   "execution_count": 27,
   "metadata": {},
   "outputs": [],
   "source": [
    "frame.floor.replace(['niski parter','parter'], '0', inplace=True)\n",
    "frame.floor.replace('powyżej 30', '30', inplace=True)\n",
    "frame.drop(frame[frame.floor=='poddasze'].index, axis=0, inplace=True)\n",
    "frame.floor = frame.floor.astype('int')"
   ]
  },
  {
   "cell_type": "code",
   "execution_count": 28,
   "metadata": {},
   "outputs": [],
   "source": [
    "frame.floors.replace(['0 (parter)','powyżej 30'], ['0','30'], inplace=True)\n",
    "frame.floors = frame.floors.astype('int')"
   ]
  },
  {
   "cell_type": "code",
   "execution_count": 29,
   "metadata": {},
   "outputs": [
    {
     "name": "stdout",
     "output_type": "stream",
     "text": [
      "<class 'pandas.core.frame.DataFrame'>\n",
      "Index: 34685 entries, 1 to 73029\n",
      "Data columns (total 14 columns):\n",
      " #   Column          Non-Null Count  Dtype  \n",
      "---  ------          --------------  -----  \n",
      " 0   city            34685 non-null  object \n",
      " 1   district        29388 non-null  object \n",
      " 2   voivodeship     34685 non-null  object \n",
      " 3   localization_y  34685 non-null  float64\n",
      " 4   localization_x  34685 non-null  float64\n",
      " 5   market          34685 non-null  object \n",
      " 6   offer_type      34685 non-null  object \n",
      " 7   area            34685 non-null  float64\n",
      " 8   rooms           34685 non-null  int64  \n",
      " 9   floor           34685 non-null  int64  \n",
      " 10  floors          34685 non-null  int64  \n",
      " 11  build_yr        34685 non-null  float64\n",
      " 12  price           34685 non-null  float64\n",
      " 13  url             34685 non-null  object \n",
      "dtypes: float64(5), int64(3), object(6)\n",
      "memory usage: 4.0+ MB\n"
     ]
    }
   ],
   "source": [
    "frame.info()"
   ]
  },
  {
   "cell_type": "markdown",
   "metadata": {},
   "source": [
    "## adding custom column"
   ]
  },
  {
   "cell_type": "code",
   "execution_count": 30,
   "metadata": {},
   "outputs": [],
   "source": [
    "frame['price_of_sqm'] = frame.price / frame.area"
   ]
  },
  {
   "cell_type": "markdown",
   "metadata": {},
   "source": [
    "## dealing with outliers"
   ]
  },
  {
   "cell_type": "code",
   "execution_count": 31,
   "metadata": {},
   "outputs": [
    {
     "data": {
      "text/plain": [
       "{'area': (23.6, 170.37959999999885),\n",
       " 'build_yr': (1900.0, 2025.0),\n",
       " 'price': (168000.0, 3352625.59999999),\n",
       " 'price_of_sqm': (3193.204515986212, 31721.845238095164)}"
      ]
     },
     "execution_count": 31,
     "metadata": {},
     "output_type": "execute_result"
    }
   ],
   "source": [
    "# checking quantile values\n",
    "\n",
    "outliers_dict = dict()\n",
    "\n",
    "for column in ['area','build_yr','price','price_of_sqm']:\n",
    "    upper_quartile = np.nanpercentile(frame[column], 99.0)\n",
    "    lower_quartile = np.nanpercentile(frame[column], 1.0)\n",
    "#     iqr = upper_quartile - lower_quartile\n",
    "#     outliers_dict[column] = (lower_quartile-1.5*iqr, upper_quartile+1.5*iqr)\n",
    "    outliers_dict[column] = (lower_quartile, upper_quartile)\n",
    "\n",
    "outliers_dict"
   ]
  },
  {
   "cell_type": "code",
   "execution_count": 32,
   "metadata": {},
   "outputs": [
    {
     "data": {
      "text/html": [
       "<div>\n",
       "<style scoped>\n",
       "    .dataframe tbody tr th:only-of-type {\n",
       "        vertical-align: middle;\n",
       "    }\n",
       "\n",
       "    .dataframe tbody tr th {\n",
       "        vertical-align: top;\n",
       "    }\n",
       "\n",
       "    .dataframe thead th {\n",
       "        text-align: right;\n",
       "    }\n",
       "</style>\n",
       "<table border=\"1\" class=\"dataframe\">\n",
       "  <thead>\n",
       "    <tr style=\"text-align: right;\">\n",
       "      <th></th>\n",
       "      <th>count</th>\n",
       "      <th>mean</th>\n",
       "      <th>std</th>\n",
       "      <th>min</th>\n",
       "      <th>25%</th>\n",
       "      <th>50%</th>\n",
       "      <th>75%</th>\n",
       "      <th>max</th>\n",
       "    </tr>\n",
       "  </thead>\n",
       "  <tbody>\n",
       "    <tr>\n",
       "      <th>area</th>\n",
       "      <td>34685.0</td>\n",
       "      <td>62.623987</td>\n",
       "      <td>30.542632</td>\n",
       "      <td>11.280000</td>\n",
       "      <td>44.100000</td>\n",
       "      <td>56.6</td>\n",
       "      <td>72.200000</td>\n",
       "      <td>4.600000e+02</td>\n",
       "    </tr>\n",
       "    <tr>\n",
       "      <th>build_yr</th>\n",
       "      <td>34685.0</td>\n",
       "      <td>1996.767825</td>\n",
       "      <td>36.788374</td>\n",
       "      <td>1200.000000</td>\n",
       "      <td>1978.000000</td>\n",
       "      <td>2014.0</td>\n",
       "      <td>2023.000000</td>\n",
       "      <td>3.000000e+03</td>\n",
       "    </tr>\n",
       "    <tr>\n",
       "      <th>price</th>\n",
       "      <td>34685.0</td>\n",
       "      <td>763223.087675</td>\n",
       "      <td>640798.064104</td>\n",
       "      <td>76900.000000</td>\n",
       "      <td>435000.000000</td>\n",
       "      <td>629000.0</td>\n",
       "      <td>874000.000000</td>\n",
       "      <td>1.600000e+07</td>\n",
       "    </tr>\n",
       "    <tr>\n",
       "      <th>price_of_sqm</th>\n",
       "      <td>34685.0</td>\n",
       "      <td>12295.519677</td>\n",
       "      <td>6069.969827</td>\n",
       "      <td>536.666667</td>\n",
       "      <td>8047.808765</td>\n",
       "      <td>11200.0</td>\n",
       "      <td>15312.916112</td>\n",
       "      <td>1.698462e+05</td>\n",
       "    </tr>\n",
       "  </tbody>\n",
       "</table>\n",
       "</div>"
      ],
      "text/plain": [
       "                count           mean            std           min  \\\n",
       "area          34685.0      62.623987      30.542632     11.280000   \n",
       "build_yr      34685.0    1996.767825      36.788374   1200.000000   \n",
       "price         34685.0  763223.087675  640798.064104  76900.000000   \n",
       "price_of_sqm  34685.0   12295.519677    6069.969827    536.666667   \n",
       "\n",
       "                        25%       50%            75%           max  \n",
       "area              44.100000      56.6      72.200000  4.600000e+02  \n",
       "build_yr        1978.000000    2014.0    2023.000000  3.000000e+03  \n",
       "price         435000.000000  629000.0  874000.000000  1.600000e+07  \n",
       "price_of_sqm    8047.808765   11200.0   15312.916112  1.698462e+05  "
      ]
     },
     "execution_count": 32,
     "metadata": {},
     "output_type": "execute_result"
    }
   ],
   "source": [
    "frame[['area','build_yr','price','price_of_sqm']].describe().T"
   ]
  },
  {
   "cell_type": "code",
   "execution_count": 33,
   "metadata": {},
   "outputs": [],
   "source": [
    "outliers_dict['build_yr'] = (1900.0, 2024.0)"
   ]
  },
  {
   "cell_type": "code",
   "execution_count": 34,
   "metadata": {},
   "outputs": [],
   "source": [
    "for key in outliers_dict.keys():\n",
    "    frame.drop(frame[frame[key] < outliers_dict[key][0]].index, inplace = True)\n",
    "    frame.drop(frame[frame[key] > outliers_dict[key][1]].index, inplace = True)"
   ]
  },
  {
   "cell_type": "code",
   "execution_count": 35,
   "metadata": {
    "scrolled": true
   },
   "outputs": [
    {
     "data": {
      "text/html": [
       "<div>\n",
       "<style scoped>\n",
       "    .dataframe tbody tr th:only-of-type {\n",
       "        vertical-align: middle;\n",
       "    }\n",
       "\n",
       "    .dataframe tbody tr th {\n",
       "        vertical-align: top;\n",
       "    }\n",
       "\n",
       "    .dataframe thead th {\n",
       "        text-align: right;\n",
       "    }\n",
       "</style>\n",
       "<table border=\"1\" class=\"dataframe\">\n",
       "  <thead>\n",
       "    <tr style=\"text-align: right;\">\n",
       "      <th></th>\n",
       "      <th>count</th>\n",
       "      <th>mean</th>\n",
       "      <th>std</th>\n",
       "      <th>min</th>\n",
       "      <th>25%</th>\n",
       "      <th>50%</th>\n",
       "      <th>75%</th>\n",
       "      <th>max</th>\n",
       "    </tr>\n",
       "  </thead>\n",
       "  <tbody>\n",
       "    <tr>\n",
       "      <th>area</th>\n",
       "      <td>31361.0</td>\n",
       "      <td>61.247137</td>\n",
       "      <td>23.931174</td>\n",
       "      <td>23.600000</td>\n",
       "      <td>44.950000</td>\n",
       "      <td>56.730000</td>\n",
       "      <td>71.92000</td>\n",
       "      <td>170.00</td>\n",
       "    </tr>\n",
       "    <tr>\n",
       "      <th>build_yr</th>\n",
       "      <td>31361.0</td>\n",
       "      <td>1997.655304</td>\n",
       "      <td>32.223430</td>\n",
       "      <td>1900.000000</td>\n",
       "      <td>1979.000000</td>\n",
       "      <td>2013.000000</td>\n",
       "      <td>2023.00000</td>\n",
       "      <td>2024.00</td>\n",
       "    </tr>\n",
       "    <tr>\n",
       "      <th>price</th>\n",
       "      <td>31361.0</td>\n",
       "      <td>722361.285418</td>\n",
       "      <td>424122.163869</td>\n",
       "      <td>168000.000000</td>\n",
       "      <td>444160.000000</td>\n",
       "      <td>632700.000000</td>\n",
       "      <td>867000.00000</td>\n",
       "      <td>3350000.00</td>\n",
       "    </tr>\n",
       "    <tr>\n",
       "      <th>price_of_sqm</th>\n",
       "      <td>31361.0</td>\n",
       "      <td>12062.743278</td>\n",
       "      <td>5251.672260</td>\n",
       "      <td>3194.174757</td>\n",
       "      <td>8060.606061</td>\n",
       "      <td>11139.534884</td>\n",
       "      <td>15150.01105</td>\n",
       "      <td>31718.75</td>\n",
       "    </tr>\n",
       "  </tbody>\n",
       "</table>\n",
       "</div>"
      ],
      "text/plain": [
       "                count           mean            std            min  \\\n",
       "area          31361.0      61.247137      23.931174      23.600000   \n",
       "build_yr      31361.0    1997.655304      32.223430    1900.000000   \n",
       "price         31361.0  722361.285418  424122.163869  168000.000000   \n",
       "price_of_sqm  31361.0   12062.743278    5251.672260    3194.174757   \n",
       "\n",
       "                        25%            50%           75%         max  \n",
       "area              44.950000      56.730000      71.92000      170.00  \n",
       "build_yr        1979.000000    2013.000000    2023.00000     2024.00  \n",
       "price         444160.000000  632700.000000  867000.00000  3350000.00  \n",
       "price_of_sqm    8060.606061   11139.534884   15150.01105    31718.75  "
      ]
     },
     "execution_count": 35,
     "metadata": {},
     "output_type": "execute_result"
    }
   ],
   "source": [
    "frame[['area','build_yr','price','price_of_sqm']].describe().T"
   ]
  },
  {
   "cell_type": "code",
   "execution_count": 36,
   "metadata": {
    "scrolled": true
   },
   "outputs": [
    {
     "data": {
      "text/plain": [
       "(96, 511)"
      ]
     },
     "execution_count": 36,
     "metadata": {},
     "output_type": "execute_result"
    }
   ],
   "source": [
    "len(frame[frame.floor>15]), len(frame[frame.floors>15])"
   ]
  },
  {
   "cell_type": "code",
   "execution_count": 37,
   "metadata": {},
   "outputs": [],
   "source": [
    "frame.drop(frame[frame.floor>15].index, axis=0, inplace=True)\n",
    "frame.drop(frame[frame.floors>15].index, axis=0, inplace=True)"
   ]
  },
  {
   "cell_type": "code",
   "execution_count": 38,
   "metadata": {},
   "outputs": [
    {
     "data": {
      "text/plain": [
       "58"
      ]
     },
     "execution_count": 38,
     "metadata": {},
     "output_type": "execute_result"
    }
   ],
   "source": [
    "len(frame[frame.rooms>6])"
   ]
  },
  {
   "cell_type": "code",
   "execution_count": 39,
   "metadata": {},
   "outputs": [],
   "source": [
    "frame.drop(frame[frame.rooms>6].index, axis=0, inplace=True)"
   ]
  },
  {
   "cell_type": "markdown",
   "metadata": {},
   "source": [
    "## dealing with outliers in localization"
   ]
  },
  {
   "cell_type": "code",
   "execution_count": 40,
   "metadata": {},
   "outputs": [
    {
     "data": {
      "text/plain": [
       "(-0.82794, 23.93689128)"
      ]
     },
     "execution_count": 40,
     "metadata": {},
     "output_type": "execute_result"
    }
   ],
   "source": [
    "frame.localization_x.min(), frame.localization_x.max()"
   ]
  },
  {
   "cell_type": "code",
   "execution_count": 41,
   "metadata": {},
   "outputs": [
    {
     "data": {
      "text/plain": [
       "(-0.00133, 54.83313)"
      ]
     },
     "execution_count": 41,
     "metadata": {},
     "output_type": "execute_result"
    }
   ],
   "source": [
    "frame.localization_y.min(), frame.localization_y.max()"
   ]
  },
  {
   "cell_type": "code",
   "execution_count": 42,
   "metadata": {},
   "outputs": [],
   "source": [
    "outliers_dict_2 = dict()\n",
    "outliers_dict_2['localization_x'] = (14,25)\n",
    "outliers_dict_2['localization_y'] = (48,55)"
   ]
  },
  {
   "cell_type": "code",
   "execution_count": 43,
   "metadata": {},
   "outputs": [],
   "source": [
    "for key in outliers_dict_2.keys():\n",
    "    frame.drop(frame[frame[key] < outliers_dict_2[key][0]].index, inplace = True)\n",
    "    frame.drop(frame[frame[key] > outliers_dict_2[key][1]].index, inplace = True)"
   ]
  },
  {
   "cell_type": "code",
   "execution_count": 44,
   "metadata": {},
   "outputs": [
    {
     "data": {
      "text/plain": [
       "21"
      ]
     },
     "execution_count": 44,
     "metadata": {},
     "output_type": "execute_result"
    }
   ],
   "source": [
    "len(frame[(frame.localization_x%1==0) | (frame.localization_y%1==0)])"
   ]
  },
  {
   "cell_type": "code",
   "execution_count": 45,
   "metadata": {},
   "outputs": [],
   "source": [
    "frame.drop(frame[(frame.localization_x%1==0) | (frame.localization_y%1==0)].index,inplace=True)"
   ]
  },
  {
   "cell_type": "markdown",
   "metadata": {},
   "source": [
    "## checking histograms"
   ]
  },
  {
   "cell_type": "code",
   "execution_count": 46,
   "metadata": {},
   "outputs": [
    {
     "data": {
      "image/png": "[encoded data removed]",
      "text/plain": [
       "<Figure size 1500x500 with 10 Axes>"
      ]
     },
     "metadata": {},
     "output_type": "display_data"
    }
   ],
   "source": [
    "fig, axList = plt.subplots(nrows=2, ncols=5)\n",
    "axList = axList.flatten()\n",
    "fig.set_size_inches(15,5)\n",
    "\n",
    "numeric_columns = [x for x in frame.columns if frame[x].dtype in ['float64','int64']]\n",
    "kurtosis_dict = dict(frame[numeric_columns].kurtosis())\n",
    "\n",
    "for ax, column in zip(axList, numeric_columns):\n",
    "    sns.histplot(frame, x=frame[column], ax=ax, bins=25)\n",
    "    ax.title.set_text(f'skew: {round(frame[column].skew(), 1)}, kurtosis: {round(kurtosis_dict[column], 2)}')\n",
    "    \n",
    "plt.tight_layout()"
   ]
  },
  {
   "cell_type": "markdown",
   "metadata": {},
   "source": [
    "## data summary"
   ]
  },
  {
   "cell_type": "code",
   "execution_count": 47,
   "metadata": {},
   "outputs": [
    {
     "data": {
      "text/html": [
       "<div>\n",
       "<style scoped>\n",
       "    .dataframe tbody tr th:only-of-type {\n",
       "        vertical-align: middle;\n",
       "    }\n",
       "\n",
       "    .dataframe tbody tr th {\n",
       "        vertical-align: top;\n",
       "    }\n",
       "\n",
       "    .dataframe thead th {\n",
       "        text-align: right;\n",
       "    }\n",
       "</style>\n",
       "<table border=\"1\" class=\"dataframe\">\n",
       "  <thead>\n",
       "    <tr style=\"text-align: right;\">\n",
       "      <th></th>\n",
       "      <th>count</th>\n",
       "      <th>mean</th>\n",
       "      <th>std</th>\n",
       "      <th>min</th>\n",
       "      <th>25%</th>\n",
       "      <th>50%</th>\n",
       "      <th>75%</th>\n",
       "      <th>max</th>\n",
       "    </tr>\n",
       "  </thead>\n",
       "  <tbody>\n",
       "    <tr>\n",
       "      <th>localization_y</th>\n",
       "      <td>30766.0</td>\n",
       "      <td>52.04</td>\n",
       "      <td>1.49</td>\n",
       "      <td>48.17</td>\n",
       "      <td>50.89</td>\n",
       "      <td>52.17</td>\n",
       "      <td>53.15</td>\n",
       "      <td>54.83</td>\n",
       "    </tr>\n",
       "    <tr>\n",
       "      <th>localization_x</th>\n",
       "      <td>30766.0</td>\n",
       "      <td>19.04</td>\n",
       "      <td>1.95</td>\n",
       "      <td>14.22</td>\n",
       "      <td>17.62</td>\n",
       "      <td>19.08</td>\n",
       "      <td>20.88</td>\n",
       "      <td>23.94</td>\n",
       "    </tr>\n",
       "    <tr>\n",
       "      <th>area</th>\n",
       "      <td>30766.0</td>\n",
       "      <td>61.13</td>\n",
       "      <td>23.77</td>\n",
       "      <td>23.60</td>\n",
       "      <td>44.86</td>\n",
       "      <td>56.70</td>\n",
       "      <td>71.70</td>\n",
       "      <td>170.00</td>\n",
       "    </tr>\n",
       "    <tr>\n",
       "      <th>rooms</th>\n",
       "      <td>30766.0</td>\n",
       "      <td>2.72</td>\n",
       "      <td>0.95</td>\n",
       "      <td>1.00</td>\n",
       "      <td>2.00</td>\n",
       "      <td>3.00</td>\n",
       "      <td>3.00</td>\n",
       "      <td>6.00</td>\n",
       "    </tr>\n",
       "    <tr>\n",
       "      <th>floor</th>\n",
       "      <td>30766.0</td>\n",
       "      <td>2.19</td>\n",
       "      <td>2.08</td>\n",
       "      <td>0.00</td>\n",
       "      <td>1.00</td>\n",
       "      <td>2.00</td>\n",
       "      <td>3.00</td>\n",
       "      <td>15.00</td>\n",
       "    </tr>\n",
       "    <tr>\n",
       "      <th>floors</th>\n",
       "      <td>30766.0</td>\n",
       "      <td>4.27</td>\n",
       "      <td>2.49</td>\n",
       "      <td>0.00</td>\n",
       "      <td>3.00</td>\n",
       "      <td>4.00</td>\n",
       "      <td>5.00</td>\n",
       "      <td>15.00</td>\n",
       "    </tr>\n",
       "    <tr>\n",
       "      <th>build_yr</th>\n",
       "      <td>30766.0</td>\n",
       "      <td>1997.39</td>\n",
       "      <td>32.32</td>\n",
       "      <td>1900.00</td>\n",
       "      <td>1978.00</td>\n",
       "      <td>2013.00</td>\n",
       "      <td>2023.00</td>\n",
       "      <td>2024.00</td>\n",
       "    </tr>\n",
       "    <tr>\n",
       "      <th>price</th>\n",
       "      <td>30766.0</td>\n",
       "      <td>715846.74</td>\n",
       "      <td>419752.65</td>\n",
       "      <td>168000.00</td>\n",
       "      <td>440000.00</td>\n",
       "      <td>629000.00</td>\n",
       "      <td>855600.00</td>\n",
       "      <td>3350000.00</td>\n",
       "    </tr>\n",
       "    <tr>\n",
       "      <th>price_of_sqm</th>\n",
       "      <td>30766.0</td>\n",
       "      <td>11978.93</td>\n",
       "      <td>5215.70</td>\n",
       "      <td>3194.17</td>\n",
       "      <td>8000.28</td>\n",
       "      <td>11025.69</td>\n",
       "      <td>15000.00</td>\n",
       "      <td>31718.75</td>\n",
       "    </tr>\n",
       "  </tbody>\n",
       "</table>\n",
       "</div>"
      ],
      "text/plain": [
       "                  count       mean        std        min        25%  \\\n",
       "localization_y  30766.0      52.04       1.49      48.17      50.89   \n",
       "localization_x  30766.0      19.04       1.95      14.22      17.62   \n",
       "area            30766.0      61.13      23.77      23.60      44.86   \n",
       "rooms           30766.0       2.72       0.95       1.00       2.00   \n",
       "floor           30766.0       2.19       2.08       0.00       1.00   \n",
       "floors          30766.0       4.27       2.49       0.00       3.00   \n",
       "build_yr        30766.0    1997.39      32.32    1900.00    1978.00   \n",
       "price           30766.0  715846.74  419752.65  168000.00  440000.00   \n",
       "price_of_sqm    30766.0   11978.93    5215.70    3194.17    8000.28   \n",
       "\n",
       "                      50%        75%         max  \n",
       "localization_y      52.17      53.15       54.83  \n",
       "localization_x      19.08      20.88       23.94  \n",
       "area                56.70      71.70      170.00  \n",
       "rooms                3.00       3.00        6.00  \n",
       "floor                2.00       3.00       15.00  \n",
       "floors               4.00       5.00       15.00  \n",
       "build_yr          2013.00    2023.00     2024.00  \n",
       "price           629000.00  855600.00  3350000.00  \n",
       "price_of_sqm     11025.69   15000.00    31718.75  "
      ]
     },
     "execution_count": 47,
     "metadata": {},
     "output_type": "execute_result"
    }
   ],
   "source": [
    "round(frame.describe().T, 2)"
   ]
  },
  {
   "cell_type": "code",
   "execution_count": 48,
   "metadata": {},
   "outputs": [
    {
     "data": {
      "text/html": [
       "<div>\n",
       "<style scoped>\n",
       "    .dataframe tbody tr th:only-of-type {\n",
       "        vertical-align: middle;\n",
       "    }\n",
       "\n",
       "    .dataframe tbody tr th {\n",
       "        vertical-align: top;\n",
       "    }\n",
       "\n",
       "    .dataframe thead th {\n",
       "        text-align: right;\n",
       "    }\n",
       "</style>\n",
       "<table border=\"1\" class=\"dataframe\">\n",
       "  <thead>\n",
       "    <tr style=\"text-align: right;\">\n",
       "      <th></th>\n",
       "      <th>count</th>\n",
       "      <th>unique</th>\n",
       "      <th>top</th>\n",
       "      <th>freq</th>\n",
       "    </tr>\n",
       "  </thead>\n",
       "  <tbody>\n",
       "    <tr>\n",
       "      <th>city</th>\n",
       "      <td>30766</td>\n",
       "      <td>1060</td>\n",
       "      <td>Warszawa</td>\n",
       "      <td>5041</td>\n",
       "    </tr>\n",
       "    <tr>\n",
       "      <th>district</th>\n",
       "      <td>26046</td>\n",
       "      <td>1019</td>\n",
       "      <td>Śródmieście</td>\n",
       "      <td>1551</td>\n",
       "    </tr>\n",
       "    <tr>\n",
       "      <th>voivodeship</th>\n",
       "      <td>30766</td>\n",
       "      <td>16</td>\n",
       "      <td>mazowieckie</td>\n",
       "      <td>6526</td>\n",
       "    </tr>\n",
       "    <tr>\n",
       "      <th>market</th>\n",
       "      <td>30766</td>\n",
       "      <td>2</td>\n",
       "      <td>aftermarket</td>\n",
       "      <td>21635</td>\n",
       "    </tr>\n",
       "    <tr>\n",
       "      <th>offer_type</th>\n",
       "      <td>30766</td>\n",
       "      <td>1</td>\n",
       "      <td>sprzedaz</td>\n",
       "      <td>30766</td>\n",
       "    </tr>\n",
       "    <tr>\n",
       "      <th>url</th>\n",
       "      <td>30766</td>\n",
       "      <td>30766</td>\n",
       "      <td>https://gratka.pl/nieruchomosci/nowe-mieszkanie-lodz-gorna-ul-wroblewskiego/ob/32670067</td>\n",
       "      <td>1</td>\n",
       "    </tr>\n",
       "  </tbody>\n",
       "</table>\n",
       "</div>"
      ],
      "text/plain": [
       "             count unique  \\\n",
       "city         30766   1060   \n",
       "district     26046   1019   \n",
       "voivodeship  30766     16   \n",
       "market       30766      2   \n",
       "offer_type   30766      1   \n",
       "url          30766  30766   \n",
       "\n",
       "                                                                                                 top  \\\n",
       "city                                                                                        Warszawa   \n",
       "district                                                                                 Śródmieście   \n",
       "voivodeship                                                                              mazowieckie   \n",
       "market                                                                                   aftermarket   \n",
       "offer_type                                                                                  sprzedaz   \n",
       "url          https://gratka.pl/nieruchomosci/nowe-mieszkanie-lodz-gorna-ul-wroblewskiego/ob/32670067   \n",
       "\n",
       "              freq  \n",
       "city          5041  \n",
       "district      1551  \n",
       "voivodeship   6526  \n",
       "market       21635  \n",
       "offer_type   30766  \n",
       "url              1  "
      ]
     },
     "execution_count": 48,
     "metadata": {},
     "output_type": "execute_result"
    }
   ],
   "source": [
    "frame.describe(include=['object']).T"
   ]
  },
  {
   "cell_type": "code",
   "execution_count": 49,
   "metadata": {},
   "outputs": [],
   "source": [
    "frame.reset_index(drop=True, inplace=True)"
   ]
  },
  {
   "cell_type": "code",
   "execution_count": 50,
   "metadata": {},
   "outputs": [
    {
     "name": "stdout",
     "output_type": "stream",
     "text": [
      "<class 'pandas.core.frame.DataFrame'>\n",
      "RangeIndex: 30766 entries, 0 to 30765\n",
      "Data columns (total 15 columns):\n",
      " #   Column          Non-Null Count  Dtype  \n",
      "---  ------          --------------  -----  \n",
      " 0   city            30766 non-null  object \n",
      " 1   district        26046 non-null  object \n",
      " 2   voivodeship     30766 non-null  object \n",
      " 3   localization_y  30766 non-null  float64\n",
      " 4   localization_x  30766 non-null  float64\n",
      " 5   market          30766 non-null  object \n",
      " 6   offer_type      30766 non-null  object \n",
      " 7   area            30766 non-null  float64\n",
      " 8   rooms           30766 non-null  int64  \n",
      " 9   floor           30766 non-null  int64  \n",
      " 10  floors          30766 non-null  int64  \n",
      " 11  build_yr        30766 non-null  float64\n",
      " 12  price           30766 non-null  float64\n",
      " 13  url             30766 non-null  object \n",
      " 14  price_of_sqm    30766 non-null  float64\n",
      "dtypes: float64(6), int64(3), object(6)\n",
      "memory usage: 3.5+ MB\n"
     ]
    }
   ],
   "source": [
    "frame.info()"
   ]
  },
  {
   "cell_type": "markdown",
   "metadata": {},
   "source": [
    "## saving the frame"
   ]
  },
  {
   "cell_type": "code",
   "execution_count": 51,
   "metadata": {},
   "outputs": [],
   "source": [
    "# outfile = open('apartment_data_frame','wb')\n",
    "# pkl.dump(frame, outfile)\n",
    "# outfile.close()"
   ]
  },
  {
   "cell_type": "code",
   "execution_count": null,
   "metadata": {},
   "outputs": [],
   "source": []
  }
 ],
 "metadata": {
  "kernelspec": {
   "display_name": "Python 3",
   "language": "python",
   "name": "python3"
  },
  "language_info": {
   "codemirror_mode": {
    "name": "ipython",
    "version": 3
   },
   "file_extension": ".py",
   "mimetype": "text/x-python",
   "name": "python",
   "nbconvert_exporter": "python",
   "pygments_lexer": "ipython3",
   "version": "3.11.5"
  }
 },
 "nbformat": 4,
 "nbformat_minor": 4
}
