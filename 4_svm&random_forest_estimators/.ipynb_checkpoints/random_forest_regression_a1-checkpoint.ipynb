{
 "cells": [
  {
   "cell_type": "code",
   "execution_count": 1,
   "metadata": {},
   "outputs": [],
   "source": [
    "import numpy as np\n",
    "import matplotlib.pyplot as plt\n",
    "import pandas as pd\n",
    "import pickle as pkl\n",
    "import seaborn as sns\n",
    "import time"
   ]
  },
  {
   "cell_type": "code",
   "execution_count": 2,
   "metadata": {},
   "outputs": [],
   "source": [
    "infile = open('..//3_k-means_clustering//apartment_data_frame_clustered_500','rb')\n",
    "frame = pkl.load(infile)\n",
    "infile.close()"
   ]
  },
  {
   "cell_type": "code",
   "execution_count": 3,
   "metadata": {},
   "outputs": [
    {
     "data": {
      "text/html": [
       "<div>\n",
       "<style scoped>\n",
       "    .dataframe tbody tr th:only-of-type {\n",
       "        vertical-align: middle;\n",
       "    }\n",
       "\n",
       "    .dataframe tbody tr th {\n",
       "        vertical-align: top;\n",
       "    }\n",
       "\n",
       "    .dataframe thead th {\n",
       "        text-align: right;\n",
       "    }\n",
       "</style>\n",
       "<table border=\"1\" class=\"dataframe\">\n",
       "  <thead>\n",
       "    <tr style=\"text-align: right;\">\n",
       "      <th></th>\n",
       "      <th>city</th>\n",
       "      <th>district</th>\n",
       "      <th>voivodeship</th>\n",
       "      <th>localization_y</th>\n",
       "      <th>localization_x</th>\n",
       "      <th>market</th>\n",
       "      <th>area</th>\n",
       "      <th>rooms</th>\n",
       "      <th>floor</th>\n",
       "      <th>floors</th>\n",
       "      <th>build_yr</th>\n",
       "      <th>price</th>\n",
       "      <th>url</th>\n",
       "      <th>price_of_sqm</th>\n",
       "      <th>cluster</th>\n",
       "    </tr>\n",
       "  </thead>\n",
       "  <tbody>\n",
       "    <tr>\n",
       "      <th>0</th>\n",
       "      <td>Warszawa</td>\n",
       "      <td>Wola</td>\n",
       "      <td>mazowieckie</td>\n",
       "      <td>52.245982</td>\n",
       "      <td>20.985385</td>\n",
       "      <td>wtorny</td>\n",
       "      <td>36.00</td>\n",
       "      <td>2</td>\n",
       "      <td>parter</td>\n",
       "      <td>3</td>\n",
       "      <td>1956.0</td>\n",
       "      <td>496000.0</td>\n",
       "      <td>https://gratka.pl/nieruchomosci/mieszkanie-war...</td>\n",
       "      <td>13777.777778</td>\n",
       "      <td>490</td>\n",
       "    </tr>\n",
       "    <tr>\n",
       "      <th>1</th>\n",
       "      <td>Kraków</td>\n",
       "      <td>Swoszowice</td>\n",
       "      <td>małopolskie</td>\n",
       "      <td>49.991389</td>\n",
       "      <td>19.946389</td>\n",
       "      <td>wtorny</td>\n",
       "      <td>78.32</td>\n",
       "      <td>3</td>\n",
       "      <td>3</td>\n",
       "      <td>3</td>\n",
       "      <td>2014.0</td>\n",
       "      <td>538000.0</td>\n",
       "      <td>https://gratka.pl/nieruchomosci/mieszkanie-kra...</td>\n",
       "      <td>6869.254341</td>\n",
       "      <td>394</td>\n",
       "    </tr>\n",
       "    <tr>\n",
       "      <th>2</th>\n",
       "      <td>Łódź</td>\n",
       "      <td>Śródmieście</td>\n",
       "      <td>łódzkie</td>\n",
       "      <td>51.772914</td>\n",
       "      <td>19.458331</td>\n",
       "      <td>wtorny</td>\n",
       "      <td>60.27</td>\n",
       "      <td>2</td>\n",
       "      <td>2</td>\n",
       "      <td>3</td>\n",
       "      <td>1910.0</td>\n",
       "      <td>270000.0</td>\n",
       "      <td>https://gratka.pl/nieruchomosci/mieszkanie-lod...</td>\n",
       "      <td>4479.840717</td>\n",
       "      <td>152</td>\n",
       "    </tr>\n",
       "    <tr>\n",
       "      <th>3</th>\n",
       "      <td>Warszawa</td>\n",
       "      <td>Stara Ochota</td>\n",
       "      <td>mazowieckie</td>\n",
       "      <td>52.218900</td>\n",
       "      <td>20.978800</td>\n",
       "      <td>wtorny</td>\n",
       "      <td>122.00</td>\n",
       "      <td>4</td>\n",
       "      <td>6</td>\n",
       "      <td>7</td>\n",
       "      <td>2020.0</td>\n",
       "      <td>1955000.0</td>\n",
       "      <td>https://gratka.pl/nieruchomosci/mieszkanie-war...</td>\n",
       "      <td>16024.590164</td>\n",
       "      <td>215</td>\n",
       "    </tr>\n",
       "    <tr>\n",
       "      <th>4</th>\n",
       "      <td>Kraków</td>\n",
       "      <td>Mistrzejowice</td>\n",
       "      <td>małopolskie</td>\n",
       "      <td>50.096196</td>\n",
       "      <td>20.009887</td>\n",
       "      <td>wtorny</td>\n",
       "      <td>48.07</td>\n",
       "      <td>3</td>\n",
       "      <td>3</td>\n",
       "      <td>4</td>\n",
       "      <td>1978.0</td>\n",
       "      <td>384000.0</td>\n",
       "      <td>https://gratka.pl/nieruchomosci/mieszkanie-kra...</td>\n",
       "      <td>7988.350322</td>\n",
       "      <td>154</td>\n",
       "    </tr>\n",
       "    <tr>\n",
       "      <th>...</th>\n",
       "      <td>...</td>\n",
       "      <td>...</td>\n",
       "      <td>...</td>\n",
       "      <td>...</td>\n",
       "      <td>...</td>\n",
       "      <td>...</td>\n",
       "      <td>...</td>\n",
       "      <td>...</td>\n",
       "      <td>...</td>\n",
       "      <td>...</td>\n",
       "      <td>...</td>\n",
       "      <td>...</td>\n",
       "      <td>...</td>\n",
       "      <td>...</td>\n",
       "      <td>...</td>\n",
       "    </tr>\n",
       "    <tr>\n",
       "      <th>54462</th>\n",
       "      <td>Warszawa</td>\n",
       "      <td>Wola</td>\n",
       "      <td>mazowieckie</td>\n",
       "      <td>52.237222</td>\n",
       "      <td>20.960556</td>\n",
       "      <td>pierwotny</td>\n",
       "      <td>109.00</td>\n",
       "      <td>4</td>\n",
       "      <td>12</td>\n",
       "      <td>13</td>\n",
       "      <td>2020.0</td>\n",
       "      <td>1460000.0</td>\n",
       "      <td>https://gratka.pl/nieruchomosci/nowe-mieszkani...</td>\n",
       "      <td>13394.495413</td>\n",
       "      <td>159</td>\n",
       "    </tr>\n",
       "    <tr>\n",
       "      <th>54463</th>\n",
       "      <td>Warszawa</td>\n",
       "      <td>Wola</td>\n",
       "      <td>mazowieckie</td>\n",
       "      <td>52.237222</td>\n",
       "      <td>20.960556</td>\n",
       "      <td>wtorny</td>\n",
       "      <td>82.60</td>\n",
       "      <td>4</td>\n",
       "      <td>4</td>\n",
       "      <td>5</td>\n",
       "      <td>2020.0</td>\n",
       "      <td>885000.0</td>\n",
       "      <td>https://gratka.pl/nieruchomosci/4-pokojowe-got...</td>\n",
       "      <td>10714.285714</td>\n",
       "      <td>159</td>\n",
       "    </tr>\n",
       "    <tr>\n",
       "      <th>54464</th>\n",
       "      <td>Poznań</td>\n",
       "      <td>Grunwald</td>\n",
       "      <td>wielkopolskie</td>\n",
       "      <td>52.392626</td>\n",
       "      <td>16.846137</td>\n",
       "      <td>wtorny</td>\n",
       "      <td>68.25</td>\n",
       "      <td>3</td>\n",
       "      <td>parter</td>\n",
       "      <td>4</td>\n",
       "      <td>2009.0</td>\n",
       "      <td>540000.0</td>\n",
       "      <td>https://gratka.pl/nieruchomosci/mieszkanie-poz...</td>\n",
       "      <td>7912.087912</td>\n",
       "      <td>197</td>\n",
       "    </tr>\n",
       "    <tr>\n",
       "      <th>54465</th>\n",
       "      <td>Kraków</td>\n",
       "      <td>Os. Prądnik Czerwony</td>\n",
       "      <td>małopolskie</td>\n",
       "      <td>50.088513</td>\n",
       "      <td>19.958912</td>\n",
       "      <td>wtorny</td>\n",
       "      <td>45.00</td>\n",
       "      <td>2</td>\n",
       "      <td>2</td>\n",
       "      <td>10</td>\n",
       "      <td>2019.0</td>\n",
       "      <td>610000.0</td>\n",
       "      <td>https://gratka.pl/nieruchomosci/mieszkanie-kra...</td>\n",
       "      <td>13555.555556</td>\n",
       "      <td>468</td>\n",
       "    </tr>\n",
       "    <tr>\n",
       "      <th>54466</th>\n",
       "      <td>Suszec</td>\n",
       "      <td>pszczyński</td>\n",
       "      <td>śląskie</td>\n",
       "      <td>50.029463</td>\n",
       "      <td>18.791269</td>\n",
       "      <td>wtorny</td>\n",
       "      <td>34.05</td>\n",
       "      <td>1</td>\n",
       "      <td>3</td>\n",
       "      <td>4</td>\n",
       "      <td>1990.0</td>\n",
       "      <td>119900.0</td>\n",
       "      <td>https://gratka.pl/nieruchomosci/mieszkanie-sus...</td>\n",
       "      <td>3521.292217</td>\n",
       "      <td>91</td>\n",
       "    </tr>\n",
       "  </tbody>\n",
       "</table>\n",
       "<p>54467 rows × 15 columns</p>\n",
       "</div>"
      ],
      "text/plain": [
       "           city              district    voivodeship  localization_y  \\\n",
       "0      Warszawa                  Wola    mazowieckie       52.245982   \n",
       "1        Kraków            Swoszowice    małopolskie       49.991389   \n",
       "2          Łódź           Śródmieście        łódzkie       51.772914   \n",
       "3      Warszawa          Stara Ochota    mazowieckie       52.218900   \n",
       "4        Kraków         Mistrzejowice    małopolskie       50.096196   \n",
       "...         ...                   ...            ...             ...   \n",
       "54462  Warszawa                  Wola    mazowieckie       52.237222   \n",
       "54463  Warszawa                  Wola    mazowieckie       52.237222   \n",
       "54464    Poznań              Grunwald  wielkopolskie       52.392626   \n",
       "54465    Kraków  Os. Prądnik Czerwony    małopolskie       50.088513   \n",
       "54466    Suszec            pszczyński        śląskie       50.029463   \n",
       "\n",
       "       localization_x     market    area rooms   floor floors  build_yr  \\\n",
       "0           20.985385     wtorny   36.00     2  parter      3    1956.0   \n",
       "1           19.946389     wtorny   78.32     3       3      3    2014.0   \n",
       "2           19.458331     wtorny   60.27     2       2      3    1910.0   \n",
       "3           20.978800     wtorny  122.00     4       6      7    2020.0   \n",
       "4           20.009887     wtorny   48.07     3       3      4    1978.0   \n",
       "...               ...        ...     ...   ...     ...    ...       ...   \n",
       "54462       20.960556  pierwotny  109.00     4      12     13    2020.0   \n",
       "54463       20.960556     wtorny   82.60     4       4      5    2020.0   \n",
       "54464       16.846137     wtorny   68.25     3  parter      4    2009.0   \n",
       "54465       19.958912     wtorny   45.00     2       2     10    2019.0   \n",
       "54466       18.791269     wtorny   34.05     1       3      4    1990.0   \n",
       "\n",
       "           price                                                url  \\\n",
       "0       496000.0  https://gratka.pl/nieruchomosci/mieszkanie-war...   \n",
       "1       538000.0  https://gratka.pl/nieruchomosci/mieszkanie-kra...   \n",
       "2       270000.0  https://gratka.pl/nieruchomosci/mieszkanie-lod...   \n",
       "3      1955000.0  https://gratka.pl/nieruchomosci/mieszkanie-war...   \n",
       "4       384000.0  https://gratka.pl/nieruchomosci/mieszkanie-kra...   \n",
       "...          ...                                                ...   \n",
       "54462  1460000.0  https://gratka.pl/nieruchomosci/nowe-mieszkani...   \n",
       "54463   885000.0  https://gratka.pl/nieruchomosci/4-pokojowe-got...   \n",
       "54464   540000.0  https://gratka.pl/nieruchomosci/mieszkanie-poz...   \n",
       "54465   610000.0  https://gratka.pl/nieruchomosci/mieszkanie-kra...   \n",
       "54466   119900.0  https://gratka.pl/nieruchomosci/mieszkanie-sus...   \n",
       "\n",
       "       price_of_sqm  cluster  \n",
       "0      13777.777778      490  \n",
       "1       6869.254341      394  \n",
       "2       4479.840717      152  \n",
       "3      16024.590164      215  \n",
       "4       7988.350322      154  \n",
       "...             ...      ...  \n",
       "54462  13394.495413      159  \n",
       "54463  10714.285714      159  \n",
       "54464   7912.087912      197  \n",
       "54465  13555.555556      468  \n",
       "54466   3521.292217       91  \n",
       "\n",
       "[54467 rows x 15 columns]"
      ]
     },
     "execution_count": 3,
     "metadata": {},
     "output_type": "execute_result"
    }
   ],
   "source": [
    "frame"
   ]
  },
  {
   "cell_type": "markdown",
   "metadata": {},
   "source": [
    "## data preparation"
   ]
  },
  {
   "cell_type": "code",
   "execution_count": 4,
   "metadata": {},
   "outputs": [
    {
     "name": "stdout",
     "output_type": "stream",
     "text": [
      "<class 'pandas.core.frame.DataFrame'>\n",
      "RangeIndex: 54467 entries, 0 to 54466\n",
      "Data columns (total 15 columns):\n",
      " #   Column          Non-Null Count  Dtype  \n",
      "---  ------          --------------  -----  \n",
      " 0   city            54467 non-null  object \n",
      " 1   district        54467 non-null  object \n",
      " 2   voivodeship     46557 non-null  object \n",
      " 3   localization_y  54467 non-null  float64\n",
      " 4   localization_x  54467 non-null  float64\n",
      " 5   market          54467 non-null  object \n",
      " 6   area            54467 non-null  float64\n",
      " 7   rooms           54467 non-null  object \n",
      " 8   floor           54467 non-null  object \n",
      " 9   floors          54467 non-null  object \n",
      " 10  build_yr        54467 non-null  float64\n",
      " 11  price           54467 non-null  float64\n",
      " 12  url             54467 non-null  object \n",
      " 13  price_of_sqm    54467 non-null  float64\n",
      " 14  cluster         54467 non-null  int32  \n",
      "dtypes: float64(6), int32(1), object(8)\n",
      "memory usage: 6.0+ MB\n"
     ]
    }
   ],
   "source": [
    "frame.info()"
   ]
  },
  {
   "cell_type": "code",
   "execution_count": 5,
   "metadata": {},
   "outputs": [],
   "source": [
    "frame = frame.drop(['city','district','voivodeship','localization_y','localization_x','price_of_sqm','url'],axis=1)"
   ]
  },
  {
   "cell_type": "code",
   "execution_count": 6,
   "metadata": {},
   "outputs": [],
   "source": [
    "frame.cluster = frame.cluster.apply(str)"
   ]
  },
  {
   "cell_type": "code",
   "execution_count": 7,
   "metadata": {},
   "outputs": [
    {
     "name": "stdout",
     "output_type": "stream",
     "text": [
      "<class 'pandas.core.frame.DataFrame'>\n",
      "RangeIndex: 54467 entries, 0 to 54466\n",
      "Data columns (total 8 columns):\n",
      " #   Column    Non-Null Count  Dtype  \n",
      "---  ------    --------------  -----  \n",
      " 0   market    54467 non-null  object \n",
      " 1   area      54467 non-null  float64\n",
      " 2   rooms     54467 non-null  object \n",
      " 3   floor     54467 non-null  object \n",
      " 4   floors    54467 non-null  object \n",
      " 5   build_yr  54467 non-null  float64\n",
      " 6   price     54467 non-null  float64\n",
      " 7   cluster   54467 non-null  object \n",
      "dtypes: float64(3), object(5)\n",
      "memory usage: 3.3+ MB\n"
     ]
    }
   ],
   "source": [
    "frame.info()"
   ]
  },
  {
   "cell_type": "markdown",
   "metadata": {},
   "source": [
    "## creating dummy variables"
   ]
  },
  {
   "cell_type": "code",
   "execution_count": 8,
   "metadata": {},
   "outputs": [],
   "source": [
    "dummies = pd.get_dummies(frame[['market','rooms','floor','floors','cluster']],drop_first=True)\n",
    "frame = frame.drop(['market','rooms','floor','floors','cluster'],axis=1)\n",
    "frame = pd.concat([frame,dummies],axis=1)"
   ]
  },
  {
   "cell_type": "code",
   "execution_count": 9,
   "metadata": {},
   "outputs": [
    {
     "data": {
      "text/html": [
       "<div>\n",
       "<style scoped>\n",
       "    .dataframe tbody tr th:only-of-type {\n",
       "        vertical-align: middle;\n",
       "    }\n",
       "\n",
       "    .dataframe tbody tr th {\n",
       "        vertical-align: top;\n",
       "    }\n",
       "\n",
       "    .dataframe thead th {\n",
       "        text-align: right;\n",
       "    }\n",
       "</style>\n",
       "<table border=\"1\" class=\"dataframe\">\n",
       "  <thead>\n",
       "    <tr style=\"text-align: right;\">\n",
       "      <th></th>\n",
       "      <th>area</th>\n",
       "      <th>build_yr</th>\n",
       "      <th>price</th>\n",
       "      <th>market_wtorny</th>\n",
       "      <th>rooms_2</th>\n",
       "      <th>rooms_3</th>\n",
       "      <th>rooms_4</th>\n",
       "      <th>rooms_5</th>\n",
       "      <th>rooms_6</th>\n",
       "      <th>rooms_7</th>\n",
       "      <th>...</th>\n",
       "      <th>cluster_90</th>\n",
       "      <th>cluster_91</th>\n",
       "      <th>cluster_92</th>\n",
       "      <th>cluster_93</th>\n",
       "      <th>cluster_94</th>\n",
       "      <th>cluster_95</th>\n",
       "      <th>cluster_96</th>\n",
       "      <th>cluster_97</th>\n",
       "      <th>cluster_98</th>\n",
       "      <th>cluster_99</th>\n",
       "    </tr>\n",
       "  </thead>\n",
       "  <tbody>\n",
       "    <tr>\n",
       "      <th>0</th>\n",
       "      <td>36.00</td>\n",
       "      <td>1956.0</td>\n",
       "      <td>496000.0</td>\n",
       "      <td>1</td>\n",
       "      <td>1</td>\n",
       "      <td>0</td>\n",
       "      <td>0</td>\n",
       "      <td>0</td>\n",
       "      <td>0</td>\n",
       "      <td>0</td>\n",
       "      <td>...</td>\n",
       "      <td>0</td>\n",
       "      <td>0</td>\n",
       "      <td>0</td>\n",
       "      <td>0</td>\n",
       "      <td>0</td>\n",
       "      <td>0</td>\n",
       "      <td>0</td>\n",
       "      <td>0</td>\n",
       "      <td>0</td>\n",
       "      <td>0</td>\n",
       "    </tr>\n",
       "    <tr>\n",
       "      <th>1</th>\n",
       "      <td>78.32</td>\n",
       "      <td>2014.0</td>\n",
       "      <td>538000.0</td>\n",
       "      <td>1</td>\n",
       "      <td>0</td>\n",
       "      <td>1</td>\n",
       "      <td>0</td>\n",
       "      <td>0</td>\n",
       "      <td>0</td>\n",
       "      <td>0</td>\n",
       "      <td>...</td>\n",
       "      <td>0</td>\n",
       "      <td>0</td>\n",
       "      <td>0</td>\n",
       "      <td>0</td>\n",
       "      <td>0</td>\n",
       "      <td>0</td>\n",
       "      <td>0</td>\n",
       "      <td>0</td>\n",
       "      <td>0</td>\n",
       "      <td>0</td>\n",
       "    </tr>\n",
       "    <tr>\n",
       "      <th>2</th>\n",
       "      <td>60.27</td>\n",
       "      <td>1910.0</td>\n",
       "      <td>270000.0</td>\n",
       "      <td>1</td>\n",
       "      <td>1</td>\n",
       "      <td>0</td>\n",
       "      <td>0</td>\n",
       "      <td>0</td>\n",
       "      <td>0</td>\n",
       "      <td>0</td>\n",
       "      <td>...</td>\n",
       "      <td>0</td>\n",
       "      <td>0</td>\n",
       "      <td>0</td>\n",
       "      <td>0</td>\n",
       "      <td>0</td>\n",
       "      <td>0</td>\n",
       "      <td>0</td>\n",
       "      <td>0</td>\n",
       "      <td>0</td>\n",
       "      <td>0</td>\n",
       "    </tr>\n",
       "    <tr>\n",
       "      <th>3</th>\n",
       "      <td>122.00</td>\n",
       "      <td>2020.0</td>\n",
       "      <td>1955000.0</td>\n",
       "      <td>1</td>\n",
       "      <td>0</td>\n",
       "      <td>0</td>\n",
       "      <td>1</td>\n",
       "      <td>0</td>\n",
       "      <td>0</td>\n",
       "      <td>0</td>\n",
       "      <td>...</td>\n",
       "      <td>0</td>\n",
       "      <td>0</td>\n",
       "      <td>0</td>\n",
       "      <td>0</td>\n",
       "      <td>0</td>\n",
       "      <td>0</td>\n",
       "      <td>0</td>\n",
       "      <td>0</td>\n",
       "      <td>0</td>\n",
       "      <td>0</td>\n",
       "    </tr>\n",
       "    <tr>\n",
       "      <th>4</th>\n",
       "      <td>48.07</td>\n",
       "      <td>1978.0</td>\n",
       "      <td>384000.0</td>\n",
       "      <td>1</td>\n",
       "      <td>0</td>\n",
       "      <td>1</td>\n",
       "      <td>0</td>\n",
       "      <td>0</td>\n",
       "      <td>0</td>\n",
       "      <td>0</td>\n",
       "      <td>...</td>\n",
       "      <td>0</td>\n",
       "      <td>0</td>\n",
       "      <td>0</td>\n",
       "      <td>0</td>\n",
       "      <td>0</td>\n",
       "      <td>0</td>\n",
       "      <td>0</td>\n",
       "      <td>0</td>\n",
       "      <td>0</td>\n",
       "      <td>0</td>\n",
       "    </tr>\n",
       "    <tr>\n",
       "      <th>...</th>\n",
       "      <td>...</td>\n",
       "      <td>...</td>\n",
       "      <td>...</td>\n",
       "      <td>...</td>\n",
       "      <td>...</td>\n",
       "      <td>...</td>\n",
       "      <td>...</td>\n",
       "      <td>...</td>\n",
       "      <td>...</td>\n",
       "      <td>...</td>\n",
       "      <td>...</td>\n",
       "      <td>...</td>\n",
       "      <td>...</td>\n",
       "      <td>...</td>\n",
       "      <td>...</td>\n",
       "      <td>...</td>\n",
       "      <td>...</td>\n",
       "      <td>...</td>\n",
       "      <td>...</td>\n",
       "      <td>...</td>\n",
       "      <td>...</td>\n",
       "    </tr>\n",
       "    <tr>\n",
       "      <th>54462</th>\n",
       "      <td>109.00</td>\n",
       "      <td>2020.0</td>\n",
       "      <td>1460000.0</td>\n",
       "      <td>0</td>\n",
       "      <td>0</td>\n",
       "      <td>0</td>\n",
       "      <td>1</td>\n",
       "      <td>0</td>\n",
       "      <td>0</td>\n",
       "      <td>0</td>\n",
       "      <td>...</td>\n",
       "      <td>0</td>\n",
       "      <td>0</td>\n",
       "      <td>0</td>\n",
       "      <td>0</td>\n",
       "      <td>0</td>\n",
       "      <td>0</td>\n",
       "      <td>0</td>\n",
       "      <td>0</td>\n",
       "      <td>0</td>\n",
       "      <td>0</td>\n",
       "    </tr>\n",
       "    <tr>\n",
       "      <th>54463</th>\n",
       "      <td>82.60</td>\n",
       "      <td>2020.0</td>\n",
       "      <td>885000.0</td>\n",
       "      <td>1</td>\n",
       "      <td>0</td>\n",
       "      <td>0</td>\n",
       "      <td>1</td>\n",
       "      <td>0</td>\n",
       "      <td>0</td>\n",
       "      <td>0</td>\n",
       "      <td>...</td>\n",
       "      <td>0</td>\n",
       "      <td>0</td>\n",
       "      <td>0</td>\n",
       "      <td>0</td>\n",
       "      <td>0</td>\n",
       "      <td>0</td>\n",
       "      <td>0</td>\n",
       "      <td>0</td>\n",
       "      <td>0</td>\n",
       "      <td>0</td>\n",
       "    </tr>\n",
       "    <tr>\n",
       "      <th>54464</th>\n",
       "      <td>68.25</td>\n",
       "      <td>2009.0</td>\n",
       "      <td>540000.0</td>\n",
       "      <td>1</td>\n",
       "      <td>0</td>\n",
       "      <td>1</td>\n",
       "      <td>0</td>\n",
       "      <td>0</td>\n",
       "      <td>0</td>\n",
       "      <td>0</td>\n",
       "      <td>...</td>\n",
       "      <td>0</td>\n",
       "      <td>0</td>\n",
       "      <td>0</td>\n",
       "      <td>0</td>\n",
       "      <td>0</td>\n",
       "      <td>0</td>\n",
       "      <td>0</td>\n",
       "      <td>0</td>\n",
       "      <td>0</td>\n",
       "      <td>0</td>\n",
       "    </tr>\n",
       "    <tr>\n",
       "      <th>54465</th>\n",
       "      <td>45.00</td>\n",
       "      <td>2019.0</td>\n",
       "      <td>610000.0</td>\n",
       "      <td>1</td>\n",
       "      <td>1</td>\n",
       "      <td>0</td>\n",
       "      <td>0</td>\n",
       "      <td>0</td>\n",
       "      <td>0</td>\n",
       "      <td>0</td>\n",
       "      <td>...</td>\n",
       "      <td>0</td>\n",
       "      <td>0</td>\n",
       "      <td>0</td>\n",
       "      <td>0</td>\n",
       "      <td>0</td>\n",
       "      <td>0</td>\n",
       "      <td>0</td>\n",
       "      <td>0</td>\n",
       "      <td>0</td>\n",
       "      <td>0</td>\n",
       "    </tr>\n",
       "    <tr>\n",
       "      <th>54466</th>\n",
       "      <td>34.05</td>\n",
       "      <td>1990.0</td>\n",
       "      <td>119900.0</td>\n",
       "      <td>1</td>\n",
       "      <td>0</td>\n",
       "      <td>0</td>\n",
       "      <td>0</td>\n",
       "      <td>0</td>\n",
       "      <td>0</td>\n",
       "      <td>0</td>\n",
       "      <td>...</td>\n",
       "      <td>0</td>\n",
       "      <td>1</td>\n",
       "      <td>0</td>\n",
       "      <td>0</td>\n",
       "      <td>0</td>\n",
       "      <td>0</td>\n",
       "      <td>0</td>\n",
       "      <td>0</td>\n",
       "      <td>0</td>\n",
       "      <td>0</td>\n",
       "    </tr>\n",
       "  </tbody>\n",
       "</table>\n",
       "<p>54467 rows × 575 columns</p>\n",
       "</div>"
      ],
      "text/plain": [
       "         area  build_yr      price  market_wtorny  rooms_2  rooms_3  rooms_4  \\\n",
       "0       36.00    1956.0   496000.0              1        1        0        0   \n",
       "1       78.32    2014.0   538000.0              1        0        1        0   \n",
       "2       60.27    1910.0   270000.0              1        1        0        0   \n",
       "3      122.00    2020.0  1955000.0              1        0        0        1   \n",
       "4       48.07    1978.0   384000.0              1        0        1        0   \n",
       "...       ...       ...        ...            ...      ...      ...      ...   \n",
       "54462  109.00    2020.0  1460000.0              0        0        0        1   \n",
       "54463   82.60    2020.0   885000.0              1        0        0        1   \n",
       "54464   68.25    2009.0   540000.0              1        0        1        0   \n",
       "54465   45.00    2019.0   610000.0              1        1        0        0   \n",
       "54466   34.05    1990.0   119900.0              1        0        0        0   \n",
       "\n",
       "       rooms_5  rooms_6  rooms_7  ...  cluster_90  cluster_91  cluster_92  \\\n",
       "0            0        0        0  ...           0           0           0   \n",
       "1            0        0        0  ...           0           0           0   \n",
       "2            0        0        0  ...           0           0           0   \n",
       "3            0        0        0  ...           0           0           0   \n",
       "4            0        0        0  ...           0           0           0   \n",
       "...        ...      ...      ...  ...         ...         ...         ...   \n",
       "54462        0        0        0  ...           0           0           0   \n",
       "54463        0        0        0  ...           0           0           0   \n",
       "54464        0        0        0  ...           0           0           0   \n",
       "54465        0        0        0  ...           0           0           0   \n",
       "54466        0        0        0  ...           0           1           0   \n",
       "\n",
       "       cluster_93  cluster_94  cluster_95  cluster_96  cluster_97  cluster_98  \\\n",
       "0               0           0           0           0           0           0   \n",
       "1               0           0           0           0           0           0   \n",
       "2               0           0           0           0           0           0   \n",
       "3               0           0           0           0           0           0   \n",
       "4               0           0           0           0           0           0   \n",
       "...           ...         ...         ...         ...         ...         ...   \n",
       "54462           0           0           0           0           0           0   \n",
       "54463           0           0           0           0           0           0   \n",
       "54464           0           0           0           0           0           0   \n",
       "54465           0           0           0           0           0           0   \n",
       "54466           0           0           0           0           0           0   \n",
       "\n",
       "       cluster_99  \n",
       "0               0  \n",
       "1               0  \n",
       "2               0  \n",
       "3               0  \n",
       "4               0  \n",
       "...           ...  \n",
       "54462           0  \n",
       "54463           0  \n",
       "54464           0  \n",
       "54465           0  \n",
       "54466           0  \n",
       "\n",
       "[54467 rows x 575 columns]"
      ]
     },
     "execution_count": 9,
     "metadata": {},
     "output_type": "execute_result"
    }
   ],
   "source": [
    "frame"
   ]
  },
  {
   "cell_type": "markdown",
   "metadata": {},
   "source": [
    "## train test split"
   ]
  },
  {
   "cell_type": "code",
   "execution_count": 10,
   "metadata": {},
   "outputs": [],
   "source": [
    "from sklearn.model_selection import train_test_split"
   ]
  },
  {
   "cell_type": "code",
   "execution_count": 11,
   "metadata": {},
   "outputs": [],
   "source": [
    "X = frame.drop('price',axis=1).values\n",
    "y = frame.price.values"
   ]
  },
  {
   "cell_type": "code",
   "execution_count": 12,
   "metadata": {},
   "outputs": [],
   "source": [
    "X_train, X_test, y_train, y_test = train_test_split(X, y, test_size = 0.25)"
   ]
  },
  {
   "cell_type": "markdown",
   "metadata": {},
   "source": [
    "## random forest regressor and grid search"
   ]
  },
  {
   "cell_type": "code",
   "execution_count": 13,
   "metadata": {},
   "outputs": [],
   "source": [
    "from sklearn.model_selection import GridSearchCV\n",
    "from sklearn.ensemble import RandomForestRegressor"
   ]
  },
  {
   "cell_type": "code",
   "execution_count": 14,
   "metadata": {},
   "outputs": [],
   "source": [
    "parameters = [{'n_estimators':[10,30,50,100,200]}]"
   ]
  },
  {
   "cell_type": "code",
   "execution_count": 15,
   "metadata": {},
   "outputs": [],
   "source": [
    "grid_search = GridSearchCV(estimator = RandomForestRegressor(),\n",
    "                           param_grid = parameters,\n",
    "                           cv = 3,\n",
    "#                            n_jobs = -1,\n",
    "                          )"
   ]
  },
  {
   "cell_type": "code",
   "execution_count": 16,
   "metadata": {},
   "outputs": [
    {
     "name": "stdout",
     "output_type": "stream",
     "text": [
      "\n",
      " 47.0 min.\n"
     ]
    }
   ],
   "source": [
    "start = time.time()\n",
    "\n",
    "grid_search = grid_search.fit(X_train, y_train)\n",
    "\n",
    "stop = time.time()\n",
    "print('\\n',(stop-start)//60,'min.')"
   ]
  },
  {
   "cell_type": "code",
   "execution_count": 17,
   "metadata": {},
   "outputs": [
    {
     "data": {
      "text/plain": [
       "0.8022032233514635"
      ]
     },
     "execution_count": 17,
     "metadata": {},
     "output_type": "execute_result"
    }
   ],
   "source": [
    "grid_search.best_score_"
   ]
  },
  {
   "cell_type": "code",
   "execution_count": 18,
   "metadata": {},
   "outputs": [
    {
     "data": {
      "text/plain": [
       "{'n_estimators': 200}"
      ]
     },
     "execution_count": 18,
     "metadata": {},
     "output_type": "execute_result"
    }
   ],
   "source": [
    "grid_search.best_params_"
   ]
  },
  {
   "cell_type": "code",
   "execution_count": 19,
   "metadata": {},
   "outputs": [
    {
     "data": {
      "text/html": [
       "<div>\n",
       "<style scoped>\n",
       "    .dataframe tbody tr th:only-of-type {\n",
       "        vertical-align: middle;\n",
       "    }\n",
       "\n",
       "    .dataframe tbody tr th {\n",
       "        vertical-align: top;\n",
       "    }\n",
       "\n",
       "    .dataframe thead th {\n",
       "        text-align: right;\n",
       "    }\n",
       "</style>\n",
       "<table border=\"1\" class=\"dataframe\">\n",
       "  <thead>\n",
       "    <tr style=\"text-align: right;\">\n",
       "      <th></th>\n",
       "      <th>mean_fit_time</th>\n",
       "      <th>std_fit_time</th>\n",
       "      <th>mean_score_time</th>\n",
       "      <th>std_score_time</th>\n",
       "      <th>param_n_estimators</th>\n",
       "      <th>params</th>\n",
       "      <th>split0_test_score</th>\n",
       "      <th>split1_test_score</th>\n",
       "      <th>split2_test_score</th>\n",
       "      <th>mean_test_score</th>\n",
       "      <th>std_test_score</th>\n",
       "      <th>rank_test_score</th>\n",
       "    </tr>\n",
       "  </thead>\n",
       "  <tbody>\n",
       "    <tr>\n",
       "      <th>0</th>\n",
       "      <td>16.674405</td>\n",
       "      <td>0.362954</td>\n",
       "      <td>0.086267</td>\n",
       "      <td>0.000476</td>\n",
       "      <td>10</td>\n",
       "      <td>{'n_estimators': 10}</td>\n",
       "      <td>0.794994</td>\n",
       "      <td>0.774359</td>\n",
       "      <td>0.779959</td>\n",
       "      <td>0.783104</td>\n",
       "      <td>0.008712</td>\n",
       "      <td>5</td>\n",
       "    </tr>\n",
       "    <tr>\n",
       "      <th>1</th>\n",
       "      <td>50.499629</td>\n",
       "      <td>0.456318</td>\n",
       "      <td>0.208407</td>\n",
       "      <td>0.010031</td>\n",
       "      <td>30</td>\n",
       "      <td>{'n_estimators': 30}</td>\n",
       "      <td>0.811469</td>\n",
       "      <td>0.782779</td>\n",
       "      <td>0.800182</td>\n",
       "      <td>0.798143</td>\n",
       "      <td>0.011801</td>\n",
       "      <td>3</td>\n",
       "    </tr>\n",
       "    <tr>\n",
       "      <th>2</th>\n",
       "      <td>89.409092</td>\n",
       "      <td>1.115997</td>\n",
       "      <td>0.348055</td>\n",
       "      <td>0.022485</td>\n",
       "      <td>50</td>\n",
       "      <td>{'n_estimators': 50}</td>\n",
       "      <td>0.817313</td>\n",
       "      <td>0.780714</td>\n",
       "      <td>0.792970</td>\n",
       "      <td>0.796999</td>\n",
       "      <td>0.015211</td>\n",
       "      <td>4</td>\n",
       "    </tr>\n",
       "    <tr>\n",
       "      <th>3</th>\n",
       "      <td>181.055037</td>\n",
       "      <td>1.488773</td>\n",
       "      <td>0.705260</td>\n",
       "      <td>0.046553</td>\n",
       "      <td>100</td>\n",
       "      <td>{'n_estimators': 100}</td>\n",
       "      <td>0.812311</td>\n",
       "      <td>0.790194</td>\n",
       "      <td>0.800153</td>\n",
       "      <td>0.800886</td>\n",
       "      <td>0.009044</td>\n",
       "      <td>2</td>\n",
       "    </tr>\n",
       "    <tr>\n",
       "      <th>4</th>\n",
       "      <td>359.694209</td>\n",
       "      <td>12.904988</td>\n",
       "      <td>1.543890</td>\n",
       "      <td>0.275420</td>\n",
       "      <td>200</td>\n",
       "      <td>{'n_estimators': 200}</td>\n",
       "      <td>0.813093</td>\n",
       "      <td>0.790180</td>\n",
       "      <td>0.803336</td>\n",
       "      <td>0.802203</td>\n",
       "      <td>0.009388</td>\n",
       "      <td>1</td>\n",
       "    </tr>\n",
       "  </tbody>\n",
       "</table>\n",
       "</div>"
      ],
      "text/plain": [
       "   mean_fit_time  std_fit_time  mean_score_time  std_score_time  \\\n",
       "0      16.674405      0.362954         0.086267        0.000476   \n",
       "1      50.499629      0.456318         0.208407        0.010031   \n",
       "2      89.409092      1.115997         0.348055        0.022485   \n",
       "3     181.055037      1.488773         0.705260        0.046553   \n",
       "4     359.694209     12.904988         1.543890        0.275420   \n",
       "\n",
       "  param_n_estimators                 params  split0_test_score  \\\n",
       "0                 10   {'n_estimators': 10}           0.794994   \n",
       "1                 30   {'n_estimators': 30}           0.811469   \n",
       "2                 50   {'n_estimators': 50}           0.817313   \n",
       "3                100  {'n_estimators': 100}           0.812311   \n",
       "4                200  {'n_estimators': 200}           0.813093   \n",
       "\n",
       "   split1_test_score  split2_test_score  mean_test_score  std_test_score  \\\n",
       "0           0.774359           0.779959         0.783104        0.008712   \n",
       "1           0.782779           0.800182         0.798143        0.011801   \n",
       "2           0.780714           0.792970         0.796999        0.015211   \n",
       "3           0.790194           0.800153         0.800886        0.009044   \n",
       "4           0.790180           0.803336         0.802203        0.009388   \n",
       "\n",
       "   rank_test_score  \n",
       "0                5  \n",
       "1                3  \n",
       "2                4  \n",
       "3                2  \n",
       "4                1  "
      ]
     },
     "execution_count": 19,
     "metadata": {},
     "output_type": "execute_result"
    }
   ],
   "source": [
    "pd.DataFrame(grid_search.cv_results_)"
   ]
  },
  {
   "cell_type": "code",
   "execution_count": 20,
   "metadata": {},
   "outputs": [
    {
     "name": "stdout",
     "output_type": "stream",
     "text": [
      "\n",
      " 1.0 min.\n"
     ]
    }
   ],
   "source": [
    "start = time.time()\n",
    "\n",
    "model = RandomForestRegressor(n_estimators = 30, random_state = 0)\n",
    "model.fit(X_train, y_train)\n",
    "\n",
    "stop = time.time()\n",
    "print('\\n',(stop-start)//60,'min.')"
   ]
  },
  {
   "cell_type": "markdown",
   "metadata": {},
   "source": [
    "## model evaluation"
   ]
  },
  {
   "cell_type": "code",
   "execution_count": 21,
   "metadata": {},
   "outputs": [],
   "source": [
    "from sklearn.metrics import r2_score"
   ]
  },
  {
   "cell_type": "code",
   "execution_count": 22,
   "metadata": {},
   "outputs": [],
   "source": [
    "predictions = model.predict(X_test)"
   ]
  },
  {
   "cell_type": "code",
   "execution_count": 23,
   "metadata": {},
   "outputs": [
    {
     "data": {
      "text/plain": [
       "0.8451876577396344"
      ]
     },
     "execution_count": 23,
     "metadata": {},
     "output_type": "execute_result"
    }
   ],
   "source": [
    "r2_score(y_test,predictions)"
   ]
  },
  {
   "cell_type": "code",
   "execution_count": 24,
   "metadata": {
    "scrolled": false
   },
   "outputs": [
    {
     "data": {
      "text/plain": [
       "[<matplotlib.lines.Line2D at 0x1f7afda46a0>]"
      ]
     },
     "execution_count": 24,
     "metadata": {},
     "output_type": "execute_result"
    },
    {
     "data": {
      "image/png": "[encoded data removed]",
      "text/plain": [
       "<Figure size 504x504 with 1 Axes>"
      ]
     },
     "metadata": {
      "needs_background": "light"
     },
     "output_type": "display_data"
    }
   ],
   "source": [
    "plt.figure(figsize=(7,7))\n",
    "# plt.xlim(0,500)\n",
    "# plt.ylim(0,500)\n",
    "\n",
    "# Our predictions\n",
    "plt.scatter(x=y_test,y=predictions,edgecolor=None,alpha=0.2)\n",
    "plt.xlabel('test set')\n",
    "plt.ylabel('predictions')\n",
    "plt.title('Price per $m^{2}$')\n",
    "\n",
    "# Perfect predictions\n",
    "plt.plot(y_test,y_test,'r')"
   ]
  },
  {
   "cell_type": "code",
   "execution_count": 33,
   "metadata": {},
   "outputs": [],
   "source": [
    "errors = y_test - predictions"
   ]
  },
  {
   "cell_type": "code",
   "execution_count": 34,
   "metadata": {},
   "outputs": [
    {
     "data": {
      "text/plain": [
       "Text(0.5, 1.0, 'Error distribution')"
      ]
     },
     "execution_count": 34,
     "metadata": {},
     "output_type": "execute_result"
    },
    {
     "data": {
      "image/png": "[encoded data removed]",
      "text/plain": [
       "<Figure size 432x288 with 1 Axes>"
      ]
     },
     "metadata": {
      "needs_background": "light"
     },
     "output_type": "display_data"
    }
   ],
   "source": [
    "# plt.xlim(-200000,200000)\n",
    "\n",
    "sns.histplot(errors)\n",
    "plt.title('Error distribution')"
   ]
  },
  {
   "cell_type": "code",
   "execution_count": 25,
   "metadata": {},
   "outputs": [
    {
     "data": {
      "text/plain": [
       "array([392805.33333333, 384118.56666667, 270310.63333333, ...,\n",
       "       547790.5       , 668880.        , 284802.4       ])"
      ]
     },
     "execution_count": 25,
     "metadata": {},
     "output_type": "execute_result"
    }
   ],
   "source": [
    "predictions"
   ]
  },
  {
   "cell_type": "code",
   "execution_count": 26,
   "metadata": {},
   "outputs": [
    {
     "data": {
      "text/plain": [
       "array([0.99974124, 0.69148506, 0.61695037, 1.29543077, 1.13301944,\n",
       "       1.07670485, 0.96657387, 0.90542373, 0.84874579, 1.17092144,\n",
       "       0.99375   , 1.4468    , 4.53253333, 1.010353  , 1.07825397,\n",
       "       0.99854469, 0.973322  , 0.67807037, 0.91194808, 0.99237288])"
      ]
     },
     "execution_count": 26,
     "metadata": {},
     "output_type": "execute_result"
    }
   ],
   "source": [
    "predictions[:20]/y_test[:20]"
   ]
  },
  {
   "cell_type": "markdown",
   "metadata": {},
   "source": [
    "## k-Fold Cross Validation"
   ]
  },
  {
   "cell_type": "code",
   "execution_count": 27,
   "metadata": {},
   "outputs": [],
   "source": [
    "from sklearn.model_selection import cross_val_score"
   ]
  },
  {
   "cell_type": "code",
   "execution_count": 28,
   "metadata": {},
   "outputs": [
    {
     "name": "stdout",
     "output_type": "stream",
     "text": [
      "\n",
      " 15.0 min.\n"
     ]
    }
   ],
   "source": [
    "start = time.time()\n",
    "\n",
    "accuracies = cross_val_score(estimator = model, X = X_train, y = y_train, cv = 10)\n",
    "\n",
    "stop = time.time()\n",
    "print('\\n',(stop-start)//60,'min.')"
   ]
  },
  {
   "cell_type": "code",
   "execution_count": 29,
   "metadata": {},
   "outputs": [
    {
     "data": {
      "text/plain": [
       "0.8297670109288541"
      ]
     },
     "execution_count": 29,
     "metadata": {},
     "output_type": "execute_result"
    }
   ],
   "source": [
    "accuracies.mean()"
   ]
  },
  {
   "cell_type": "code",
   "execution_count": 30,
   "metadata": {},
   "outputs": [
    {
     "data": {
      "text/plain": [
       "0.020663496871000542"
      ]
     },
     "execution_count": 30,
     "metadata": {},
     "output_type": "execute_result"
    }
   ],
   "source": [
    "accuracies.std()"
   ]
  },
  {
   "cell_type": "code",
   "execution_count": 31,
   "metadata": {},
   "outputs": [
    {
     "data": {
      "text/plain": [
       "array([0.84618275, 0.83930467, 0.85471206, 0.8134102 , 0.84599634,\n",
       "       0.79258304, 0.82992908, 0.79580844, 0.83703493, 0.8427086 ])"
      ]
     },
     "execution_count": 31,
     "metadata": {},
     "output_type": "execute_result"
    }
   ],
   "source": [
    "accuracies"
   ]
  },
  {
   "cell_type": "markdown",
   "metadata": {},
   "source": [
    "## saving data"
   ]
  },
  {
   "cell_type": "code",
   "execution_count": 32,
   "metadata": {},
   "outputs": [
    {
     "data": {
      "text/plain": [
       "['random_forest_model_a1']"
      ]
     },
     "execution_count": 32,
     "metadata": {},
     "output_type": "execute_result"
    }
   ],
   "source": [
    "import joblib\n",
    "joblib.dump(model, 'random_forest_model_a1')"
   ]
  },
  {
   "cell_type": "code",
   "execution_count": null,
   "metadata": {},
   "outputs": [],
   "source": []
  }
 ],
 "metadata": {
  "kernelspec": {
   "display_name": "Python 3",
   "language": "python",
   "name": "python3"
  },
  "language_info": {
   "codemirror_mode": {
    "name": "ipython",
    "version": 3
   },
   "file_extension": ".py",
   "mimetype": "text/x-python",
   "name": "python",
   "nbconvert_exporter": "python",
   "pygments_lexer": "ipython3",
   "version": "3.6.12"
  }
 },
 "nbformat": 4,
 "nbformat_minor": 4
}
