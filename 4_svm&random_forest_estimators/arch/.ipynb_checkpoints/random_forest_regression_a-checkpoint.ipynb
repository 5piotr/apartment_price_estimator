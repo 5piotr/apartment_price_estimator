{
 "cells": [
  {
   "cell_type": "code",
   "execution_count": 1,
   "metadata": {},
   "outputs": [],
   "source": [
    "import numpy as np\n",
    "import matplotlib.pyplot as plt\n",
    "import pandas as pd\n",
    "import pickle as pkl\n",
    "import seaborn as sns\n",
    "import time"
   ]
  },
  {
   "cell_type": "code",
   "execution_count": 2,
   "metadata": {},
   "outputs": [],
   "source": [
    "infile = open('..//3_k-means_clustering//apartment_data_frame_clustered_500','rb')\n",
    "frame = pkl.load(infile)\n",
    "infile.close()"
   ]
  },
  {
   "cell_type": "code",
   "execution_count": 3,
   "metadata": {},
   "outputs": [
    {
     "data": {
      "text/html": [
       "<div>\n",
       "<style scoped>\n",
       "    .dataframe tbody tr th:only-of-type {\n",
       "        vertical-align: middle;\n",
       "    }\n",
       "\n",
       "    .dataframe tbody tr th {\n",
       "        vertical-align: top;\n",
       "    }\n",
       "\n",
       "    .dataframe thead th {\n",
       "        text-align: right;\n",
       "    }\n",
       "</style>\n",
       "<table border=\"1\" class=\"dataframe\">\n",
       "  <thead>\n",
       "    <tr style=\"text-align: right;\">\n",
       "      <th></th>\n",
       "      <th>city</th>\n",
       "      <th>district</th>\n",
       "      <th>voivodeship</th>\n",
       "      <th>localization_y</th>\n",
       "      <th>localization_x</th>\n",
       "      <th>market</th>\n",
       "      <th>area</th>\n",
       "      <th>rooms</th>\n",
       "      <th>floor</th>\n",
       "      <th>floors</th>\n",
       "      <th>build_yr</th>\n",
       "      <th>price</th>\n",
       "      <th>url</th>\n",
       "      <th>price_of_sqm</th>\n",
       "      <th>cluster</th>\n",
       "    </tr>\n",
       "  </thead>\n",
       "  <tbody>\n",
       "    <tr>\n",
       "      <th>0</th>\n",
       "      <td>Warszawa</td>\n",
       "      <td>Wola</td>\n",
       "      <td>mazowieckie</td>\n",
       "      <td>52.245982</td>\n",
       "      <td>20.985385</td>\n",
       "      <td>wtorny</td>\n",
       "      <td>36.00</td>\n",
       "      <td>2</td>\n",
       "      <td>parter</td>\n",
       "      <td>3</td>\n",
       "      <td>1956.0</td>\n",
       "      <td>496000.0</td>\n",
       "      <td>https://gratka.pl/nieruchomosci/mieszkanie-war...</td>\n",
       "      <td>13777.777778</td>\n",
       "      <td>490</td>\n",
       "    </tr>\n",
       "    <tr>\n",
       "      <th>1</th>\n",
       "      <td>Kraków</td>\n",
       "      <td>Swoszowice</td>\n",
       "      <td>małopolskie</td>\n",
       "      <td>49.991389</td>\n",
       "      <td>19.946389</td>\n",
       "      <td>wtorny</td>\n",
       "      <td>78.32</td>\n",
       "      <td>3</td>\n",
       "      <td>3</td>\n",
       "      <td>3</td>\n",
       "      <td>2014.0</td>\n",
       "      <td>538000.0</td>\n",
       "      <td>https://gratka.pl/nieruchomosci/mieszkanie-kra...</td>\n",
       "      <td>6869.254341</td>\n",
       "      <td>394</td>\n",
       "    </tr>\n",
       "    <tr>\n",
       "      <th>2</th>\n",
       "      <td>Łódź</td>\n",
       "      <td>Śródmieście</td>\n",
       "      <td>łódzkie</td>\n",
       "      <td>51.772914</td>\n",
       "      <td>19.458331</td>\n",
       "      <td>wtorny</td>\n",
       "      <td>60.27</td>\n",
       "      <td>2</td>\n",
       "      <td>2</td>\n",
       "      <td>3</td>\n",
       "      <td>1910.0</td>\n",
       "      <td>270000.0</td>\n",
       "      <td>https://gratka.pl/nieruchomosci/mieszkanie-lod...</td>\n",
       "      <td>4479.840717</td>\n",
       "      <td>152</td>\n",
       "    </tr>\n",
       "    <tr>\n",
       "      <th>3</th>\n",
       "      <td>Warszawa</td>\n",
       "      <td>Stara Ochota</td>\n",
       "      <td>mazowieckie</td>\n",
       "      <td>52.218900</td>\n",
       "      <td>20.978800</td>\n",
       "      <td>wtorny</td>\n",
       "      <td>122.00</td>\n",
       "      <td>4</td>\n",
       "      <td>6</td>\n",
       "      <td>7</td>\n",
       "      <td>2020.0</td>\n",
       "      <td>1955000.0</td>\n",
       "      <td>https://gratka.pl/nieruchomosci/mieszkanie-war...</td>\n",
       "      <td>16024.590164</td>\n",
       "      <td>215</td>\n",
       "    </tr>\n",
       "    <tr>\n",
       "      <th>4</th>\n",
       "      <td>Kraków</td>\n",
       "      <td>Mistrzejowice</td>\n",
       "      <td>małopolskie</td>\n",
       "      <td>50.096196</td>\n",
       "      <td>20.009887</td>\n",
       "      <td>wtorny</td>\n",
       "      <td>48.07</td>\n",
       "      <td>3</td>\n",
       "      <td>3</td>\n",
       "      <td>4</td>\n",
       "      <td>1978.0</td>\n",
       "      <td>384000.0</td>\n",
       "      <td>https://gratka.pl/nieruchomosci/mieszkanie-kra...</td>\n",
       "      <td>7988.350322</td>\n",
       "      <td>154</td>\n",
       "    </tr>\n",
       "    <tr>\n",
       "      <th>...</th>\n",
       "      <td>...</td>\n",
       "      <td>...</td>\n",
       "      <td>...</td>\n",
       "      <td>...</td>\n",
       "      <td>...</td>\n",
       "      <td>...</td>\n",
       "      <td>...</td>\n",
       "      <td>...</td>\n",
       "      <td>...</td>\n",
       "      <td>...</td>\n",
       "      <td>...</td>\n",
       "      <td>...</td>\n",
       "      <td>...</td>\n",
       "      <td>...</td>\n",
       "      <td>...</td>\n",
       "    </tr>\n",
       "    <tr>\n",
       "      <th>54462</th>\n",
       "      <td>Warszawa</td>\n",
       "      <td>Wola</td>\n",
       "      <td>mazowieckie</td>\n",
       "      <td>52.237222</td>\n",
       "      <td>20.960556</td>\n",
       "      <td>pierwotny</td>\n",
       "      <td>109.00</td>\n",
       "      <td>4</td>\n",
       "      <td>12</td>\n",
       "      <td>13</td>\n",
       "      <td>2020.0</td>\n",
       "      <td>1460000.0</td>\n",
       "      <td>https://gratka.pl/nieruchomosci/nowe-mieszkani...</td>\n",
       "      <td>13394.495413</td>\n",
       "      <td>159</td>\n",
       "    </tr>\n",
       "    <tr>\n",
       "      <th>54463</th>\n",
       "      <td>Warszawa</td>\n",
       "      <td>Wola</td>\n",
       "      <td>mazowieckie</td>\n",
       "      <td>52.237222</td>\n",
       "      <td>20.960556</td>\n",
       "      <td>wtorny</td>\n",
       "      <td>82.60</td>\n",
       "      <td>4</td>\n",
       "      <td>4</td>\n",
       "      <td>5</td>\n",
       "      <td>2020.0</td>\n",
       "      <td>885000.0</td>\n",
       "      <td>https://gratka.pl/nieruchomosci/4-pokojowe-got...</td>\n",
       "      <td>10714.285714</td>\n",
       "      <td>159</td>\n",
       "    </tr>\n",
       "    <tr>\n",
       "      <th>54464</th>\n",
       "      <td>Poznań</td>\n",
       "      <td>Grunwald</td>\n",
       "      <td>wielkopolskie</td>\n",
       "      <td>52.392626</td>\n",
       "      <td>16.846137</td>\n",
       "      <td>wtorny</td>\n",
       "      <td>68.25</td>\n",
       "      <td>3</td>\n",
       "      <td>parter</td>\n",
       "      <td>4</td>\n",
       "      <td>2009.0</td>\n",
       "      <td>540000.0</td>\n",
       "      <td>https://gratka.pl/nieruchomosci/mieszkanie-poz...</td>\n",
       "      <td>7912.087912</td>\n",
       "      <td>197</td>\n",
       "    </tr>\n",
       "    <tr>\n",
       "      <th>54465</th>\n",
       "      <td>Kraków</td>\n",
       "      <td>Os. Prądnik Czerwony</td>\n",
       "      <td>małopolskie</td>\n",
       "      <td>50.088513</td>\n",
       "      <td>19.958912</td>\n",
       "      <td>wtorny</td>\n",
       "      <td>45.00</td>\n",
       "      <td>2</td>\n",
       "      <td>2</td>\n",
       "      <td>10</td>\n",
       "      <td>2019.0</td>\n",
       "      <td>610000.0</td>\n",
       "      <td>https://gratka.pl/nieruchomosci/mieszkanie-kra...</td>\n",
       "      <td>13555.555556</td>\n",
       "      <td>468</td>\n",
       "    </tr>\n",
       "    <tr>\n",
       "      <th>54466</th>\n",
       "      <td>Suszec</td>\n",
       "      <td>pszczyński</td>\n",
       "      <td>śląskie</td>\n",
       "      <td>50.029463</td>\n",
       "      <td>18.791269</td>\n",
       "      <td>wtorny</td>\n",
       "      <td>34.05</td>\n",
       "      <td>1</td>\n",
       "      <td>3</td>\n",
       "      <td>4</td>\n",
       "      <td>1990.0</td>\n",
       "      <td>119900.0</td>\n",
       "      <td>https://gratka.pl/nieruchomosci/mieszkanie-sus...</td>\n",
       "      <td>3521.292217</td>\n",
       "      <td>91</td>\n",
       "    </tr>\n",
       "  </tbody>\n",
       "</table>\n",
       "<p>54467 rows × 15 columns</p>\n",
       "</div>"
      ],
      "text/plain": [
       "           city              district    voivodeship  localization_y  \\\n",
       "0      Warszawa                  Wola    mazowieckie       52.245982   \n",
       "1        Kraków            Swoszowice    małopolskie       49.991389   \n",
       "2          Łódź           Śródmieście        łódzkie       51.772914   \n",
       "3      Warszawa          Stara Ochota    mazowieckie       52.218900   \n",
       "4        Kraków         Mistrzejowice    małopolskie       50.096196   \n",
       "...         ...                   ...            ...             ...   \n",
       "54462  Warszawa                  Wola    mazowieckie       52.237222   \n",
       "54463  Warszawa                  Wola    mazowieckie       52.237222   \n",
       "54464    Poznań              Grunwald  wielkopolskie       52.392626   \n",
       "54465    Kraków  Os. Prądnik Czerwony    małopolskie       50.088513   \n",
       "54466    Suszec            pszczyński        śląskie       50.029463   \n",
       "\n",
       "       localization_x     market    area rooms   floor floors  build_yr  \\\n",
       "0           20.985385     wtorny   36.00     2  parter      3    1956.0   \n",
       "1           19.946389     wtorny   78.32     3       3      3    2014.0   \n",
       "2           19.458331     wtorny   60.27     2       2      3    1910.0   \n",
       "3           20.978800     wtorny  122.00     4       6      7    2020.0   \n",
       "4           20.009887     wtorny   48.07     3       3      4    1978.0   \n",
       "...               ...        ...     ...   ...     ...    ...       ...   \n",
       "54462       20.960556  pierwotny  109.00     4      12     13    2020.0   \n",
       "54463       20.960556     wtorny   82.60     4       4      5    2020.0   \n",
       "54464       16.846137     wtorny   68.25     3  parter      4    2009.0   \n",
       "54465       19.958912     wtorny   45.00     2       2     10    2019.0   \n",
       "54466       18.791269     wtorny   34.05     1       3      4    1990.0   \n",
       "\n",
       "           price                                                url  \\\n",
       "0       496000.0  https://gratka.pl/nieruchomosci/mieszkanie-war...   \n",
       "1       538000.0  https://gratka.pl/nieruchomosci/mieszkanie-kra...   \n",
       "2       270000.0  https://gratka.pl/nieruchomosci/mieszkanie-lod...   \n",
       "3      1955000.0  https://gratka.pl/nieruchomosci/mieszkanie-war...   \n",
       "4       384000.0  https://gratka.pl/nieruchomosci/mieszkanie-kra...   \n",
       "...          ...                                                ...   \n",
       "54462  1460000.0  https://gratka.pl/nieruchomosci/nowe-mieszkani...   \n",
       "54463   885000.0  https://gratka.pl/nieruchomosci/4-pokojowe-got...   \n",
       "54464   540000.0  https://gratka.pl/nieruchomosci/mieszkanie-poz...   \n",
       "54465   610000.0  https://gratka.pl/nieruchomosci/mieszkanie-kra...   \n",
       "54466   119900.0  https://gratka.pl/nieruchomosci/mieszkanie-sus...   \n",
       "\n",
       "       price_of_sqm  cluster  \n",
       "0      13777.777778      490  \n",
       "1       6869.254341      394  \n",
       "2       4479.840717      152  \n",
       "3      16024.590164      215  \n",
       "4       7988.350322      154  \n",
       "...             ...      ...  \n",
       "54462  13394.495413      159  \n",
       "54463  10714.285714      159  \n",
       "54464   7912.087912      197  \n",
       "54465  13555.555556      468  \n",
       "54466   3521.292217       91  \n",
       "\n",
       "[54467 rows x 15 columns]"
      ]
     },
     "execution_count": 3,
     "metadata": {},
     "output_type": "execute_result"
    }
   ],
   "source": [
    "frame"
   ]
  },
  {
   "cell_type": "markdown",
   "metadata": {},
   "source": [
    "## data preparation"
   ]
  },
  {
   "cell_type": "code",
   "execution_count": 4,
   "metadata": {},
   "outputs": [
    {
     "name": "stdout",
     "output_type": "stream",
     "text": [
      "<class 'pandas.core.frame.DataFrame'>\n",
      "RangeIndex: 54467 entries, 0 to 54466\n",
      "Data columns (total 15 columns):\n",
      " #   Column          Non-Null Count  Dtype  \n",
      "---  ------          --------------  -----  \n",
      " 0   city            54467 non-null  object \n",
      " 1   district        54467 non-null  object \n",
      " 2   voivodeship     46557 non-null  object \n",
      " 3   localization_y  54467 non-null  float64\n",
      " 4   localization_x  54467 non-null  float64\n",
      " 5   market          54467 non-null  object \n",
      " 6   area            54467 non-null  float64\n",
      " 7   rooms           54467 non-null  object \n",
      " 8   floor           54467 non-null  object \n",
      " 9   floors          54467 non-null  object \n",
      " 10  build_yr        54467 non-null  float64\n",
      " 11  price           54467 non-null  float64\n",
      " 12  url             54467 non-null  object \n",
      " 13  price_of_sqm    54467 non-null  float64\n",
      " 14  cluster         54467 non-null  int32  \n",
      "dtypes: float64(6), int32(1), object(8)\n",
      "memory usage: 6.0+ MB\n"
     ]
    }
   ],
   "source": [
    "frame.info()"
   ]
  },
  {
   "cell_type": "code",
   "execution_count": 5,
   "metadata": {},
   "outputs": [],
   "source": [
    "frame = frame.drop(['city','district','voivodeship','localization_y','localization_x','price','url'],axis=1)"
   ]
  },
  {
   "cell_type": "code",
   "execution_count": 6,
   "metadata": {},
   "outputs": [],
   "source": [
    "frame.cluster = frame.cluster.apply(str)"
   ]
  },
  {
   "cell_type": "code",
   "execution_count": 7,
   "metadata": {},
   "outputs": [
    {
     "name": "stdout",
     "output_type": "stream",
     "text": [
      "<class 'pandas.core.frame.DataFrame'>\n",
      "RangeIndex: 54467 entries, 0 to 54466\n",
      "Data columns (total 8 columns):\n",
      " #   Column        Non-Null Count  Dtype  \n",
      "---  ------        --------------  -----  \n",
      " 0   market        54467 non-null  object \n",
      " 1   area          54467 non-null  float64\n",
      " 2   rooms         54467 non-null  object \n",
      " 3   floor         54467 non-null  object \n",
      " 4   floors        54467 non-null  object \n",
      " 5   build_yr      54467 non-null  float64\n",
      " 6   price_of_sqm  54467 non-null  float64\n",
      " 7   cluster       54467 non-null  object \n",
      "dtypes: float64(3), object(5)\n",
      "memory usage: 3.3+ MB\n"
     ]
    }
   ],
   "source": [
    "frame.info()"
   ]
  },
  {
   "cell_type": "markdown",
   "metadata": {},
   "source": [
    "## creating dummy variables"
   ]
  },
  {
   "cell_type": "code",
   "execution_count": 8,
   "metadata": {},
   "outputs": [],
   "source": [
    "dummies = pd.get_dummies(frame[['market','rooms','floor','floors','cluster']],drop_first=True)\n",
    "frame = frame.drop(['market','rooms','floor','floors','cluster'],axis=1)\n",
    "frame = pd.concat([frame,dummies],axis=1)"
   ]
  },
  {
   "cell_type": "code",
   "execution_count": 9,
   "metadata": {},
   "outputs": [
    {
     "data": {
      "text/html": [
       "<div>\n",
       "<style scoped>\n",
       "    .dataframe tbody tr th:only-of-type {\n",
       "        vertical-align: middle;\n",
       "    }\n",
       "\n",
       "    .dataframe tbody tr th {\n",
       "        vertical-align: top;\n",
       "    }\n",
       "\n",
       "    .dataframe thead th {\n",
       "        text-align: right;\n",
       "    }\n",
       "</style>\n",
       "<table border=\"1\" class=\"dataframe\">\n",
       "  <thead>\n",
       "    <tr style=\"text-align: right;\">\n",
       "      <th></th>\n",
       "      <th>area</th>\n",
       "      <th>build_yr</th>\n",
       "      <th>price_of_sqm</th>\n",
       "      <th>market_wtorny</th>\n",
       "      <th>rooms_2</th>\n",
       "      <th>rooms_3</th>\n",
       "      <th>rooms_4</th>\n",
       "      <th>rooms_5</th>\n",
       "      <th>rooms_6</th>\n",
       "      <th>rooms_7</th>\n",
       "      <th>...</th>\n",
       "      <th>cluster_90</th>\n",
       "      <th>cluster_91</th>\n",
       "      <th>cluster_92</th>\n",
       "      <th>cluster_93</th>\n",
       "      <th>cluster_94</th>\n",
       "      <th>cluster_95</th>\n",
       "      <th>cluster_96</th>\n",
       "      <th>cluster_97</th>\n",
       "      <th>cluster_98</th>\n",
       "      <th>cluster_99</th>\n",
       "    </tr>\n",
       "  </thead>\n",
       "  <tbody>\n",
       "    <tr>\n",
       "      <th>0</th>\n",
       "      <td>36.00</td>\n",
       "      <td>1956.0</td>\n",
       "      <td>13777.777778</td>\n",
       "      <td>1</td>\n",
       "      <td>1</td>\n",
       "      <td>0</td>\n",
       "      <td>0</td>\n",
       "      <td>0</td>\n",
       "      <td>0</td>\n",
       "      <td>0</td>\n",
       "      <td>...</td>\n",
       "      <td>0</td>\n",
       "      <td>0</td>\n",
       "      <td>0</td>\n",
       "      <td>0</td>\n",
       "      <td>0</td>\n",
       "      <td>0</td>\n",
       "      <td>0</td>\n",
       "      <td>0</td>\n",
       "      <td>0</td>\n",
       "      <td>0</td>\n",
       "    </tr>\n",
       "    <tr>\n",
       "      <th>1</th>\n",
       "      <td>78.32</td>\n",
       "      <td>2014.0</td>\n",
       "      <td>6869.254341</td>\n",
       "      <td>1</td>\n",
       "      <td>0</td>\n",
       "      <td>1</td>\n",
       "      <td>0</td>\n",
       "      <td>0</td>\n",
       "      <td>0</td>\n",
       "      <td>0</td>\n",
       "      <td>...</td>\n",
       "      <td>0</td>\n",
       "      <td>0</td>\n",
       "      <td>0</td>\n",
       "      <td>0</td>\n",
       "      <td>0</td>\n",
       "      <td>0</td>\n",
       "      <td>0</td>\n",
       "      <td>0</td>\n",
       "      <td>0</td>\n",
       "      <td>0</td>\n",
       "    </tr>\n",
       "    <tr>\n",
       "      <th>2</th>\n",
       "      <td>60.27</td>\n",
       "      <td>1910.0</td>\n",
       "      <td>4479.840717</td>\n",
       "      <td>1</td>\n",
       "      <td>1</td>\n",
       "      <td>0</td>\n",
       "      <td>0</td>\n",
       "      <td>0</td>\n",
       "      <td>0</td>\n",
       "      <td>0</td>\n",
       "      <td>...</td>\n",
       "      <td>0</td>\n",
       "      <td>0</td>\n",
       "      <td>0</td>\n",
       "      <td>0</td>\n",
       "      <td>0</td>\n",
       "      <td>0</td>\n",
       "      <td>0</td>\n",
       "      <td>0</td>\n",
       "      <td>0</td>\n",
       "      <td>0</td>\n",
       "    </tr>\n",
       "    <tr>\n",
       "      <th>3</th>\n",
       "      <td>122.00</td>\n",
       "      <td>2020.0</td>\n",
       "      <td>16024.590164</td>\n",
       "      <td>1</td>\n",
       "      <td>0</td>\n",
       "      <td>0</td>\n",
       "      <td>1</td>\n",
       "      <td>0</td>\n",
       "      <td>0</td>\n",
       "      <td>0</td>\n",
       "      <td>...</td>\n",
       "      <td>0</td>\n",
       "      <td>0</td>\n",
       "      <td>0</td>\n",
       "      <td>0</td>\n",
       "      <td>0</td>\n",
       "      <td>0</td>\n",
       "      <td>0</td>\n",
       "      <td>0</td>\n",
       "      <td>0</td>\n",
       "      <td>0</td>\n",
       "    </tr>\n",
       "    <tr>\n",
       "      <th>4</th>\n",
       "      <td>48.07</td>\n",
       "      <td>1978.0</td>\n",
       "      <td>7988.350322</td>\n",
       "      <td>1</td>\n",
       "      <td>0</td>\n",
       "      <td>1</td>\n",
       "      <td>0</td>\n",
       "      <td>0</td>\n",
       "      <td>0</td>\n",
       "      <td>0</td>\n",
       "      <td>...</td>\n",
       "      <td>0</td>\n",
       "      <td>0</td>\n",
       "      <td>0</td>\n",
       "      <td>0</td>\n",
       "      <td>0</td>\n",
       "      <td>0</td>\n",
       "      <td>0</td>\n",
       "      <td>0</td>\n",
       "      <td>0</td>\n",
       "      <td>0</td>\n",
       "    </tr>\n",
       "    <tr>\n",
       "      <th>...</th>\n",
       "      <td>...</td>\n",
       "      <td>...</td>\n",
       "      <td>...</td>\n",
       "      <td>...</td>\n",
       "      <td>...</td>\n",
       "      <td>...</td>\n",
       "      <td>...</td>\n",
       "      <td>...</td>\n",
       "      <td>...</td>\n",
       "      <td>...</td>\n",
       "      <td>...</td>\n",
       "      <td>...</td>\n",
       "      <td>...</td>\n",
       "      <td>...</td>\n",
       "      <td>...</td>\n",
       "      <td>...</td>\n",
       "      <td>...</td>\n",
       "      <td>...</td>\n",
       "      <td>...</td>\n",
       "      <td>...</td>\n",
       "      <td>...</td>\n",
       "    </tr>\n",
       "    <tr>\n",
       "      <th>54462</th>\n",
       "      <td>109.00</td>\n",
       "      <td>2020.0</td>\n",
       "      <td>13394.495413</td>\n",
       "      <td>0</td>\n",
       "      <td>0</td>\n",
       "      <td>0</td>\n",
       "      <td>1</td>\n",
       "      <td>0</td>\n",
       "      <td>0</td>\n",
       "      <td>0</td>\n",
       "      <td>...</td>\n",
       "      <td>0</td>\n",
       "      <td>0</td>\n",
       "      <td>0</td>\n",
       "      <td>0</td>\n",
       "      <td>0</td>\n",
       "      <td>0</td>\n",
       "      <td>0</td>\n",
       "      <td>0</td>\n",
       "      <td>0</td>\n",
       "      <td>0</td>\n",
       "    </tr>\n",
       "    <tr>\n",
       "      <th>54463</th>\n",
       "      <td>82.60</td>\n",
       "      <td>2020.0</td>\n",
       "      <td>10714.285714</td>\n",
       "      <td>1</td>\n",
       "      <td>0</td>\n",
       "      <td>0</td>\n",
       "      <td>1</td>\n",
       "      <td>0</td>\n",
       "      <td>0</td>\n",
       "      <td>0</td>\n",
       "      <td>...</td>\n",
       "      <td>0</td>\n",
       "      <td>0</td>\n",
       "      <td>0</td>\n",
       "      <td>0</td>\n",
       "      <td>0</td>\n",
       "      <td>0</td>\n",
       "      <td>0</td>\n",
       "      <td>0</td>\n",
       "      <td>0</td>\n",
       "      <td>0</td>\n",
       "    </tr>\n",
       "    <tr>\n",
       "      <th>54464</th>\n",
       "      <td>68.25</td>\n",
       "      <td>2009.0</td>\n",
       "      <td>7912.087912</td>\n",
       "      <td>1</td>\n",
       "      <td>0</td>\n",
       "      <td>1</td>\n",
       "      <td>0</td>\n",
       "      <td>0</td>\n",
       "      <td>0</td>\n",
       "      <td>0</td>\n",
       "      <td>...</td>\n",
       "      <td>0</td>\n",
       "      <td>0</td>\n",
       "      <td>0</td>\n",
       "      <td>0</td>\n",
       "      <td>0</td>\n",
       "      <td>0</td>\n",
       "      <td>0</td>\n",
       "      <td>0</td>\n",
       "      <td>0</td>\n",
       "      <td>0</td>\n",
       "    </tr>\n",
       "    <tr>\n",
       "      <th>54465</th>\n",
       "      <td>45.00</td>\n",
       "      <td>2019.0</td>\n",
       "      <td>13555.555556</td>\n",
       "      <td>1</td>\n",
       "      <td>1</td>\n",
       "      <td>0</td>\n",
       "      <td>0</td>\n",
       "      <td>0</td>\n",
       "      <td>0</td>\n",
       "      <td>0</td>\n",
       "      <td>...</td>\n",
       "      <td>0</td>\n",
       "      <td>0</td>\n",
       "      <td>0</td>\n",
       "      <td>0</td>\n",
       "      <td>0</td>\n",
       "      <td>0</td>\n",
       "      <td>0</td>\n",
       "      <td>0</td>\n",
       "      <td>0</td>\n",
       "      <td>0</td>\n",
       "    </tr>\n",
       "    <tr>\n",
       "      <th>54466</th>\n",
       "      <td>34.05</td>\n",
       "      <td>1990.0</td>\n",
       "      <td>3521.292217</td>\n",
       "      <td>1</td>\n",
       "      <td>0</td>\n",
       "      <td>0</td>\n",
       "      <td>0</td>\n",
       "      <td>0</td>\n",
       "      <td>0</td>\n",
       "      <td>0</td>\n",
       "      <td>...</td>\n",
       "      <td>0</td>\n",
       "      <td>1</td>\n",
       "      <td>0</td>\n",
       "      <td>0</td>\n",
       "      <td>0</td>\n",
       "      <td>0</td>\n",
       "      <td>0</td>\n",
       "      <td>0</td>\n",
       "      <td>0</td>\n",
       "      <td>0</td>\n",
       "    </tr>\n",
       "  </tbody>\n",
       "</table>\n",
       "<p>54467 rows × 575 columns</p>\n",
       "</div>"
      ],
      "text/plain": [
       "         area  build_yr  price_of_sqm  market_wtorny  rooms_2  rooms_3  \\\n",
       "0       36.00    1956.0  13777.777778              1        1        0   \n",
       "1       78.32    2014.0   6869.254341              1        0        1   \n",
       "2       60.27    1910.0   4479.840717              1        1        0   \n",
       "3      122.00    2020.0  16024.590164              1        0        0   \n",
       "4       48.07    1978.0   7988.350322              1        0        1   \n",
       "...       ...       ...           ...            ...      ...      ...   \n",
       "54462  109.00    2020.0  13394.495413              0        0        0   \n",
       "54463   82.60    2020.0  10714.285714              1        0        0   \n",
       "54464   68.25    2009.0   7912.087912              1        0        1   \n",
       "54465   45.00    2019.0  13555.555556              1        1        0   \n",
       "54466   34.05    1990.0   3521.292217              1        0        0   \n",
       "\n",
       "       rooms_4  rooms_5  rooms_6  rooms_7  ...  cluster_90  cluster_91  \\\n",
       "0            0        0        0        0  ...           0           0   \n",
       "1            0        0        0        0  ...           0           0   \n",
       "2            0        0        0        0  ...           0           0   \n",
       "3            1        0        0        0  ...           0           0   \n",
       "4            0        0        0        0  ...           0           0   \n",
       "...        ...      ...      ...      ...  ...         ...         ...   \n",
       "54462        1        0        0        0  ...           0           0   \n",
       "54463        1        0        0        0  ...           0           0   \n",
       "54464        0        0        0        0  ...           0           0   \n",
       "54465        0        0        0        0  ...           0           0   \n",
       "54466        0        0        0        0  ...           0           1   \n",
       "\n",
       "       cluster_92  cluster_93  cluster_94  cluster_95  cluster_96  cluster_97  \\\n",
       "0               0           0           0           0           0           0   \n",
       "1               0           0           0           0           0           0   \n",
       "2               0           0           0           0           0           0   \n",
       "3               0           0           0           0           0           0   \n",
       "4               0           0           0           0           0           0   \n",
       "...           ...         ...         ...         ...         ...         ...   \n",
       "54462           0           0           0           0           0           0   \n",
       "54463           0           0           0           0           0           0   \n",
       "54464           0           0           0           0           0           0   \n",
       "54465           0           0           0           0           0           0   \n",
       "54466           0           0           0           0           0           0   \n",
       "\n",
       "       cluster_98  cluster_99  \n",
       "0               0           0  \n",
       "1               0           0  \n",
       "2               0           0  \n",
       "3               0           0  \n",
       "4               0           0  \n",
       "...           ...         ...  \n",
       "54462           0           0  \n",
       "54463           0           0  \n",
       "54464           0           0  \n",
       "54465           0           0  \n",
       "54466           0           0  \n",
       "\n",
       "[54467 rows x 575 columns]"
      ]
     },
     "execution_count": 9,
     "metadata": {},
     "output_type": "execute_result"
    }
   ],
   "source": [
    "frame"
   ]
  },
  {
   "cell_type": "markdown",
   "metadata": {},
   "source": [
    "## train test split"
   ]
  },
  {
   "cell_type": "code",
   "execution_count": 10,
   "metadata": {},
   "outputs": [],
   "source": [
    "from sklearn.model_selection import train_test_split"
   ]
  },
  {
   "cell_type": "code",
   "execution_count": 11,
   "metadata": {},
   "outputs": [],
   "source": [
    "X = frame.drop('price_of_sqm',axis=1).values\n",
    "y = frame.price_of_sqm.values"
   ]
  },
  {
   "cell_type": "code",
   "execution_count": 12,
   "metadata": {},
   "outputs": [],
   "source": [
    "X_train, X_test, y_train, y_test = train_test_split(X, y, test_size = 0.25)"
   ]
  },
  {
   "cell_type": "markdown",
   "metadata": {},
   "source": [
    "## random forest regressor and grid search"
   ]
  },
  {
   "cell_type": "code",
   "execution_count": 13,
   "metadata": {},
   "outputs": [],
   "source": [
    "from sklearn.model_selection import GridSearchCV\n",
    "from sklearn.ensemble import RandomForestRegressor"
   ]
  },
  {
   "cell_type": "code",
   "execution_count": 14,
   "metadata": {},
   "outputs": [],
   "source": [
    "parameters = [{'n_estimators':[10,30,50,100,200]}]"
   ]
  },
  {
   "cell_type": "code",
   "execution_count": 15,
   "metadata": {},
   "outputs": [],
   "source": [
    "grid_search = GridSearchCV(estimator = RandomForestRegressor(),\n",
    "                           param_grid = parameters,\n",
    "                           cv = 3,\n",
    "#                            n_jobs = -1,\n",
    "                          )"
   ]
  },
  {
   "cell_type": "code",
   "execution_count": 16,
   "metadata": {},
   "outputs": [
    {
     "name": "stdout",
     "output_type": "stream",
     "text": [
      "\n",
      " 73.0 min.\n"
     ]
    }
   ],
   "source": [
    "start = time.time()\n",
    "\n",
    "grid_search = grid_search.fit(X_train, y_train)\n",
    "\n",
    "stop = time.time()\n",
    "print('\\n',(stop-start)//60,'min.')"
   ]
  },
  {
   "cell_type": "code",
   "execution_count": 17,
   "metadata": {},
   "outputs": [
    {
     "data": {
      "text/plain": [
       "0.7749773493968167"
      ]
     },
     "execution_count": 17,
     "metadata": {},
     "output_type": "execute_result"
    }
   ],
   "source": [
    "grid_search.best_score_"
   ]
  },
  {
   "cell_type": "code",
   "execution_count": 18,
   "metadata": {},
   "outputs": [
    {
     "data": {
      "text/plain": [
       "{'n_estimators': 200}"
      ]
     },
     "execution_count": 18,
     "metadata": {},
     "output_type": "execute_result"
    }
   ],
   "source": [
    "grid_search.best_params_"
   ]
  },
  {
   "cell_type": "code",
   "execution_count": 19,
   "metadata": {},
   "outputs": [
    {
     "data": {
      "text/html": [
       "<div>\n",
       "<style scoped>\n",
       "    .dataframe tbody tr th:only-of-type {\n",
       "        vertical-align: middle;\n",
       "    }\n",
       "\n",
       "    .dataframe tbody tr th {\n",
       "        vertical-align: top;\n",
       "    }\n",
       "\n",
       "    .dataframe thead th {\n",
       "        text-align: right;\n",
       "    }\n",
       "</style>\n",
       "<table border=\"1\" class=\"dataframe\">\n",
       "  <thead>\n",
       "    <tr style=\"text-align: right;\">\n",
       "      <th></th>\n",
       "      <th>mean_fit_time</th>\n",
       "      <th>std_fit_time</th>\n",
       "      <th>mean_score_time</th>\n",
       "      <th>std_score_time</th>\n",
       "      <th>param_n_estimators</th>\n",
       "      <th>params</th>\n",
       "      <th>split0_test_score</th>\n",
       "      <th>split1_test_score</th>\n",
       "      <th>split2_test_score</th>\n",
       "      <th>mean_test_score</th>\n",
       "      <th>std_test_score</th>\n",
       "      <th>rank_test_score</th>\n",
       "    </tr>\n",
       "  </thead>\n",
       "  <tbody>\n",
       "    <tr>\n",
       "      <th>0</th>\n",
       "      <td>26.597932</td>\n",
       "      <td>0.775680</td>\n",
       "      <td>0.089719</td>\n",
       "      <td>0.005817</td>\n",
       "      <td>10</td>\n",
       "      <td>{'n_estimators': 10}</td>\n",
       "      <td>0.767103</td>\n",
       "      <td>0.745307</td>\n",
       "      <td>0.758292</td>\n",
       "      <td>0.756901</td>\n",
       "      <td>0.008952</td>\n",
       "      <td>5</td>\n",
       "    </tr>\n",
       "    <tr>\n",
       "      <th>1</th>\n",
       "      <td>82.238996</td>\n",
       "      <td>0.690531</td>\n",
       "      <td>0.238662</td>\n",
       "      <td>0.011413</td>\n",
       "      <td>30</td>\n",
       "      <td>{'n_estimators': 30}</td>\n",
       "      <td>0.781518</td>\n",
       "      <td>0.756617</td>\n",
       "      <td>0.768336</td>\n",
       "      <td>0.768824</td>\n",
       "      <td>0.010172</td>\n",
       "      <td>4</td>\n",
       "    </tr>\n",
       "    <tr>\n",
       "      <th>2</th>\n",
       "      <td>143.912480</td>\n",
       "      <td>3.366931</td>\n",
       "      <td>0.382754</td>\n",
       "      <td>0.002752</td>\n",
       "      <td>50</td>\n",
       "      <td>{'n_estimators': 50}</td>\n",
       "      <td>0.782557</td>\n",
       "      <td>0.760968</td>\n",
       "      <td>0.772149</td>\n",
       "      <td>0.771891</td>\n",
       "      <td>0.008816</td>\n",
       "      <td>3</td>\n",
       "    </tr>\n",
       "    <tr>\n",
       "      <th>3</th>\n",
       "      <td>291.765858</td>\n",
       "      <td>0.992086</td>\n",
       "      <td>0.745976</td>\n",
       "      <td>0.010556</td>\n",
       "      <td>100</td>\n",
       "      <td>{'n_estimators': 100}</td>\n",
       "      <td>0.783549</td>\n",
       "      <td>0.761087</td>\n",
       "      <td>0.772291</td>\n",
       "      <td>0.772309</td>\n",
       "      <td>0.009170</td>\n",
       "      <td>2</td>\n",
       "    </tr>\n",
       "    <tr>\n",
       "      <th>4</th>\n",
       "      <td>577.918580</td>\n",
       "      <td>53.838267</td>\n",
       "      <td>1.498439</td>\n",
       "      <td>0.300416</td>\n",
       "      <td>200</td>\n",
       "      <td>{'n_estimators': 200}</td>\n",
       "      <td>0.787049</td>\n",
       "      <td>0.763240</td>\n",
       "      <td>0.774643</td>\n",
       "      <td>0.774977</td>\n",
       "      <td>0.009723</td>\n",
       "      <td>1</td>\n",
       "    </tr>\n",
       "  </tbody>\n",
       "</table>\n",
       "</div>"
      ],
      "text/plain": [
       "   mean_fit_time  std_fit_time  mean_score_time  std_score_time  \\\n",
       "0      26.597932      0.775680         0.089719        0.005817   \n",
       "1      82.238996      0.690531         0.238662        0.011413   \n",
       "2     143.912480      3.366931         0.382754        0.002752   \n",
       "3     291.765858      0.992086         0.745976        0.010556   \n",
       "4     577.918580     53.838267         1.498439        0.300416   \n",
       "\n",
       "  param_n_estimators                 params  split0_test_score  \\\n",
       "0                 10   {'n_estimators': 10}           0.767103   \n",
       "1                 30   {'n_estimators': 30}           0.781518   \n",
       "2                 50   {'n_estimators': 50}           0.782557   \n",
       "3                100  {'n_estimators': 100}           0.783549   \n",
       "4                200  {'n_estimators': 200}           0.787049   \n",
       "\n",
       "   split1_test_score  split2_test_score  mean_test_score  std_test_score  \\\n",
       "0           0.745307           0.758292         0.756901        0.008952   \n",
       "1           0.756617           0.768336         0.768824        0.010172   \n",
       "2           0.760968           0.772149         0.771891        0.008816   \n",
       "3           0.761087           0.772291         0.772309        0.009170   \n",
       "4           0.763240           0.774643         0.774977        0.009723   \n",
       "\n",
       "   rank_test_score  \n",
       "0                5  \n",
       "1                4  \n",
       "2                3  \n",
       "3                2  \n",
       "4                1  "
      ]
     },
     "execution_count": 19,
     "metadata": {},
     "output_type": "execute_result"
    }
   ],
   "source": [
    "pd.DataFrame(grid_search.cv_results_)"
   ]
  },
  {
   "cell_type": "code",
   "execution_count": 20,
   "metadata": {},
   "outputs": [
    {
     "name": "stdout",
     "output_type": "stream",
     "text": [
      "\n",
      " 2.0 min.\n"
     ]
    }
   ],
   "source": [
    "start = time.time()\n",
    "\n",
    "model = RandomForestRegressor(n_estimators = 30, random_state = 0)\n",
    "model.fit(X_train, y_train)\n",
    "\n",
    "stop = time.time()\n",
    "print('\\n',(stop-start)//60,'min.')"
   ]
  },
  {
   "cell_type": "markdown",
   "metadata": {},
   "source": [
    "## model evaluation"
   ]
  },
  {
   "cell_type": "code",
   "execution_count": 21,
   "metadata": {},
   "outputs": [],
   "source": [
    "from sklearn.metrics import r2_score"
   ]
  },
  {
   "cell_type": "code",
   "execution_count": 22,
   "metadata": {},
   "outputs": [],
   "source": [
    "predictions = model.predict(X_test)"
   ]
  },
  {
   "cell_type": "code",
   "execution_count": 23,
   "metadata": {},
   "outputs": [
    {
     "data": {
      "text/plain": [
       "0.7910909320603418"
      ]
     },
     "execution_count": 23,
     "metadata": {},
     "output_type": "execute_result"
    }
   ],
   "source": [
    "r2_score(y_test,predictions)"
   ]
  },
  {
   "cell_type": "code",
   "execution_count": 24,
   "metadata": {
    "scrolled": false
   },
   "outputs": [
    {
     "data": {
      "text/plain": [
       "[<matplotlib.lines.Line2D at 0x10fa7c905c0>]"
      ]
     },
     "execution_count": 24,
     "metadata": {},
     "output_type": "execute_result"
    },
    {
     "data": {
      "image/png": "[encoded data removed]",
      "text/plain": [
       "<Figure size 504x504 with 1 Axes>"
      ]
     },
     "metadata": {
      "needs_background": "light"
     },
     "output_type": "display_data"
    }
   ],
   "source": [
    "plt.figure(figsize=(7,7))\n",
    "# plt.xlim(0,500)\n",
    "# plt.ylim(0,500)\n",
    "\n",
    "# Our predictions\n",
    "plt.scatter(x=y_test,y=predictions,edgecolor=None,alpha=0.2)\n",
    "plt.xlabel('test set')\n",
    "plt.ylabel('predictions')\n",
    "plt.title('Price per $m^{2}$')\n",
    "\n",
    "# Perfect predictions\n",
    "plt.plot(y_test,y_test,'r')"
   ]
  },
  {
   "cell_type": "code",
   "execution_count": 29,
   "metadata": {},
   "outputs": [],
   "source": [
    "errors = y_test - predictions"
   ]
  },
  {
   "cell_type": "code",
   "execution_count": 30,
   "metadata": {},
   "outputs": [
    {
     "data": {
      "text/plain": [
       "Text(0.5, 1.0, 'Error distribution')"
      ]
     },
     "execution_count": 30,
     "metadata": {},
     "output_type": "execute_result"
    },
    {
     "data": {
      "image/png": "[encoded data removed]",
      "text/plain": [
       "<Figure size 432x288 with 1 Axes>"
      ]
     },
     "metadata": {
      "needs_background": "light"
     },
     "output_type": "display_data"
    }
   ],
   "source": [
    "# plt.xlim(-200000,200000)\n",
    "\n",
    "sns.histplot(errors)\n",
    "plt.title('Error distribution')"
   ]
  },
  {
   "cell_type": "code",
   "execution_count": 25,
   "metadata": {},
   "outputs": [
    {
     "data": {
      "text/plain": [
       "array([4738.23979902, 4276.87280372, 9065.1984544 , ..., 9276.28270008,\n",
       "       7183.60853219, 4031.50031797])"
      ]
     },
     "execution_count": 25,
     "metadata": {},
     "output_type": "execute_result"
    }
   ],
   "source": [
    "predictions"
   ]
  },
  {
   "cell_type": "code",
   "execution_count": 26,
   "metadata": {},
   "outputs": [
    {
     "data": {
      "text/plain": [
       "array([1.01414957, 1.21463188, 0.93576242, 1.01017622, 1.02879775,\n",
       "       0.99318085, 0.9987125 , 0.90764236, 0.98019231, 1.08095387,\n",
       "       1.14738771, 1.03151891, 0.99620633, 1.06018683, 0.27725383,\n",
       "       0.96553204, 1.27201886, 0.90897742, 1.32861874, 0.8953134 ])"
      ]
     },
     "execution_count": 26,
     "metadata": {},
     "output_type": "execute_result"
    }
   ],
   "source": [
    "predictions[:20]/y_test[:20]"
   ]
  },
  {
   "cell_type": "markdown",
   "metadata": {},
   "source": [
    "## k-Fold Cross Validation"
   ]
  },
  {
   "cell_type": "code",
   "execution_count": 31,
   "metadata": {},
   "outputs": [],
   "source": [
    "from sklearn.model_selection import cross_val_score"
   ]
  },
  {
   "cell_type": "code",
   "execution_count": 32,
   "metadata": {},
   "outputs": [
    {
     "name": "stdout",
     "output_type": "stream",
     "text": [
      "\n",
      " 20.0 min.\n"
     ]
    }
   ],
   "source": [
    "start = time.time()\n",
    "\n",
    "accuracies = cross_val_score(estimator = model, X = X_train, y = y_train, cv = 10)\n",
    "\n",
    "stop = time.time()\n",
    "print('\\n',(stop-start)//60,'min.')"
   ]
  },
  {
   "cell_type": "code",
   "execution_count": 33,
   "metadata": {},
   "outputs": [
    {
     "data": {
      "text/plain": [
       "0.7872841449333146"
      ]
     },
     "execution_count": 33,
     "metadata": {},
     "output_type": "execute_result"
    }
   ],
   "source": [
    "accuracies.mean()"
   ]
  },
  {
   "cell_type": "code",
   "execution_count": 34,
   "metadata": {},
   "outputs": [
    {
     "data": {
      "text/plain": [
       "0.014342070760309238"
      ]
     },
     "execution_count": 34,
     "metadata": {},
     "output_type": "execute_result"
    }
   ],
   "source": [
    "accuracies.std()"
   ]
  },
  {
   "cell_type": "code",
   "execution_count": 35,
   "metadata": {},
   "outputs": [
    {
     "data": {
      "text/plain": [
       "array([0.80562827, 0.78554612, 0.80886739, 0.78084887, 0.76453769,\n",
       "       0.76707559, 0.79898244, 0.77724062, 0.79131611, 0.79279835])"
      ]
     },
     "execution_count": 35,
     "metadata": {},
     "output_type": "execute_result"
    }
   ],
   "source": [
    "accuracies"
   ]
  },
  {
   "cell_type": "markdown",
   "metadata": {},
   "source": [
    "## saving data"
   ]
  },
  {
   "cell_type": "code",
   "execution_count": 36,
   "metadata": {},
   "outputs": [
    {
     "data": {
      "text/plain": [
       "['random_forest_model_a']"
      ]
     },
     "execution_count": 36,
     "metadata": {},
     "output_type": "execute_result"
    }
   ],
   "source": [
    "import joblib\n",
    "joblib.dump(model, 'random_forest_model_a')"
   ]
  },
  {
   "cell_type": "code",
   "execution_count": null,
   "metadata": {},
   "outputs": [],
   "source": []
  }
 ],
 "metadata": {
  "kernelspec": {
   "display_name": "Python 3",
   "language": "python",
   "name": "python3"
  },
  "language_info": {
   "codemirror_mode": {
    "name": "ipython",
    "version": 3
   },
   "file_extension": ".py",
   "mimetype": "text/x-python",
   "name": "python",
   "nbconvert_exporter": "python",
   "pygments_lexer": "ipython3",
   "version": "3.6.12"
  }
 },
 "nbformat": 4,
 "nbformat_minor": 4
}
