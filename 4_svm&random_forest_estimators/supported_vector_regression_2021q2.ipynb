{
 "cells": [
  {
   "cell_type": "code",
   "execution_count": 1,
   "metadata": {},
   "outputs": [],
   "source": [
    "import numpy as np\n",
    "import matplotlib.pyplot as plt\n",
    "import pandas as pd\n",
    "import pickle as pkl\n",
    "import seaborn as sns\n",
    "import time"
   ]
  },
  {
   "cell_type": "code",
   "execution_count": 2,
   "metadata": {},
   "outputs": [],
   "source": [
    "infile = open('..//3_k-means_clustering//apartment_data_frame_clustered_500_2021q2','rb')\n",
    "frame = pkl.load(infile)\n",
    "infile.close()"
   ]
  },
  {
   "cell_type": "code",
   "execution_count": 3,
   "metadata": {},
   "outputs": [
    {
     "data": {
      "text/html": [
       "<div>\n",
       "<style scoped>\n",
       "    .dataframe tbody tr th:only-of-type {\n",
       "        vertical-align: middle;\n",
       "    }\n",
       "\n",
       "    .dataframe tbody tr th {\n",
       "        vertical-align: top;\n",
       "    }\n",
       "\n",
       "    .dataframe thead th {\n",
       "        text-align: right;\n",
       "    }\n",
       "</style>\n",
       "<table border=\"1\" class=\"dataframe\">\n",
       "  <thead>\n",
       "    <tr style=\"text-align: right;\">\n",
       "      <th></th>\n",
       "      <th>city</th>\n",
       "      <th>district</th>\n",
       "      <th>voivodeship</th>\n",
       "      <th>localization_y</th>\n",
       "      <th>localization_x</th>\n",
       "      <th>market</th>\n",
       "      <th>area</th>\n",
       "      <th>rooms</th>\n",
       "      <th>floor</th>\n",
       "      <th>floors</th>\n",
       "      <th>build_yr</th>\n",
       "      <th>price</th>\n",
       "      <th>url</th>\n",
       "      <th>price_of_sqm</th>\n",
       "      <th>cluster</th>\n",
       "    </tr>\n",
       "  </thead>\n",
       "  <tbody>\n",
       "    <tr>\n",
       "      <th>0</th>\n",
       "      <td>Kraków</td>\n",
       "      <td>Podgórze</td>\n",
       "      <td>małopolskie</td>\n",
       "      <td>50.036500</td>\n",
       "      <td>20.015500</td>\n",
       "      <td>wtorny</td>\n",
       "      <td>46.30</td>\n",
       "      <td>2</td>\n",
       "      <td>6</td>\n",
       "      <td>8</td>\n",
       "      <td>2021.0</td>\n",
       "      <td>464000.0</td>\n",
       "      <td>https://gratka.pl/nieruchomosci/mieszkanie-kra...</td>\n",
       "      <td>10021.598272</td>\n",
       "      <td>242</td>\n",
       "    </tr>\n",
       "    <tr>\n",
       "      <th>1</th>\n",
       "      <td>Warszawa</td>\n",
       "      <td>Praga-Południe</td>\n",
       "      <td>mazowieckie</td>\n",
       "      <td>52.238088</td>\n",
       "      <td>21.115236</td>\n",
       "      <td>wtorny</td>\n",
       "      <td>80.91</td>\n",
       "      <td>2</td>\n",
       "      <td>2</td>\n",
       "      <td>5</td>\n",
       "      <td>2013.0</td>\n",
       "      <td>849000.0</td>\n",
       "      <td>https://gratka.pl/nieruchomosci/mieszkanie-war...</td>\n",
       "      <td>10493.140527</td>\n",
       "      <td>142</td>\n",
       "    </tr>\n",
       "    <tr>\n",
       "      <th>2</th>\n",
       "      <td>Katowice</td>\n",
       "      <td>Os. Paderewskiego</td>\n",
       "      <td>śląskie</td>\n",
       "      <td>50.252783</td>\n",
       "      <td>19.038932</td>\n",
       "      <td>pierwotny</td>\n",
       "      <td>44.21</td>\n",
       "      <td>2</td>\n",
       "      <td>1</td>\n",
       "      <td>9</td>\n",
       "      <td>2023.0</td>\n",
       "      <td>373100.0</td>\n",
       "      <td>https://gratka.pl/nieruchomosci/nowe-mieszkani...</td>\n",
       "      <td>8439.267134</td>\n",
       "      <td>326</td>\n",
       "    </tr>\n",
       "    <tr>\n",
       "      <th>3</th>\n",
       "      <td>Warszawa</td>\n",
       "      <td>Wola</td>\n",
       "      <td>mazowieckie</td>\n",
       "      <td>52.234980</td>\n",
       "      <td>20.961730</td>\n",
       "      <td>wtorny</td>\n",
       "      <td>34.00</td>\n",
       "      <td>1</td>\n",
       "      <td>1</td>\n",
       "      <td>5</td>\n",
       "      <td>1952.0</td>\n",
       "      <td>409900.0</td>\n",
       "      <td>https://gratka.pl/nieruchomosci/mieszkanie-war...</td>\n",
       "      <td>12055.882353</td>\n",
       "      <td>412</td>\n",
       "    </tr>\n",
       "    <tr>\n",
       "      <th>4</th>\n",
       "      <td>Poznań</td>\n",
       "      <td>Stare Miasto</td>\n",
       "      <td>wielkopolskie</td>\n",
       "      <td>52.453445</td>\n",
       "      <td>16.915134</td>\n",
       "      <td>wtorny</td>\n",
       "      <td>46.70</td>\n",
       "      <td>2</td>\n",
       "      <td>1</td>\n",
       "      <td>15</td>\n",
       "      <td>1984.0</td>\n",
       "      <td>329000.0</td>\n",
       "      <td>https://gratka.pl/nieruchomosci/mieszkanie-poz...</td>\n",
       "      <td>7044.967880</td>\n",
       "      <td>411</td>\n",
       "    </tr>\n",
       "    <tr>\n",
       "      <th>...</th>\n",
       "      <td>...</td>\n",
       "      <td>...</td>\n",
       "      <td>...</td>\n",
       "      <td>...</td>\n",
       "      <td>...</td>\n",
       "      <td>...</td>\n",
       "      <td>...</td>\n",
       "      <td>...</td>\n",
       "      <td>...</td>\n",
       "      <td>...</td>\n",
       "      <td>...</td>\n",
       "      <td>...</td>\n",
       "      <td>...</td>\n",
       "      <td>...</td>\n",
       "      <td>...</td>\n",
       "    </tr>\n",
       "    <tr>\n",
       "      <th>50411</th>\n",
       "      <td>Kołobrzeg</td>\n",
       "      <td>kołobrzeski</td>\n",
       "      <td>zachodniopomorskie</td>\n",
       "      <td>54.175917</td>\n",
       "      <td>15.583267</td>\n",
       "      <td>wtorny</td>\n",
       "      <td>27.00</td>\n",
       "      <td>2</td>\n",
       "      <td>parter</td>\n",
       "      <td>2</td>\n",
       "      <td>1948.0</td>\n",
       "      <td>340000.0</td>\n",
       "      <td>https://gratka.pl/nieruchomosci/mieszkanie-kol...</td>\n",
       "      <td>12592.592593</td>\n",
       "      <td>274</td>\n",
       "    </tr>\n",
       "    <tr>\n",
       "      <th>50412</th>\n",
       "      <td>Pruszków</td>\n",
       "      <td>pruszkowski</td>\n",
       "      <td>mazowieckie</td>\n",
       "      <td>52.155775</td>\n",
       "      <td>20.804646</td>\n",
       "      <td>wtorny</td>\n",
       "      <td>48.42</td>\n",
       "      <td>2</td>\n",
       "      <td>2</td>\n",
       "      <td>3</td>\n",
       "      <td>2019.0</td>\n",
       "      <td>539000.0</td>\n",
       "      <td>https://gratka.pl/nieruchomosci/mieszkanie-pru...</td>\n",
       "      <td>11131.763734</td>\n",
       "      <td>245</td>\n",
       "    </tr>\n",
       "    <tr>\n",
       "      <th>50413</th>\n",
       "      <td>Kraków</td>\n",
       "      <td>Os. Prądnik Biały</td>\n",
       "      <td>małopolskie</td>\n",
       "      <td>50.092900</td>\n",
       "      <td>19.926700</td>\n",
       "      <td>pierwotny</td>\n",
       "      <td>54.00</td>\n",
       "      <td>3</td>\n",
       "      <td>4</td>\n",
       "      <td>5</td>\n",
       "      <td>2020.0</td>\n",
       "      <td>499002.0</td>\n",
       "      <td>https://gratka.pl/nieruchomosci/nowe-mieszkani...</td>\n",
       "      <td>9240.777778</td>\n",
       "      <td>264</td>\n",
       "    </tr>\n",
       "    <tr>\n",
       "      <th>50414</th>\n",
       "      <td>Warszawa</td>\n",
       "      <td>Bielany</td>\n",
       "      <td>mazowieckie</td>\n",
       "      <td>52.267688</td>\n",
       "      <td>20.947620</td>\n",
       "      <td>wtorny</td>\n",
       "      <td>82.00</td>\n",
       "      <td>2</td>\n",
       "      <td>11</td>\n",
       "      <td>11</td>\n",
       "      <td>2001.0</td>\n",
       "      <td>940000.0</td>\n",
       "      <td>https://gratka.pl/nieruchomosci/mieszkanie-war...</td>\n",
       "      <td>11463.414634</td>\n",
       "      <td>350</td>\n",
       "    </tr>\n",
       "    <tr>\n",
       "      <th>50415</th>\n",
       "      <td>Otrębusy</td>\n",
       "      <td>pruszkowski</td>\n",
       "      <td>mazowieckie</td>\n",
       "      <td>52.122000</td>\n",
       "      <td>20.765000</td>\n",
       "      <td>pierwotny</td>\n",
       "      <td>134.60</td>\n",
       "      <td>4</td>\n",
       "      <td>1</td>\n",
       "      <td>1</td>\n",
       "      <td>2021.0</td>\n",
       "      <td>749000.0</td>\n",
       "      <td>https://gratka.pl/nieruchomosci/nowe-mieszkani...</td>\n",
       "      <td>5564.635958</td>\n",
       "      <td>117</td>\n",
       "    </tr>\n",
       "  </tbody>\n",
       "</table>\n",
       "<p>50416 rows × 15 columns</p>\n",
       "</div>"
      ],
      "text/plain": [
       "            city           district         voivodeship  localization_y  \\\n",
       "0         Kraków           Podgórze         małopolskie       50.036500   \n",
       "1       Warszawa     Praga-Południe         mazowieckie       52.238088   \n",
       "2       Katowice  Os. Paderewskiego             śląskie       50.252783   \n",
       "3       Warszawa               Wola         mazowieckie       52.234980   \n",
       "4         Poznań       Stare Miasto       wielkopolskie       52.453445   \n",
       "...          ...                ...                 ...             ...   \n",
       "50411  Kołobrzeg        kołobrzeski  zachodniopomorskie       54.175917   \n",
       "50412   Pruszków        pruszkowski         mazowieckie       52.155775   \n",
       "50413     Kraków  Os. Prądnik Biały         małopolskie       50.092900   \n",
       "50414   Warszawa            Bielany         mazowieckie       52.267688   \n",
       "50415   Otrębusy        pruszkowski         mazowieckie       52.122000   \n",
       "\n",
       "       localization_x     market    area rooms   floor floors  build_yr  \\\n",
       "0           20.015500     wtorny   46.30     2       6      8    2021.0   \n",
       "1           21.115236     wtorny   80.91     2       2      5    2013.0   \n",
       "2           19.038932  pierwotny   44.21     2       1      9    2023.0   \n",
       "3           20.961730     wtorny   34.00     1       1      5    1952.0   \n",
       "4           16.915134     wtorny   46.70     2       1     15    1984.0   \n",
       "...               ...        ...     ...   ...     ...    ...       ...   \n",
       "50411       15.583267     wtorny   27.00     2  parter      2    1948.0   \n",
       "50412       20.804646     wtorny   48.42     2       2      3    2019.0   \n",
       "50413       19.926700  pierwotny   54.00     3       4      5    2020.0   \n",
       "50414       20.947620     wtorny   82.00     2      11     11    2001.0   \n",
       "50415       20.765000  pierwotny  134.60     4       1      1    2021.0   \n",
       "\n",
       "          price                                                url  \\\n",
       "0      464000.0  https://gratka.pl/nieruchomosci/mieszkanie-kra...   \n",
       "1      849000.0  https://gratka.pl/nieruchomosci/mieszkanie-war...   \n",
       "2      373100.0  https://gratka.pl/nieruchomosci/nowe-mieszkani...   \n",
       "3      409900.0  https://gratka.pl/nieruchomosci/mieszkanie-war...   \n",
       "4      329000.0  https://gratka.pl/nieruchomosci/mieszkanie-poz...   \n",
       "...         ...                                                ...   \n",
       "50411  340000.0  https://gratka.pl/nieruchomosci/mieszkanie-kol...   \n",
       "50412  539000.0  https://gratka.pl/nieruchomosci/mieszkanie-pru...   \n",
       "50413  499002.0  https://gratka.pl/nieruchomosci/nowe-mieszkani...   \n",
       "50414  940000.0  https://gratka.pl/nieruchomosci/mieszkanie-war...   \n",
       "50415  749000.0  https://gratka.pl/nieruchomosci/nowe-mieszkani...   \n",
       "\n",
       "       price_of_sqm  cluster  \n",
       "0      10021.598272      242  \n",
       "1      10493.140527      142  \n",
       "2       8439.267134      326  \n",
       "3      12055.882353      412  \n",
       "4       7044.967880      411  \n",
       "...             ...      ...  \n",
       "50411  12592.592593      274  \n",
       "50412  11131.763734      245  \n",
       "50413   9240.777778      264  \n",
       "50414  11463.414634      350  \n",
       "50415   5564.635958      117  \n",
       "\n",
       "[50416 rows x 15 columns]"
      ]
     },
     "execution_count": 3,
     "metadata": {},
     "output_type": "execute_result"
    }
   ],
   "source": [
    "frame"
   ]
  },
  {
   "cell_type": "markdown",
   "metadata": {},
   "source": [
    "## data preparation"
   ]
  },
  {
   "cell_type": "code",
   "execution_count": 4,
   "metadata": {},
   "outputs": [
    {
     "name": "stdout",
     "output_type": "stream",
     "text": [
      "<class 'pandas.core.frame.DataFrame'>\n",
      "RangeIndex: 50416 entries, 0 to 50415\n",
      "Data columns (total 15 columns):\n",
      " #   Column          Non-Null Count  Dtype  \n",
      "---  ------          --------------  -----  \n",
      " 0   city            50416 non-null  object \n",
      " 1   district        42465 non-null  object \n",
      " 2   voivodeship     50416 non-null  object \n",
      " 3   localization_y  50416 non-null  float64\n",
      " 4   localization_x  50416 non-null  float64\n",
      " 5   market          50416 non-null  object \n",
      " 6   area            50416 non-null  float64\n",
      " 7   rooms           50416 non-null  object \n",
      " 8   floor           50416 non-null  object \n",
      " 9   floors          50416 non-null  object \n",
      " 10  build_yr        50416 non-null  float64\n",
      " 11  price           50416 non-null  float64\n",
      " 12  url             50416 non-null  object \n",
      " 13  price_of_sqm    50416 non-null  float64\n",
      " 14  cluster         50416 non-null  int32  \n",
      "dtypes: float64(6), int32(1), object(8)\n",
      "memory usage: 5.6+ MB\n"
     ]
    }
   ],
   "source": [
    "frame.info()"
   ]
  },
  {
   "cell_type": "code",
   "execution_count": 5,
   "metadata": {},
   "outputs": [],
   "source": [
    "frame = frame.drop(['city','district','voivodeship','localization_y','localization_x','area','price_of_sqm','url'],axis=1)"
   ]
  },
  {
   "cell_type": "code",
   "execution_count": 6,
   "metadata": {},
   "outputs": [],
   "source": [
    "frame.cluster = frame.cluster.apply(str)"
   ]
  },
  {
   "cell_type": "code",
   "execution_count": 7,
   "metadata": {},
   "outputs": [
    {
     "name": "stdout",
     "output_type": "stream",
     "text": [
      "<class 'pandas.core.frame.DataFrame'>\n",
      "RangeIndex: 50416 entries, 0 to 50415\n",
      "Data columns (total 7 columns):\n",
      " #   Column    Non-Null Count  Dtype  \n",
      "---  ------    --------------  -----  \n",
      " 0   market    50416 non-null  object \n",
      " 1   rooms     50416 non-null  object \n",
      " 2   floor     50416 non-null  object \n",
      " 3   floors    50416 non-null  object \n",
      " 4   build_yr  50416 non-null  float64\n",
      " 5   price     50416 non-null  float64\n",
      " 6   cluster   50416 non-null  object \n",
      "dtypes: float64(2), object(5)\n",
      "memory usage: 2.7+ MB\n"
     ]
    }
   ],
   "source": [
    "frame.info()"
   ]
  },
  {
   "cell_type": "markdown",
   "metadata": {},
   "source": [
    "## creating dummy variables"
   ]
  },
  {
   "cell_type": "code",
   "execution_count": 8,
   "metadata": {},
   "outputs": [],
   "source": [
    "dummies = pd.get_dummies(frame[['market','rooms','floor','floors','cluster']],drop_first=True)\n",
    "frame = frame.drop(['market','rooms','floor','floors','cluster'],axis=1)\n",
    "frame = pd.concat([frame,dummies],axis=1)"
   ]
  },
  {
   "cell_type": "code",
   "execution_count": 9,
   "metadata": {},
   "outputs": [
    {
     "data": {
      "text/html": [
       "<div>\n",
       "<style scoped>\n",
       "    .dataframe tbody tr th:only-of-type {\n",
       "        vertical-align: middle;\n",
       "    }\n",
       "\n",
       "    .dataframe tbody tr th {\n",
       "        vertical-align: top;\n",
       "    }\n",
       "\n",
       "    .dataframe thead th {\n",
       "        text-align: right;\n",
       "    }\n",
       "</style>\n",
       "<table border=\"1\" class=\"dataframe\">\n",
       "  <thead>\n",
       "    <tr style=\"text-align: right;\">\n",
       "      <th></th>\n",
       "      <th>build_yr</th>\n",
       "      <th>price</th>\n",
       "      <th>market_wtorny</th>\n",
       "      <th>rooms_2</th>\n",
       "      <th>rooms_3</th>\n",
       "      <th>rooms_4</th>\n",
       "      <th>rooms_5</th>\n",
       "      <th>rooms_6</th>\n",
       "      <th>rooms_7</th>\n",
       "      <th>rooms_8</th>\n",
       "      <th>...</th>\n",
       "      <th>cluster_90</th>\n",
       "      <th>cluster_91</th>\n",
       "      <th>cluster_92</th>\n",
       "      <th>cluster_93</th>\n",
       "      <th>cluster_94</th>\n",
       "      <th>cluster_95</th>\n",
       "      <th>cluster_96</th>\n",
       "      <th>cluster_97</th>\n",
       "      <th>cluster_98</th>\n",
       "      <th>cluster_99</th>\n",
       "    </tr>\n",
       "  </thead>\n",
       "  <tbody>\n",
       "    <tr>\n",
       "      <th>0</th>\n",
       "      <td>2021.0</td>\n",
       "      <td>464000.0</td>\n",
       "      <td>1</td>\n",
       "      <td>1</td>\n",
       "      <td>0</td>\n",
       "      <td>0</td>\n",
       "      <td>0</td>\n",
       "      <td>0</td>\n",
       "      <td>0</td>\n",
       "      <td>0</td>\n",
       "      <td>...</td>\n",
       "      <td>0</td>\n",
       "      <td>0</td>\n",
       "      <td>0</td>\n",
       "      <td>0</td>\n",
       "      <td>0</td>\n",
       "      <td>0</td>\n",
       "      <td>0</td>\n",
       "      <td>0</td>\n",
       "      <td>0</td>\n",
       "      <td>0</td>\n",
       "    </tr>\n",
       "    <tr>\n",
       "      <th>1</th>\n",
       "      <td>2013.0</td>\n",
       "      <td>849000.0</td>\n",
       "      <td>1</td>\n",
       "      <td>1</td>\n",
       "      <td>0</td>\n",
       "      <td>0</td>\n",
       "      <td>0</td>\n",
       "      <td>0</td>\n",
       "      <td>0</td>\n",
       "      <td>0</td>\n",
       "      <td>...</td>\n",
       "      <td>0</td>\n",
       "      <td>0</td>\n",
       "      <td>0</td>\n",
       "      <td>0</td>\n",
       "      <td>0</td>\n",
       "      <td>0</td>\n",
       "      <td>0</td>\n",
       "      <td>0</td>\n",
       "      <td>0</td>\n",
       "      <td>0</td>\n",
       "    </tr>\n",
       "    <tr>\n",
       "      <th>2</th>\n",
       "      <td>2023.0</td>\n",
       "      <td>373100.0</td>\n",
       "      <td>0</td>\n",
       "      <td>1</td>\n",
       "      <td>0</td>\n",
       "      <td>0</td>\n",
       "      <td>0</td>\n",
       "      <td>0</td>\n",
       "      <td>0</td>\n",
       "      <td>0</td>\n",
       "      <td>...</td>\n",
       "      <td>0</td>\n",
       "      <td>0</td>\n",
       "      <td>0</td>\n",
       "      <td>0</td>\n",
       "      <td>0</td>\n",
       "      <td>0</td>\n",
       "      <td>0</td>\n",
       "      <td>0</td>\n",
       "      <td>0</td>\n",
       "      <td>0</td>\n",
       "    </tr>\n",
       "    <tr>\n",
       "      <th>3</th>\n",
       "      <td>1952.0</td>\n",
       "      <td>409900.0</td>\n",
       "      <td>1</td>\n",
       "      <td>0</td>\n",
       "      <td>0</td>\n",
       "      <td>0</td>\n",
       "      <td>0</td>\n",
       "      <td>0</td>\n",
       "      <td>0</td>\n",
       "      <td>0</td>\n",
       "      <td>...</td>\n",
       "      <td>0</td>\n",
       "      <td>0</td>\n",
       "      <td>0</td>\n",
       "      <td>0</td>\n",
       "      <td>0</td>\n",
       "      <td>0</td>\n",
       "      <td>0</td>\n",
       "      <td>0</td>\n",
       "      <td>0</td>\n",
       "      <td>0</td>\n",
       "    </tr>\n",
       "    <tr>\n",
       "      <th>4</th>\n",
       "      <td>1984.0</td>\n",
       "      <td>329000.0</td>\n",
       "      <td>1</td>\n",
       "      <td>1</td>\n",
       "      <td>0</td>\n",
       "      <td>0</td>\n",
       "      <td>0</td>\n",
       "      <td>0</td>\n",
       "      <td>0</td>\n",
       "      <td>0</td>\n",
       "      <td>...</td>\n",
       "      <td>0</td>\n",
       "      <td>0</td>\n",
       "      <td>0</td>\n",
       "      <td>0</td>\n",
       "      <td>0</td>\n",
       "      <td>0</td>\n",
       "      <td>0</td>\n",
       "      <td>0</td>\n",
       "      <td>0</td>\n",
       "      <td>0</td>\n",
       "    </tr>\n",
       "    <tr>\n",
       "      <th>...</th>\n",
       "      <td>...</td>\n",
       "      <td>...</td>\n",
       "      <td>...</td>\n",
       "      <td>...</td>\n",
       "      <td>...</td>\n",
       "      <td>...</td>\n",
       "      <td>...</td>\n",
       "      <td>...</td>\n",
       "      <td>...</td>\n",
       "      <td>...</td>\n",
       "      <td>...</td>\n",
       "      <td>...</td>\n",
       "      <td>...</td>\n",
       "      <td>...</td>\n",
       "      <td>...</td>\n",
       "      <td>...</td>\n",
       "      <td>...</td>\n",
       "      <td>...</td>\n",
       "      <td>...</td>\n",
       "      <td>...</td>\n",
       "      <td>...</td>\n",
       "    </tr>\n",
       "    <tr>\n",
       "      <th>50411</th>\n",
       "      <td>1948.0</td>\n",
       "      <td>340000.0</td>\n",
       "      <td>1</td>\n",
       "      <td>1</td>\n",
       "      <td>0</td>\n",
       "      <td>0</td>\n",
       "      <td>0</td>\n",
       "      <td>0</td>\n",
       "      <td>0</td>\n",
       "      <td>0</td>\n",
       "      <td>...</td>\n",
       "      <td>0</td>\n",
       "      <td>0</td>\n",
       "      <td>0</td>\n",
       "      <td>0</td>\n",
       "      <td>0</td>\n",
       "      <td>0</td>\n",
       "      <td>0</td>\n",
       "      <td>0</td>\n",
       "      <td>0</td>\n",
       "      <td>0</td>\n",
       "    </tr>\n",
       "    <tr>\n",
       "      <th>50412</th>\n",
       "      <td>2019.0</td>\n",
       "      <td>539000.0</td>\n",
       "      <td>1</td>\n",
       "      <td>1</td>\n",
       "      <td>0</td>\n",
       "      <td>0</td>\n",
       "      <td>0</td>\n",
       "      <td>0</td>\n",
       "      <td>0</td>\n",
       "      <td>0</td>\n",
       "      <td>...</td>\n",
       "      <td>0</td>\n",
       "      <td>0</td>\n",
       "      <td>0</td>\n",
       "      <td>0</td>\n",
       "      <td>0</td>\n",
       "      <td>0</td>\n",
       "      <td>0</td>\n",
       "      <td>0</td>\n",
       "      <td>0</td>\n",
       "      <td>0</td>\n",
       "    </tr>\n",
       "    <tr>\n",
       "      <th>50413</th>\n",
       "      <td>2020.0</td>\n",
       "      <td>499002.0</td>\n",
       "      <td>0</td>\n",
       "      <td>0</td>\n",
       "      <td>1</td>\n",
       "      <td>0</td>\n",
       "      <td>0</td>\n",
       "      <td>0</td>\n",
       "      <td>0</td>\n",
       "      <td>0</td>\n",
       "      <td>...</td>\n",
       "      <td>0</td>\n",
       "      <td>0</td>\n",
       "      <td>0</td>\n",
       "      <td>0</td>\n",
       "      <td>0</td>\n",
       "      <td>0</td>\n",
       "      <td>0</td>\n",
       "      <td>0</td>\n",
       "      <td>0</td>\n",
       "      <td>0</td>\n",
       "    </tr>\n",
       "    <tr>\n",
       "      <th>50414</th>\n",
       "      <td>2001.0</td>\n",
       "      <td>940000.0</td>\n",
       "      <td>1</td>\n",
       "      <td>1</td>\n",
       "      <td>0</td>\n",
       "      <td>0</td>\n",
       "      <td>0</td>\n",
       "      <td>0</td>\n",
       "      <td>0</td>\n",
       "      <td>0</td>\n",
       "      <td>...</td>\n",
       "      <td>0</td>\n",
       "      <td>0</td>\n",
       "      <td>0</td>\n",
       "      <td>0</td>\n",
       "      <td>0</td>\n",
       "      <td>0</td>\n",
       "      <td>0</td>\n",
       "      <td>0</td>\n",
       "      <td>0</td>\n",
       "      <td>0</td>\n",
       "    </tr>\n",
       "    <tr>\n",
       "      <th>50415</th>\n",
       "      <td>2021.0</td>\n",
       "      <td>749000.0</td>\n",
       "      <td>0</td>\n",
       "      <td>0</td>\n",
       "      <td>0</td>\n",
       "      <td>1</td>\n",
       "      <td>0</td>\n",
       "      <td>0</td>\n",
       "      <td>0</td>\n",
       "      <td>0</td>\n",
       "      <td>...</td>\n",
       "      <td>0</td>\n",
       "      <td>0</td>\n",
       "      <td>0</td>\n",
       "      <td>0</td>\n",
       "      <td>0</td>\n",
       "      <td>0</td>\n",
       "      <td>0</td>\n",
       "      <td>0</td>\n",
       "      <td>0</td>\n",
       "      <td>0</td>\n",
       "    </tr>\n",
       "  </tbody>\n",
       "</table>\n",
       "<p>50416 rows × 572 columns</p>\n",
       "</div>"
      ],
      "text/plain": [
       "       build_yr     price  market_wtorny  rooms_2  rooms_3  rooms_4  rooms_5  \\\n",
       "0        2021.0  464000.0              1        1        0        0        0   \n",
       "1        2013.0  849000.0              1        1        0        0        0   \n",
       "2        2023.0  373100.0              0        1        0        0        0   \n",
       "3        1952.0  409900.0              1        0        0        0        0   \n",
       "4        1984.0  329000.0              1        1        0        0        0   \n",
       "...         ...       ...            ...      ...      ...      ...      ...   \n",
       "50411    1948.0  340000.0              1        1        0        0        0   \n",
       "50412    2019.0  539000.0              1        1        0        0        0   \n",
       "50413    2020.0  499002.0              0        0        1        0        0   \n",
       "50414    2001.0  940000.0              1        1        0        0        0   \n",
       "50415    2021.0  749000.0              0        0        0        1        0   \n",
       "\n",
       "       rooms_6  rooms_7  rooms_8  ...  cluster_90  cluster_91  cluster_92  \\\n",
       "0            0        0        0  ...           0           0           0   \n",
       "1            0        0        0  ...           0           0           0   \n",
       "2            0        0        0  ...           0           0           0   \n",
       "3            0        0        0  ...           0           0           0   \n",
       "4            0        0        0  ...           0           0           0   \n",
       "...        ...      ...      ...  ...         ...         ...         ...   \n",
       "50411        0        0        0  ...           0           0           0   \n",
       "50412        0        0        0  ...           0           0           0   \n",
       "50413        0        0        0  ...           0           0           0   \n",
       "50414        0        0        0  ...           0           0           0   \n",
       "50415        0        0        0  ...           0           0           0   \n",
       "\n",
       "       cluster_93  cluster_94  cluster_95  cluster_96  cluster_97  cluster_98  \\\n",
       "0               0           0           0           0           0           0   \n",
       "1               0           0           0           0           0           0   \n",
       "2               0           0           0           0           0           0   \n",
       "3               0           0           0           0           0           0   \n",
       "4               0           0           0           0           0           0   \n",
       "...           ...         ...         ...         ...         ...         ...   \n",
       "50411           0           0           0           0           0           0   \n",
       "50412           0           0           0           0           0           0   \n",
       "50413           0           0           0           0           0           0   \n",
       "50414           0           0           0           0           0           0   \n",
       "50415           0           0           0           0           0           0   \n",
       "\n",
       "       cluster_99  \n",
       "0               0  \n",
       "1               0  \n",
       "2               0  \n",
       "3               0  \n",
       "4               0  \n",
       "...           ...  \n",
       "50411           0  \n",
       "50412           0  \n",
       "50413           0  \n",
       "50414           0  \n",
       "50415           0  \n",
       "\n",
       "[50416 rows x 572 columns]"
      ]
     },
     "execution_count": 9,
     "metadata": {},
     "output_type": "execute_result"
    }
   ],
   "source": [
    "frame"
   ]
  },
  {
   "cell_type": "markdown",
   "metadata": {},
   "source": [
    "## train test split"
   ]
  },
  {
   "cell_type": "code",
   "execution_count": 10,
   "metadata": {},
   "outputs": [],
   "source": [
    "X = frame.drop('price',axis=1).values\n",
    "y = frame.price.values"
   ]
  },
  {
   "cell_type": "code",
   "execution_count": 11,
   "metadata": {},
   "outputs": [],
   "source": [
    "from sklearn.model_selection import train_test_split"
   ]
  },
  {
   "cell_type": "code",
   "execution_count": 12,
   "metadata": {},
   "outputs": [],
   "source": [
    "X_train, X_test, y_train, y_test = train_test_split(X, y, test_size=0.25)"
   ]
  },
  {
   "cell_type": "markdown",
   "metadata": {},
   "source": [
    "## feature scaling"
   ]
  },
  {
   "cell_type": "code",
   "execution_count": 13,
   "metadata": {},
   "outputs": [],
   "source": [
    "from sklearn.preprocessing import StandardScaler"
   ]
  },
  {
   "cell_type": "code",
   "execution_count": 14,
   "metadata": {},
   "outputs": [],
   "source": [
    "sc_X = StandardScaler()\n",
    "X_train = sc_X.fit_transform(X_train)\n",
    "X_test = sc_X.transform(X_test)"
   ]
  },
  {
   "cell_type": "code",
   "execution_count": 15,
   "metadata": {},
   "outputs": [],
   "source": [
    "sc_y = StandardScaler()\n",
    "y_train = sc_y.fit_transform(y_train.reshape(len(y_train),1))\n",
    "y_train = y_train.reshape(len(y_train),) # for regressor"
   ]
  },
  {
   "cell_type": "markdown",
   "metadata": {},
   "source": [
    "## svr and grid search"
   ]
  },
  {
   "cell_type": "code",
   "execution_count": 16,
   "metadata": {},
   "outputs": [],
   "source": [
    "from sklearn.model_selection import GridSearchCV\n",
    "from sklearn.svm import SVR"
   ]
  },
  {
   "cell_type": "code",
   "execution_count": 17,
   "metadata": {},
   "outputs": [],
   "source": [
    "# parameters = [{'C':[100, 1000],\n",
    "#                'kernel':['rbf'],\n",
    "#                'gamma':[0.1, 0.2, 0.3, 0.4, 0.5, 0.6, 0.7, 0.8, 0.9, 1]}]"
   ]
  },
  {
   "cell_type": "code",
   "execution_count": 18,
   "metadata": {},
   "outputs": [],
   "source": [
    "# grid_search = GridSearchCV(estimator = SVR(),\n",
    "#                            param_grid = parameters,\n",
    "#                            scoring = 'r2',\n",
    "#                            cv = 10,\n",
    "# #                            n_jobs = -1,\n",
    "#                           )"
   ]
  },
  {
   "cell_type": "code",
   "execution_count": 19,
   "metadata": {},
   "outputs": [],
   "source": [
    "# start = time.time()\n",
    "\n",
    "# grid_search = grid_search.fit(X_train, y_train)\n",
    "\n",
    "# stop = time.time()\n",
    "# print('\\n',(stop-start)//60,'min.')"
   ]
  },
  {
   "cell_type": "code",
   "execution_count": 20,
   "metadata": {},
   "outputs": [],
   "source": [
    "# grid_search.best_score_"
   ]
  },
  {
   "cell_type": "code",
   "execution_count": 21,
   "metadata": {},
   "outputs": [],
   "source": [
    "# grid_search.best_params_"
   ]
  },
  {
   "cell_type": "code",
   "execution_count": 22,
   "metadata": {},
   "outputs": [],
   "source": [
    "# pd.DataFrame(grid_search.cv_results_)"
   ]
  },
  {
   "cell_type": "code",
   "execution_count": 23,
   "metadata": {},
   "outputs": [
    {
     "name": "stdout",
     "output_type": "stream",
     "text": [
      "\n",
      " 190.0 min.\n"
     ]
    }
   ],
   "source": [
    "start = time.time()\n",
    "\n",
    "model = SVR(C = 1000,kernel = 'rbf',gamma = 0.1)\n",
    "model.fit(X_train, y_train)\n",
    "\n",
    "stop = time.time()\n",
    "print('\\n',(stop-start)//60,'min.')"
   ]
  },
  {
   "cell_type": "markdown",
   "metadata": {},
   "source": [
    "## model evaluation"
   ]
  },
  {
   "cell_type": "code",
   "execution_count": 24,
   "metadata": {},
   "outputs": [],
   "source": [
    "from sklearn.metrics import r2_score"
   ]
  },
  {
   "cell_type": "code",
   "execution_count": 26,
   "metadata": {},
   "outputs": [
    {
     "name": "stdout",
     "output_type": "stream",
     "text": [
      "\n",
      " 3.0 min.\n"
     ]
    }
   ],
   "source": [
    "start = time.time()\n",
    "\n",
    "predictions = model.predict(X_test)\n",
    "\n",
    "stop = time.time()\n",
    "print('\\n',(stop-start)//60,'min.')"
   ]
  },
  {
   "cell_type": "code",
   "execution_count": 27,
   "metadata": {},
   "outputs": [],
   "source": [
    "predictions = sc_y.inverse_transform(predictions)"
   ]
  },
  {
   "cell_type": "code",
   "execution_count": 28,
   "metadata": {},
   "outputs": [
    {
     "data": {
      "text/plain": [
       "0.3189478290239798"
      ]
     },
     "execution_count": 28,
     "metadata": {},
     "output_type": "execute_result"
    }
   ],
   "source": [
    "r2_score(y_test,predictions)"
   ]
  },
  {
   "cell_type": "code",
   "execution_count": 29,
   "metadata": {},
   "outputs": [
    {
     "data": {
      "text/plain": [
       "[<matplotlib.lines.Line2D at 0x261c1896ef0>]"
      ]
     },
     "execution_count": 29,
     "metadata": {},
     "output_type": "execute_result"
    },
    {
     "data": {
      "image/png": "[encoded data removed]",
      "text/plain": [
       "<Figure size 504x504 with 1 Axes>"
      ]
     },
     "metadata": {
      "needs_background": "light"
     },
     "output_type": "display_data"
    }
   ],
   "source": [
    "plt.figure(figsize=(7,7))\n",
    "# plt.xlim(700,2500)\n",
    "# plt.ylim(0,500)\n",
    "\n",
    "# predictions\n",
    "plt.scatter(y_test,predictions,edgecolor=None,alpha=0.2)\n",
    "\n",
    "# perfect predictions\n",
    "plt.plot(y_test,y_test,'r')"
   ]
  },
  {
   "cell_type": "code",
   "execution_count": 30,
   "metadata": {},
   "outputs": [
    {
     "data": {
      "text/plain": [
       "array([ 371885.01303785,  431659.70358973,  414893.81757677, ...,\n",
       "        643910.22577845, 2199587.21948808,  581079.70936453])"
      ]
     },
     "execution_count": 30,
     "metadata": {},
     "output_type": "execute_result"
    }
   ],
   "source": [
    "predictions"
   ]
  },
  {
   "cell_type": "code",
   "execution_count": 31,
   "metadata": {},
   "outputs": [
    {
     "data": {
      "text/plain": [
       "array([1.12692428, 0.88273968, 1.14177865, 0.93771361, 0.94958194,\n",
       "       1.04393768, 0.90051565, 1.19081634, 2.12028943, 1.08201351,\n",
       "       1.63305275, 1.52109195, 0.97588039, 1.34751132, 0.94151307,\n",
       "       2.59267522, 1.17928254, 1.53151863, 1.10445084, 0.99069777])"
      ]
     },
     "execution_count": 31,
     "metadata": {},
     "output_type": "execute_result"
    }
   ],
   "source": [
    "predictions[:20]/y_test[:20]"
   ]
  },
  {
   "cell_type": "markdown",
   "metadata": {},
   "source": [
    "## k-Fold Cross Validation"
   ]
  },
  {
   "cell_type": "code",
   "execution_count": 32,
   "metadata": {},
   "outputs": [],
   "source": [
    "# from sklearn.model_selection import cross_val_score"
   ]
  },
  {
   "cell_type": "code",
   "execution_count": 33,
   "metadata": {},
   "outputs": [],
   "source": [
    "# accuracies = cross_val_score(estimator = model, X = X_train, y = y_train, cv = 10)"
   ]
  },
  {
   "cell_type": "code",
   "execution_count": 34,
   "metadata": {},
   "outputs": [],
   "source": [
    "# accuracies.mean()"
   ]
  },
  {
   "cell_type": "code",
   "execution_count": 35,
   "metadata": {},
   "outputs": [],
   "source": [
    "# accuracies.std()"
   ]
  },
  {
   "cell_type": "code",
   "execution_count": 36,
   "metadata": {},
   "outputs": [],
   "source": [
    "# accuracies"
   ]
  },
  {
   "cell_type": "code",
   "execution_count": null,
   "metadata": {},
   "outputs": [],
   "source": []
  }
 ],
 "metadata": {
  "kernelspec": {
   "display_name": "Python 3",
   "language": "python",
   "name": "python3"
  },
  "language_info": {
   "codemirror_mode": {
    "name": "ipython",
    "version": 3
   },
   "file_extension": ".py",
   "mimetype": "text/x-python",
   "name": "python",
   "nbconvert_exporter": "python",
   "pygments_lexer": "ipython3",
   "version": "3.6.12"
  }
 },
 "nbformat": 4,
 "nbformat_minor": 4
}
