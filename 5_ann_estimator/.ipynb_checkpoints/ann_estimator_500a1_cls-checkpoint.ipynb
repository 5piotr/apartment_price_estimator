{
 "cells": [
  {
   "cell_type": "code",
   "execution_count": 1,
   "metadata": {},
   "outputs": [],
   "source": [
    "import numpy as np\n",
    "import matplotlib.pyplot as plt\n",
    "import pandas as pd\n",
    "import pickle as pkl\n",
    "import random\n",
    "import plotly.express as px\n",
    "import time\n",
    "import seaborn as sns"
   ]
  },
  {
   "cell_type": "code",
   "execution_count": 2,
   "metadata": {},
   "outputs": [],
   "source": [
    "infile = open('..//3_k-means_clustering//apartment_data_frame_clustered_500','rb')\n",
    "frame = pkl.load(infile)\n",
    "infile.close()"
   ]
  },
  {
   "cell_type": "code",
   "execution_count": 3,
   "metadata": {
    "scrolled": false
   },
   "outputs": [
    {
     "data": {
      "text/html": [
       "<div>\n",
       "<style scoped>\n",
       "    .dataframe tbody tr th:only-of-type {\n",
       "        vertical-align: middle;\n",
       "    }\n",
       "\n",
       "    .dataframe tbody tr th {\n",
       "        vertical-align: top;\n",
       "    }\n",
       "\n",
       "    .dataframe thead th {\n",
       "        text-align: right;\n",
       "    }\n",
       "</style>\n",
       "<table border=\"1\" class=\"dataframe\">\n",
       "  <thead>\n",
       "    <tr style=\"text-align: right;\">\n",
       "      <th></th>\n",
       "      <th>city</th>\n",
       "      <th>district</th>\n",
       "      <th>voivodeship</th>\n",
       "      <th>localization_y</th>\n",
       "      <th>localization_x</th>\n",
       "      <th>market</th>\n",
       "      <th>area</th>\n",
       "      <th>rooms</th>\n",
       "      <th>floor</th>\n",
       "      <th>floors</th>\n",
       "      <th>build_yr</th>\n",
       "      <th>price</th>\n",
       "      <th>url</th>\n",
       "      <th>price_of_sqm</th>\n",
       "      <th>cluster</th>\n",
       "    </tr>\n",
       "  </thead>\n",
       "  <tbody>\n",
       "    <tr>\n",
       "      <th>0</th>\n",
       "      <td>Warszawa</td>\n",
       "      <td>Wola</td>\n",
       "      <td>mazowieckie</td>\n",
       "      <td>52.245982</td>\n",
       "      <td>20.985385</td>\n",
       "      <td>wtorny</td>\n",
       "      <td>36.00</td>\n",
       "      <td>2</td>\n",
       "      <td>parter</td>\n",
       "      <td>3</td>\n",
       "      <td>1956.0</td>\n",
       "      <td>496000.0</td>\n",
       "      <td>https://gratka.pl/nieruchomosci/mieszkanie-war...</td>\n",
       "      <td>13777.777778</td>\n",
       "      <td>490</td>\n",
       "    </tr>\n",
       "    <tr>\n",
       "      <th>1</th>\n",
       "      <td>Kraków</td>\n",
       "      <td>Swoszowice</td>\n",
       "      <td>małopolskie</td>\n",
       "      <td>49.991389</td>\n",
       "      <td>19.946389</td>\n",
       "      <td>wtorny</td>\n",
       "      <td>78.32</td>\n",
       "      <td>3</td>\n",
       "      <td>3</td>\n",
       "      <td>3</td>\n",
       "      <td>2014.0</td>\n",
       "      <td>538000.0</td>\n",
       "      <td>https://gratka.pl/nieruchomosci/mieszkanie-kra...</td>\n",
       "      <td>6869.254341</td>\n",
       "      <td>394</td>\n",
       "    </tr>\n",
       "    <tr>\n",
       "      <th>2</th>\n",
       "      <td>Łódź</td>\n",
       "      <td>Śródmieście</td>\n",
       "      <td>łódzkie</td>\n",
       "      <td>51.772914</td>\n",
       "      <td>19.458331</td>\n",
       "      <td>wtorny</td>\n",
       "      <td>60.27</td>\n",
       "      <td>2</td>\n",
       "      <td>2</td>\n",
       "      <td>3</td>\n",
       "      <td>1910.0</td>\n",
       "      <td>270000.0</td>\n",
       "      <td>https://gratka.pl/nieruchomosci/mieszkanie-lod...</td>\n",
       "      <td>4479.840717</td>\n",
       "      <td>152</td>\n",
       "    </tr>\n",
       "    <tr>\n",
       "      <th>3</th>\n",
       "      <td>Warszawa</td>\n",
       "      <td>Stara Ochota</td>\n",
       "      <td>mazowieckie</td>\n",
       "      <td>52.218900</td>\n",
       "      <td>20.978800</td>\n",
       "      <td>wtorny</td>\n",
       "      <td>122.00</td>\n",
       "      <td>4</td>\n",
       "      <td>6</td>\n",
       "      <td>7</td>\n",
       "      <td>2020.0</td>\n",
       "      <td>1955000.0</td>\n",
       "      <td>https://gratka.pl/nieruchomosci/mieszkanie-war...</td>\n",
       "      <td>16024.590164</td>\n",
       "      <td>215</td>\n",
       "    </tr>\n",
       "    <tr>\n",
       "      <th>4</th>\n",
       "      <td>Kraków</td>\n",
       "      <td>Mistrzejowice</td>\n",
       "      <td>małopolskie</td>\n",
       "      <td>50.096196</td>\n",
       "      <td>20.009887</td>\n",
       "      <td>wtorny</td>\n",
       "      <td>48.07</td>\n",
       "      <td>3</td>\n",
       "      <td>3</td>\n",
       "      <td>4</td>\n",
       "      <td>1978.0</td>\n",
       "      <td>384000.0</td>\n",
       "      <td>https://gratka.pl/nieruchomosci/mieszkanie-kra...</td>\n",
       "      <td>7988.350322</td>\n",
       "      <td>154</td>\n",
       "    </tr>\n",
       "    <tr>\n",
       "      <th>...</th>\n",
       "      <td>...</td>\n",
       "      <td>...</td>\n",
       "      <td>...</td>\n",
       "      <td>...</td>\n",
       "      <td>...</td>\n",
       "      <td>...</td>\n",
       "      <td>...</td>\n",
       "      <td>...</td>\n",
       "      <td>...</td>\n",
       "      <td>...</td>\n",
       "      <td>...</td>\n",
       "      <td>...</td>\n",
       "      <td>...</td>\n",
       "      <td>...</td>\n",
       "      <td>...</td>\n",
       "    </tr>\n",
       "    <tr>\n",
       "      <th>54462</th>\n",
       "      <td>Warszawa</td>\n",
       "      <td>Wola</td>\n",
       "      <td>mazowieckie</td>\n",
       "      <td>52.237222</td>\n",
       "      <td>20.960556</td>\n",
       "      <td>pierwotny</td>\n",
       "      <td>109.00</td>\n",
       "      <td>4</td>\n",
       "      <td>12</td>\n",
       "      <td>13</td>\n",
       "      <td>2020.0</td>\n",
       "      <td>1460000.0</td>\n",
       "      <td>https://gratka.pl/nieruchomosci/nowe-mieszkani...</td>\n",
       "      <td>13394.495413</td>\n",
       "      <td>159</td>\n",
       "    </tr>\n",
       "    <tr>\n",
       "      <th>54463</th>\n",
       "      <td>Warszawa</td>\n",
       "      <td>Wola</td>\n",
       "      <td>mazowieckie</td>\n",
       "      <td>52.237222</td>\n",
       "      <td>20.960556</td>\n",
       "      <td>wtorny</td>\n",
       "      <td>82.60</td>\n",
       "      <td>4</td>\n",
       "      <td>4</td>\n",
       "      <td>5</td>\n",
       "      <td>2020.0</td>\n",
       "      <td>885000.0</td>\n",
       "      <td>https://gratka.pl/nieruchomosci/4-pokojowe-got...</td>\n",
       "      <td>10714.285714</td>\n",
       "      <td>159</td>\n",
       "    </tr>\n",
       "    <tr>\n",
       "      <th>54464</th>\n",
       "      <td>Poznań</td>\n",
       "      <td>Grunwald</td>\n",
       "      <td>wielkopolskie</td>\n",
       "      <td>52.392626</td>\n",
       "      <td>16.846137</td>\n",
       "      <td>wtorny</td>\n",
       "      <td>68.25</td>\n",
       "      <td>3</td>\n",
       "      <td>parter</td>\n",
       "      <td>4</td>\n",
       "      <td>2009.0</td>\n",
       "      <td>540000.0</td>\n",
       "      <td>https://gratka.pl/nieruchomosci/mieszkanie-poz...</td>\n",
       "      <td>7912.087912</td>\n",
       "      <td>197</td>\n",
       "    </tr>\n",
       "    <tr>\n",
       "      <th>54465</th>\n",
       "      <td>Kraków</td>\n",
       "      <td>Os. Prądnik Czerwony</td>\n",
       "      <td>małopolskie</td>\n",
       "      <td>50.088513</td>\n",
       "      <td>19.958912</td>\n",
       "      <td>wtorny</td>\n",
       "      <td>45.00</td>\n",
       "      <td>2</td>\n",
       "      <td>2</td>\n",
       "      <td>10</td>\n",
       "      <td>2019.0</td>\n",
       "      <td>610000.0</td>\n",
       "      <td>https://gratka.pl/nieruchomosci/mieszkanie-kra...</td>\n",
       "      <td>13555.555556</td>\n",
       "      <td>468</td>\n",
       "    </tr>\n",
       "    <tr>\n",
       "      <th>54466</th>\n",
       "      <td>Suszec</td>\n",
       "      <td>pszczyński</td>\n",
       "      <td>śląskie</td>\n",
       "      <td>50.029463</td>\n",
       "      <td>18.791269</td>\n",
       "      <td>wtorny</td>\n",
       "      <td>34.05</td>\n",
       "      <td>1</td>\n",
       "      <td>3</td>\n",
       "      <td>4</td>\n",
       "      <td>1990.0</td>\n",
       "      <td>119900.0</td>\n",
       "      <td>https://gratka.pl/nieruchomosci/mieszkanie-sus...</td>\n",
       "      <td>3521.292217</td>\n",
       "      <td>91</td>\n",
       "    </tr>\n",
       "  </tbody>\n",
       "</table>\n",
       "<p>54467 rows × 15 columns</p>\n",
       "</div>"
      ],
      "text/plain": [
       "           city              district    voivodeship  localization_y  \\\n",
       "0      Warszawa                  Wola    mazowieckie       52.245982   \n",
       "1        Kraków            Swoszowice    małopolskie       49.991389   \n",
       "2          Łódź           Śródmieście        łódzkie       51.772914   \n",
       "3      Warszawa          Stara Ochota    mazowieckie       52.218900   \n",
       "4        Kraków         Mistrzejowice    małopolskie       50.096196   \n",
       "...         ...                   ...            ...             ...   \n",
       "54462  Warszawa                  Wola    mazowieckie       52.237222   \n",
       "54463  Warszawa                  Wola    mazowieckie       52.237222   \n",
       "54464    Poznań              Grunwald  wielkopolskie       52.392626   \n",
       "54465    Kraków  Os. Prądnik Czerwony    małopolskie       50.088513   \n",
       "54466    Suszec            pszczyński        śląskie       50.029463   \n",
       "\n",
       "       localization_x     market    area rooms   floor floors  build_yr  \\\n",
       "0           20.985385     wtorny   36.00     2  parter      3    1956.0   \n",
       "1           19.946389     wtorny   78.32     3       3      3    2014.0   \n",
       "2           19.458331     wtorny   60.27     2       2      3    1910.0   \n",
       "3           20.978800     wtorny  122.00     4       6      7    2020.0   \n",
       "4           20.009887     wtorny   48.07     3       3      4    1978.0   \n",
       "...               ...        ...     ...   ...     ...    ...       ...   \n",
       "54462       20.960556  pierwotny  109.00     4      12     13    2020.0   \n",
       "54463       20.960556     wtorny   82.60     4       4      5    2020.0   \n",
       "54464       16.846137     wtorny   68.25     3  parter      4    2009.0   \n",
       "54465       19.958912     wtorny   45.00     2       2     10    2019.0   \n",
       "54466       18.791269     wtorny   34.05     1       3      4    1990.0   \n",
       "\n",
       "           price                                                url  \\\n",
       "0       496000.0  https://gratka.pl/nieruchomosci/mieszkanie-war...   \n",
       "1       538000.0  https://gratka.pl/nieruchomosci/mieszkanie-kra...   \n",
       "2       270000.0  https://gratka.pl/nieruchomosci/mieszkanie-lod...   \n",
       "3      1955000.0  https://gratka.pl/nieruchomosci/mieszkanie-war...   \n",
       "4       384000.0  https://gratka.pl/nieruchomosci/mieszkanie-kra...   \n",
       "...          ...                                                ...   \n",
       "54462  1460000.0  https://gratka.pl/nieruchomosci/nowe-mieszkani...   \n",
       "54463   885000.0  https://gratka.pl/nieruchomosci/4-pokojowe-got...   \n",
       "54464   540000.0  https://gratka.pl/nieruchomosci/mieszkanie-poz...   \n",
       "54465   610000.0  https://gratka.pl/nieruchomosci/mieszkanie-kra...   \n",
       "54466   119900.0  https://gratka.pl/nieruchomosci/mieszkanie-sus...   \n",
       "\n",
       "       price_of_sqm  cluster  \n",
       "0      13777.777778      490  \n",
       "1       6869.254341      394  \n",
       "2       4479.840717      152  \n",
       "3      16024.590164      215  \n",
       "4       7988.350322      154  \n",
       "...             ...      ...  \n",
       "54462  13394.495413      159  \n",
       "54463  10714.285714      159  \n",
       "54464   7912.087912      197  \n",
       "54465  13555.555556      468  \n",
       "54466   3521.292217       91  \n",
       "\n",
       "[54467 rows x 15 columns]"
      ]
     },
     "execution_count": 3,
     "metadata": {},
     "output_type": "execute_result"
    }
   ],
   "source": [
    "frame"
   ]
  },
  {
   "cell_type": "markdown",
   "metadata": {},
   "source": [
    "## data preparation for ann"
   ]
  },
  {
   "cell_type": "code",
   "execution_count": 4,
   "metadata": {},
   "outputs": [
    {
     "name": "stdout",
     "output_type": "stream",
     "text": [
      "<class 'pandas.core.frame.DataFrame'>\n",
      "RangeIndex: 54467 entries, 0 to 54466\n",
      "Data columns (total 15 columns):\n",
      " #   Column          Non-Null Count  Dtype  \n",
      "---  ------          --------------  -----  \n",
      " 0   city            54467 non-null  object \n",
      " 1   district        54467 non-null  object \n",
      " 2   voivodeship     46557 non-null  object \n",
      " 3   localization_y  54467 non-null  float64\n",
      " 4   localization_x  54467 non-null  float64\n",
      " 5   market          54467 non-null  object \n",
      " 6   area            54467 non-null  float64\n",
      " 7   rooms           54467 non-null  object \n",
      " 8   floor           54467 non-null  object \n",
      " 9   floors          54467 non-null  object \n",
      " 10  build_yr        54467 non-null  float64\n",
      " 11  price           54467 non-null  float64\n",
      " 12  url             54467 non-null  object \n",
      " 13  price_of_sqm    54467 non-null  float64\n",
      " 14  cluster         54467 non-null  int32  \n",
      "dtypes: float64(6), int32(1), object(8)\n",
      "memory usage: 6.0+ MB\n"
     ]
    }
   ],
   "source": [
    "frame.info()"
   ]
  },
  {
   "cell_type": "code",
   "execution_count": 5,
   "metadata": {},
   "outputs": [],
   "source": [
    "frame = frame.drop(['city','district','voivodeship','localization_y','localization_x','price_of_sqm','url'],axis=1)"
   ]
  },
  {
   "cell_type": "code",
   "execution_count": 6,
   "metadata": {},
   "outputs": [],
   "source": [
    "frame.cluster = frame.cluster.apply(str)"
   ]
  },
  {
   "cell_type": "code",
   "execution_count": 7,
   "metadata": {},
   "outputs": [
    {
     "name": "stdout",
     "output_type": "stream",
     "text": [
      "<class 'pandas.core.frame.DataFrame'>\n",
      "RangeIndex: 54467 entries, 0 to 54466\n",
      "Data columns (total 8 columns):\n",
      " #   Column    Non-Null Count  Dtype  \n",
      "---  ------    --------------  -----  \n",
      " 0   market    54467 non-null  object \n",
      " 1   area      54467 non-null  float64\n",
      " 2   rooms     54467 non-null  object \n",
      " 3   floor     54467 non-null  object \n",
      " 4   floors    54467 non-null  object \n",
      " 5   build_yr  54467 non-null  float64\n",
      " 6   price     54467 non-null  float64\n",
      " 7   cluster   54467 non-null  object \n",
      "dtypes: float64(3), object(5)\n",
      "memory usage: 3.3+ MB\n"
     ]
    }
   ],
   "source": [
    "frame.info()"
   ]
  },
  {
   "cell_type": "markdown",
   "metadata": {},
   "source": [
    "## creating dummy variables"
   ]
  },
  {
   "cell_type": "code",
   "execution_count": 8,
   "metadata": {},
   "outputs": [],
   "source": [
    "dummies = pd.get_dummies(frame[['market','rooms','floor','floors','cluster']],drop_first=True)\n",
    "frame = frame.drop(['market','rooms','floor','floors','cluster'],axis=1)\n",
    "frame = pd.concat([frame,dummies],axis=1)"
   ]
  },
  {
   "cell_type": "code",
   "execution_count": 9,
   "metadata": {},
   "outputs": [
    {
     "data": {
      "text/html": [
       "<div>\n",
       "<style scoped>\n",
       "    .dataframe tbody tr th:only-of-type {\n",
       "        vertical-align: middle;\n",
       "    }\n",
       "\n",
       "    .dataframe tbody tr th {\n",
       "        vertical-align: top;\n",
       "    }\n",
       "\n",
       "    .dataframe thead th {\n",
       "        text-align: right;\n",
       "    }\n",
       "</style>\n",
       "<table border=\"1\" class=\"dataframe\">\n",
       "  <thead>\n",
       "    <tr style=\"text-align: right;\">\n",
       "      <th></th>\n",
       "      <th>area</th>\n",
       "      <th>build_yr</th>\n",
       "      <th>price</th>\n",
       "      <th>market_wtorny</th>\n",
       "      <th>rooms_2</th>\n",
       "      <th>rooms_3</th>\n",
       "      <th>rooms_4</th>\n",
       "      <th>rooms_5</th>\n",
       "      <th>rooms_6</th>\n",
       "      <th>rooms_7</th>\n",
       "      <th>...</th>\n",
       "      <th>cluster_90</th>\n",
       "      <th>cluster_91</th>\n",
       "      <th>cluster_92</th>\n",
       "      <th>cluster_93</th>\n",
       "      <th>cluster_94</th>\n",
       "      <th>cluster_95</th>\n",
       "      <th>cluster_96</th>\n",
       "      <th>cluster_97</th>\n",
       "      <th>cluster_98</th>\n",
       "      <th>cluster_99</th>\n",
       "    </tr>\n",
       "  </thead>\n",
       "  <tbody>\n",
       "    <tr>\n",
       "      <th>0</th>\n",
       "      <td>36.00</td>\n",
       "      <td>1956.0</td>\n",
       "      <td>496000.0</td>\n",
       "      <td>1</td>\n",
       "      <td>1</td>\n",
       "      <td>0</td>\n",
       "      <td>0</td>\n",
       "      <td>0</td>\n",
       "      <td>0</td>\n",
       "      <td>0</td>\n",
       "      <td>...</td>\n",
       "      <td>0</td>\n",
       "      <td>0</td>\n",
       "      <td>0</td>\n",
       "      <td>0</td>\n",
       "      <td>0</td>\n",
       "      <td>0</td>\n",
       "      <td>0</td>\n",
       "      <td>0</td>\n",
       "      <td>0</td>\n",
       "      <td>0</td>\n",
       "    </tr>\n",
       "    <tr>\n",
       "      <th>1</th>\n",
       "      <td>78.32</td>\n",
       "      <td>2014.0</td>\n",
       "      <td>538000.0</td>\n",
       "      <td>1</td>\n",
       "      <td>0</td>\n",
       "      <td>1</td>\n",
       "      <td>0</td>\n",
       "      <td>0</td>\n",
       "      <td>0</td>\n",
       "      <td>0</td>\n",
       "      <td>...</td>\n",
       "      <td>0</td>\n",
       "      <td>0</td>\n",
       "      <td>0</td>\n",
       "      <td>0</td>\n",
       "      <td>0</td>\n",
       "      <td>0</td>\n",
       "      <td>0</td>\n",
       "      <td>0</td>\n",
       "      <td>0</td>\n",
       "      <td>0</td>\n",
       "    </tr>\n",
       "    <tr>\n",
       "      <th>2</th>\n",
       "      <td>60.27</td>\n",
       "      <td>1910.0</td>\n",
       "      <td>270000.0</td>\n",
       "      <td>1</td>\n",
       "      <td>1</td>\n",
       "      <td>0</td>\n",
       "      <td>0</td>\n",
       "      <td>0</td>\n",
       "      <td>0</td>\n",
       "      <td>0</td>\n",
       "      <td>...</td>\n",
       "      <td>0</td>\n",
       "      <td>0</td>\n",
       "      <td>0</td>\n",
       "      <td>0</td>\n",
       "      <td>0</td>\n",
       "      <td>0</td>\n",
       "      <td>0</td>\n",
       "      <td>0</td>\n",
       "      <td>0</td>\n",
       "      <td>0</td>\n",
       "    </tr>\n",
       "    <tr>\n",
       "      <th>3</th>\n",
       "      <td>122.00</td>\n",
       "      <td>2020.0</td>\n",
       "      <td>1955000.0</td>\n",
       "      <td>1</td>\n",
       "      <td>0</td>\n",
       "      <td>0</td>\n",
       "      <td>1</td>\n",
       "      <td>0</td>\n",
       "      <td>0</td>\n",
       "      <td>0</td>\n",
       "      <td>...</td>\n",
       "      <td>0</td>\n",
       "      <td>0</td>\n",
       "      <td>0</td>\n",
       "      <td>0</td>\n",
       "      <td>0</td>\n",
       "      <td>0</td>\n",
       "      <td>0</td>\n",
       "      <td>0</td>\n",
       "      <td>0</td>\n",
       "      <td>0</td>\n",
       "    </tr>\n",
       "    <tr>\n",
       "      <th>4</th>\n",
       "      <td>48.07</td>\n",
       "      <td>1978.0</td>\n",
       "      <td>384000.0</td>\n",
       "      <td>1</td>\n",
       "      <td>0</td>\n",
       "      <td>1</td>\n",
       "      <td>0</td>\n",
       "      <td>0</td>\n",
       "      <td>0</td>\n",
       "      <td>0</td>\n",
       "      <td>...</td>\n",
       "      <td>0</td>\n",
       "      <td>0</td>\n",
       "      <td>0</td>\n",
       "      <td>0</td>\n",
       "      <td>0</td>\n",
       "      <td>0</td>\n",
       "      <td>0</td>\n",
       "      <td>0</td>\n",
       "      <td>0</td>\n",
       "      <td>0</td>\n",
       "    </tr>\n",
       "    <tr>\n",
       "      <th>...</th>\n",
       "      <td>...</td>\n",
       "      <td>...</td>\n",
       "      <td>...</td>\n",
       "      <td>...</td>\n",
       "      <td>...</td>\n",
       "      <td>...</td>\n",
       "      <td>...</td>\n",
       "      <td>...</td>\n",
       "      <td>...</td>\n",
       "      <td>...</td>\n",
       "      <td>...</td>\n",
       "      <td>...</td>\n",
       "      <td>...</td>\n",
       "      <td>...</td>\n",
       "      <td>...</td>\n",
       "      <td>...</td>\n",
       "      <td>...</td>\n",
       "      <td>...</td>\n",
       "      <td>...</td>\n",
       "      <td>...</td>\n",
       "      <td>...</td>\n",
       "    </tr>\n",
       "    <tr>\n",
       "      <th>54462</th>\n",
       "      <td>109.00</td>\n",
       "      <td>2020.0</td>\n",
       "      <td>1460000.0</td>\n",
       "      <td>0</td>\n",
       "      <td>0</td>\n",
       "      <td>0</td>\n",
       "      <td>1</td>\n",
       "      <td>0</td>\n",
       "      <td>0</td>\n",
       "      <td>0</td>\n",
       "      <td>...</td>\n",
       "      <td>0</td>\n",
       "      <td>0</td>\n",
       "      <td>0</td>\n",
       "      <td>0</td>\n",
       "      <td>0</td>\n",
       "      <td>0</td>\n",
       "      <td>0</td>\n",
       "      <td>0</td>\n",
       "      <td>0</td>\n",
       "      <td>0</td>\n",
       "    </tr>\n",
       "    <tr>\n",
       "      <th>54463</th>\n",
       "      <td>82.60</td>\n",
       "      <td>2020.0</td>\n",
       "      <td>885000.0</td>\n",
       "      <td>1</td>\n",
       "      <td>0</td>\n",
       "      <td>0</td>\n",
       "      <td>1</td>\n",
       "      <td>0</td>\n",
       "      <td>0</td>\n",
       "      <td>0</td>\n",
       "      <td>...</td>\n",
       "      <td>0</td>\n",
       "      <td>0</td>\n",
       "      <td>0</td>\n",
       "      <td>0</td>\n",
       "      <td>0</td>\n",
       "      <td>0</td>\n",
       "      <td>0</td>\n",
       "      <td>0</td>\n",
       "      <td>0</td>\n",
       "      <td>0</td>\n",
       "    </tr>\n",
       "    <tr>\n",
       "      <th>54464</th>\n",
       "      <td>68.25</td>\n",
       "      <td>2009.0</td>\n",
       "      <td>540000.0</td>\n",
       "      <td>1</td>\n",
       "      <td>0</td>\n",
       "      <td>1</td>\n",
       "      <td>0</td>\n",
       "      <td>0</td>\n",
       "      <td>0</td>\n",
       "      <td>0</td>\n",
       "      <td>...</td>\n",
       "      <td>0</td>\n",
       "      <td>0</td>\n",
       "      <td>0</td>\n",
       "      <td>0</td>\n",
       "      <td>0</td>\n",
       "      <td>0</td>\n",
       "      <td>0</td>\n",
       "      <td>0</td>\n",
       "      <td>0</td>\n",
       "      <td>0</td>\n",
       "    </tr>\n",
       "    <tr>\n",
       "      <th>54465</th>\n",
       "      <td>45.00</td>\n",
       "      <td>2019.0</td>\n",
       "      <td>610000.0</td>\n",
       "      <td>1</td>\n",
       "      <td>1</td>\n",
       "      <td>0</td>\n",
       "      <td>0</td>\n",
       "      <td>0</td>\n",
       "      <td>0</td>\n",
       "      <td>0</td>\n",
       "      <td>...</td>\n",
       "      <td>0</td>\n",
       "      <td>0</td>\n",
       "      <td>0</td>\n",
       "      <td>0</td>\n",
       "      <td>0</td>\n",
       "      <td>0</td>\n",
       "      <td>0</td>\n",
       "      <td>0</td>\n",
       "      <td>0</td>\n",
       "      <td>0</td>\n",
       "    </tr>\n",
       "    <tr>\n",
       "      <th>54466</th>\n",
       "      <td>34.05</td>\n",
       "      <td>1990.0</td>\n",
       "      <td>119900.0</td>\n",
       "      <td>1</td>\n",
       "      <td>0</td>\n",
       "      <td>0</td>\n",
       "      <td>0</td>\n",
       "      <td>0</td>\n",
       "      <td>0</td>\n",
       "      <td>0</td>\n",
       "      <td>...</td>\n",
       "      <td>0</td>\n",
       "      <td>1</td>\n",
       "      <td>0</td>\n",
       "      <td>0</td>\n",
       "      <td>0</td>\n",
       "      <td>0</td>\n",
       "      <td>0</td>\n",
       "      <td>0</td>\n",
       "      <td>0</td>\n",
       "      <td>0</td>\n",
       "    </tr>\n",
       "  </tbody>\n",
       "</table>\n",
       "<p>54467 rows × 575 columns</p>\n",
       "</div>"
      ],
      "text/plain": [
       "         area  build_yr      price  market_wtorny  rooms_2  rooms_3  rooms_4  \\\n",
       "0       36.00    1956.0   496000.0              1        1        0        0   \n",
       "1       78.32    2014.0   538000.0              1        0        1        0   \n",
       "2       60.27    1910.0   270000.0              1        1        0        0   \n",
       "3      122.00    2020.0  1955000.0              1        0        0        1   \n",
       "4       48.07    1978.0   384000.0              1        0        1        0   \n",
       "...       ...       ...        ...            ...      ...      ...      ...   \n",
       "54462  109.00    2020.0  1460000.0              0        0        0        1   \n",
       "54463   82.60    2020.0   885000.0              1        0        0        1   \n",
       "54464   68.25    2009.0   540000.0              1        0        1        0   \n",
       "54465   45.00    2019.0   610000.0              1        1        0        0   \n",
       "54466   34.05    1990.0   119900.0              1        0        0        0   \n",
       "\n",
       "       rooms_5  rooms_6  rooms_7  ...  cluster_90  cluster_91  cluster_92  \\\n",
       "0            0        0        0  ...           0           0           0   \n",
       "1            0        0        0  ...           0           0           0   \n",
       "2            0        0        0  ...           0           0           0   \n",
       "3            0        0        0  ...           0           0           0   \n",
       "4            0        0        0  ...           0           0           0   \n",
       "...        ...      ...      ...  ...         ...         ...         ...   \n",
       "54462        0        0        0  ...           0           0           0   \n",
       "54463        0        0        0  ...           0           0           0   \n",
       "54464        0        0        0  ...           0           0           0   \n",
       "54465        0        0        0  ...           0           0           0   \n",
       "54466        0        0        0  ...           0           1           0   \n",
       "\n",
       "       cluster_93  cluster_94  cluster_95  cluster_96  cluster_97  cluster_98  \\\n",
       "0               0           0           0           0           0           0   \n",
       "1               0           0           0           0           0           0   \n",
       "2               0           0           0           0           0           0   \n",
       "3               0           0           0           0           0           0   \n",
       "4               0           0           0           0           0           0   \n",
       "...           ...         ...         ...         ...         ...         ...   \n",
       "54462           0           0           0           0           0           0   \n",
       "54463           0           0           0           0           0           0   \n",
       "54464           0           0           0           0           0           0   \n",
       "54465           0           0           0           0           0           0   \n",
       "54466           0           0           0           0           0           0   \n",
       "\n",
       "       cluster_99  \n",
       "0               0  \n",
       "1               0  \n",
       "2               0  \n",
       "3               0  \n",
       "4               0  \n",
       "...           ...  \n",
       "54462           0  \n",
       "54463           0  \n",
       "54464           0  \n",
       "54465           0  \n",
       "54466           0  \n",
       "\n",
       "[54467 rows x 575 columns]"
      ]
     },
     "execution_count": 9,
     "metadata": {},
     "output_type": "execute_result"
    }
   ],
   "source": [
    "frame"
   ]
  },
  {
   "cell_type": "markdown",
   "metadata": {},
   "source": [
    "## train test split"
   ]
  },
  {
   "cell_type": "code",
   "execution_count": 10,
   "metadata": {},
   "outputs": [],
   "source": [
    "X = frame.drop('price',axis=1).values\n",
    "y = frame.price.values"
   ]
  },
  {
   "cell_type": "code",
   "execution_count": 11,
   "metadata": {},
   "outputs": [],
   "source": [
    "from sklearn.model_selection import train_test_split"
   ]
  },
  {
   "cell_type": "code",
   "execution_count": 12,
   "metadata": {},
   "outputs": [],
   "source": [
    "X_train, X_test, y_train, y_test = train_test_split(X, y, test_size=0.25)"
   ]
  },
  {
   "cell_type": "code",
   "execution_count": 13,
   "metadata": {},
   "outputs": [],
   "source": [
    "outfile = open('X_test','wb')\n",
    "pkl.dump(X_test,outfile)\n",
    "outfile.close()\n",
    "outfile = open('y_test','wb')\n",
    "pkl.dump(y_test,outfile)\n",
    "outfile.close()"
   ]
  },
  {
   "cell_type": "markdown",
   "metadata": {},
   "source": [
    "## scaling"
   ]
  },
  {
   "cell_type": "code",
   "execution_count": 14,
   "metadata": {},
   "outputs": [],
   "source": [
    "from sklearn.preprocessing import MinMaxScaler"
   ]
  },
  {
   "cell_type": "code",
   "execution_count": 15,
   "metadata": {},
   "outputs": [],
   "source": [
    "scaler = MinMaxScaler()"
   ]
  },
  {
   "cell_type": "code",
   "execution_count": 16,
   "metadata": {},
   "outputs": [],
   "source": [
    "X_train= scaler.fit_transform(X_train)"
   ]
  },
  {
   "cell_type": "code",
   "execution_count": 17,
   "metadata": {},
   "outputs": [],
   "source": [
    "X_test = scaler.transform(X_test)"
   ]
  },
  {
   "cell_type": "code",
   "execution_count": 18,
   "metadata": {},
   "outputs": [
    {
     "data": {
      "text/plain": [
       "(40850, 574)"
      ]
     },
     "execution_count": 18,
     "metadata": {},
     "output_type": "execute_result"
    }
   ],
   "source": [
    "X_train.shape"
   ]
  },
  {
   "cell_type": "code",
   "execution_count": 19,
   "metadata": {},
   "outputs": [
    {
     "data": {
      "text/plain": [
       "(13617, 574)"
      ]
     },
     "execution_count": 19,
     "metadata": {},
     "output_type": "execute_result"
    }
   ],
   "source": [
    "X_test.shape"
   ]
  },
  {
   "cell_type": "code",
   "execution_count": 20,
   "metadata": {},
   "outputs": [
    {
     "data": {
      "text/plain": [
       "array([[0.08467532, 0.79545455, 1.        , ..., 0.        , 0.        ,\n",
       "        0.        ],\n",
       "       [0.14579221, 0.98863636, 0.        , ..., 0.        , 0.        ,\n",
       "        0.        ],\n",
       "       [0.12366234, 0.98863636, 0.        , ..., 0.        , 0.        ,\n",
       "        0.        ],\n",
       "       ...,\n",
       "       [0.10909091, 0.81060606, 1.        , ..., 0.        , 0.        ,\n",
       "        0.        ],\n",
       "       [0.06353247, 0.97348485, 0.        , ..., 0.        , 0.        ,\n",
       "        0.        ],\n",
       "       [0.12987013, 0.75757576, 1.        , ..., 0.        , 0.        ,\n",
       "        0.        ]])"
      ]
     },
     "execution_count": 20,
     "metadata": {},
     "output_type": "execute_result"
    }
   ],
   "source": [
    "X_train"
   ]
  },
  {
   "cell_type": "markdown",
   "metadata": {},
   "source": [
    "## creating model"
   ]
  },
  {
   "cell_type": "code",
   "execution_count": 21,
   "metadata": {},
   "outputs": [],
   "source": [
    "from tensorflow.keras.models import Sequential\n",
    "from tensorflow.keras.layers import Dense, Activation ,Dropout\n",
    "from tensorflow.keras.optimizers import Adam"
   ]
  },
  {
   "cell_type": "code",
   "execution_count": 22,
   "metadata": {},
   "outputs": [],
   "source": [
    "model = Sequential()\n",
    "\n",
    "model.add(Dense(16,activation='relu',input_dim=X_test.shape[1]))\n",
    "model.add(Dense(16,activation='relu'))\n",
    "model.add(Dense(8,activation='relu'))\n",
    "model.add(Dense(8,activation='relu'))\n",
    "\n",
    "model.add(Dense(1))\n",
    "\n",
    "model.compile(optimizer='adam',loss='mean_squared_error')"
   ]
  },
  {
   "cell_type": "code",
   "execution_count": 23,
   "metadata": {},
   "outputs": [
    {
     "name": "stdout",
     "output_type": "stream",
     "text": [
      "Model: \"sequential\"\n",
      "_________________________________________________________________\n",
      "Layer (type)                 Output Shape              Param #   \n",
      "=================================================================\n",
      "dense (Dense)                (None, 16)                9200      \n",
      "_________________________________________________________________\n",
      "dense_1 (Dense)              (None, 16)                272       \n",
      "_________________________________________________________________\n",
      "dense_2 (Dense)              (None, 8)                 136       \n",
      "_________________________________________________________________\n",
      "dense_3 (Dense)              (None, 8)                 72        \n",
      "_________________________________________________________________\n",
      "dense_4 (Dense)              (None, 1)                 9         \n",
      "=================================================================\n",
      "Total params: 9,689\n",
      "Trainable params: 9,689\n",
      "Non-trainable params: 0\n",
      "_________________________________________________________________\n"
     ]
    }
   ],
   "source": [
    "model.summary()"
   ]
  },
  {
   "cell_type": "code",
   "execution_count": 24,
   "metadata": {},
   "outputs": [],
   "source": [
    "from tensorflow.keras.callbacks import EarlyStopping"
   ]
  },
  {
   "cell_type": "code",
   "execution_count": 25,
   "metadata": {},
   "outputs": [],
   "source": [
    "early_stop = EarlyStopping(monitor='val_loss',patience=2)"
   ]
  },
  {
   "cell_type": "code",
   "execution_count": 26,
   "metadata": {
    "scrolled": true
   },
   "outputs": [
    {
     "name": "stdout",
     "output_type": "stream",
     "text": [
      "Train on 40850 samples, validate on 13617 samples\n",
      "Epoch 1/1500\n",
      "40850/40850 [==============================] - 1s 22us/sample - loss: 608979023521.5588 - val_loss: 604811984239.0518\n",
      "Epoch 2/1500\n",
      "40850/40850 [==============================] - 0s 9us/sample - loss: 608131326389.5751 - val_loss: 602082592692.0479\n",
      "Epoch 3/1500\n",
      "40850/40850 [==============================] - 0s 9us/sample - loss: 598543465859.0896 - val_loss: 581177982556.0825\n",
      "Epoch 4/1500\n",
      "40850/40850 [==============================] - 0s 9us/sample - loss: 555076812804.8130 - val_loss: 509070133610.0134\n",
      "Epoch 5/1500\n",
      "40850/40850 [==============================] - 0s 9us/sample - loss: 451017122974.7764 - val_loss: 378510458061.8227\n",
      "Epoch 6/1500\n",
      "40850/40850 [==============================] - 0s 9us/sample - loss: 323766548389.4568 - val_loss: 275733645260.1119\n",
      "Epoch 7/1500\n",
      "40850/40850 [==============================] - 0s 9us/sample - loss: 261928984127.9969 - val_loss: 249865765042.0739\n",
      "Epoch 8/1500\n",
      "40850/40850 [==============================] - 0s 9us/sample - loss: 248367115027.2141 - val_loss: 242205963468.7699\n",
      "Epoch 9/1500\n",
      "40850/40850 [==============================] - 0s 9us/sample - loss: 241458968823.1638 - val_loss: 235874450841.7654\n",
      "Epoch 10/1500\n",
      "40850/40850 [==============================] - 0s 9us/sample - loss: 235242140949.2947 - val_loss: 229923748379.1848\n",
      "Epoch 11/1500\n",
      "40850/40850 [==============================] - 0s 8us/sample - loss: 229248317675.1315 - val_loss: 224179998212.2488\n",
      "Epoch 12/1500\n",
      "40850/40850 [==============================] - 0s 8us/sample - loss: 223327558221.8842 - val_loss: 218387188537.8477\n",
      "Epoch 13/1500\n",
      "40850/40850 [==============================] - 0s 9us/sample - loss: 217385001085.7377 - val_loss: 212475799423.4078\n",
      "Epoch 14/1500\n",
      "40850/40850 [==============================] - 0s 9us/sample - loss: 211325879736.7336 - val_loss: 206542894162.0433\n",
      "Epoch 15/1500\n",
      "40850/40850 [==============================] - 0s 10us/sample - loss: 205154625800.6106 - val_loss: 200366210370.5333\n",
      "Epoch 16/1500\n",
      "40850/40850 [==============================] - 0s 11us/sample - loss: 198858600162.2326 - val_loss: 194153561149.7393\n",
      "Epoch 17/1500\n",
      "40850/40850 [==============================] - 0s 12us/sample - loss: 192450939870.5602 - val_loss: 187878830891.8605\n",
      "Epoch 18/1500\n",
      "40850/40850 [==============================] - 0s 11us/sample - loss: 186010324505.6940 - val_loss: 181578066621.9179\n",
      "Epoch 19/1500\n",
      "40850/40850 [==============================] - 0s 12us/sample - loss: 179700693768.5855 - val_loss: 175498506966.1323\n",
      "Epoch 20/1500\n",
      "40850/40850 [==============================] - 1s 13us/sample - loss: 173678250110.6401 - val_loss: 169805270805.0748\n",
      "Epoch 21/1500\n",
      "40850/40850 [==============================] - 0s 11us/sample - loss: 168134673700.5356 - val_loss: 164491203156.1865\n",
      "Epoch 22/1500\n",
      "40850/40850 [==============================] - 0s 10us/sample - loss: 163091594085.2344 - val_loss: 159863567373.4608\n",
      "Epoch 23/1500\n",
      "40850/40850 [==============================] - 0s 12us/sample - loss: 158614813272.9138 - val_loss: 155572925575.8866\n",
      "Epoch 24/1500\n",
      "40850/40850 [==============================] - 0s 11us/sample - loss: 154604194134.2191 - val_loss: 151739570353.6227\n",
      "Epoch 25/1500\n",
      "40850/40850 [==============================] - 0s 11us/sample - loss: 150972573270.7580 - val_loss: 148252795086.6499\n",
      "Epoch 26/1500\n",
      "40850/40850 [==============================] - 0s 12us/sample - loss: 147684831584.3463 - val_loss: 145055062812.6700\n",
      "Epoch 27/1500\n",
      "40850/40850 [==============================] - 0s 11us/sample - loss: 144723792012.3770 - val_loss: 142132948234.5844\n",
      "Epoch 28/1500\n",
      "40850/40850 [==============================] - 0s 12us/sample - loss: 142019560518.9405 - val_loss: 139435727655.7997\n",
      "Epoch 29/1500\n",
      "40850/40850 [==============================] - 0s 12us/sample - loss: 139518296918.2943 - val_loss: 136908033523.7048\n",
      "Epoch 30/1500\n",
      "40850/40850 [==============================] - 0s 10us/sample - loss: 137181769679.6702 - val_loss: 134455883989.1171\n",
      "Epoch 31/1500\n",
      "40850/40850 [==============================] - 0s 10us/sample - loss: 134889265647.6310 - val_loss: 132067874544.8284\n",
      "Epoch 32/1500\n",
      "40850/40850 [==============================] - 0s 12us/sample - loss: 132618878380.6010 - val_loss: 129750880646.7398\n",
      "Epoch 33/1500\n",
      "40850/40850 [==============================] - 0s 11us/sample - loss: 130416709220.2943 - val_loss: 127454674577.0234\n",
      "Epoch 34/1500\n",
      "40850/40850 [==============================] - 0s 10us/sample - loss: 128281450248.6357 - val_loss: 125339039698.7295\n",
      "Epoch 35/1500\n",
      "40850/40850 [==============================] - 0s 11us/sample - loss: 126348955650.2059 - val_loss: 123385030125.8392\n",
      "Epoch 36/1500\n",
      "40850/40850 [==============================] - 0s 11us/sample - loss: 124614563758.0800 - val_loss: 121636575238.7680\n",
      "Epoch 37/1500\n",
      "40850/40850 [==============================] - 0s 11us/sample - loss: 122988726986.6191 - val_loss: 119982915577.0816\n",
      "Epoch 38/1500\n",
      "40850/40850 [==============================] - 0s 12us/sample - loss: 121422554625.3286 - val_loss: 118392352614.8926\n",
      "Epoch 39/1500\n",
      "40850/40850 [==============================] - 0s 11us/sample - loss: 119904960109.7197 - val_loss: 116827365796.2183\n",
      "Epoch 40/1500\n",
      "40850/40850 [==============================] - 0s 11us/sample - loss: 118407605091.8306 - val_loss: 115222842759.4166\n",
      "Epoch 41/1500\n",
      "40850/40850 [==============================] - 0s 12us/sample - loss: 116748856529.8135 - val_loss: 113480033445.9667\n",
      "Epoch 42/1500\n",
      "40850/40850 [==============================] - 0s 11us/sample - loss: 115043639715.7272 - val_loss: 111724627683.8940\n",
      "Epoch 43/1500\n",
      "40850/40850 [==============================] - 0s 11us/sample - loss: 113348119950.9213 - val_loss: 109999016156.6371\n",
      "Epoch 44/1500\n",
      "40850/40850 [==============================] - 0s 12us/sample - loss: 111668588844.2062 - val_loss: 108389529521.0399\n",
      "Epoch 45/1500\n",
      "40850/40850 [==============================] - 0s 11us/sample - loss: 110131525738.6865 - val_loss: 106862295192.0546\n",
      "Epoch 46/1500\n",
      "40850/40850 [==============================] - 0s 10us/sample - loss: 108613170333.3726 - val_loss: 105460884034.1385\n",
      "Epoch 47/1500\n",
      "40850/40850 [==============================] - 0s 12us/sample - loss: 107239597185.0967 - val_loss: 104096637752.7949\n",
      "Epoch 48/1500\n",
      "40850/40850 [==============================] - 0s 11us/sample - loss: 105933775767.2687 - val_loss: 102750924038.3732\n",
      "Epoch 49/1500\n",
      "40850/40850 [==============================] - 0s 11us/sample - loss: 104535155002.8455 - val_loss: 101410235920.7320\n",
      "Epoch 50/1500\n",
      "40850/40850 [==============================] - 0s 12us/sample - loss: 103124806388.9328 - val_loss: 99947711428.2159\n",
      "Epoch 51/1500\n",
      "40850/40850 [==============================] - 0s 11us/sample - loss: 101612461022.3596 - val_loss: 98370243591.5952\n",
      "Epoch 52/1500\n",
      "40850/40850 [==============================] - 0s 11us/sample - loss: 99995857862.1948 - val_loss: 96703839652.8951\n",
      "Epoch 53/1500\n",
      "40850/40850 [==============================] - 0s 12us/sample - loss: 98307917539.9371 - val_loss: 95063083823.7709\n",
      "Epoch 54/1500\n",
      "40850/40850 [==============================] - 0s 11us/sample - loss: 96621860123.3109 - val_loss: 93359053354.0745\n",
      "Epoch 55/1500\n",
      "40850/40850 [==============================] - 0s 11us/sample - loss: 94940330086.3749 - val_loss: 91747817081.7114\n",
      "Epoch 56/1500\n",
      "40850/40850 [==============================] - 0s 12us/sample - loss: 93387006925.2136 - val_loss: 90188173756.8839\n",
      "Epoch 57/1500\n",
      "40850/40850 [==============================] - 0s 10us/sample - loss: 91819082351.2738 - val_loss: 88786638332.4280\n",
      "Epoch 58/1500\n",
      "40850/40850 [==============================] - 0s 11us/sample - loss: 90381629331.8094 - val_loss: 87336837935.1693\n",
      "Epoch 59/1500\n",
      "40850/40850 [==============================] - 0s 12us/sample - loss: 88968162424.7743 - val_loss: 86019098363.2060\n",
      "Epoch 60/1500\n",
      "40850/40850 [==============================] - 0s 11us/sample - loss: 87624924928.2131 - val_loss: 84828153592.7996\n",
      "Epoch 61/1500\n",
      "40850/40850 [==============================] - 0s 11us/sample - loss: 86390833036.0887 - val_loss: 83576231278.1494\n",
      "Epoch 62/1500\n",
      "40850/40850 [==============================] - 0s 12us/sample - loss: 85188541904.4974 - val_loss: 82493010766.9037\n",
      "Epoch 63/1500\n"
     ]
    },
    {
     "name": "stdout",
     "output_type": "stream",
     "text": [
      "40850/40850 [==============================] - 0s 11us/sample - loss: 84107796981.9480 - val_loss: 81452483668.9009\n",
      "Epoch 64/1500\n",
      "40850/40850 [==============================] - 0s 11us/sample - loss: 83098830576.9721 - val_loss: 80477784158.1505\n",
      "Epoch 65/1500\n",
      "40850/40850 [==============================] - 0s 12us/sample - loss: 82134765540.5262 - val_loss: 79597501298.9998\n",
      "Epoch 66/1500\n",
      "40850/40850 [==============================] - 0s 11us/sample - loss: 81203380657.5644 - val_loss: 78650972453.1301\n",
      "Epoch 67/1500\n",
      "40850/40850 [==============================] - 0s 10us/sample - loss: 80276606689.0293 - val_loss: 77828102305.0787\n",
      "Epoch 68/1500\n",
      "40850/40850 [==============================] - 0s 12us/sample - loss: 79418184733.7298 - val_loss: 77018205853.6570\n",
      "Epoch 69/1500\n",
      "40850/40850 [==============================] - 0s 11us/sample - loss: 78607137539.5721 - val_loss: 76231264184.7103\n",
      "Epoch 70/1500\n",
      "40850/40850 [==============================] - 0s 10us/sample - loss: 77811135314.4840 - val_loss: 75474574253.0543\n",
      "Epoch 71/1500\n",
      "40850/40850 [==============================] - 0s 12us/sample - loss: 77057113255.0988 - val_loss: 74736705101.3433\n",
      "Epoch 72/1500\n",
      "40850/40850 [==============================] - 0s 11us/sample - loss: 76333183530.6896 - val_loss: 74092862045.2105\n",
      "Epoch 73/1500\n",
      "40850/40850 [==============================] - 0s 10us/sample - loss: 75625898218.6301 - val_loss: 73401960870.3239\n",
      "Epoch 74/1500\n",
      "40850/40850 [==============================] - 0s 12us/sample - loss: 74936296367.7344 - val_loss: 72801058438.9466\n",
      "Epoch 75/1500\n",
      "40850/40850 [==============================] - 0s 10us/sample - loss: 74319758007.4677 - val_loss: 72176457082.7830\n",
      "Epoch 76/1500\n",
      "40850/40850 [==============================] - 0s 10us/sample - loss: 73681769203.4287 - val_loss: 71634581414.8127\n",
      "Epoch 77/1500\n",
      "40850/40850 [==============================] - 0s 12us/sample - loss: 73021060561.8009 - val_loss: 71152704105.5434\n",
      "Epoch 78/1500\n",
      "40850/40850 [==============================] - 0s 11us/sample - loss: 72537476096.8523 - val_loss: 70494000495.3526\n",
      "Epoch 79/1500\n",
      "40850/40850 [==============================] - 0s 11us/sample - loss: 71910300803.9042 - val_loss: 69984492300.1260\n",
      "Epoch 80/1500\n",
      "40850/40850 [==============================] - 0s 12us/sample - loss: 71363203324.8791 - val_loss: 69482518144.4794\n",
      "Epoch 81/1500\n",
      "40850/40850 [==============================] - 0s 11us/sample - loss: 70831328930.4613 - val_loss: 69006601002.3565\n",
      "Epoch 82/1500\n",
      "40850/40850 [==============================] - 0s 10us/sample - loss: 70299503793.1257 - val_loss: 68543008417.5675\n",
      "Epoch 83/1500\n",
      "40850/40850 [==============================] - 0s 11us/sample - loss: 69786868133.2312 - val_loss: 68034523857.6203\n",
      "Epoch 84/1500\n",
      "40850/40850 [==============================] - 0s 11us/sample - loss: 69256306315.3994 - val_loss: 67565222121.8724\n",
      "Epoch 85/1500\n",
      "40850/40850 [==============================] - 0s 10us/sample - loss: 68723672211.5462 - val_loss: 67090196716.4292\n",
      "Epoch 86/1500\n",
      "40850/40850 [==============================] - 0s 12us/sample - loss: 68239433147.6414 - val_loss: 66693218862.1353\n",
      "Epoch 87/1500\n",
      "40850/40850 [==============================] - 0s 11us/sample - loss: 67742164087.4708 - val_loss: 66232930555.4692\n",
      "Epoch 88/1500\n",
      "40850/40850 [==============================] - 0s 11us/sample - loss: 67249336183.0322 - val_loss: 65806714534.8315\n",
      "Epoch 89/1500\n",
      "40850/40850 [==============================] - 0s 11us/sample - loss: 66750994656.3024 - val_loss: 65424223121.0798\n",
      "Epoch 90/1500\n",
      "40850/40850 [==============================] - 0s 11us/sample - loss: 66322508228.7158 - val_loss: 64979939669.4837\n",
      "Epoch 91/1500\n",
      "40850/40850 [==============================] - 0s 10us/sample - loss: 65818230082.3156 - val_loss: 64601830315.6255\n",
      "Epoch 92/1500\n",
      "40850/40850 [==============================] - 0s 12us/sample - loss: 65336290983.8758 - val_loss: 64213915589.1183\n",
      "Epoch 93/1500\n",
      "40850/40850 [==============================] - 0s 11us/sample - loss: 64906171382.1235 - val_loss: 63829556750.0248\n",
      "Epoch 94/1500\n",
      "40850/40850 [==============================] - 0s 11us/sample - loss: 64467152806.3593 - val_loss: 63447487634.7906\n",
      "Epoch 95/1500\n",
      "40850/40850 [==============================] - 0s 12us/sample - loss: 64019508592.8907 - val_loss: 63106071267.3675\n",
      "Epoch 96/1500\n",
      "40850/40850 [==============================] - 0s 12us/sample - loss: 63618665224.7861 - val_loss: 62719397328.4359\n",
      "Epoch 97/1500\n",
      "40850/40850 [==============================] - 0s 12us/sample - loss: 63210618820.7409 - val_loss: 62328294484.1489\n",
      "Epoch 98/1500\n",
      "40850/40850 [==============================] - 0s 12us/sample - loss: 62767018679.2672 - val_loss: 62025844653.4303\n",
      "Epoch 99/1500\n",
      "40850/40850 [==============================] - 0s 11us/sample - loss: 62357148536.9874 - val_loss: 61622442522.5833\n",
      "Epoch 100/1500\n",
      "40850/40850 [==============================] - 0s 11us/sample - loss: 61956056866.4049 - val_loss: 61276153218.2278\n",
      "Epoch 101/1500\n",
      "40850/40850 [==============================] - 1s 13us/sample - loss: 61564713528.8276 - val_loss: 60924370934.8256\n",
      "Epoch 102/1500\n",
      "40850/40850 [==============================] - 0s 11us/sample - loss: 61137352058.9677 - val_loss: 60577328822.3979\n",
      "Epoch 103/1500\n",
      "40850/40850 [==============================] - 0s 11us/sample - loss: 60736036293.6683 - val_loss: 60235200470.5647\n",
      "Epoch 104/1500\n",
      "40850/40850 [==============================] - 1s 12us/sample - loss: 60389851457.2628 - val_loss: 59865857438.8038\n",
      "Epoch 105/1500\n",
      "40850/40850 [==============================] - 0s 12us/sample - loss: 60003369168.9612 - val_loss: 59601558616.8113\n",
      "Epoch 106/1500\n",
      "40850/40850 [==============================] - 0s 11us/sample - loss: 59609939812.0813 - val_loss: 59244282377.2120\n",
      "Epoch 107/1500\n",
      "40850/40850 [==============================] - 0s 12us/sample - loss: 59270538193.8260 - val_loss: 58931886056.7632\n",
      "Epoch 108/1500\n",
      "40850/40850 [==============================] - 0s 11us/sample - loss: 58917465823.9264 - val_loss: 58717317979.5373\n",
      "Epoch 109/1500\n",
      "40850/40850 [==============================] - 0s 11us/sample - loss: 58545226179.9136 - val_loss: 58436810048.3525\n",
      "Epoch 110/1500\n",
      "40850/40850 [==============================] - 0s 12us/sample - loss: 58278928907.4056 - val_loss: 58113208150.6493\n",
      "Epoch 111/1500\n",
      "40850/40850 [==============================] - 0s 11us/sample - loss: 57940670627.3387 - val_loss: 57817280004.0232\n",
      "Epoch 112/1500\n",
      "40850/40850 [==============================] - 0s 11us/sample - loss: 57597232240.2514 - val_loss: 57568765854.4654\n",
      "Epoch 113/1500\n",
      "40850/40850 [==============================] - 0s 12us/sample - loss: 57336665045.2352 - val_loss: 57307698974.4748\n",
      "Epoch 114/1500\n",
      "40850/40850 [==============================] - 0s 11us/sample - loss: 57010076482.7417 - val_loss: 57064868066.1268\n",
      "Epoch 115/1500\n",
      "40850/40850 [==============================] - 0s 10us/sample - loss: 56698327487.4015 - val_loss: 56799164029.9978\n",
      "Epoch 116/1500\n",
      "40850/40850 [==============================] - 0s 12us/sample - loss: 56370057738.0019 - val_loss: 56511718355.4815\n",
      "Epoch 117/1500\n",
      "40850/40850 [==============================] - 0s 11us/sample - loss: 56077382080.6048 - val_loss: 56274948060.1295\n",
      "Epoch 118/1500\n",
      "40850/40850 [==============================] - 0s 11us/sample - loss: 55777297403.9391 - val_loss: 56025137720.9641\n",
      "Epoch 119/1500\n",
      "40850/40850 [==============================] - 0s 12us/sample - loss: 55531600620.5102 - val_loss: 55734361050.0239\n",
      "Epoch 120/1500\n",
      "40850/40850 [==============================] - 0s 11us/sample - loss: 55230406475.7158 - val_loss: 55470267651.5908\n",
      "Epoch 121/1500\n",
      "40850/40850 [==============================] - 0s 11us/sample - loss: 54908636909.2622 - val_loss: 55277087691.0591\n",
      "Epoch 122/1500\n",
      "40850/40850 [==============================] - 0s 12us/sample - loss: 54649333174.1266 - val_loss: 55008905960.0300\n",
      "Epoch 123/1500\n",
      "40850/40850 [==============================] - 0s 11us/sample - loss: 54392612886.5606 - val_loss: 54811834047.1211\n",
      "Epoch 124/1500\n",
      "40850/40850 [==============================] - 0s 11us/sample - loss: 54158206716.2023 - val_loss: 54576041352.9958\n",
      "Epoch 125/1500\n",
      "40850/40850 [==============================] - 0s 12us/sample - loss: 53878243305.1386 - val_loss: 54360697233.1926\n"
     ]
    },
    {
     "name": "stdout",
     "output_type": "stream",
     "text": [
      "Epoch 126/1500\n",
      "40850/40850 [==============================] - 0s 11us/sample - loss: 53590270832.9659 - val_loss: 54170253495.3379\n",
      "Epoch 127/1500\n",
      "40850/40850 [==============================] - 0s 11us/sample - loss: 53397039963.4080 - val_loss: 53951141638.4860\n",
      "Epoch 128/1500\n",
      "40850/40850 [==============================] - 1s 13us/sample - loss: 53123343616.3384 - val_loss: 53764056762.0075\n",
      "Epoch 129/1500\n",
      "40850/40850 [==============================] - 1s 13us/sample - loss: 52927610785.9474 - val_loss: 53590032743.4566\n",
      "Epoch 130/1500\n",
      "40850/40850 [==============================] - 1s 15us/sample - loss: 52687019461.6683 - val_loss: 53417069783.1475\n",
      "Epoch 131/1500\n",
      "40850/40850 [==============================] - 1s 14us/sample - loss: 52446076162.9454 - val_loss: 53231381591.0065\n",
      "Epoch 132/1500\n",
      "40850/40850 [==============================] - 0s 12us/sample - loss: 52223445348.5576 - val_loss: 53090539198.3691\n",
      "Epoch 133/1500\n",
      "40850/40850 [==============================] - 1s 14us/sample - loss: 52037353774.4121 - val_loss: 52952055249.1127\n",
      "Epoch 134/1500\n",
      "40850/40850 [==============================] - 0s 12us/sample - loss: 51846228368.5758 - val_loss: 52743374824.3872\n",
      "Epoch 135/1500\n",
      "40850/40850 [==============================] - 1s 14us/sample - loss: 51633956706.2764 - val_loss: 52601878832.1845\n",
      "Epoch 136/1500\n",
      "40850/40850 [==============================] - 1s 13us/sample - loss: 51427608968.5542 - val_loss: 52540985836.0344\n",
      "Epoch 137/1500\n",
      "40850/40850 [==============================] - 0s 12us/sample - loss: 51331732744.4602 - val_loss: 52319450318.8003\n",
      "Epoch 138/1500\n",
      "40850/40850 [==============================] - 1s 13us/sample - loss: 51057062219.4902 - val_loss: 52233573040.5323\n",
      "Epoch 139/1500\n",
      "40850/40850 [==============================] - 1s 13us/sample - loss: 50971414272.6643 - val_loss: 52075164994.6085\n",
      "Epoch 140/1500\n",
      "40850/40850 [==============================] - 0s 12us/sample - loss: 50731210297.2788 - val_loss: 51967849062.7610\n",
      "Epoch 141/1500\n",
      "40850/40850 [==============================] - 1s 14us/sample - loss: 50564416105.6588 - val_loss: 51851719602.1679\n",
      "Epoch 142/1500\n",
      "40850/40850 [==============================] - 0s 12us/sample - loss: 50383999075.0660 - val_loss: 51778178463.6311\n",
      "Epoch 143/1500\n",
      "40850/40850 [==============================] - 0s 12us/sample - loss: 50265735076.5544 - val_loss: 51667066073.5539\n",
      "Epoch 144/1500\n",
      "40850/40850 [==============================] - 1s 13us/sample - loss: 50103418352.1825 - val_loss: 51507482571.8111\n",
      "Epoch 145/1500\n",
      "40850/40850 [==============================] - 0s 11us/sample - loss: 49930196850.2192 - val_loss: 51501763822.4596\n",
      "Epoch 146/1500\n",
      "40850/40850 [==============================] - 0s 12us/sample - loss: 49784669934.7662 - val_loss: 51322862500.7071\n",
      "Epoch 147/1500\n",
      "40850/40850 [==============================] - 0s 12us/sample - loss: 49635311234.1746 - val_loss: 51235564364.5725\n",
      "Epoch 148/1500\n",
      "40850/40850 [==============================] - 0s 12us/sample - loss: 49522424337.5221 - val_loss: 51153777094.0583\n",
      "Epoch 149/1500\n",
      "40850/40850 [==============================] - 1s 13us/sample - loss: 49380099380.9798 - val_loss: 51063978229.2276\n",
      "Epoch 150/1500\n",
      "40850/40850 [==============================] - 1s 13us/sample - loss: 49263256583.6706 - val_loss: 51010557006.1329\n",
      "Epoch 151/1500\n",
      "40850/40850 [==============================] - 0s 11us/sample - loss: 49080062730.2901 - val_loss: 50921187278.9695\n",
      "Epoch 152/1500\n",
      "40850/40850 [==============================] - 1s 12us/sample - loss: 48983298820.6751 - val_loss: 50809099706.7031\n",
      "Epoch 153/1500\n",
      "40850/40850 [==============================] - 0s 12us/sample - loss: 48854733425.2792 - val_loss: 50752660793.6597\n",
      "Epoch 154/1500\n",
      "40850/40850 [==============================] - 0s 11us/sample - loss: 48749798739.8627 - val_loss: 50678662582.2663\n",
      "Epoch 155/1500\n",
      "40850/40850 [==============================] - 0s 12us/sample - loss: 48630084685.6586 - val_loss: 50580790975.1211\n",
      "Epoch 156/1500\n",
      "40850/40850 [==============================] - 0s 12us/sample - loss: 48493023000.5785 - val_loss: 50602361838.8544\n",
      "Epoch 157/1500\n",
      "40850/40850 [==============================] - 0s 11us/sample - loss: 48385391370.7915 - val_loss: 50483109824.1551\n",
      "Epoch 158/1500\n",
      "40850/40850 [==============================] - 0s 12us/sample - loss: 48276949495.3518 - val_loss: 50404076870.8949\n",
      "Epoch 159/1500\n",
      "40850/40850 [==============================] - 0s 12us/sample - loss: 48155491535.6075 - val_loss: 50274655025.9517\n",
      "Epoch 160/1500\n",
      "40850/40850 [==============================] - 0s 11us/sample - loss: 48043086010.0998 - val_loss: 50268822809.9252\n",
      "Epoch 161/1500\n",
      "40850/40850 [==============================] - 0s 11us/sample - loss: 47995304148.6711 - val_loss: 50173300647.0383\n",
      "Epoch 162/1500\n",
      "40850/40850 [==============================] - 0s 12us/sample - loss: 47858311253.4294 - val_loss: 50098342486.4425\n",
      "Epoch 163/1500\n",
      "40850/40850 [==============================] - 0s 11us/sample - loss: 47738694207.4454 - val_loss: 50062910049.9482\n",
      "Epoch 164/1500\n",
      "40850/40850 [==============================] - 0s 12us/sample - loss: 47619882307.9199 - val_loss: 49961416301.9050\n",
      "Epoch 165/1500\n",
      "40850/40850 [==============================] - 0s 12us/sample - loss: 47532008508.7130 - val_loss: 49945675678.3150\n",
      "Epoch 166/1500\n",
      "40850/40850 [==============================] - 0s 11us/sample - loss: 47468113951.2840 - val_loss: 49846578063.1998\n",
      "Epoch 167/1500\n",
      "40850/40850 [==============================] - 1s 12us/sample - loss: 47331378952.0341 - val_loss: 49756517059.0315\n",
      "Epoch 168/1500\n",
      "40850/40850 [==============================] - 0s 12us/sample - loss: 47243092358.7995 - val_loss: 49717195372.7018\n",
      "Epoch 169/1500\n",
      "40850/40850 [==============================] - 0s 11us/sample - loss: 47143797099.1753 - val_loss: 49682973683.0656\n",
      "Epoch 170/1500\n",
      "40850/40850 [==============================] - 0s 12us/sample - loss: 47063099054.9950 - val_loss: 49620290913.6662\n",
      "Epoch 171/1500\n",
      "40850/40850 [==============================] - 0s 12us/sample - loss: 46991260933.1513 - val_loss: 49562879874.0398\n",
      "Epoch 172/1500\n",
      "40850/40850 [==============================] - 0s 11us/sample - loss: 46883169404.3840 - val_loss: 49520610203.6830\n",
      "Epoch 173/1500\n",
      "40850/40850 [==============================] - 1s 13us/sample - loss: 46786084002.0853 - val_loss: 49503863887.4865\n",
      "Epoch 174/1500\n",
      "40850/40850 [==============================] - 0s 12us/sample - loss: 46722654703.3302 - val_loss: 49399835017.8982\n",
      "Epoch 175/1500\n",
      "40850/40850 [==============================] - 0s 12us/sample - loss: 46627733195.7722 - val_loss: 49381938293.4626\n",
      "Epoch 176/1500\n",
      "40850/40850 [==============================] - 1s 13us/sample - loss: 46532629342.2155 - val_loss: 49284642571.6748\n",
      "Epoch 177/1500\n",
      "40850/40850 [==============================] - 0s 12us/sample - loss: 46467611897.7206 - val_loss: 49271552938.3471\n",
      "Epoch 178/1500\n",
      "40850/40850 [==============================] - 0s 12us/sample - loss: 46383152162.1417 - val_loss: 49234751740.0708\n",
      "Epoch 179/1500\n",
      "40850/40850 [==============================] - 0s 12us/sample - loss: 46332799404.8517 - val_loss: 49189841147.8452\n",
      "Epoch 180/1500\n",
      "40850/40850 [==============================] - 0s 12us/sample - loss: 46228159594.5361 - val_loss: 49136805269.7046\n",
      "Epoch 181/1500\n",
      "40850/40850 [==============================] - 0s 11us/sample - loss: 46138708838.8387 - val_loss: 49158537295.7121\n",
      "Epoch 182/1500\n",
      "40850/40850 [==============================] - 0s 12us/sample - loss: 46073875962.0089 - val_loss: 49038284032.1316\n",
      "Epoch 183/1500\n",
      "40850/40850 [==============================] - 0s 11us/sample - loss: 46008321896.2926 - val_loss: 49024477140.9855\n",
      "Epoch 184/1500\n",
      "40850/40850 [==============================] - 0s 12us/sample - loss: 45912591530.7085 - val_loss: 48938412122.9921\n",
      "Epoch 185/1500\n",
      "40850/40850 [==============================] - 0s 12us/sample - loss: 45893657660.5125 - val_loss: 48951340584.6457\n",
      "Epoch 186/1500\n",
      "40850/40850 [==============================] - 0s 11us/sample - loss: 45799960813.4377 - val_loss: 48893010232.5317\n",
      "Epoch 187/1500\n",
      "40850/40850 [==============================] - 0s 12us/sample - loss: 45742979172.3695 - val_loss: 48817276438.2968\n",
      "Epoch 188/1500\n",
      "40850/40850 [==============================] - 0s 11us/sample - loss: 45655268726.0545 - val_loss: 48784418194.0950\n",
      "Epoch 189/1500\n",
      "40850/40850 [==============================] - 0s 11us/sample - loss: 45601251025.0865 - val_loss: 48779635547.0109\n",
      "Epoch 190/1500\n",
      "40850/40850 [==============================] - 0s 11us/sample - loss: 45521210564.7283 - val_loss: 48699909844.1771\n",
      "Epoch 191/1500\n",
      "40850/40850 [==============================] - 0s 11us/sample - loss: 45456751289.5734 - val_loss: 48669020824.1674\n",
      "Epoch 192/1500\n",
      "40850/40850 [==============================] - 0s 11us/sample - loss: 45369051583.5018 - val_loss: 48643983539.9539\n",
      "Epoch 193/1500\n",
      "40850/40850 [==============================] - 0s 11us/sample - loss: 45329793160.9678 - val_loss: 48548492296.9488\n",
      "Epoch 194/1500\n",
      "40850/40850 [==============================] - 0s 11us/sample - loss: 45250782483.4898 - val_loss: 48575441339.4551\n",
      "Epoch 195/1500\n",
      "40850/40850 [==============================] - 0s 11us/sample - loss: 45245104524.6653 - val_loss: 48490446881.3137\n",
      "Epoch 196/1500\n",
      "40850/40850 [==============================] - 0s 11us/sample - loss: 45171027969.8048 - val_loss: 48529442403.3770\n",
      "Epoch 197/1500\n",
      "40850/40850 [==============================] - 0s 11us/sample - loss: 45086620920.7179 - val_loss: 48484114724.7541\n",
      "Epoch 198/1500\n",
      "40850/40850 [==============================] - 0s 10us/sample - loss: 45043319694.5453 - val_loss: 48443395743.5370\n",
      "Epoch 199/1500\n",
      "40850/40850 [==============================] - 0s 11us/sample - loss: 44987831018.7053 - val_loss: 48399231517.5912\n",
      "Epoch 200/1500\n",
      "40850/40850 [==============================] - 0s 12us/sample - loss: 44933287743.4830 - val_loss: 48312776887.4883\n",
      "Epoch 201/1500\n",
      "40850/40850 [==============================] - 0s 11us/sample - loss: 44856580288.6173 - val_loss: 48340210376.4459\n",
      "Epoch 202/1500\n",
      "40850/40850 [==============================] - 0s 11us/sample - loss: 44818576592.9110 - val_loss: 48305730084.2841\n",
      "Epoch 203/1500\n",
      "40850/40850 [==============================] - 0s 11us/sample - loss: 44725739178.2823 - val_loss: 48257929296.0129\n",
      "Epoch 204/1500\n",
      "40850/40850 [==============================] - 0s 12us/sample - loss: 44682062113.2769 - val_loss: 48245478211.0973\n",
      "Epoch 205/1500\n",
      "40850/40850 [==============================] - 0s 11us/sample - loss: 44632647148.4726 - val_loss: 48212683261.0296\n",
      "Epoch 206/1500\n",
      "40850/40850 [==============================] - 0s 12us/sample - loss: 44595983608.0161 - val_loss: 48171239291.3470\n",
      "Epoch 207/1500\n",
      "40850/40850 [==============================] - 0s 11us/sample - loss: 44527262062.4842 - val_loss: 48145362396.9943\n",
      "Epoch 208/1500\n",
      "40850/40850 [==============================] - 0s 12us/sample - loss: 44483939625.3485 - val_loss: 48123713664.8930\n",
      "Epoch 209/1500\n",
      "40850/40850 [==============================] - 0s 12us/sample - loss: 44447621519.6733 - val_loss: 48154297660.2917\n",
      "Epoch 210/1500\n",
      "40850/40850 [==============================] - 0s 12us/sample - loss: 44367120144.1559 - val_loss: 48106001335.3567\n",
      "Epoch 211/1500\n",
      "40850/40850 [==============================] - 1s 12us/sample - loss: 44348368923.6743 - val_loss: 48074370836.0972\n",
      "Epoch 212/1500\n",
      "40850/40850 [==============================] - 0s 12us/sample - loss: 44293248730.7124 - val_loss: 48022009754.0286\n",
      "Epoch 213/1500\n",
      "40850/40850 [==============================] - 0s 12us/sample - loss: 44264054984.9396 - val_loss: 48050789092.8716\n",
      "Epoch 214/1500\n",
      "40850/40850 [==============================] - 1s 12us/sample - loss: 44218443129.9650 - val_loss: 48012615897.4787\n",
      "Epoch 215/1500\n",
      "40850/40850 [==============================] - 1s 16us/sample - loss: 44129693556.6257 - val_loss: 48028753360.2855\n",
      "Epoch 216/1500\n",
      "40850/40850 [==============================] - 1s 13us/sample - loss: 44127553697.7343 - val_loss: 47946013334.9642\n",
      "Epoch 217/1500\n",
      "40850/40850 [==============================] - 0s 12us/sample - loss: 44110803569.5800 - val_loss: 47943359759.6980\n",
      "Epoch 218/1500\n",
      "40850/40850 [==============================] - 0s 11us/sample - loss: 44004175553.1437 - val_loss: 47945308559.3878\n",
      "Epoch 219/1500\n",
      "40850/40850 [==============================] - 1s 13us/sample - loss: 43994574643.8517 - val_loss: 47885966912.2585\n",
      "Epoch 220/1500\n",
      "40850/40850 [==============================] - 0s 12us/sample - loss: 43920349114.7139 - val_loss: 47882304495.6064\n",
      "Epoch 221/1500\n",
      "40850/40850 [==============================] - 0s 11us/sample - loss: 43915632830.2108 - val_loss: 47817043210.3588\n",
      "Epoch 222/1500\n",
      "40850/40850 [==============================] - 0s 12us/sample - loss: 43849123750.8606 - val_loss: 47796944352.9048\n",
      "Epoch 223/1500\n",
      "40850/40850 [==============================] - 0s 11us/sample - loss: 43807782824.9663 - val_loss: 47831658506.3024\n",
      "Epoch 224/1500\n",
      "40850/40850 [==============================] - 0s 11us/sample - loss: 43774128080.7732 - val_loss: 47752873826.5310\n",
      "Epoch 225/1500\n",
      "40850/40850 [==============================] - 0s 12us/sample - loss: 43703926813.4792 - val_loss: 47779070312.2838\n",
      "Epoch 226/1500\n",
      "40850/40850 [==============================] - 0s 12us/sample - loss: 43672336658.8381 - val_loss: 47845974726.7915\n",
      "\n",
      " 1.0 min.\n"
     ]
    }
   ],
   "source": [
    "start = time.time()\n",
    "\n",
    "model.fit(x=X_train,y=y_train,\n",
    "          validation_data=(X_test,y_test),\n",
    "          batch_size=256,epochs=1500,\n",
    "          callbacks=[early_stop],\n",
    "         )\n",
    "\n",
    "stop = time.time()\n",
    "print('\\n',(stop-start)//60,'min.')"
   ]
  },
  {
   "cell_type": "code",
   "execution_count": 27,
   "metadata": {},
   "outputs": [],
   "source": [
    "losses = pd.DataFrame(model.history.history)"
   ]
  },
  {
   "cell_type": "code",
   "execution_count": 28,
   "metadata": {},
   "outputs": [
    {
     "data": {
      "text/plain": [
       "Text(0.5, 1.0, 'Loss and validation loss')"
      ]
     },
     "execution_count": 28,
     "metadata": {},
     "output_type": "execute_result"
    },
    {
     "data": {
      "image/png": "[encoded data removed]",
      "text/plain": [
       "<Figure size 432x288 with 1 Axes>"
      ]
     },
     "metadata": {
      "needs_background": "light"
     },
     "output_type": "display_data"
    }
   ],
   "source": [
    "losses.plot()\n",
    "plt.xlabel('epoch')\n",
    "plt.ylabel('loss')\n",
    "plt.title('Loss and validation loss')"
   ]
  },
  {
   "cell_type": "code",
   "execution_count": 29,
   "metadata": {
    "scrolled": true
   },
   "outputs": [
    {
     "data": {
      "text/plain": [
       "(0.0, 100000000000.0)"
      ]
     },
     "execution_count": 29,
     "metadata": {},
     "output_type": "execute_result"
    },
    {
     "data": {
      "image/png": "[encoded data removed]",
      "text/plain": [
       "<Figure size 432x288 with 1 Axes>"
      ]
     },
     "metadata": {
      "needs_background": "light"
     },
     "output_type": "display_data"
    }
   ],
   "source": [
    "losses.plot()\n",
    "plt.ylim(0,100000000000)"
   ]
  },
  {
   "cell_type": "markdown",
   "metadata": {},
   "source": [
    "## model ewaluation"
   ]
  },
  {
   "cell_type": "code",
   "execution_count": 30,
   "metadata": {},
   "outputs": [],
   "source": [
    "from sklearn.metrics import mean_squared_error,mean_absolute_error,r2_score"
   ]
  },
  {
   "cell_type": "code",
   "execution_count": 31,
   "metadata": {},
   "outputs": [],
   "source": [
    "predictions = model.predict(X_test)"
   ]
  },
  {
   "cell_type": "code",
   "execution_count": 32,
   "metadata": {},
   "outputs": [
    {
     "data": {
      "text/plain": [
       "99618.23738181133"
      ]
     },
     "execution_count": 32,
     "metadata": {},
     "output_type": "execute_result"
    }
   ],
   "source": [
    "mean_absolute_error(y_test,predictions)"
   ]
  },
  {
   "cell_type": "code",
   "execution_count": 33,
   "metadata": {},
   "outputs": [
    {
     "data": {
      "text/plain": [
       "218737.2261031974"
      ]
     },
     "execution_count": 33,
     "metadata": {},
     "output_type": "execute_result"
    }
   ],
   "source": [
    "np.sqrt(mean_squared_error(y_test,predictions))"
   ]
  },
  {
   "cell_type": "code",
   "execution_count": 34,
   "metadata": {},
   "outputs": [
    {
     "data": {
      "text/plain": [
       "0.8201460433428541"
      ]
     },
     "execution_count": 34,
     "metadata": {},
     "output_type": "execute_result"
    }
   ],
   "source": [
    "r2_score(y_test,predictions)"
   ]
  },
  {
   "cell_type": "code",
   "execution_count": 35,
   "metadata": {},
   "outputs": [
    {
     "data": {
      "text/plain": [
       "[<matplotlib.lines.Line2D at 0x239de19b320>]"
      ]
     },
     "execution_count": 35,
     "metadata": {},
     "output_type": "execute_result"
    },
    {
     "data": {
      "image/png": "[encoded data removed]",
      "text/plain": [
       "<Figure size 504x504 with 1 Axes>"
      ]
     },
     "metadata": {
      "needs_background": "light"
     },
     "output_type": "display_data"
    }
   ],
   "source": [
    "plt.figure(figsize=(7,7))\n",
    "# plt.xlim(0,500)\n",
    "# plt.ylim(0,500)\n",
    "\n",
    "# Our predictions\n",
    "plt.scatter(x=y_test,y=predictions,edgecolor=None,alpha=0.2)\n",
    "plt.xlabel('test set')\n",
    "plt.ylabel('predictions')\n",
    "plt.title('Price per $m^{2}$')\n",
    "\n",
    "# Perfect predictions\n",
    "plt.plot(y_test,y_test,'r')"
   ]
  },
  {
   "cell_type": "code",
   "execution_count": 36,
   "metadata": {},
   "outputs": [],
   "source": [
    "errors = y_test.reshape(y_test.shape[0], 1) - predictions"
   ]
  },
  {
   "cell_type": "code",
   "execution_count": 37,
   "metadata": {},
   "outputs": [
    {
     "data": {
      "text/plain": [
       "Text(0.5, 1.0, 'Error distribution')"
      ]
     },
     "execution_count": 37,
     "metadata": {},
     "output_type": "execute_result"
    },
    {
     "data": {
      "image/png": "[encoded data removed]",
      "text/plain": [
       "<Figure size 432x288 with 1 Axes>"
      ]
     },
     "metadata": {
      "needs_background": "light"
     },
     "output_type": "display_data"
    }
   ],
   "source": [
    "# plt.xlim(-200000,200000)\n",
    "\n",
    "sns.histplot(errors)\n",
    "plt.title('Error distribution')"
   ]
  },
  {
   "cell_type": "code",
   "execution_count": 38,
   "metadata": {},
   "outputs": [
    {
     "data": {
      "text/plain": [
       "array([1502426.8 ,  535259.1 ,  208617.36,  410236.97,  275064.28,\n",
       "        564241.3 ,  950546.2 ,  427138.22,  530951.75,  494770.38,\n",
       "        335695.84,  132499.48,  392224.2 ,  535086.4 ,  988152.75,\n",
       "        364927.06,  248480.52,  454081.75,  712546.5 ,  431521.56],\n",
       "      dtype=float32)"
      ]
     },
     "execution_count": 38,
     "metadata": {},
     "output_type": "execute_result"
    }
   ],
   "source": [
    "predictions.reshape(y_test.shape[0])[:20]"
   ]
  },
  {
   "cell_type": "code",
   "execution_count": 39,
   "metadata": {},
   "outputs": [
    {
     "data": {
      "text/plain": [
       "array([1020000.,  532818.,  206000.,  415000.,  289000.,  385000.,\n",
       "       1040000.,  399000.,  447000.,  620000.,  334785.,  220000.,\n",
       "        342078.,  535000., 1079000.,  369000.,  219000.,  360000.,\n",
       "        749000.,  335000.])"
      ]
     },
     "execution_count": 39,
     "metadata": {},
     "output_type": "execute_result"
    }
   ],
   "source": [
    "y_test[:20]"
   ]
  },
  {
   "cell_type": "code",
   "execution_count": 40,
   "metadata": {},
   "outputs": [
    {
     "data": {
      "text/plain": [
       "array([1.4729674 , 1.00458154, 1.01270563, 0.98852282, 0.95177952,\n",
       "       1.46556185, 0.91398672, 1.07052185, 1.18781152, 0.79801673,\n",
       "       1.00272068, 0.60227038, 1.14659285, 1.00016145, 0.91580422,\n",
       "       0.98896223, 1.13461423, 1.26133819, 0.95133044, 1.28812407])"
      ]
     },
     "execution_count": 40,
     "metadata": {},
     "output_type": "execute_result"
    }
   ],
   "source": [
    "predictions.reshape(y_test.shape[0])[:20]/y_test[:20]"
   ]
  },
  {
   "cell_type": "markdown",
   "metadata": {},
   "source": [
    "## saving data"
   ]
  },
  {
   "cell_type": "code",
   "execution_count": 44,
   "metadata": {},
   "outputs": [
    {
     "name": "stdout",
     "output_type": "stream",
     "text": [
      "WARNING:tensorflow:From C:\\Users\\piotr\\anaconda3\\envs\\machine_learning_2\\lib\\site-packages\\tensorflow_core\\python\\ops\\resource_variable_ops.py:1781: calling BaseResourceVariable.__init__ (from tensorflow.python.ops.resource_variable_ops) with constraint is deprecated and will be removed in a future version.\n",
      "Instructions for updating:\n",
      "If using Keras pass *_constraint arguments to layers.\n",
      "INFO:tensorflow:Assets written to: models_ann\\500a1_2021-01-27--19-09\\assets\n"
     ]
    }
   ],
   "source": [
    "from datetime import datetime\n",
    "from tensorflow.keras.models import load_model\n",
    "timestamp = datetime.now().strftime(\"%Y-%m-%d--%H-%M\")\n",
    "model.save('models_ann\\\\' + '500a1_' + timestamp)"
   ]
  },
  {
   "cell_type": "code",
   "execution_count": 43,
   "metadata": {},
   "outputs": [
    {
     "data": {
      "text/plain": [
       "['scaler_500a1']"
      ]
     },
     "execution_count": 43,
     "metadata": {},
     "output_type": "execute_result"
    }
   ],
   "source": [
    "import joblib\n",
    "joblib.dump(scaler, 'scaler_500a1')"
   ]
  },
  {
   "cell_type": "code",
   "execution_count": null,
   "metadata": {},
   "outputs": [],
   "source": []
  }
 ],
 "metadata": {
  "kernelspec": {
   "display_name": "Python 3",
   "language": "python",
   "name": "python3"
  },
  "language_info": {
   "codemirror_mode": {
    "name": "ipython",
    "version": 3
   },
   "file_extension": ".py",
   "mimetype": "text/x-python",
   "name": "python",
   "nbconvert_exporter": "python",
   "pygments_lexer": "ipython3",
   "version": "3.6.12"
  }
 },
 "nbformat": 4,
 "nbformat_minor": 4
}
