{
 "cells": [
  {
   "cell_type": "code",
   "execution_count": 1,
   "metadata": {},
   "outputs": [],
   "source": [
    "import numpy as np\n",
    "import matplotlib.pyplot as plt\n",
    "import pandas as pd\n",
    "import pickle as pkl\n",
    "import random\n",
    "import plotly.express as px\n",
    "import time\n",
    "import seaborn as sns"
   ]
  },
  {
   "cell_type": "code",
   "execution_count": 2,
   "metadata": {},
   "outputs": [],
   "source": [
    "infile = open('..//3_k-means_clustering//apartment_data_frame_clustered_500_2021q2','rb')\n",
    "frame = pkl.load(infile)\n",
    "infile.close()"
   ]
  },
  {
   "cell_type": "code",
   "execution_count": 3,
   "metadata": {
    "scrolled": false
   },
   "outputs": [
    {
     "data": {
      "text/html": [
       "<div>\n",
       "<style scoped>\n",
       "    .dataframe tbody tr th:only-of-type {\n",
       "        vertical-align: middle;\n",
       "    }\n",
       "\n",
       "    .dataframe tbody tr th {\n",
       "        vertical-align: top;\n",
       "    }\n",
       "\n",
       "    .dataframe thead th {\n",
       "        text-align: right;\n",
       "    }\n",
       "</style>\n",
       "<table border=\"1\" class=\"dataframe\">\n",
       "  <thead>\n",
       "    <tr style=\"text-align: right;\">\n",
       "      <th></th>\n",
       "      <th>city</th>\n",
       "      <th>district</th>\n",
       "      <th>voivodeship</th>\n",
       "      <th>localization_y</th>\n",
       "      <th>localization_x</th>\n",
       "      <th>market</th>\n",
       "      <th>area</th>\n",
       "      <th>rooms</th>\n",
       "      <th>floor</th>\n",
       "      <th>floors</th>\n",
       "      <th>build_yr</th>\n",
       "      <th>price</th>\n",
       "      <th>url</th>\n",
       "      <th>price_of_sqm</th>\n",
       "      <th>cluster</th>\n",
       "    </tr>\n",
       "  </thead>\n",
       "  <tbody>\n",
       "    <tr>\n",
       "      <th>0</th>\n",
       "      <td>Kraków</td>\n",
       "      <td>Podgórze</td>\n",
       "      <td>małopolskie</td>\n",
       "      <td>50.036500</td>\n",
       "      <td>20.015500</td>\n",
       "      <td>wtorny</td>\n",
       "      <td>46.30</td>\n",
       "      <td>2</td>\n",
       "      <td>6</td>\n",
       "      <td>8</td>\n",
       "      <td>2021.0</td>\n",
       "      <td>464000.0</td>\n",
       "      <td>https://gratka.pl/nieruchomosci/mieszkanie-kra...</td>\n",
       "      <td>10021.598272</td>\n",
       "      <td>242</td>\n",
       "    </tr>\n",
       "    <tr>\n",
       "      <th>1</th>\n",
       "      <td>Warszawa</td>\n",
       "      <td>Praga-Południe</td>\n",
       "      <td>mazowieckie</td>\n",
       "      <td>52.238088</td>\n",
       "      <td>21.115236</td>\n",
       "      <td>wtorny</td>\n",
       "      <td>80.91</td>\n",
       "      <td>2</td>\n",
       "      <td>2</td>\n",
       "      <td>5</td>\n",
       "      <td>2013.0</td>\n",
       "      <td>849000.0</td>\n",
       "      <td>https://gratka.pl/nieruchomosci/mieszkanie-war...</td>\n",
       "      <td>10493.140527</td>\n",
       "      <td>142</td>\n",
       "    </tr>\n",
       "    <tr>\n",
       "      <th>2</th>\n",
       "      <td>Katowice</td>\n",
       "      <td>Os. Paderewskiego</td>\n",
       "      <td>śląskie</td>\n",
       "      <td>50.252783</td>\n",
       "      <td>19.038932</td>\n",
       "      <td>pierwotny</td>\n",
       "      <td>44.21</td>\n",
       "      <td>2</td>\n",
       "      <td>1</td>\n",
       "      <td>9</td>\n",
       "      <td>2023.0</td>\n",
       "      <td>373100.0</td>\n",
       "      <td>https://gratka.pl/nieruchomosci/nowe-mieszkani...</td>\n",
       "      <td>8439.267134</td>\n",
       "      <td>326</td>\n",
       "    </tr>\n",
       "    <tr>\n",
       "      <th>3</th>\n",
       "      <td>Warszawa</td>\n",
       "      <td>Wola</td>\n",
       "      <td>mazowieckie</td>\n",
       "      <td>52.234980</td>\n",
       "      <td>20.961730</td>\n",
       "      <td>wtorny</td>\n",
       "      <td>34.00</td>\n",
       "      <td>1</td>\n",
       "      <td>1</td>\n",
       "      <td>5</td>\n",
       "      <td>1952.0</td>\n",
       "      <td>409900.0</td>\n",
       "      <td>https://gratka.pl/nieruchomosci/mieszkanie-war...</td>\n",
       "      <td>12055.882353</td>\n",
       "      <td>412</td>\n",
       "    </tr>\n",
       "    <tr>\n",
       "      <th>4</th>\n",
       "      <td>Poznań</td>\n",
       "      <td>Stare Miasto</td>\n",
       "      <td>wielkopolskie</td>\n",
       "      <td>52.453445</td>\n",
       "      <td>16.915134</td>\n",
       "      <td>wtorny</td>\n",
       "      <td>46.70</td>\n",
       "      <td>2</td>\n",
       "      <td>1</td>\n",
       "      <td>15</td>\n",
       "      <td>1984.0</td>\n",
       "      <td>329000.0</td>\n",
       "      <td>https://gratka.pl/nieruchomosci/mieszkanie-poz...</td>\n",
       "      <td>7044.967880</td>\n",
       "      <td>411</td>\n",
       "    </tr>\n",
       "    <tr>\n",
       "      <th>...</th>\n",
       "      <td>...</td>\n",
       "      <td>...</td>\n",
       "      <td>...</td>\n",
       "      <td>...</td>\n",
       "      <td>...</td>\n",
       "      <td>...</td>\n",
       "      <td>...</td>\n",
       "      <td>...</td>\n",
       "      <td>...</td>\n",
       "      <td>...</td>\n",
       "      <td>...</td>\n",
       "      <td>...</td>\n",
       "      <td>...</td>\n",
       "      <td>...</td>\n",
       "      <td>...</td>\n",
       "    </tr>\n",
       "    <tr>\n",
       "      <th>50411</th>\n",
       "      <td>Kołobrzeg</td>\n",
       "      <td>kołobrzeski</td>\n",
       "      <td>zachodniopomorskie</td>\n",
       "      <td>54.175917</td>\n",
       "      <td>15.583267</td>\n",
       "      <td>wtorny</td>\n",
       "      <td>27.00</td>\n",
       "      <td>2</td>\n",
       "      <td>parter</td>\n",
       "      <td>2</td>\n",
       "      <td>1948.0</td>\n",
       "      <td>340000.0</td>\n",
       "      <td>https://gratka.pl/nieruchomosci/mieszkanie-kol...</td>\n",
       "      <td>12592.592593</td>\n",
       "      <td>274</td>\n",
       "    </tr>\n",
       "    <tr>\n",
       "      <th>50412</th>\n",
       "      <td>Pruszków</td>\n",
       "      <td>pruszkowski</td>\n",
       "      <td>mazowieckie</td>\n",
       "      <td>52.155775</td>\n",
       "      <td>20.804646</td>\n",
       "      <td>wtorny</td>\n",
       "      <td>48.42</td>\n",
       "      <td>2</td>\n",
       "      <td>2</td>\n",
       "      <td>3</td>\n",
       "      <td>2019.0</td>\n",
       "      <td>539000.0</td>\n",
       "      <td>https://gratka.pl/nieruchomosci/mieszkanie-pru...</td>\n",
       "      <td>11131.763734</td>\n",
       "      <td>245</td>\n",
       "    </tr>\n",
       "    <tr>\n",
       "      <th>50413</th>\n",
       "      <td>Kraków</td>\n",
       "      <td>Os. Prądnik Biały</td>\n",
       "      <td>małopolskie</td>\n",
       "      <td>50.092900</td>\n",
       "      <td>19.926700</td>\n",
       "      <td>pierwotny</td>\n",
       "      <td>54.00</td>\n",
       "      <td>3</td>\n",
       "      <td>4</td>\n",
       "      <td>5</td>\n",
       "      <td>2020.0</td>\n",
       "      <td>499002.0</td>\n",
       "      <td>https://gratka.pl/nieruchomosci/nowe-mieszkani...</td>\n",
       "      <td>9240.777778</td>\n",
       "      <td>264</td>\n",
       "    </tr>\n",
       "    <tr>\n",
       "      <th>50414</th>\n",
       "      <td>Warszawa</td>\n",
       "      <td>Bielany</td>\n",
       "      <td>mazowieckie</td>\n",
       "      <td>52.267688</td>\n",
       "      <td>20.947620</td>\n",
       "      <td>wtorny</td>\n",
       "      <td>82.00</td>\n",
       "      <td>2</td>\n",
       "      <td>11</td>\n",
       "      <td>11</td>\n",
       "      <td>2001.0</td>\n",
       "      <td>940000.0</td>\n",
       "      <td>https://gratka.pl/nieruchomosci/mieszkanie-war...</td>\n",
       "      <td>11463.414634</td>\n",
       "      <td>350</td>\n",
       "    </tr>\n",
       "    <tr>\n",
       "      <th>50415</th>\n",
       "      <td>Otrębusy</td>\n",
       "      <td>pruszkowski</td>\n",
       "      <td>mazowieckie</td>\n",
       "      <td>52.122000</td>\n",
       "      <td>20.765000</td>\n",
       "      <td>pierwotny</td>\n",
       "      <td>134.60</td>\n",
       "      <td>4</td>\n",
       "      <td>1</td>\n",
       "      <td>1</td>\n",
       "      <td>2021.0</td>\n",
       "      <td>749000.0</td>\n",
       "      <td>https://gratka.pl/nieruchomosci/nowe-mieszkani...</td>\n",
       "      <td>5564.635958</td>\n",
       "      <td>117</td>\n",
       "    </tr>\n",
       "  </tbody>\n",
       "</table>\n",
       "<p>50416 rows × 15 columns</p>\n",
       "</div>"
      ],
      "text/plain": [
       "            city           district         voivodeship  localization_y  \\\n",
       "0         Kraków           Podgórze         małopolskie       50.036500   \n",
       "1       Warszawa     Praga-Południe         mazowieckie       52.238088   \n",
       "2       Katowice  Os. Paderewskiego             śląskie       50.252783   \n",
       "3       Warszawa               Wola         mazowieckie       52.234980   \n",
       "4         Poznań       Stare Miasto       wielkopolskie       52.453445   \n",
       "...          ...                ...                 ...             ...   \n",
       "50411  Kołobrzeg        kołobrzeski  zachodniopomorskie       54.175917   \n",
       "50412   Pruszków        pruszkowski         mazowieckie       52.155775   \n",
       "50413     Kraków  Os. Prądnik Biały         małopolskie       50.092900   \n",
       "50414   Warszawa            Bielany         mazowieckie       52.267688   \n",
       "50415   Otrębusy        pruszkowski         mazowieckie       52.122000   \n",
       "\n",
       "       localization_x     market    area rooms   floor floors  build_yr  \\\n",
       "0           20.015500     wtorny   46.30     2       6      8    2021.0   \n",
       "1           21.115236     wtorny   80.91     2       2      5    2013.0   \n",
       "2           19.038932  pierwotny   44.21     2       1      9    2023.0   \n",
       "3           20.961730     wtorny   34.00     1       1      5    1952.0   \n",
       "4           16.915134     wtorny   46.70     2       1     15    1984.0   \n",
       "...               ...        ...     ...   ...     ...    ...       ...   \n",
       "50411       15.583267     wtorny   27.00     2  parter      2    1948.0   \n",
       "50412       20.804646     wtorny   48.42     2       2      3    2019.0   \n",
       "50413       19.926700  pierwotny   54.00     3       4      5    2020.0   \n",
       "50414       20.947620     wtorny   82.00     2      11     11    2001.0   \n",
       "50415       20.765000  pierwotny  134.60     4       1      1    2021.0   \n",
       "\n",
       "          price                                                url  \\\n",
       "0      464000.0  https://gratka.pl/nieruchomosci/mieszkanie-kra...   \n",
       "1      849000.0  https://gratka.pl/nieruchomosci/mieszkanie-war...   \n",
       "2      373100.0  https://gratka.pl/nieruchomosci/nowe-mieszkani...   \n",
       "3      409900.0  https://gratka.pl/nieruchomosci/mieszkanie-war...   \n",
       "4      329000.0  https://gratka.pl/nieruchomosci/mieszkanie-poz...   \n",
       "...         ...                                                ...   \n",
       "50411  340000.0  https://gratka.pl/nieruchomosci/mieszkanie-kol...   \n",
       "50412  539000.0  https://gratka.pl/nieruchomosci/mieszkanie-pru...   \n",
       "50413  499002.0  https://gratka.pl/nieruchomosci/nowe-mieszkani...   \n",
       "50414  940000.0  https://gratka.pl/nieruchomosci/mieszkanie-war...   \n",
       "50415  749000.0  https://gratka.pl/nieruchomosci/nowe-mieszkani...   \n",
       "\n",
       "       price_of_sqm  cluster  \n",
       "0      10021.598272      242  \n",
       "1      10493.140527      142  \n",
       "2       8439.267134      326  \n",
       "3      12055.882353      412  \n",
       "4       7044.967880      411  \n",
       "...             ...      ...  \n",
       "50411  12592.592593      274  \n",
       "50412  11131.763734      245  \n",
       "50413   9240.777778      264  \n",
       "50414  11463.414634      350  \n",
       "50415   5564.635958      117  \n",
       "\n",
       "[50416 rows x 15 columns]"
      ]
     },
     "execution_count": 3,
     "metadata": {},
     "output_type": "execute_result"
    }
   ],
   "source": [
    "frame"
   ]
  },
  {
   "cell_type": "markdown",
   "metadata": {},
   "source": [
    "## data preparation for ann"
   ]
  },
  {
   "cell_type": "code",
   "execution_count": 4,
   "metadata": {},
   "outputs": [
    {
     "name": "stdout",
     "output_type": "stream",
     "text": [
      "<class 'pandas.core.frame.DataFrame'>\n",
      "RangeIndex: 50416 entries, 0 to 50415\n",
      "Data columns (total 15 columns):\n",
      " #   Column          Non-Null Count  Dtype  \n",
      "---  ------          --------------  -----  \n",
      " 0   city            50416 non-null  object \n",
      " 1   district        42465 non-null  object \n",
      " 2   voivodeship     50416 non-null  object \n",
      " 3   localization_y  50416 non-null  float64\n",
      " 4   localization_x  50416 non-null  float64\n",
      " 5   market          50416 non-null  object \n",
      " 6   area            50416 non-null  float64\n",
      " 7   rooms           50416 non-null  object \n",
      " 8   floor           50416 non-null  object \n",
      " 9   floors          50416 non-null  object \n",
      " 10  build_yr        50416 non-null  float64\n",
      " 11  price           50416 non-null  float64\n",
      " 12  url             50416 non-null  object \n",
      " 13  price_of_sqm    50416 non-null  float64\n",
      " 14  cluster         50416 non-null  int32  \n",
      "dtypes: float64(6), int32(1), object(8)\n",
      "memory usage: 5.6+ MB\n"
     ]
    }
   ],
   "source": [
    "frame.info()"
   ]
  },
  {
   "cell_type": "code",
   "execution_count": 5,
   "metadata": {},
   "outputs": [],
   "source": [
    "frame = frame.drop(['city','district','voivodeship','localization_y','localization_x','price_of_sqm','url'],axis=1)"
   ]
  },
  {
   "cell_type": "code",
   "execution_count": 6,
   "metadata": {},
   "outputs": [],
   "source": [
    "frame.cluster = frame.cluster.apply(str)"
   ]
  },
  {
   "cell_type": "code",
   "execution_count": 7,
   "metadata": {},
   "outputs": [
    {
     "name": "stdout",
     "output_type": "stream",
     "text": [
      "<class 'pandas.core.frame.DataFrame'>\n",
      "RangeIndex: 50416 entries, 0 to 50415\n",
      "Data columns (total 8 columns):\n",
      " #   Column    Non-Null Count  Dtype  \n",
      "---  ------    --------------  -----  \n",
      " 0   market    50416 non-null  object \n",
      " 1   area      50416 non-null  float64\n",
      " 2   rooms     50416 non-null  object \n",
      " 3   floor     50416 non-null  object \n",
      " 4   floors    50416 non-null  object \n",
      " 5   build_yr  50416 non-null  float64\n",
      " 6   price     50416 non-null  float64\n",
      " 7   cluster   50416 non-null  object \n",
      "dtypes: float64(3), object(5)\n",
      "memory usage: 3.1+ MB\n"
     ]
    }
   ],
   "source": [
    "frame.info()"
   ]
  },
  {
   "cell_type": "markdown",
   "metadata": {},
   "source": [
    "## creating dummy variables"
   ]
  },
  {
   "cell_type": "code",
   "execution_count": 8,
   "metadata": {},
   "outputs": [],
   "source": [
    "dummies = pd.get_dummies(frame[['market','rooms','floor','floors','cluster']],drop_first=True)\n",
    "frame = frame.drop(['market','rooms','floor','floors','cluster'],axis=1)\n",
    "frame = pd.concat([frame,dummies],axis=1)"
   ]
  },
  {
   "cell_type": "code",
   "execution_count": 9,
   "metadata": {},
   "outputs": [
    {
     "data": {
      "text/html": [
       "<div>\n",
       "<style scoped>\n",
       "    .dataframe tbody tr th:only-of-type {\n",
       "        vertical-align: middle;\n",
       "    }\n",
       "\n",
       "    .dataframe tbody tr th {\n",
       "        vertical-align: top;\n",
       "    }\n",
       "\n",
       "    .dataframe thead th {\n",
       "        text-align: right;\n",
       "    }\n",
       "</style>\n",
       "<table border=\"1\" class=\"dataframe\">\n",
       "  <thead>\n",
       "    <tr style=\"text-align: right;\">\n",
       "      <th></th>\n",
       "      <th>area</th>\n",
       "      <th>build_yr</th>\n",
       "      <th>price</th>\n",
       "      <th>market_wtorny</th>\n",
       "      <th>rooms_2</th>\n",
       "      <th>rooms_3</th>\n",
       "      <th>rooms_4</th>\n",
       "      <th>rooms_5</th>\n",
       "      <th>rooms_6</th>\n",
       "      <th>rooms_7</th>\n",
       "      <th>...</th>\n",
       "      <th>cluster_90</th>\n",
       "      <th>cluster_91</th>\n",
       "      <th>cluster_92</th>\n",
       "      <th>cluster_93</th>\n",
       "      <th>cluster_94</th>\n",
       "      <th>cluster_95</th>\n",
       "      <th>cluster_96</th>\n",
       "      <th>cluster_97</th>\n",
       "      <th>cluster_98</th>\n",
       "      <th>cluster_99</th>\n",
       "    </tr>\n",
       "  </thead>\n",
       "  <tbody>\n",
       "    <tr>\n",
       "      <th>0</th>\n",
       "      <td>46.30</td>\n",
       "      <td>2021.0</td>\n",
       "      <td>464000.0</td>\n",
       "      <td>1</td>\n",
       "      <td>1</td>\n",
       "      <td>0</td>\n",
       "      <td>0</td>\n",
       "      <td>0</td>\n",
       "      <td>0</td>\n",
       "      <td>0</td>\n",
       "      <td>...</td>\n",
       "      <td>0</td>\n",
       "      <td>0</td>\n",
       "      <td>0</td>\n",
       "      <td>0</td>\n",
       "      <td>0</td>\n",
       "      <td>0</td>\n",
       "      <td>0</td>\n",
       "      <td>0</td>\n",
       "      <td>0</td>\n",
       "      <td>0</td>\n",
       "    </tr>\n",
       "    <tr>\n",
       "      <th>1</th>\n",
       "      <td>80.91</td>\n",
       "      <td>2013.0</td>\n",
       "      <td>849000.0</td>\n",
       "      <td>1</td>\n",
       "      <td>1</td>\n",
       "      <td>0</td>\n",
       "      <td>0</td>\n",
       "      <td>0</td>\n",
       "      <td>0</td>\n",
       "      <td>0</td>\n",
       "      <td>...</td>\n",
       "      <td>0</td>\n",
       "      <td>0</td>\n",
       "      <td>0</td>\n",
       "      <td>0</td>\n",
       "      <td>0</td>\n",
       "      <td>0</td>\n",
       "      <td>0</td>\n",
       "      <td>0</td>\n",
       "      <td>0</td>\n",
       "      <td>0</td>\n",
       "    </tr>\n",
       "    <tr>\n",
       "      <th>2</th>\n",
       "      <td>44.21</td>\n",
       "      <td>2023.0</td>\n",
       "      <td>373100.0</td>\n",
       "      <td>0</td>\n",
       "      <td>1</td>\n",
       "      <td>0</td>\n",
       "      <td>0</td>\n",
       "      <td>0</td>\n",
       "      <td>0</td>\n",
       "      <td>0</td>\n",
       "      <td>...</td>\n",
       "      <td>0</td>\n",
       "      <td>0</td>\n",
       "      <td>0</td>\n",
       "      <td>0</td>\n",
       "      <td>0</td>\n",
       "      <td>0</td>\n",
       "      <td>0</td>\n",
       "      <td>0</td>\n",
       "      <td>0</td>\n",
       "      <td>0</td>\n",
       "    </tr>\n",
       "    <tr>\n",
       "      <th>3</th>\n",
       "      <td>34.00</td>\n",
       "      <td>1952.0</td>\n",
       "      <td>409900.0</td>\n",
       "      <td>1</td>\n",
       "      <td>0</td>\n",
       "      <td>0</td>\n",
       "      <td>0</td>\n",
       "      <td>0</td>\n",
       "      <td>0</td>\n",
       "      <td>0</td>\n",
       "      <td>...</td>\n",
       "      <td>0</td>\n",
       "      <td>0</td>\n",
       "      <td>0</td>\n",
       "      <td>0</td>\n",
       "      <td>0</td>\n",
       "      <td>0</td>\n",
       "      <td>0</td>\n",
       "      <td>0</td>\n",
       "      <td>0</td>\n",
       "      <td>0</td>\n",
       "    </tr>\n",
       "    <tr>\n",
       "      <th>4</th>\n",
       "      <td>46.70</td>\n",
       "      <td>1984.0</td>\n",
       "      <td>329000.0</td>\n",
       "      <td>1</td>\n",
       "      <td>1</td>\n",
       "      <td>0</td>\n",
       "      <td>0</td>\n",
       "      <td>0</td>\n",
       "      <td>0</td>\n",
       "      <td>0</td>\n",
       "      <td>...</td>\n",
       "      <td>0</td>\n",
       "      <td>0</td>\n",
       "      <td>0</td>\n",
       "      <td>0</td>\n",
       "      <td>0</td>\n",
       "      <td>0</td>\n",
       "      <td>0</td>\n",
       "      <td>0</td>\n",
       "      <td>0</td>\n",
       "      <td>0</td>\n",
       "    </tr>\n",
       "    <tr>\n",
       "      <th>...</th>\n",
       "      <td>...</td>\n",
       "      <td>...</td>\n",
       "      <td>...</td>\n",
       "      <td>...</td>\n",
       "      <td>...</td>\n",
       "      <td>...</td>\n",
       "      <td>...</td>\n",
       "      <td>...</td>\n",
       "      <td>...</td>\n",
       "      <td>...</td>\n",
       "      <td>...</td>\n",
       "      <td>...</td>\n",
       "      <td>...</td>\n",
       "      <td>...</td>\n",
       "      <td>...</td>\n",
       "      <td>...</td>\n",
       "      <td>...</td>\n",
       "      <td>...</td>\n",
       "      <td>...</td>\n",
       "      <td>...</td>\n",
       "      <td>...</td>\n",
       "    </tr>\n",
       "    <tr>\n",
       "      <th>50411</th>\n",
       "      <td>27.00</td>\n",
       "      <td>1948.0</td>\n",
       "      <td>340000.0</td>\n",
       "      <td>1</td>\n",
       "      <td>1</td>\n",
       "      <td>0</td>\n",
       "      <td>0</td>\n",
       "      <td>0</td>\n",
       "      <td>0</td>\n",
       "      <td>0</td>\n",
       "      <td>...</td>\n",
       "      <td>0</td>\n",
       "      <td>0</td>\n",
       "      <td>0</td>\n",
       "      <td>0</td>\n",
       "      <td>0</td>\n",
       "      <td>0</td>\n",
       "      <td>0</td>\n",
       "      <td>0</td>\n",
       "      <td>0</td>\n",
       "      <td>0</td>\n",
       "    </tr>\n",
       "    <tr>\n",
       "      <th>50412</th>\n",
       "      <td>48.42</td>\n",
       "      <td>2019.0</td>\n",
       "      <td>539000.0</td>\n",
       "      <td>1</td>\n",
       "      <td>1</td>\n",
       "      <td>0</td>\n",
       "      <td>0</td>\n",
       "      <td>0</td>\n",
       "      <td>0</td>\n",
       "      <td>0</td>\n",
       "      <td>...</td>\n",
       "      <td>0</td>\n",
       "      <td>0</td>\n",
       "      <td>0</td>\n",
       "      <td>0</td>\n",
       "      <td>0</td>\n",
       "      <td>0</td>\n",
       "      <td>0</td>\n",
       "      <td>0</td>\n",
       "      <td>0</td>\n",
       "      <td>0</td>\n",
       "    </tr>\n",
       "    <tr>\n",
       "      <th>50413</th>\n",
       "      <td>54.00</td>\n",
       "      <td>2020.0</td>\n",
       "      <td>499002.0</td>\n",
       "      <td>0</td>\n",
       "      <td>0</td>\n",
       "      <td>1</td>\n",
       "      <td>0</td>\n",
       "      <td>0</td>\n",
       "      <td>0</td>\n",
       "      <td>0</td>\n",
       "      <td>...</td>\n",
       "      <td>0</td>\n",
       "      <td>0</td>\n",
       "      <td>0</td>\n",
       "      <td>0</td>\n",
       "      <td>0</td>\n",
       "      <td>0</td>\n",
       "      <td>0</td>\n",
       "      <td>0</td>\n",
       "      <td>0</td>\n",
       "      <td>0</td>\n",
       "    </tr>\n",
       "    <tr>\n",
       "      <th>50414</th>\n",
       "      <td>82.00</td>\n",
       "      <td>2001.0</td>\n",
       "      <td>940000.0</td>\n",
       "      <td>1</td>\n",
       "      <td>1</td>\n",
       "      <td>0</td>\n",
       "      <td>0</td>\n",
       "      <td>0</td>\n",
       "      <td>0</td>\n",
       "      <td>0</td>\n",
       "      <td>...</td>\n",
       "      <td>0</td>\n",
       "      <td>0</td>\n",
       "      <td>0</td>\n",
       "      <td>0</td>\n",
       "      <td>0</td>\n",
       "      <td>0</td>\n",
       "      <td>0</td>\n",
       "      <td>0</td>\n",
       "      <td>0</td>\n",
       "      <td>0</td>\n",
       "    </tr>\n",
       "    <tr>\n",
       "      <th>50415</th>\n",
       "      <td>134.60</td>\n",
       "      <td>2021.0</td>\n",
       "      <td>749000.0</td>\n",
       "      <td>0</td>\n",
       "      <td>0</td>\n",
       "      <td>0</td>\n",
       "      <td>1</td>\n",
       "      <td>0</td>\n",
       "      <td>0</td>\n",
       "      <td>0</td>\n",
       "      <td>...</td>\n",
       "      <td>0</td>\n",
       "      <td>0</td>\n",
       "      <td>0</td>\n",
       "      <td>0</td>\n",
       "      <td>0</td>\n",
       "      <td>0</td>\n",
       "      <td>0</td>\n",
       "      <td>0</td>\n",
       "      <td>0</td>\n",
       "      <td>0</td>\n",
       "    </tr>\n",
       "  </tbody>\n",
       "</table>\n",
       "<p>50416 rows × 573 columns</p>\n",
       "</div>"
      ],
      "text/plain": [
       "         area  build_yr     price  market_wtorny  rooms_2  rooms_3  rooms_4  \\\n",
       "0       46.30    2021.0  464000.0              1        1        0        0   \n",
       "1       80.91    2013.0  849000.0              1        1        0        0   \n",
       "2       44.21    2023.0  373100.0              0        1        0        0   \n",
       "3       34.00    1952.0  409900.0              1        0        0        0   \n",
       "4       46.70    1984.0  329000.0              1        1        0        0   \n",
       "...       ...       ...       ...            ...      ...      ...      ...   \n",
       "50411   27.00    1948.0  340000.0              1        1        0        0   \n",
       "50412   48.42    2019.0  539000.0              1        1        0        0   \n",
       "50413   54.00    2020.0  499002.0              0        0        1        0   \n",
       "50414   82.00    2001.0  940000.0              1        1        0        0   \n",
       "50415  134.60    2021.0  749000.0              0        0        0        1   \n",
       "\n",
       "       rooms_5  rooms_6  rooms_7  ...  cluster_90  cluster_91  cluster_92  \\\n",
       "0            0        0        0  ...           0           0           0   \n",
       "1            0        0        0  ...           0           0           0   \n",
       "2            0        0        0  ...           0           0           0   \n",
       "3            0        0        0  ...           0           0           0   \n",
       "4            0        0        0  ...           0           0           0   \n",
       "...        ...      ...      ...  ...         ...         ...         ...   \n",
       "50411        0        0        0  ...           0           0           0   \n",
       "50412        0        0        0  ...           0           0           0   \n",
       "50413        0        0        0  ...           0           0           0   \n",
       "50414        0        0        0  ...           0           0           0   \n",
       "50415        0        0        0  ...           0           0           0   \n",
       "\n",
       "       cluster_93  cluster_94  cluster_95  cluster_96  cluster_97  cluster_98  \\\n",
       "0               0           0           0           0           0           0   \n",
       "1               0           0           0           0           0           0   \n",
       "2               0           0           0           0           0           0   \n",
       "3               0           0           0           0           0           0   \n",
       "4               0           0           0           0           0           0   \n",
       "...           ...         ...         ...         ...         ...         ...   \n",
       "50411           0           0           0           0           0           0   \n",
       "50412           0           0           0           0           0           0   \n",
       "50413           0           0           0           0           0           0   \n",
       "50414           0           0           0           0           0           0   \n",
       "50415           0           0           0           0           0           0   \n",
       "\n",
       "       cluster_99  \n",
       "0               0  \n",
       "1               0  \n",
       "2               0  \n",
       "3               0  \n",
       "4               0  \n",
       "...           ...  \n",
       "50411           0  \n",
       "50412           0  \n",
       "50413           0  \n",
       "50414           0  \n",
       "50415           0  \n",
       "\n",
       "[50416 rows x 573 columns]"
      ]
     },
     "execution_count": 9,
     "metadata": {},
     "output_type": "execute_result"
    }
   ],
   "source": [
    "frame"
   ]
  },
  {
   "cell_type": "markdown",
   "metadata": {},
   "source": [
    "## train test split"
   ]
  },
  {
   "cell_type": "code",
   "execution_count": 10,
   "metadata": {},
   "outputs": [],
   "source": [
    "X = frame.drop('price',axis=1).values\n",
    "y = frame.price.values"
   ]
  },
  {
   "cell_type": "code",
   "execution_count": 11,
   "metadata": {},
   "outputs": [],
   "source": [
    "from sklearn.model_selection import train_test_split"
   ]
  },
  {
   "cell_type": "code",
   "execution_count": 12,
   "metadata": {},
   "outputs": [],
   "source": [
    "X_train, X_test, y_train, y_test = train_test_split(X, y, test_size=0.25)"
   ]
  },
  {
   "cell_type": "markdown",
   "metadata": {},
   "source": [
    "## scaling"
   ]
  },
  {
   "cell_type": "code",
   "execution_count": 13,
   "metadata": {},
   "outputs": [],
   "source": [
    "from sklearn.preprocessing import MinMaxScaler"
   ]
  },
  {
   "cell_type": "code",
   "execution_count": 14,
   "metadata": {},
   "outputs": [],
   "source": [
    "scaler = MinMaxScaler()"
   ]
  },
  {
   "cell_type": "code",
   "execution_count": 15,
   "metadata": {},
   "outputs": [],
   "source": [
    "X_train= scaler.fit_transform(X_train)"
   ]
  },
  {
   "cell_type": "code",
   "execution_count": 16,
   "metadata": {},
   "outputs": [],
   "source": [
    "X_test = scaler.transform(X_test)"
   ]
  },
  {
   "cell_type": "code",
   "execution_count": 17,
   "metadata": {},
   "outputs": [
    {
     "data": {
      "text/plain": [
       "(37812, 572)"
      ]
     },
     "execution_count": 17,
     "metadata": {},
     "output_type": "execute_result"
    }
   ],
   "source": [
    "X_train.shape"
   ]
  },
  {
   "cell_type": "code",
   "execution_count": 18,
   "metadata": {},
   "outputs": [
    {
     "data": {
      "text/plain": [
       "(12604, 572)"
      ]
     },
     "execution_count": 18,
     "metadata": {},
     "output_type": "execute_result"
    }
   ],
   "source": [
    "X_test.shape"
   ]
  },
  {
   "cell_type": "code",
   "execution_count": 19,
   "metadata": {},
   "outputs": [
    {
     "data": {
      "text/plain": [
       "array([[0.10038961, 0.93548387, 1.        , ..., 0.        , 0.        ,\n",
       "        0.        ],\n",
       "       [0.03376623, 0.97580645, 1.        , ..., 0.        , 0.        ,\n",
       "        0.        ],\n",
       "       [0.15298701, 0.73387097, 1.        , ..., 0.        , 0.        ,\n",
       "        0.        ],\n",
       "       ...,\n",
       "       [0.12392208, 0.60483871, 1.        , ..., 0.        , 0.        ,\n",
       "        0.        ],\n",
       "       [0.14025974, 0.64516129, 1.        , ..., 0.        , 0.        ,\n",
       "        0.        ],\n",
       "       [0.1078961 , 0.96774194, 0.        , ..., 0.        , 0.        ,\n",
       "        0.        ]])"
      ]
     },
     "execution_count": 19,
     "metadata": {},
     "output_type": "execute_result"
    }
   ],
   "source": [
    "X_train"
   ]
  },
  {
   "cell_type": "markdown",
   "metadata": {},
   "source": [
    "## creating model"
   ]
  },
  {
   "cell_type": "code",
   "execution_count": 20,
   "metadata": {},
   "outputs": [],
   "source": [
    "from tensorflow.keras.models import Sequential\n",
    "from tensorflow.keras.layers import Dense, Activation ,Dropout\n",
    "from tensorflow.keras.optimizers import Adam"
   ]
  },
  {
   "cell_type": "code",
   "execution_count": 21,
   "metadata": {},
   "outputs": [],
   "source": [
    "model = Sequential()\n",
    "\n",
    "model.add(Dense(16,activation='relu',input_dim=X_test.shape[1]))\n",
    "model.add(Dense(16,activation='relu'))\n",
    "model.add(Dense(8,activation='relu'))\n",
    "model.add(Dense(8,activation='relu'))\n",
    "\n",
    "model.add(Dense(1))\n",
    "\n",
    "model.compile(optimizer='adam',loss='mean_squared_error')"
   ]
  },
  {
   "cell_type": "code",
   "execution_count": 22,
   "metadata": {},
   "outputs": [
    {
     "name": "stdout",
     "output_type": "stream",
     "text": [
      "Model: \"sequential\"\n",
      "_________________________________________________________________\n",
      "Layer (type)                 Output Shape              Param #   \n",
      "=================================================================\n",
      "dense (Dense)                (None, 16)                9168      \n",
      "_________________________________________________________________\n",
      "dense_1 (Dense)              (None, 16)                272       \n",
      "_________________________________________________________________\n",
      "dense_2 (Dense)              (None, 8)                 136       \n",
      "_________________________________________________________________\n",
      "dense_3 (Dense)              (None, 8)                 72        \n",
      "_________________________________________________________________\n",
      "dense_4 (Dense)              (None, 1)                 9         \n",
      "=================================================================\n",
      "Total params: 9,657\n",
      "Trainable params: 9,657\n",
      "Non-trainable params: 0\n",
      "_________________________________________________________________\n"
     ]
    }
   ],
   "source": [
    "model.summary()"
   ]
  },
  {
   "cell_type": "code",
   "execution_count": 23,
   "metadata": {},
   "outputs": [],
   "source": [
    "from tensorflow.keras.callbacks import EarlyStopping"
   ]
  },
  {
   "cell_type": "code",
   "execution_count": 24,
   "metadata": {},
   "outputs": [],
   "source": [
    "early_stop = EarlyStopping(monitor='val_loss',patience=2)"
   ]
  },
  {
   "cell_type": "code",
   "execution_count": 25,
   "metadata": {
    "scrolled": true
   },
   "outputs": [
    {
     "name": "stdout",
     "output_type": "stream",
     "text": [
      "Train on 37812 samples, validate on 12604 samples\n",
      "Epoch 1/1500\n",
      "37812/37812 [==============================] - 1s 23us/sample - loss: 630755028124.0968 - val_loss: 623544610123.1508\n",
      "Epoch 2/1500\n",
      "37812/37812 [==============================] - 0s 9us/sample - loss: 628755315961.2568 - val_loss: 617530473482.0742\n",
      "Epoch 3/1500\n",
      "37812/37812 [==============================] - 0s 9us/sample - loss: 609323401342.5242 - val_loss: 576755711246.0552\n",
      "Epoch 4/1500\n",
      "37812/37812 [==============================] - 0s 8us/sample - loss: 530673426360.0719 - val_loss: 454279501357.9841\n",
      "Epoch 5/1500\n",
      "37812/37812 [==============================] - 0s 8us/sample - loss: 380443196465.9380 - val_loss: 300000252789.2352\n",
      "Epoch 6/1500\n",
      "37812/37812 [==============================] - 0s 9us/sample - loss: 274249496960.1219 - val_loss: 248572360344.5764\n",
      "Epoch 7/1500\n",
      "37812/37812 [==============================] - 0s 8us/sample - loss: 251130472813.4899 - val_loss: 238378645087.3805\n",
      "Epoch 8/1500\n",
      "37812/37812 [==============================] - 0s 8us/sample - loss: 242906202397.1125 - val_loss: 230699421900.0851\n",
      "Epoch 9/1500\n",
      "37812/37812 [==============================] - 0s 9us/sample - loss: 235741895933.5898 - val_loss: 223703478920.6525\n",
      "Epoch 10/1500\n",
      "37812/37812 [==============================] - 0s 9us/sample - loss: 228931012709.1759 - val_loss: 216948642531.6458\n",
      "Epoch 11/1500\n",
      "37812/37812 [==============================] - 0s 8us/sample - loss: 222236095136.9174 - val_loss: 210086466639.6192\n",
      "Epoch 12/1500\n",
      "37812/37812 [==============================] - 0s 9us/sample - loss: 215568018345.4480 - val_loss: 203280013381.5449\n",
      "Epoch 13/1500\n",
      "37812/37812 [==============================] - 0s 8us/sample - loss: 208830864128.0271 - val_loss: 196436933090.9146\n",
      "Epoch 14/1500\n",
      "37812/37812 [==============================] - 0s 8us/sample - loss: 202038327191.3577 - val_loss: 189391134187.0390\n",
      "Epoch 15/1500\n",
      "37812/37812 [==============================] - 0s 9us/sample - loss: 195092799777.4455 - val_loss: 182365343126.5452\n",
      "Epoch 16/1500\n",
      "37812/37812 [==============================] - 0s 8us/sample - loss: 188198764933.1048 - val_loss: 175490705057.6757\n",
      "Epoch 17/1500\n",
      "37812/37812 [==============================] - 0s 8us/sample - loss: 181469410805.6549 - val_loss: 168810309349.2707\n",
      "Epoch 18/1500\n",
      "37812/37812 [==============================] - 0s 9us/sample - loss: 175054470954.8156 - val_loss: 162541921501.3088\n",
      "Epoch 19/1500\n",
      "37812/37812 [==============================] - 0s 8us/sample - loss: 169002982423.0733 - val_loss: 156845506986.3688\n",
      "Epoch 20/1500\n",
      "37812/37812 [==============================] - 0s 10us/sample - loss: 163511515229.8098 - val_loss: 151587317165.2935\n",
      "Epoch 21/1500\n",
      "37812/37812 [==============================] - 0s 12us/sample - loss: 158563521551.4905 - val_loss: 147096376243.6306\n",
      "Epoch 22/1500\n",
      "37812/37812 [==============================] - 0s 11us/sample - loss: 154092347966.5579 - val_loss: 143038460999.8197\n",
      "Epoch 23/1500\n",
      "37812/37812 [==============================] - 0s 11us/sample - loss: 150105340761.2872 - val_loss: 139496779670.7077\n",
      "Epoch 24/1500\n",
      "37812/37812 [==============================] - 0s 12us/sample - loss: 146467370856.5611 - val_loss: 136192328823.9162\n",
      "Epoch 25/1500\n",
      "37812/37812 [==============================] - 0s 11us/sample - loss: 143193837560.6339 - val_loss: 133360250857.9016\n",
      "Epoch 26/1500\n",
      "37812/37812 [==============================] - 0s 12us/sample - loss: 140285868681.3024 - val_loss: 130772541827.3716\n",
      "Epoch 27/1500\n",
      "37812/37812 [==============================] - 0s 11us/sample - loss: 137661957248.5822 - val_loss: 128510434113.8889\n",
      "Epoch 28/1500\n",
      "37812/37812 [==============================] - 0s 11us/sample - loss: 135314153218.0853 - val_loss: 126503624644.2044\n",
      "Epoch 29/1500\n",
      "37812/37812 [==============================] - 0s 11us/sample - loss: 133209957840.8243 - val_loss: 124695438484.5141\n",
      "Epoch 30/1500\n",
      "37812/37812 [==============================] - 0s 11us/sample - loss: 131320421182.4225 - val_loss: 123070565855.3399\n",
      "Epoch 31/1500\n",
      "37812/37812 [==============================] - 0s 11us/sample - loss: 129630607670.4606 - val_loss: 121583635316.5852\n",
      "Epoch 32/1500\n",
      "37812/37812 [==============================] - 0s 11us/sample - loss: 128004771249.4099 - val_loss: 120291117685.8039\n",
      "Epoch 33/1500\n",
      "37812/37812 [==============================] - 0s 11us/sample - loss: 126539928018.2325 - val_loss: 118906836967.9518\n",
      "Epoch 34/1500\n",
      "37812/37812 [==============================] - 0s 11us/sample - loss: 125162615910.5842 - val_loss: 117665654366.0806\n",
      "Epoch 35/1500\n",
      "37812/37812 [==============================] - 0s 11us/sample - loss: 123885445169.8297 - val_loss: 116503807407.8934\n",
      "Epoch 36/1500\n",
      "37812/37812 [==============================] - 0s 11us/sample - loss: 122576983825.0342 - val_loss: 115334615259.6839\n",
      "Epoch 37/1500\n",
      "37812/37812 [==============================] - 0s 10us/sample - loss: 121287908438.3353 - val_loss: 114151976854.7077\n",
      "Epoch 38/1500\n",
      "37812/37812 [==============================] - 0s 11us/sample - loss: 119941450347.4046 - val_loss: 112766236000.5992\n",
      "Epoch 39/1500\n",
      "37812/37812 [==============================] - 0s 10us/sample - loss: 118328406172.4219 - val_loss: 111092718875.0543\n",
      "Epoch 40/1500\n",
      "37812/37812 [==============================] - 0s 11us/sample - loss: 116411010570.6700 - val_loss: 109108197260.9584\n",
      "Epoch 41/1500\n",
      "37812/37812 [==============================] - 0s 11us/sample - loss: 114249822951.9788 - val_loss: 107001078194.1682\n",
      "Epoch 42/1500\n",
      "37812/37812 [==============================] - 0s 11us/sample - loss: 111965317993.5360 - val_loss: 104637393757.1869\n",
      "Epoch 43/1500\n",
      "37812/37812 [==============================] - 0s 11us/sample - loss: 109636543858.3645 - val_loss: 102332570485.8851\n",
      "Epoch 44/1500\n",
      "37812/37812 [==============================] - 0s 11us/sample - loss: 107224546844.4354 - val_loss: 99893666298.9629\n",
      "Epoch 45/1500\n",
      "37812/37812 [==============================] - 0s 13us/sample - loss: 104791639909.5280 - val_loss: 97489986224.9495\n",
      "Epoch 46/1500\n",
      "37812/37812 [==============================] - 0s 13us/sample - loss: 102367332883.0111 - val_loss: 95021030319.0809\n",
      "Epoch 47/1500\n",
      "37812/37812 [==============================] - 0s 13us/sample - loss: 99961420831.7393 - val_loss: 92596465891.4833\n",
      "Epoch 48/1500\n",
      "37812/37812 [==============================] - 0s 12us/sample - loss: 97654452801.1577 - val_loss: 90233943382.1999\n",
      "Epoch 49/1500\n",
      "37812/37812 [==============================] - 0s 11us/sample - loss: 95414781007.1859 - val_loss: 87968197744.7667\n",
      "Epoch 50/1500\n",
      "37812/37812 [==============================] - 1s 14us/sample - loss: 93281288075.0086 - val_loss: 85837628437.1235\n",
      "Epoch 51/1500\n",
      "37812/37812 [==============================] - 1s 14us/sample - loss: 91276938609.2813 - val_loss: 83752176536.9825\n",
      "Epoch 52/1500\n",
      "37812/37812 [==============================] - 1s 14us/sample - loss: 89333730658.5490 - val_loss: 81858903455.6446\n",
      "Epoch 53/1500\n",
      "37812/37812 [==============================] - ETA: 0s - loss: 87846061260.800 - 1s 14us/sample - loss: 87464978074.7428 - val_loss: 80074910000.8277\n",
      "Epoch 54/1500\n",
      "37812/37812 [==============================] - 1s 14us/sample - loss: 85780633682.9773 - val_loss: 78351463095.4491\n",
      "Epoch 55/1500\n",
      "37812/37812 [==============================] - 1s 13us/sample - loss: 84163455361.8551 - val_loss: 76766620919.9568\n",
      "Epoch 56/1500\n",
      "37812/37812 [==============================] - 0s 11us/sample - loss: 82656445428.1925 - val_loss: 75237514751.8375\n",
      "Epoch 57/1500\n",
      "37812/37812 [==============================] - 0s 11us/sample - loss: 81193479101.3799 - val_loss: 73835596530.5947\n",
      "Epoch 58/1500\n",
      "37812/37812 [==============================] - 0s 10us/sample - loss: 79839777576.5408 - val_loss: 72574062702.4919\n",
      "Epoch 59/1500\n",
      "37812/37812 [==============================] - 0s 11us/sample - loss: 78535044746.2774 - val_loss: 71223264599.4998\n",
      "Epoch 60/1500\n",
      "37812/37812 [==============================] - 0s 11us/sample - loss: 77316791668.3144 - val_loss: 70113398754.1022\n",
      "Epoch 61/1500\n",
      "37812/37812 [==============================] - 0s 11us/sample - loss: 76173241950.7306 - val_loss: 68978113946.4449\n",
      "Epoch 62/1500\n",
      "37812/37812 [==============================] - 0s 11us/sample - loss: 75131511992.9115 - val_loss: 67925778850.5693\n"
     ]
    },
    {
     "name": "stdout",
     "output_type": "stream",
     "text": [
      "Epoch 63/1500\n",
      "37812/37812 [==============================] - 0s 11us/sample - loss: 74043955953.7281 - val_loss: 67067624718.0552\n",
      "Epoch 64/1500\n",
      "37812/37812 [==============================] - 0s 11us/sample - loss: 73059794932.7342 - val_loss: 66088325594.4652\n",
      "Epoch 65/1500\n",
      "37812/37812 [==============================] - 0s 11us/sample - loss: 72129784222.0197 - val_loss: 65175855096.2006\n",
      "Epoch 66/1500\n",
      "37812/37812 [==============================] - 0s 10us/sample - loss: 71265820642.3188 - val_loss: 64333704684.3389\n",
      "Epoch 67/1500\n",
      "37812/37812 [==============================] - 0s 11us/sample - loss: 70414082558.4293 - val_loss: 63606663462.4284\n",
      "Epoch 68/1500\n",
      "37812/37812 [==============================] - 0s 11us/sample - loss: 69630653169.5115 - val_loss: 62891169596.3643\n",
      "Epoch 69/1500\n",
      "37812/37812 [==============================] - 0s 11us/sample - loss: 68883003720.6593 - val_loss: 62126518925.8521\n",
      "Epoch 70/1500\n",
      "37812/37812 [==============================] - 0s 11us/sample - loss: 68185130968.7862 - val_loss: 61478882377.7696\n",
      "Epoch 71/1500\n",
      "37812/37812 [==============================] - 0s 10us/sample - loss: 67490411406.1500 - val_loss: 60880726570.4094\n",
      "Epoch 72/1500\n",
      "37812/37812 [==============================] - 0s 11us/sample - loss: 66852306925.8013 - val_loss: 60257746450.0362\n",
      "Epoch 73/1500\n",
      "37812/37812 [==============================] - 0s 11us/sample - loss: 66237825934.3667 - val_loss: 59756184758.3116\n",
      "Epoch 74/1500\n",
      "37812/37812 [==============================] - 0s 11us/sample - loss: 65626140416.7854 - val_loss: 59166353541.2402\n",
      "Epoch 75/1500\n",
      "37812/37812 [==============================] - 0s 11us/sample - loss: 65088258447.5041 - val_loss: 58693613463.3577\n",
      "Epoch 76/1500\n",
      "37812/37812 [==============================] - 0s 11us/sample - loss: 64503125025.6892 - val_loss: 58211319958.7890\n",
      "Epoch 77/1500\n",
      "37812/37812 [==============================] - 0s 11us/sample - loss: 63935168317.0143 - val_loss: 57716049577.4751\n",
      "Epoch 78/1500\n",
      "37812/37812 [==============================] - 0s 12us/sample - loss: 63407346224.2590 - val_loss: 57239200136.5712\n",
      "Epoch 79/1500\n",
      "37812/37812 [==============================] - 1s 13us/sample - loss: 62894656795.4876 - val_loss: 56774686282.5820\n",
      "Epoch 80/1500\n",
      "37812/37812 [==============================] - 0s 11us/sample - loss: 62440985643.2218 - val_loss: 56365452450.1631\n",
      "Epoch 81/1500\n",
      "37812/37812 [==============================] - 0s 11us/sample - loss: 61930048951.4761 - val_loss: 56017344342.3624\n",
      "Epoch 82/1500\n",
      "37812/37812 [==============================] - 0s 11us/sample - loss: 61454293258.2638 - val_loss: 55492640560.0152\n",
      "Epoch 83/1500\n",
      "37812/37812 [==============================] - 0s 11us/sample - loss: 61021843127.1241 - val_loss: 55112618864.0355\n",
      "Epoch 84/1500\n",
      "37812/37812 [==============================] - 0s 11us/sample - loss: 60564974616.8065 - val_loss: 54788158572.2171\n",
      "Epoch 85/1500\n",
      "37812/37812 [==============================] - 0s 11us/sample - loss: 60116738126.8609 - val_loss: 54360525585.7924\n",
      "Epoch 86/1500\n",
      "37812/37812 [==============================] - 0s 12us/sample - loss: 59713307284.3516 - val_loss: 54039411768.8708\n",
      "Epoch 87/1500\n",
      "37812/37812 [==============================] - 0s 11us/sample - loss: 59276978388.5344 - val_loss: 53747240748.1155\n",
      "Epoch 88/1500\n",
      "37812/37812 [==============================] - 0s 12us/sample - loss: 58867117861.6160 - val_loss: 53379998873.7137\n",
      "Epoch 89/1500\n",
      "37812/37812 [==============================] - 0s 12us/sample - loss: 58497632884.5040 - val_loss: 53048765453.9740\n",
      "Epoch 90/1500\n",
      "37812/37812 [==============================] - 0s 11us/sample - loss: 58146599672.4443 - val_loss: 52677994057.2821\n",
      "Epoch 91/1500\n",
      "37812/37812 [==============================] - 0s 12us/sample - loss: 57731753031.3864 - val_loss: 52497578336.9242\n",
      "Epoch 92/1500\n",
      "37812/37812 [==============================] - 0s 11us/sample - loss: 57385500512.5450 - val_loss: 52134818211.8692\n",
      "Epoch 93/1500\n",
      "37812/37812 [==============================] - 0s 12us/sample - loss: 57048000295.1325 - val_loss: 51847168353.5741\n",
      "Epoch 94/1500\n",
      "37812/37812 [==============================] - 0s 12us/sample - loss: 56677451691.5062 - val_loss: 51510956527.2637\n",
      "Epoch 95/1500\n",
      "37812/37812 [==============================] - 0s 12us/sample - loss: 56280172013.3139 - val_loss: 51293247827.9251\n",
      "Epoch 96/1500\n",
      "37812/37812 [==============================] - 0s 12us/sample - loss: 55955517926.1644 - val_loss: 51023177299.6814\n",
      "Epoch 97/1500\n",
      "37812/37812 [==============================] - 0s 12us/sample - loss: 55629146981.2030 - val_loss: 50803821943.3475\n",
      "Epoch 98/1500\n",
      "37812/37812 [==============================] - 0s 12us/sample - loss: 55303224044.0952 - val_loss: 50530521484.4710\n",
      "Epoch 99/1500\n",
      "37812/37812 [==============================] - 0s 12us/sample - loss: 54975020441.5783 - val_loss: 50280934793.5462\n",
      "Epoch 100/1500\n",
      "37812/37812 [==============================] - 0s 12us/sample - loss: 54719030982.5063 - val_loss: 50032665176.5560\n",
      "Epoch 101/1500\n",
      "37812/37812 [==============================] - 0s 12us/sample - loss: 54343704939.1067 - val_loss: 49797474473.6376\n",
      "Epoch 102/1500\n",
      "37812/37812 [==============================] - 0s 12us/sample - loss: 54063177388.7249 - val_loss: 49628277565.9892\n",
      "Epoch 103/1500\n",
      "37812/37812 [==============================] - 0s 12us/sample - loss: 53729674926.2414 - val_loss: 49393521530.4348\n",
      "Epoch 104/1500\n",
      "37812/37812 [==============================] - 0s 12us/sample - loss: 53469071273.1230 - val_loss: 49166508861.3393\n",
      "Epoch 105/1500\n",
      "37812/37812 [==============================] - 0s 12us/sample - loss: 53200484385.1476 - val_loss: 49132180653.2123\n",
      "Epoch 106/1500\n",
      "37812/37812 [==============================] - 0s 12us/sample - loss: 52945079767.1072 - val_loss: 48845619595.1711\n",
      "Epoch 107/1500\n",
      "37812/37812 [==============================] - 0s 12us/sample - loss: 52695851148.8230 - val_loss: 48671949652.7375\n",
      "Epoch 108/1500\n",
      "37812/37812 [==============================] - 0s 12us/sample - loss: 52344531556.9051 - val_loss: 48454330636.4303\n",
      "Epoch 109/1500\n",
      "37812/37812 [==============================] - 0s 12us/sample - loss: 52128332840.1887 - val_loss: 48314296791.2155\n",
      "Epoch 110/1500\n",
      "37812/37812 [==============================] - 0s 12us/sample - loss: 51865185364.1688 - val_loss: 48125392973.3443\n",
      "Epoch 111/1500\n",
      "37812/37812 [==============================] - 0s 11us/sample - loss: 51621699675.6433 - val_loss: 48017135248.7769\n",
      "Epoch 112/1500\n",
      "37812/37812 [==============================] - 0s 12us/sample - loss: 51375633601.1442 - val_loss: 47946868541.6642\n",
      "Epoch 113/1500\n",
      "37812/37812 [==============================] - 0s 12us/sample - loss: 51145645428.7477 - val_loss: 47784688665.6731\n",
      "Epoch 114/1500\n",
      "37812/37812 [==============================] - 0s 12us/sample - loss: 50952635850.3248 - val_loss: 47551739726.5630\n",
      "Epoch 115/1500\n",
      "37812/37812 [==============================] - 0s 12us/sample - loss: 50723338574.0755 - val_loss: 47458502308.2755\n",
      "Epoch 116/1500\n",
      "37812/37812 [==============================] - 0s 11us/sample - loss: 50489829593.7341 - val_loss: 47253416204.4303\n",
      "Epoch 117/1500\n",
      "37812/37812 [==============================] - 0s 12us/sample - loss: 50266834885.3960 - val_loss: 47213362279.6674\n",
      "Epoch 118/1500\n",
      "37812/37812 [==============================] - 0s 12us/sample - loss: 50096516782.4581 - val_loss: 46997711641.5919\n",
      "Epoch 119/1500\n",
      "37812/37812 [==============================] - 0s 12us/sample - loss: 49882142262.6502 - val_loss: 46856893579.4148\n",
      "Epoch 120/1500\n",
      "37812/37812 [==============================] - 0s 12us/sample - loss: 49644404052.6834 - val_loss: 46768822450.7369\n",
      "Epoch 121/1500\n",
      "37812/37812 [==============================] - 0s 11us/sample - loss: 49442797894.9261 - val_loss: 46651261037.1920\n",
      "Epoch 122/1500\n",
      "37812/37812 [==============================] - 0s 11us/sample - loss: 49285772715.1270 - val_loss: 46588228445.8369\n",
      "Epoch 123/1500\n",
      "37812/37812 [==============================] - 0s 12us/sample - loss: 49091565641.8779 - val_loss: 46385042470.0222\n",
      "Epoch 124/1500\n",
      "37812/37812 [==============================] - 0s 12us/sample - loss: 48886469611.9598 - val_loss: 46435342421.1438\n",
      "Epoch 125/1500\n",
      "37812/37812 [==============================] - 0s 11us/sample - loss: 48726169950.3243 - val_loss: 46224052038.1136\n"
     ]
    },
    {
     "name": "stdout",
     "output_type": "stream",
     "text": [
      "Epoch 126/1500\n",
      "37812/37812 [==============================] - 0s 11us/sample - loss: 48542789836.0851 - val_loss: 46108889988.8340\n",
      "Epoch 127/1500\n",
      "37812/37812 [==============================] - 0s 11us/sample - loss: 48373200494.1128 - val_loss: 45988557490.2494\n",
      "Epoch 128/1500\n",
      "37812/37812 [==============================] - 0s 12us/sample - loss: 48174809875.3090 - val_loss: 45851652183.0936\n",
      "Epoch 129/1500\n",
      "37812/37812 [==============================] - 0s 11us/sample - loss: 48056724639.1300 - val_loss: 45824888807.3018\n",
      "Epoch 130/1500\n",
      "37812/37812 [==============================] - 0s 11us/sample - loss: 47838783420.1883 - val_loss: 45678038885.3113\n",
      "Epoch 131/1500\n",
      "37812/37812 [==============================] - 0s 11us/sample - loss: 47684964313.2195 - val_loss: 45548067239.1190\n",
      "Epoch 132/1500\n",
      "37812/37812 [==============================] - 0s 11us/sample - loss: 47481638086.1272 - val_loss: 45529480441.2567\n",
      "Epoch 133/1500\n",
      "37812/37812 [==============================] - 0s 11us/sample - loss: 47413213010.2461 - val_loss: 45347966415.7410\n",
      "Epoch 134/1500\n",
      "37812/37812 [==============================] - 0s 11us/sample - loss: 47264022455.2053 - val_loss: 45294680146.5440\n",
      "Epoch 135/1500\n",
      "37812/37812 [==============================] - 0s 10us/sample - loss: 47052543894.1661 - val_loss: 45173565323.6585\n",
      "Epoch 136/1500\n",
      "37812/37812 [==============================] - 0s 11us/sample - loss: 46924497465.7916 - val_loss: 45086430188.8264\n",
      "Epoch 137/1500\n",
      "37812/37812 [==============================] - 0s 13us/sample - loss: 46707325588.1350 - val_loss: 45131930184.3072\n",
      "Epoch 138/1500\n",
      "37812/37812 [==============================] - 0s 13us/sample - loss: 46607323551.9695 - val_loss: 44993387652.2653\n",
      "Epoch 139/1500\n",
      "37812/37812 [==============================] - 1s 13us/sample - loss: 46478183658.3078 - val_loss: 44890393096.6119\n",
      "Epoch 140/1500\n",
      "37812/37812 [==============================] - 1s 14us/sample - loss: 46297748581.2842 - val_loss: 44862051189.2352\n",
      "Epoch 141/1500\n",
      "37812/37812 [==============================] - 0s 13us/sample - loss: 46176307655.6166 - val_loss: 44767895663.7918\n",
      "Epoch 142/1500\n",
      "37812/37812 [==============================] - 1s 15us/sample - loss: 46035137143.3204 - val_loss: 44692097705.8001\n",
      "Epoch 143/1500\n",
      "37812/37812 [==============================] - 0s 12us/sample - loss: 45904189309.5762 - val_loss: 44634958997.1641\n",
      "Epoch 144/1500\n",
      "37812/37812 [==============================] - 0s 11us/sample - loss: 45734489726.7949 - val_loss: 44565407580.8619\n",
      "Epoch 145/1500\n",
      "37812/37812 [==============================] - 0s 12us/sample - loss: 45627851055.5278 - val_loss: 44494060954.4449\n",
      "Epoch 146/1500\n",
      "37812/37812 [==============================] - 0s 11us/sample - loss: 45486121646.7830 - val_loss: 44415705220.5903\n",
      "Epoch 147/1500\n",
      "37812/37812 [==============================] - 0s 12us/sample - loss: 45359775159.0428 - val_loss: 44341246216.5306\n",
      "Epoch 148/1500\n",
      "37812/37812 [==============================] - 0s 12us/sample - loss: 45245197258.1623 - val_loss: 44307061590.6874\n",
      "Epoch 149/1500\n",
      "37812/37812 [==============================] - 0s 12us/sample - loss: 45133551713.2762 - val_loss: 44258299915.6991\n",
      "Epoch 150/1500\n",
      "37812/37812 [==============================] - 0s 12us/sample - loss: 44974936949.6685 - val_loss: 44294387841.3405\n",
      "Epoch 151/1500\n",
      "37812/37812 [==============================] - 1s 15us/sample - loss: 44885136146.4424 - val_loss: 44163704616.8658\n",
      "Epoch 152/1500\n",
      "37812/37812 [==============================] - 0s 13us/sample - loss: 44784210802.6354 - val_loss: 44088552586.7648\n",
      "Epoch 153/1500\n",
      "37812/37812 [==============================] - 0s 11us/sample - loss: 44619200241.4032 - val_loss: 44085076724.5446\n",
      "Epoch 154/1500\n",
      "37812/37812 [==============================] - 0s 10us/sample - loss: 44548249776.5704 - val_loss: 44006047036.8518\n",
      "Epoch 155/1500\n",
      "37812/37812 [==============================] - 0s 10us/sample - loss: 44509458568.4900 - val_loss: 43958382387.9149\n",
      "Epoch 156/1500\n",
      "37812/37812 [==============================] - 0s 11us/sample - loss: 44305116763.6974 - val_loss: 44010385921.4624\n",
      "Epoch 157/1500\n",
      "37812/37812 [==============================] - 0s 12us/sample - loss: 44242567262.4597 - val_loss: 43856786727.4034\n",
      "Epoch 158/1500\n",
      "37812/37812 [==============================] - 1s 14us/sample - loss: 44075988793.7645 - val_loss: 43802073755.5011\n",
      "Epoch 159/1500\n",
      "37812/37812 [==============================] - 1s 14us/sample - loss: 43955709946.5837 - val_loss: 43771664812.3186\n",
      "Epoch 160/1500\n",
      "37812/37812 [==============================] - 0s 13us/sample - loss: 43906308684.2069 - val_loss: 43709170963.9048\n",
      "Epoch 161/1500\n",
      "37812/37812 [==============================] - 0s 12us/sample - loss: 43839985349.7480 - val_loss: 43682713606.4995\n",
      "Epoch 162/1500\n",
      "37812/37812 [==============================] - 0s 13us/sample - loss: 43726719504.6279 - val_loss: 43630996894.3447\n",
      "Epoch 163/1500\n",
      "37812/37812 [==============================] - 0s 13us/sample - loss: 43571127277.6930 - val_loss: 43620261147.0543\n",
      "Epoch 164/1500\n",
      "37812/37812 [==============================] - 0s 11us/sample - loss: 43413745490.2461 - val_loss: 43878418838.2202\n",
      "Epoch 165/1500\n",
      "37812/37812 [==============================] - 0s 11us/sample - loss: 43432513799.0141 - val_loss: 43508412607.0860\n",
      "Epoch 166/1500\n",
      "37812/37812 [==============================] - 0s 13us/sample - loss: 43262810882.0853 - val_loss: 43453079819.7804\n",
      "Epoch 167/1500\n",
      "37812/37812 [==============================] - 0s 12us/sample - loss: 43166745376.7414 - val_loss: 43445543689.3431\n",
      "Epoch 168/1500\n",
      "37812/37812 [==============================] - 0s 12us/sample - loss: 43116503510.5655 - val_loss: 43365846578.5338\n",
      "Epoch 169/1500\n",
      "37812/37812 [==============================] - 0s 11us/sample - loss: 42950548829.5661 - val_loss: 43325583473.0917\n",
      "Epoch 170/1500\n",
      "37812/37812 [==============================] - 0s 10us/sample - loss: 42878495359.9865 - val_loss: 43316610750.2736\n",
      "Epoch 171/1500\n",
      "37812/37812 [==============================] - 0s 12us/sample - loss: 42845565625.6156 - val_loss: 43277096545.9803\n",
      "Epoch 172/1500\n",
      "37812/37812 [==============================] - 0s 12us/sample - loss: 42747579235.2531 - val_loss: 43235638318.4716\n",
      "Epoch 173/1500\n",
      "37812/37812 [==============================] - 0s 11us/sample - loss: 42617636765.2072 - val_loss: 43229813216.3148\n",
      "Epoch 174/1500\n",
      "37812/37812 [==============================] - 0s 11us/sample - loss: 42514444656.0897 - val_loss: 43171333234.7166\n",
      "Epoch 175/1500\n",
      "37812/37812 [==============================] - 0s 11us/sample - loss: 42440818627.1211 - val_loss: 43231528279.4998\n",
      "Epoch 176/1500\n",
      "37812/37812 [==============================] - 0s 11us/sample - loss: 42359244933.2402 - val_loss: 43068723523.6763\n",
      "Epoch 177/1500\n",
      "37812/37812 [==============================] - 0s 11us/sample - loss: 42247281639.8434 - val_loss: 43069781011.8235\n",
      "Epoch 178/1500\n",
      "37812/37812 [==============================] - 0s 12us/sample - loss: 42176363300.4244 - val_loss: 43034068592.2793\n",
      "Epoch 179/1500\n",
      "37812/37812 [==============================] - 0s 13us/sample - loss: 42074778011.8532 - val_loss: 42987281743.0505\n",
      "Epoch 180/1500\n",
      "37812/37812 [==============================] - 0s 12us/sample - loss: 42044913573.2233 - val_loss: 42915897528.5865\n",
      "Epoch 181/1500\n",
      "37812/37812 [==============================] - 0s 13us/sample - loss: 41933279681.7671 - val_loss: 42919325211.1355\n",
      "Epoch 182/1500\n",
      "37812/37812 [==============================] - 0s 12us/sample - loss: 41835407798.7179 - val_loss: 42899998096.6957\n",
      "Epoch 183/1500\n",
      "37812/37812 [==============================] - 0s 11us/sample - loss: 41767568024.2514 - val_loss: 42841266157.1514\n",
      "Epoch 184/1500\n",
      "37812/37812 [==============================] - 0s 11us/sample - loss: 41631156369.0477 - val_loss: 42935119657.5157\n",
      "Epoch 185/1500\n",
      "37812/37812 [==============================] - 0s 12us/sample - loss: 41578538353.4979 - val_loss: 42775642449.9752\n",
      "Epoch 186/1500\n",
      "37812/37812 [==============================] - 0s 13us/sample - loss: 41520974683.0204 - val_loss: 42751239196.9229\n",
      "Epoch 187/1500\n",
      "37812/37812 [==============================] - 0s 12us/sample - loss: 41423276216.8031 - val_loss: 42758062657.1577\n",
      "Epoch 188/1500\n"
     ]
    },
    {
     "name": "stdout",
     "output_type": "stream",
     "text": [
      "37812/37812 [==============================] - 0s 11us/sample - loss: 41357654739.3970 - val_loss: 42756426071.8248\n",
      "\n",
      " 1.0 min.\n"
     ]
    }
   ],
   "source": [
    "start = time.time()\n",
    "\n",
    "model.fit(x=X_train,y=y_train,\n",
    "          validation_data=(X_test,y_test),\n",
    "          batch_size=256,epochs=1500,\n",
    "          callbacks=[early_stop],\n",
    "         )\n",
    "\n",
    "stop = time.time()\n",
    "print('\\n',(stop-start)//60,'min.')"
   ]
  },
  {
   "cell_type": "code",
   "execution_count": 26,
   "metadata": {},
   "outputs": [],
   "source": [
    "losses = pd.DataFrame(model.history.history)"
   ]
  },
  {
   "cell_type": "code",
   "execution_count": 27,
   "metadata": {},
   "outputs": [
    {
     "data": {
      "text/plain": [
       "Text(0.5, 1.0, 'Loss and validation loss')"
      ]
     },
     "execution_count": 27,
     "metadata": {},
     "output_type": "execute_result"
    },
    {
     "data": {
      "image/png": "[encoded data removed]",
      "text/plain": [
       "<Figure size 432x288 with 1 Axes>"
      ]
     },
     "metadata": {
      "needs_background": "light"
     },
     "output_type": "display_data"
    }
   ],
   "source": [
    "losses.plot()\n",
    "plt.xlabel('epoch')\n",
    "plt.ylabel('loss')\n",
    "plt.title('Loss and validation loss')"
   ]
  },
  {
   "cell_type": "code",
   "execution_count": 28,
   "metadata": {
    "scrolled": true
   },
   "outputs": [
    {
     "data": {
      "text/plain": [
       "(0.0, 100000000000.0)"
      ]
     },
     "execution_count": 28,
     "metadata": {},
     "output_type": "execute_result"
    },
    {
     "data": {
      "image/png": "[encoded data removed]",
      "text/plain": [
       "<Figure size 432x288 with 1 Axes>"
      ]
     },
     "metadata": {
      "needs_background": "light"
     },
     "output_type": "display_data"
    }
   ],
   "source": [
    "losses.plot()\n",
    "plt.ylim(0,100000000000)"
   ]
  },
  {
   "cell_type": "markdown",
   "metadata": {},
   "source": [
    "## model evaluation"
   ]
  },
  {
   "cell_type": "code",
   "execution_count": 29,
   "metadata": {},
   "outputs": [],
   "source": [
    "from sklearn.metrics import mean_squared_error,mean_absolute_error,r2_score"
   ]
  },
  {
   "cell_type": "code",
   "execution_count": 30,
   "metadata": {},
   "outputs": [],
   "source": [
    "predictions = model.predict(X_test)"
   ]
  },
  {
   "cell_type": "code",
   "execution_count": 31,
   "metadata": {},
   "outputs": [
    {
     "data": {
      "text/plain": [
       "94921.51424180817"
      ]
     },
     "execution_count": 31,
     "metadata": {},
     "output_type": "execute_result"
    }
   ],
   "source": [
    "mean_absolute_error(y_test,predictions)"
   ]
  },
  {
   "cell_type": "code",
   "execution_count": 32,
   "metadata": {},
   "outputs": [
    {
     "data": {
      "text/plain": [
       "206776.27087125805"
      ]
     },
     "execution_count": 32,
     "metadata": {},
     "output_type": "execute_result"
    }
   ],
   "source": [
    "np.sqrt(mean_squared_error(y_test,predictions))"
   ]
  },
  {
   "cell_type": "code",
   "execution_count": 34,
   "metadata": {},
   "outputs": [
    {
     "data": {
      "text/plain": [
       "0.8387795408454164"
      ]
     },
     "execution_count": 34,
     "metadata": {},
     "output_type": "execute_result"
    }
   ],
   "source": [
    "r2_score(y_test,predictions)"
   ]
  },
  {
   "cell_type": "code",
   "execution_count": 35,
   "metadata": {},
   "outputs": [
    {
     "data": {
      "text/plain": [
       "[<matplotlib.lines.Line2D at 0x1ea64c76eb8>]"
      ]
     },
     "execution_count": 35,
     "metadata": {},
     "output_type": "execute_result"
    },
    {
     "data": {
      "image/png": "[encoded data removed]",
      "text/plain": [
       "<Figure size 504x504 with 1 Axes>"
      ]
     },
     "metadata": {
      "needs_background": "light"
     },
     "output_type": "display_data"
    }
   ],
   "source": [
    "plt.figure(figsize=(7,7))\n",
    "# plt.xlim(0,500)\n",
    "# plt.ylim(0,500)\n",
    "\n",
    "# Our predictions\n",
    "plt.scatter(x=y_test,y=predictions,edgecolor=None,alpha=0.2)\n",
    "plt.xlabel('test set')\n",
    "plt.ylabel('predictions')\n",
    "plt.title('Price per $m^{2}$')\n",
    "\n",
    "# Perfect predictions\n",
    "plt.plot(y_test,y_test,'r')"
   ]
  },
  {
   "cell_type": "code",
   "execution_count": 36,
   "metadata": {},
   "outputs": [],
   "source": [
    "errors = y_test.reshape(y_test.shape[0], 1) - predictions"
   ]
  },
  {
   "cell_type": "code",
   "execution_count": 37,
   "metadata": {},
   "outputs": [
    {
     "data": {
      "text/plain": [
       "Text(0.5, 1.0, 'Error distribution')"
      ]
     },
     "execution_count": 37,
     "metadata": {},
     "output_type": "execute_result"
    },
    {
     "data": {
      "image/png": "[encoded data removed]",
      "text/plain": [
       "<Figure size 432x288 with 1 Axes>"
      ]
     },
     "metadata": {
      "needs_background": "light"
     },
     "output_type": "display_data"
    }
   ],
   "source": [
    "# plt.xlim(-200000,200000)\n",
    "\n",
    "sns.histplot(errors)\n",
    "plt.title('Error distribution')"
   ]
  },
  {
   "cell_type": "code",
   "execution_count": 38,
   "metadata": {},
   "outputs": [
    {
     "data": {
      "text/plain": [
       "array([ 351808.06,  333296.44,  490624.3 ,  439353.47,  370223.  ,\n",
       "       1581696.6 ,  725982.2 , 1729158.9 ,  131028.04, 1911294.5 ,\n",
       "        683763.75,  413451.94,  523893.34,  265191.1 ,  324702.97,\n",
       "        463405.72,  162111.7 ,  317593.9 ,  422105.34,  409944.28],\n",
       "      dtype=float32)"
      ]
     },
     "execution_count": 38,
     "metadata": {},
     "output_type": "execute_result"
    }
   ],
   "source": [
    "predictions.reshape(y_test.shape[0])[:20]"
   ]
  },
  {
   "cell_type": "code",
   "execution_count": 39,
   "metadata": {},
   "outputs": [
    {
     "data": {
      "text/plain": [
       "array([ 325000.,  417342.,  480000.,  420000.,  410000., 1682000.,\n",
       "        810000., 2400000.,  119000., 1500000.,  572000.,  475000.,\n",
       "        941097.,  248000.,  365000.,  439000.,  266811.,  314188.,\n",
       "        412100.,  400000.])"
      ]
     },
     "execution_count": 39,
     "metadata": {},
     "output_type": "execute_result"
    }
   ],
   "source": [
    "y_test[:20]"
   ]
  },
  {
   "cell_type": "code",
   "execution_count": 40,
   "metadata": {},
   "outputs": [
    {
     "data": {
      "text/plain": [
       "array([1.08248635, 0.79861705, 1.02213398, 1.04607969, 0.90298293,\n",
       "       0.9403666 , 0.89627431, 0.72048286, 1.10107596, 1.27419633,\n",
       "       1.19539117, 0.87042513, 0.55668368, 1.06931893, 0.88959717,\n",
       "       1.05559389, 0.60759003, 1.01084034, 1.02427892, 1.0248607 ])"
      ]
     },
     "execution_count": 40,
     "metadata": {},
     "output_type": "execute_result"
    }
   ],
   "source": [
    "predictions.reshape(y_test.shape[0])[:20]/y_test[:20]"
   ]
  },
  {
   "cell_type": "markdown",
   "metadata": {},
   "source": [
    "## saving data"
   ]
  },
  {
   "cell_type": "code",
   "execution_count": 41,
   "metadata": {},
   "outputs": [
    {
     "name": "stdout",
     "output_type": "stream",
     "text": [
      "WARNING:tensorflow:From C:\\Users\\piotr\\anaconda3\\envs\\machine_learning_2\\lib\\site-packages\\tensorflow_core\\python\\ops\\resource_variable_ops.py:1781: calling BaseResourceVariable.__init__ (from tensorflow.python.ops.resource_variable_ops) with constraint is deprecated and will be removed in a future version.\n",
      "Instructions for updating:\n",
      "If using Keras pass *_constraint arguments to layers.\n",
      "INFO:tensorflow:Assets written to: models_ann\\2021q2_500_2021-07-13--17-29\\assets\n"
     ]
    }
   ],
   "source": [
    "from datetime import datetime\n",
    "from tensorflow.keras.models import load_model\n",
    "timestamp = datetime.now().strftime(\"%Y-%m-%d--%H-%M\")\n",
    "model.save('models_ann\\\\' + '2021q2_500_' + timestamp)"
   ]
  },
  {
   "cell_type": "code",
   "execution_count": 42,
   "metadata": {},
   "outputs": [
    {
     "data": {
      "text/plain": [
       "['scaler_500_2021q2']"
      ]
     },
     "execution_count": 42,
     "metadata": {},
     "output_type": "execute_result"
    }
   ],
   "source": [
    "import joblib\n",
    "joblib.dump(scaler, 'scaler_500_2021q2')"
   ]
  },
  {
   "cell_type": "code",
   "execution_count": null,
   "metadata": {},
   "outputs": [],
   "source": []
  }
 ],
 "metadata": {
  "kernelspec": {
   "display_name": "Python 3",
   "language": "python",
   "name": "python3"
  },
  "language_info": {
   "codemirror_mode": {
    "name": "ipython",
    "version": 3
   },
   "file_extension": ".py",
   "mimetype": "text/x-python",
   "name": "python",
   "nbconvert_exporter": "python",
   "pygments_lexer": "ipython3",
   "version": "3.6.12"
  }
 },
 "nbformat": 4,
 "nbformat_minor": 4
}
