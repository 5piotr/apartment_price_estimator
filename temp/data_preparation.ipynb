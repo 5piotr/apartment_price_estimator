{
 "cells": [
  {
   "cell_type": "code",
   "execution_count": 1,
   "metadata": {},
   "outputs": [],
   "source": [
    "import os\n",
    "import pandas as pd\n",
    "import numpy as np\n",
    "import pickle as pkl\n",
    "import seaborn as sns\n",
    "sns.set_theme(palette=sns.color_palette('Set2'))\n",
    "import matplotlib.pyplot as plt\n",
    "from sqlalchemy import create_engine"
   ]
  },
  {
   "cell_type": "code",
   "execution_count": 2,
   "metadata": {},
   "outputs": [],
   "source": [
    "pd.options.display.max_columns = 30\n",
    "pd.options.display.max_colwidth = 150"
   ]
  },
  {
   "cell_type": "markdown",
   "metadata": {},
   "source": [
    "## data import"
   ]
  },
  {
   "cell_type": "code",
   "execution_count": 3,
   "metadata": {},
   "outputs": [],
   "source": [
    "# frame = pd.read_csv('..//1_web_scraping//apartment_details.csv')"
   ]
  },
  {
   "cell_type": "code",
   "execution_count": 4,
   "metadata": {},
   "outputs": [],
   "source": [
    "query = '''\n",
    "    select * from apt_details_raw\n",
    "    where date = (select max(date) from apt_details_raw)\n",
    "    '''\n",
    "\n",
    "username = 'piotr'\n",
    "password = os.environ['MYSQL_PASSWORD']\n",
    "host = 'localhost'\n",
    "db_name = 'airflow_db'\n",
    "db_url = f'mysql+mysqlconnector://{username}:{password}@{host}/{db_name}'\n",
    "\n",
    "engine = create_engine(db_url)\n",
    "\n",
    "with engine.connect() as conn:\n",
    "    frame = pd.read_sql_query(sql=query, con=conn, index_col='id')\n",
    "\n",
    "frame.drop(['date'], axis=1, inplace=True)\n",
    "\n",
    "for column in ['localization_y','localization_x','area','build_yr']:\n",
    "    frame[column] = frame[column].astype('float')"
   ]
  },
  {
   "cell_type": "code",
   "execution_count": 5,
   "metadata": {},
   "outputs": [
    {
     "data": {
      "text/plain": [
       "(158036, 14)"
      ]
     },
     "execution_count": 5,
     "metadata": {},
     "output_type": "execute_result"
    }
   ],
   "source": [
    "frame.shape"
   ]
  },
  {
   "cell_type": "code",
   "execution_count": 6,
   "metadata": {},
   "outputs": [
    {
     "data": {
      "text/html": [
       "<div>\n",
       "<style scoped>\n",
       "    .dataframe tbody tr th:only-of-type {\n",
       "        vertical-align: middle;\n",
       "    }\n",
       "\n",
       "    .dataframe tbody tr th {\n",
       "        vertical-align: top;\n",
       "    }\n",
       "\n",
       "    .dataframe thead th {\n",
       "        text-align: right;\n",
       "    }\n",
       "</style>\n",
       "<table border=\"1\" class=\"dataframe\">\n",
       "  <thead>\n",
       "    <tr style=\"text-align: right;\">\n",
       "      <th></th>\n",
       "      <th>city</th>\n",
       "      <th>district</th>\n",
       "      <th>voivodeship</th>\n",
       "      <th>localization_y</th>\n",
       "      <th>localization_x</th>\n",
       "      <th>market</th>\n",
       "      <th>offer_type</th>\n",
       "      <th>area</th>\n",
       "      <th>rooms</th>\n",
       "      <th>floor</th>\n",
       "      <th>floors</th>\n",
       "      <th>build_yr</th>\n",
       "      <th>price</th>\n",
       "      <th>url</th>\n",
       "    </tr>\n",
       "    <tr>\n",
       "      <th>id</th>\n",
       "      <th></th>\n",
       "      <th></th>\n",
       "      <th></th>\n",
       "      <th></th>\n",
       "      <th></th>\n",
       "      <th></th>\n",
       "      <th></th>\n",
       "      <th></th>\n",
       "      <th></th>\n",
       "      <th></th>\n",
       "      <th></th>\n",
       "      <th></th>\n",
       "      <th></th>\n",
       "      <th></th>\n",
       "    </tr>\n",
       "  </thead>\n",
       "  <tbody>\n",
       "    <tr>\n",
       "      <th>584484</th>\n",
       "      <td>Велико Търново/Veliko-tarnovo</td>\n",
       "      <td>Bułgaria</td>\n",
       "      <td>zagranica</td>\n",
       "      <td>NaN</td>\n",
       "      <td>NaN</td>\n",
       "      <td>None</td>\n",
       "      <td>None</td>\n",
       "      <td>85.00</td>\n",
       "      <td>None</td>\n",
       "      <td>None</td>\n",
       "      <td>None</td>\n",
       "      <td>NaN</td>\n",
       "      <td>505628</td>\n",
       "      <td>https://gratka.pl/nieruchomosci/mieszkanie-veliko-trnovo-veliko-tarnovo/ob/35664195</td>\n",
       "    </tr>\n",
       "    <tr>\n",
       "      <th>584485</th>\n",
       "      <td>Jonquière</td>\n",
       "      <td>Kanada</td>\n",
       "      <td>zagranica</td>\n",
       "      <td>NaN</td>\n",
       "      <td>NaN</td>\n",
       "      <td>None</td>\n",
       "      <td>None</td>\n",
       "      <td>188.00</td>\n",
       "      <td>więcej niż 8</td>\n",
       "      <td>None</td>\n",
       "      <td>None</td>\n",
       "      <td>NaN</td>\n",
       "      <td>768202</td>\n",
       "      <td>https://gratka.pl/nieruchomosci/mieszkanie-jonquiere/ob/36140549</td>\n",
       "    </tr>\n",
       "    <tr>\n",
       "      <th>584486</th>\n",
       "      <td>Łódź</td>\n",
       "      <td>Śródmieście</td>\n",
       "      <td>łódzkie</td>\n",
       "      <td>51.770949</td>\n",
       "      <td>19.461719</td>\n",
       "      <td>pierwotny</td>\n",
       "      <td>sprzedaz</td>\n",
       "      <td>48.16</td>\n",
       "      <td>3</td>\n",
       "      <td>6</td>\n",
       "      <td>None</td>\n",
       "      <td>NaN</td>\n",
       "      <td>Zapytajoce</td>\n",
       "      <td>https://gratka.pl/nieruchomosci/nowe-mieszkanie-lodz-srodmiescie-ul-targowa/ob/33127565</td>\n",
       "    </tr>\n",
       "    <tr>\n",
       "      <th>584487</th>\n",
       "      <td>Walencja</td>\n",
       "      <td>Hiszpania</td>\n",
       "      <td>zagranica</td>\n",
       "      <td>37.986672</td>\n",
       "      <td>-0.679754</td>\n",
       "      <td>wtorny</td>\n",
       "      <td>sprzedaz</td>\n",
       "      <td>57.00</td>\n",
       "      <td>3</td>\n",
       "      <td>2</td>\n",
       "      <td>5</td>\n",
       "      <td>NaN</td>\n",
       "      <td>460000</td>\n",
       "      <td>https://gratka.pl/nieruchomosci/mieszkanie-walencja/ob/32098119</td>\n",
       "    </tr>\n",
       "    <tr>\n",
       "      <th>584488</th>\n",
       "      <td>Setúbal Almada</td>\n",
       "      <td>Portugalia</td>\n",
       "      <td>zagranica</td>\n",
       "      <td>NaN</td>\n",
       "      <td>NaN</td>\n",
       "      <td>None</td>\n",
       "      <td>None</td>\n",
       "      <td>60.00</td>\n",
       "      <td>2</td>\n",
       "      <td>None</td>\n",
       "      <td>None</td>\n",
       "      <td>NaN</td>\n",
       "      <td>843902</td>\n",
       "      <td>https://gratka.pl/nieruchomosci/mieszkanie-setubal-almada/ob/36148581</td>\n",
       "    </tr>\n",
       "  </tbody>\n",
       "</table>\n",
       "</div>"
      ],
      "text/plain": [
       "                                 city     district voivodeship  \\\n",
       "id                                                               \n",
       "584484  Велико Търново/Veliko-tarnovo     Bułgaria   zagranica   \n",
       "584485                      Jonquière       Kanada   zagranica   \n",
       "584486                           Łódź  Śródmieście     łódzkie   \n",
       "584487                       Walencja    Hiszpania   zagranica   \n",
       "584488                 Setúbal Almada   Portugalia   zagranica   \n",
       "\n",
       "        localization_y  localization_x     market offer_type    area  \\\n",
       "id                                                                     \n",
       "584484             NaN             NaN       None       None   85.00   \n",
       "584485             NaN             NaN       None       None  188.00   \n",
       "584486       51.770949       19.461719  pierwotny   sprzedaz   48.16   \n",
       "584487       37.986672       -0.679754     wtorny   sprzedaz   57.00   \n",
       "584488             NaN             NaN       None       None   60.00   \n",
       "\n",
       "               rooms floor floors  build_yr       price  \\\n",
       "id                                                        \n",
       "584484          None  None   None       NaN      505628   \n",
       "584485  więcej niż 8  None   None       NaN      768202   \n",
       "584486             3     6   None       NaN  Zapytajoce   \n",
       "584487             3     2      5       NaN      460000   \n",
       "584488             2  None   None       NaN      843902   \n",
       "\n",
       "                                                                                            url  \n",
       "id                                                                                               \n",
       "584484      https://gratka.pl/nieruchomosci/mieszkanie-veliko-trnovo-veliko-tarnovo/ob/35664195  \n",
       "584485                         https://gratka.pl/nieruchomosci/mieszkanie-jonquiere/ob/36140549  \n",
       "584486  https://gratka.pl/nieruchomosci/nowe-mieszkanie-lodz-srodmiescie-ul-targowa/ob/33127565  \n",
       "584487                          https://gratka.pl/nieruchomosci/mieszkanie-walencja/ob/32098119  \n",
       "584488                    https://gratka.pl/nieruchomosci/mieszkanie-setubal-almada/ob/36148581  "
      ]
     },
     "execution_count": 6,
     "metadata": {},
     "output_type": "execute_result"
    }
   ],
   "source": [
    "frame.head()"
   ]
  },
  {
   "cell_type": "code",
   "execution_count": 7,
   "metadata": {},
   "outputs": [
    {
     "name": "stdout",
     "output_type": "stream",
     "text": [
      "<class 'pandas.core.frame.DataFrame'>\n",
      "Index: 158036 entries, 584484 to 742519\n",
      "Data columns (total 14 columns):\n",
      " #   Column          Non-Null Count   Dtype  \n",
      "---  ------          --------------   -----  \n",
      " 0   city            156574 non-null  object \n",
      " 1   district        142607 non-null  object \n",
      " 2   voivodeship     156574 non-null  object \n",
      " 3   localization_y  108738 non-null  float64\n",
      " 4   localization_x  108738 non-null  float64\n",
      " 5   market          106194 non-null  object \n",
      " 6   offer_type      106194 non-null  object \n",
      " 7   area            156535 non-null  float64\n",
      " 8   rooms           143696 non-null  object \n",
      " 9   floor           84129 non-null   object \n",
      " 10  floors          73140 non-null   object \n",
      " 11  build_yr        45255 non-null   float64\n",
      " 12  price           156574 non-null  object \n",
      " 13  url             158036 non-null  object \n",
      "dtypes: float64(4), object(10)\n",
      "memory usage: 18.1+ MB\n"
     ]
    }
   ],
   "source": [
    "frame.info()"
   ]
  },
  {
   "cell_type": "code",
   "execution_count": 8,
   "metadata": {},
   "outputs": [
    {
     "data": {
      "text/html": [
       "<div>\n",
       "<style scoped>\n",
       "    .dataframe tbody tr th:only-of-type {\n",
       "        vertical-align: middle;\n",
       "    }\n",
       "\n",
       "    .dataframe tbody tr th {\n",
       "        vertical-align: top;\n",
       "    }\n",
       "\n",
       "    .dataframe thead th {\n",
       "        text-align: right;\n",
       "    }\n",
       "</style>\n",
       "<table border=\"1\" class=\"dataframe\">\n",
       "  <thead>\n",
       "    <tr style=\"text-align: right;\">\n",
       "      <th></th>\n",
       "      <th>count</th>\n",
       "      <th>mean</th>\n",
       "      <th>std</th>\n",
       "      <th>min</th>\n",
       "      <th>25%</th>\n",
       "      <th>50%</th>\n",
       "      <th>75%</th>\n",
       "      <th>max</th>\n",
       "    </tr>\n",
       "  </thead>\n",
       "  <tbody>\n",
       "    <tr>\n",
       "      <th>localization_y</th>\n",
       "      <td>108738.0</td>\n",
       "      <td>48.401145</td>\n",
       "      <td>8.198050</td>\n",
       "      <td>-37.822733</td>\n",
       "      <td>49.838012</td>\n",
       "      <td>51.122047</td>\n",
       "      <td>52.333700</td>\n",
       "      <td>57.244477</td>\n",
       "    </tr>\n",
       "    <tr>\n",
       "      <th>localization_x</th>\n",
       "      <td>108738.0</td>\n",
       "      <td>14.795036</td>\n",
       "      <td>20.268325</td>\n",
       "      <td>-158.203783</td>\n",
       "      <td>16.948256</td>\n",
       "      <td>18.945766</td>\n",
       "      <td>20.926805</td>\n",
       "      <td>153.137724</td>\n",
       "    </tr>\n",
       "    <tr>\n",
       "      <th>area</th>\n",
       "      <td>156535.0</td>\n",
       "      <td>67.664434</td>\n",
       "      <td>38.257307</td>\n",
       "      <td>9.030000</td>\n",
       "      <td>44.970000</td>\n",
       "      <td>59.500000</td>\n",
       "      <td>78.750000</td>\n",
       "      <td>645.000000</td>\n",
       "    </tr>\n",
       "    <tr>\n",
       "      <th>build_yr</th>\n",
       "      <td>45255.0</td>\n",
       "      <td>1996.882687</td>\n",
       "      <td>35.086779</td>\n",
       "      <td>1200.000000</td>\n",
       "      <td>1976.000000</td>\n",
       "      <td>2012.000000</td>\n",
       "      <td>2023.000000</td>\n",
       "      <td>2029.000000</td>\n",
       "    </tr>\n",
       "  </tbody>\n",
       "</table>\n",
       "</div>"
      ],
      "text/plain": [
       "                   count         mean        std          min          25%  \\\n",
       "localization_y  108738.0    48.401145   8.198050   -37.822733    49.838012   \n",
       "localization_x  108738.0    14.795036  20.268325  -158.203783    16.948256   \n",
       "area            156535.0    67.664434  38.257307     9.030000    44.970000   \n",
       "build_yr         45255.0  1996.882687  35.086779  1200.000000  1976.000000   \n",
       "\n",
       "                        50%          75%          max  \n",
       "localization_y    51.122047    52.333700    57.244477  \n",
       "localization_x    18.945766    20.926805   153.137724  \n",
       "area              59.500000    78.750000   645.000000  \n",
       "build_yr        2012.000000  2023.000000  2029.000000  "
      ]
     },
     "execution_count": 8,
     "metadata": {},
     "output_type": "execute_result"
    }
   ],
   "source": [
    "frame.describe().T"
   ]
  },
  {
   "cell_type": "code",
   "execution_count": 9,
   "metadata": {},
   "outputs": [
    {
     "data": {
      "text/plain": [
       "True"
      ]
     },
     "execution_count": 9,
     "metadata": {},
     "output_type": "execute_result"
    }
   ],
   "source": [
    "len(frame) == len(frame.drop_duplicates())"
   ]
  },
  {
   "cell_type": "code",
   "execution_count": 10,
   "metadata": {},
   "outputs": [
    {
     "data": {
      "text/plain": [
       "offer_type\n",
       "sprzedaz    1.0\n",
       "Name: proportion, dtype: float64"
      ]
     },
     "execution_count": 10,
     "metadata": {},
     "output_type": "execute_result"
    }
   ],
   "source": [
    "frame.offer_type.value_counts(normalize=True)"
   ]
  },
  {
   "cell_type": "markdown",
   "metadata": {},
   "source": [
    "## renaming market type"
   ]
  },
  {
   "cell_type": "code",
   "execution_count": 11,
   "metadata": {},
   "outputs": [],
   "source": [
    "frame.market.replace(['pierwotny','wtorny'], ['primary_market','aftermarket'], inplace=True)"
   ]
  },
  {
   "cell_type": "markdown",
   "metadata": {},
   "source": [
    "## removing foreign locations"
   ]
  },
  {
   "cell_type": "code",
   "execution_count": 12,
   "metadata": {},
   "outputs": [
    {
     "data": {
      "text/plain": [
       "voivodeship\n",
       "zagranica              73187\n",
       "mazowieckie            16816\n",
       "pomorskie              10613\n",
       "małopolskie            10498\n",
       "dolnośląskie            9755\n",
       "śląskie                 9121\n",
       "wielkopolskie           6163\n",
       "łódzkie                 4868\n",
       "kujawsko-pomorskie      3922\n",
       "zachodniopomorskie      3604\n",
       "warmińsko-mazurskie     2003\n",
       "lubelskie               1819\n",
       "podkarpackie            1289\n",
       "świętokrzyskie          1073\n",
       "lubuskie                 668\n",
       "opolskie                 639\n",
       "podlaskie                536\n",
       "Name: count, dtype: int64"
      ]
     },
     "execution_count": 12,
     "metadata": {},
     "output_type": "execute_result"
    }
   ],
   "source": [
    "frame.voivodeship.value_counts()"
   ]
  },
  {
   "cell_type": "code",
   "execution_count": 13,
   "metadata": {
    "scrolled": true
   },
   "outputs": [
    {
     "data": {
      "text/plain": [
       "0.4631033435419778"
      ]
     },
     "execution_count": 13,
     "metadata": {},
     "output_type": "execute_result"
    }
   ],
   "source": [
    "len(frame[frame.voivodeship=='zagranica'])/len(frame)"
   ]
  },
  {
   "cell_type": "code",
   "execution_count": 14,
   "metadata": {},
   "outputs": [],
   "source": [
    "frame.drop(frame[frame.voivodeship=='zagranica'].index, inplace=True)"
   ]
  },
  {
   "cell_type": "code",
   "execution_count": 15,
   "metadata": {},
   "outputs": [
    {
     "data": {
      "text/plain": [
       "(84849, 14)"
      ]
     },
     "execution_count": 15,
     "metadata": {},
     "output_type": "execute_result"
    }
   ],
   "source": [
    "frame.shape"
   ]
  },
  {
   "cell_type": "markdown",
   "metadata": {},
   "source": [
    "## removing data with no price"
   ]
  },
  {
   "cell_type": "code",
   "execution_count": 16,
   "metadata": {},
   "outputs": [
    {
     "data": {
      "text/plain": [
       "0.24022929233573578"
      ]
     },
     "execution_count": 16,
     "metadata": {},
     "output_type": "execute_result"
    }
   ],
   "source": [
    "frame.price.value_counts(normalize=True).loc['Zapytajoce']"
   ]
  },
  {
   "cell_type": "code",
   "execution_count": 17,
   "metadata": {},
   "outputs": [],
   "source": [
    "frame.drop(index=frame[frame.price=='Zapytajoce'].index, axis=0, inplace=True)"
   ]
  },
  {
   "cell_type": "code",
   "execution_count": 18,
   "metadata": {},
   "outputs": [],
   "source": [
    "frame.price = frame.price.astype('float')"
   ]
  },
  {
   "cell_type": "code",
   "execution_count": 19,
   "metadata": {},
   "outputs": [
    {
     "data": {
      "text/plain": [
       "(64817, 14)"
      ]
     },
     "execution_count": 19,
     "metadata": {},
     "output_type": "execute_result"
    }
   ],
   "source": [
    "frame.shape"
   ]
  },
  {
   "cell_type": "markdown",
   "metadata": {},
   "source": [
    "## checking the amount of missing data and removing rows with small amount of missing data per column"
   ]
  },
  {
   "cell_type": "code",
   "execution_count": 20,
   "metadata": {},
   "outputs": [
    {
     "data": {
      "text/html": [
       "<div>\n",
       "<style scoped>\n",
       "    .dataframe tbody tr th:only-of-type {\n",
       "        vertical-align: middle;\n",
       "    }\n",
       "\n",
       "    .dataframe tbody tr th {\n",
       "        vertical-align: top;\n",
       "    }\n",
       "\n",
       "    .dataframe thead th {\n",
       "        text-align: right;\n",
       "    }\n",
       "</style>\n",
       "<table border=\"1\" class=\"dataframe\">\n",
       "  <thead>\n",
       "    <tr style=\"text-align: right;\">\n",
       "      <th></th>\n",
       "      <th>count</th>\n",
       "      <th>mean</th>\n",
       "      <th>std</th>\n",
       "      <th>min</th>\n",
       "      <th>25%</th>\n",
       "      <th>50%</th>\n",
       "      <th>75%</th>\n",
       "      <th>max</th>\n",
       "      <th>%missing</th>\n",
       "    </tr>\n",
       "  </thead>\n",
       "  <tbody>\n",
       "    <tr>\n",
       "      <th>localization_y</th>\n",
       "      <td>63168.0</td>\n",
       "      <td>51.912713</td>\n",
       "      <td>1.470293</td>\n",
       "      <td>41.616750</td>\n",
       "      <td>50.440250</td>\n",
       "      <td>52.129926</td>\n",
       "      <td>53.083479</td>\n",
       "      <td>5.483390e+01</td>\n",
       "      <td>2.544086</td>\n",
       "    </tr>\n",
       "    <tr>\n",
       "      <th>localization_x</th>\n",
       "      <td>63168.0</td>\n",
       "      <td>19.035598</td>\n",
       "      <td>1.846565</td>\n",
       "      <td>14.220168</td>\n",
       "      <td>17.956396</td>\n",
       "      <td>19.058384</td>\n",
       "      <td>20.640770</td>\n",
       "      <td>4.163675e+01</td>\n",
       "      <td>2.544086</td>\n",
       "    </tr>\n",
       "    <tr>\n",
       "      <th>area</th>\n",
       "      <td>63316.0</td>\n",
       "      <td>55.002248</td>\n",
       "      <td>21.624974</td>\n",
       "      <td>9.030000</td>\n",
       "      <td>41.100000</td>\n",
       "      <td>51.470000</td>\n",
       "      <td>63.700000</td>\n",
       "      <td>4.853000e+02</td>\n",
       "      <td>2.315750</td>\n",
       "    </tr>\n",
       "    <tr>\n",
       "      <th>build_yr</th>\n",
       "      <td>44215.0</td>\n",
       "      <td>1996.312270</td>\n",
       "      <td>35.266625</td>\n",
       "      <td>1200.000000</td>\n",
       "      <td>1975.000000</td>\n",
       "      <td>2012.000000</td>\n",
       "      <td>2023.000000</td>\n",
       "      <td>2.027000e+03</td>\n",
       "      <td>31.784871</td>\n",
       "    </tr>\n",
       "    <tr>\n",
       "      <th>price</th>\n",
       "      <td>63355.0</td>\n",
       "      <td>673911.188115</td>\n",
       "      <td>499559.258341</td>\n",
       "      <td>1.000000</td>\n",
       "      <td>402932.000000</td>\n",
       "      <td>584528.000000</td>\n",
       "      <td>799000.000000</td>\n",
       "      <td>4.320000e+07</td>\n",
       "      <td>2.255581</td>\n",
       "    </tr>\n",
       "  </tbody>\n",
       "</table>\n",
       "</div>"
      ],
      "text/plain": [
       "                  count           mean            std          min  \\\n",
       "localization_y  63168.0      51.912713       1.470293    41.616750   \n",
       "localization_x  63168.0      19.035598       1.846565    14.220168   \n",
       "area            63316.0      55.002248      21.624974     9.030000   \n",
       "build_yr        44215.0    1996.312270      35.266625  1200.000000   \n",
       "price           63355.0  673911.188115  499559.258341     1.000000   \n",
       "\n",
       "                          25%            50%            75%           max  \\\n",
       "localization_y      50.440250      52.129926      53.083479  5.483390e+01   \n",
       "localization_x      17.956396      19.058384      20.640770  4.163675e+01   \n",
       "area                41.100000      51.470000      63.700000  4.853000e+02   \n",
       "build_yr          1975.000000    2012.000000    2023.000000  2.027000e+03   \n",
       "price           402932.000000  584528.000000  799000.000000  4.320000e+07   \n",
       "\n",
       "                 %missing  \n",
       "localization_y   2.544086  \n",
       "localization_x   2.544086  \n",
       "area             2.315750  \n",
       "build_yr        31.784871  \n",
       "price            2.255581  "
      ]
     },
     "execution_count": 20,
     "metadata": {},
     "output_type": "execute_result"
    }
   ],
   "source": [
    "num_desc = frame.describe().T\n",
    "num_desc['%missing'] = (1-num_desc['count']/len(frame))*100\n",
    "num_desc"
   ]
  },
  {
   "cell_type": "code",
   "execution_count": 21,
   "metadata": {
    "scrolled": true
   },
   "outputs": [
    {
     "data": {
      "text/html": [
       "<div>\n",
       "<style scoped>\n",
       "    .dataframe tbody tr th:only-of-type {\n",
       "        vertical-align: middle;\n",
       "    }\n",
       "\n",
       "    .dataframe tbody tr th {\n",
       "        vertical-align: top;\n",
       "    }\n",
       "\n",
       "    .dataframe thead th {\n",
       "        text-align: right;\n",
       "    }\n",
       "</style>\n",
       "<table border=\"1\" class=\"dataframe\">\n",
       "  <thead>\n",
       "    <tr style=\"text-align: right;\">\n",
       "      <th></th>\n",
       "      <th>count</th>\n",
       "      <th>unique</th>\n",
       "      <th>top</th>\n",
       "      <th>freq</th>\n",
       "      <th>%missing</th>\n",
       "    </tr>\n",
       "  </thead>\n",
       "  <tbody>\n",
       "    <tr>\n",
       "      <th>city</th>\n",
       "      <td>63355</td>\n",
       "      <td>1741</td>\n",
       "      <td>Warszawa</td>\n",
       "      <td>9884</td>\n",
       "      <td>2.255581</td>\n",
       "    </tr>\n",
       "    <tr>\n",
       "      <th>district</th>\n",
       "      <td>52457</td>\n",
       "      <td>1162</td>\n",
       "      <td>Śródmieście</td>\n",
       "      <td>2536</td>\n",
       "      <td>19.069071</td>\n",
       "    </tr>\n",
       "    <tr>\n",
       "      <th>voivodeship</th>\n",
       "      <td>63355</td>\n",
       "      <td>16</td>\n",
       "      <td>mazowieckie</td>\n",
       "      <td>12196</td>\n",
       "      <td>2.255581</td>\n",
       "    </tr>\n",
       "    <tr>\n",
       "      <th>market</th>\n",
       "      <td>61892</td>\n",
       "      <td>2</td>\n",
       "      <td>aftermarket</td>\n",
       "      <td>42038</td>\n",
       "      <td>4.512705</td>\n",
       "    </tr>\n",
       "    <tr>\n",
       "      <th>offer_type</th>\n",
       "      <td>61892</td>\n",
       "      <td>1</td>\n",
       "      <td>sprzedaz</td>\n",
       "      <td>61892</td>\n",
       "      <td>4.512705</td>\n",
       "    </tr>\n",
       "    <tr>\n",
       "      <th>rooms</th>\n",
       "      <td>63153</td>\n",
       "      <td>8</td>\n",
       "      <td>2</td>\n",
       "      <td>26444</td>\n",
       "      <td>2.567228</td>\n",
       "    </tr>\n",
       "    <tr>\n",
       "      <th>floor</th>\n",
       "      <td>62853</td>\n",
       "      <td>32</td>\n",
       "      <td>1</td>\n",
       "      <td>14541</td>\n",
       "      <td>3.030069</td>\n",
       "    </tr>\n",
       "    <tr>\n",
       "      <th>floors</th>\n",
       "      <td>59283</td>\n",
       "      <td>31</td>\n",
       "      <td>4</td>\n",
       "      <td>17160</td>\n",
       "      <td>8.537884</td>\n",
       "    </tr>\n",
       "    <tr>\n",
       "      <th>url</th>\n",
       "      <td>64817</td>\n",
       "      <td>64817</td>\n",
       "      <td>https://gratka.pl/nieruchomosci/nowe-mieszkanie-kielce-ul-artylerzystow/ob/34717581</td>\n",
       "      <td>1</td>\n",
       "      <td>0.0</td>\n",
       "    </tr>\n",
       "  </tbody>\n",
       "</table>\n",
       "</div>"
      ],
      "text/plain": [
       "             count unique  \\\n",
       "city         63355   1741   \n",
       "district     52457   1162   \n",
       "voivodeship  63355     16   \n",
       "market       61892      2   \n",
       "offer_type   61892      1   \n",
       "rooms        63153      8   \n",
       "floor        62853     32   \n",
       "floors       59283     31   \n",
       "url          64817  64817   \n",
       "\n",
       "                                                                                             top  \\\n",
       "city                                                                                    Warszawa   \n",
       "district                                                                             Śródmieście   \n",
       "voivodeship                                                                          mazowieckie   \n",
       "market                                                                               aftermarket   \n",
       "offer_type                                                                              sprzedaz   \n",
       "rooms                                                                                          2   \n",
       "floor                                                                                          1   \n",
       "floors                                                                                         4   \n",
       "url          https://gratka.pl/nieruchomosci/nowe-mieszkanie-kielce-ul-artylerzystow/ob/34717581   \n",
       "\n",
       "              freq   %missing  \n",
       "city          9884   2.255581  \n",
       "district      2536  19.069071  \n",
       "voivodeship  12196   2.255581  \n",
       "market       42038   4.512705  \n",
       "offer_type   61892   4.512705  \n",
       "rooms        26444   2.567228  \n",
       "floor        14541   3.030069  \n",
       "floors       17160   8.537884  \n",
       "url              1        0.0  "
      ]
     },
     "execution_count": 21,
     "metadata": {},
     "output_type": "execute_result"
    }
   ],
   "source": [
    "obj_desc = frame.describe(include=['object']).T\n",
    "obj_desc['%missing'] = (1-obj_desc['count']/len(frame))*100\n",
    "obj_desc"
   ]
  },
  {
   "cell_type": "code",
   "execution_count": 22,
   "metadata": {},
   "outputs": [],
   "source": [
    "frame.dropna(subset=['price','localization_y','localization_x','area'], axis=0, inplace=True)"
   ]
  },
  {
   "cell_type": "code",
   "execution_count": 23,
   "metadata": {},
   "outputs": [],
   "source": [
    "frame.dropna(subset=['market','offer_type','rooms','floor'], axis=0, inplace=True)"
   ]
  },
  {
   "cell_type": "code",
   "execution_count": 24,
   "metadata": {},
   "outputs": [
    {
     "data": {
      "text/plain": [
       "(61322, 14)"
      ]
     },
     "execution_count": 24,
     "metadata": {},
     "output_type": "execute_result"
    }
   ],
   "source": [
    "frame.shape"
   ]
  },
  {
   "cell_type": "markdown",
   "metadata": {},
   "source": [
    "## dealing with missing data for 'floors', 'district', 'build_yr'"
   ]
  },
  {
   "cell_type": "code",
   "execution_count": 25,
   "metadata": {},
   "outputs": [],
   "source": [
    "frame.dropna(subset=['build_yr'], axis=0, inplace=True)"
   ]
  },
  {
   "cell_type": "code",
   "execution_count": 26,
   "metadata": {},
   "outputs": [
    {
     "data": {
      "text/plain": [
       "0.018018839951645646"
      ]
     },
     "execution_count": 26,
     "metadata": {},
     "output_type": "execute_result"
    }
   ],
   "source": [
    "len(frame[pd.isnull(frame.floors)])/len(frame)"
   ]
  },
  {
   "cell_type": "code",
   "execution_count": 27,
   "metadata": {},
   "outputs": [],
   "source": [
    "frame.dropna(subset=['floors'], axis=0, inplace=True)"
   ]
  },
  {
   "cell_type": "code",
   "execution_count": 28,
   "metadata": {},
   "outputs": [],
   "source": [
    "# district will be left with missing data"
   ]
  },
  {
   "cell_type": "code",
   "execution_count": 29,
   "metadata": {},
   "outputs": [
    {
     "data": {
      "text/plain": [
       "(43053, 14)"
      ]
     },
     "execution_count": 29,
     "metadata": {},
     "output_type": "execute_result"
    }
   ],
   "source": [
    "frame.shape"
   ]
  },
  {
   "cell_type": "markdown",
   "metadata": {},
   "source": [
    "## checking categorical data"
   ]
  },
  {
   "cell_type": "code",
   "execution_count": 30,
   "metadata": {},
   "outputs": [
    {
     "data": {
      "image/png": "[encoded data removed]",
      "text/plain": [
       "<Figure size 1500x1000 with 6 Axes>"
      ]
     },
     "metadata": {},
     "output_type": "display_data"
    }
   ],
   "source": [
    "fig, axList = plt.subplots(nrows=2, ncols=3)\n",
    "axList = axList.flatten()\n",
    "fig.set_size_inches(15,10)\n",
    "\n",
    "catagorical_columns = [x for x in frame.columns if frame[x].dtype == 'object' and x not in ['city','district','url']]\n",
    "\n",
    "for ax, column in zip(axList, catagorical_columns):\n",
    "    frame[column].value_counts().plot(kind='barh', ax=ax, ylabel=column)\n",
    "    \n",
    "plt.tight_layout()"
   ]
  },
  {
   "cell_type": "code",
   "execution_count": 31,
   "metadata": {},
   "outputs": [],
   "source": [
    "frame.rooms.replace('więcej niż 8', '8', inplace=True)\n",
    "frame.rooms = frame.rooms.astype('int')"
   ]
  },
  {
   "cell_type": "code",
   "execution_count": 32,
   "metadata": {},
   "outputs": [],
   "source": [
    "frame.floor.replace(['niski parter','parter'], '0', inplace=True)\n",
    "frame.floor.replace('powyżej 30', '30', inplace=True)\n",
    "frame.drop(frame[frame.floor=='poddasze'].index, axis=0, inplace=True)\n",
    "frame.floor = frame.floor.astype('int')"
   ]
  },
  {
   "cell_type": "code",
   "execution_count": 33,
   "metadata": {},
   "outputs": [],
   "source": [
    "frame.floors.replace(['0 (parter)','powyżej 30'], ['0','30'], inplace=True)\n",
    "frame.floors = frame.floors.astype('int')"
   ]
  },
  {
   "cell_type": "code",
   "execution_count": 34,
   "metadata": {},
   "outputs": [
    {
     "name": "stdout",
     "output_type": "stream",
     "text": [
      "<class 'pandas.core.frame.DataFrame'>\n",
      "Index: 42957 entries, 584491 to 742517\n",
      "Data columns (total 14 columns):\n",
      " #   Column          Non-Null Count  Dtype  \n",
      "---  ------          --------------  -----  \n",
      " 0   city            42957 non-null  object \n",
      " 1   district        36654 non-null  object \n",
      " 2   voivodeship     42957 non-null  object \n",
      " 3   localization_y  42957 non-null  float64\n",
      " 4   localization_x  42957 non-null  float64\n",
      " 5   market          42957 non-null  object \n",
      " 6   offer_type      42957 non-null  object \n",
      " 7   area            42957 non-null  float64\n",
      " 8   rooms           42957 non-null  int64  \n",
      " 9   floor           42957 non-null  int64  \n",
      " 10  floors          42957 non-null  int64  \n",
      " 11  build_yr        42957 non-null  float64\n",
      " 12  price           42957 non-null  float64\n",
      " 13  url             42957 non-null  object \n",
      "dtypes: float64(5), int64(3), object(6)\n",
      "memory usage: 4.9+ MB\n"
     ]
    }
   ],
   "source": [
    "frame.info()"
   ]
  },
  {
   "cell_type": "code",
   "execution_count": 35,
   "metadata": {},
   "outputs": [
    {
     "data": {
      "text/plain": [
       "(42957, 14)"
      ]
     },
     "execution_count": 35,
     "metadata": {},
     "output_type": "execute_result"
    }
   ],
   "source": [
    "frame.shape"
   ]
  },
  {
   "cell_type": "markdown",
   "metadata": {},
   "source": [
    "## adding custom column"
   ]
  },
  {
   "cell_type": "code",
   "execution_count": 36,
   "metadata": {},
   "outputs": [],
   "source": [
    "frame['price_of_sqm'] = frame.price / frame.area"
   ]
  },
  {
   "cell_type": "markdown",
   "metadata": {},
   "source": [
    "## dealing with outliers"
   ]
  },
  {
   "cell_type": "code",
   "execution_count": 37,
   "metadata": {},
   "outputs": [
    {
     "data": {
      "text/plain": [
       "{'area': (22.44, 130.1572000000003),\n",
       " 'build_yr': (1900.0, 2026.0),\n",
       " 'price': (180000.0, 2641040.0000000373),\n",
       " 'price_of_sqm': (3695.398590387702, 30638.43766117304)}"
      ]
     },
     "execution_count": 37,
     "metadata": {},
     "output_type": "execute_result"
    }
   ],
   "source": [
    "# checking quantile values\n",
    "\n",
    "outliers_dict = dict()\n",
    "\n",
    "for column in ['area','build_yr','price','price_of_sqm']:\n",
    "    upper_quartile = np.nanpercentile(frame[column], 99.0)\n",
    "    lower_quartile = np.nanpercentile(frame[column], 1.0)\n",
    "#     iqr = upper_quartile - lower_quartile\n",
    "#     outliers_dict[column] = (lower_quartile-1.5*iqr, upper_quartile+1.5*iqr)\n",
    "    outliers_dict[column] = (lower_quartile, upper_quartile)\n",
    "\n",
    "outliers_dict"
   ]
  },
  {
   "cell_type": "code",
   "execution_count": 38,
   "metadata": {},
   "outputs": [
    {
     "data": {
      "text/html": [
       "<div>\n",
       "<style scoped>\n",
       "    .dataframe tbody tr th:only-of-type {\n",
       "        vertical-align: middle;\n",
       "    }\n",
       "\n",
       "    .dataframe tbody tr th {\n",
       "        vertical-align: top;\n",
       "    }\n",
       "\n",
       "    .dataframe thead th {\n",
       "        text-align: right;\n",
       "    }\n",
       "</style>\n",
       "<table border=\"1\" class=\"dataframe\">\n",
       "  <thead>\n",
       "    <tr style=\"text-align: right;\">\n",
       "      <th></th>\n",
       "      <th>count</th>\n",
       "      <th>mean</th>\n",
       "      <th>std</th>\n",
       "      <th>min</th>\n",
       "      <th>25%</th>\n",
       "      <th>50%</th>\n",
       "      <th>75%</th>\n",
       "      <th>max</th>\n",
       "    </tr>\n",
       "  </thead>\n",
       "  <tbody>\n",
       "    <tr>\n",
       "      <th>area</th>\n",
       "      <td>42957.0</td>\n",
       "      <td>55.874347</td>\n",
       "      <td>22.376448</td>\n",
       "      <td>9.03</td>\n",
       "      <td>41.54</td>\n",
       "      <td>52.250000</td>\n",
       "      <td>64.73000</td>\n",
       "      <td>431.0</td>\n",
       "    </tr>\n",
       "    <tr>\n",
       "      <th>build_yr</th>\n",
       "      <td>42957.0</td>\n",
       "      <td>1996.336942</td>\n",
       "      <td>35.063273</td>\n",
       "      <td>1200.00</td>\n",
       "      <td>1975.00</td>\n",
       "      <td>2011.000000</td>\n",
       "      <td>2023.00000</td>\n",
       "      <td>2027.0</td>\n",
       "    </tr>\n",
       "    <tr>\n",
       "      <th>price</th>\n",
       "      <td>42957.0</td>\n",
       "      <td>733705.850921</td>\n",
       "      <td>502338.751821</td>\n",
       "      <td>75000.00</td>\n",
       "      <td>450000.00</td>\n",
       "      <td>638560.000000</td>\n",
       "      <td>857400.00000</td>\n",
       "      <td>12900000.0</td>\n",
       "    </tr>\n",
       "    <tr>\n",
       "      <th>price_of_sqm</th>\n",
       "      <td>42957.0</td>\n",
       "      <td>13332.807509</td>\n",
       "      <td>6095.593373</td>\n",
       "      <td>937.50</td>\n",
       "      <td>8950.00</td>\n",
       "      <td>12496.307238</td>\n",
       "      <td>16705.69857</td>\n",
       "      <td>279960.0</td>\n",
       "    </tr>\n",
       "  </tbody>\n",
       "</table>\n",
       "</div>"
      ],
      "text/plain": [
       "                count           mean            std       min        25%  \\\n",
       "area          42957.0      55.874347      22.376448      9.03      41.54   \n",
       "build_yr      42957.0    1996.336942      35.063273   1200.00    1975.00   \n",
       "price         42957.0  733705.850921  502338.751821  75000.00  450000.00   \n",
       "price_of_sqm  42957.0   13332.807509    6095.593373    937.50    8950.00   \n",
       "\n",
       "                        50%           75%         max  \n",
       "area              52.250000      64.73000       431.0  \n",
       "build_yr        2011.000000    2023.00000      2027.0  \n",
       "price         638560.000000  857400.00000  12900000.0  \n",
       "price_of_sqm   12496.307238   16705.69857    279960.0  "
      ]
     },
     "execution_count": 38,
     "metadata": {},
     "output_type": "execute_result"
    }
   ],
   "source": [
    "frame[['area','build_yr','price','price_of_sqm']].describe().T"
   ]
  },
  {
   "cell_type": "code",
   "execution_count": 39,
   "metadata": {},
   "outputs": [],
   "source": [
    "outliers_dict['build_yr'] = (1900.0, 2024.0)"
   ]
  },
  {
   "cell_type": "code",
   "execution_count": 40,
   "metadata": {},
   "outputs": [],
   "source": [
    "for key in outliers_dict.keys():\n",
    "    frame.drop(frame[frame[key] < outliers_dict[key][0]].index, inplace = True)\n",
    "    frame.drop(frame[frame[key] > outliers_dict[key][1]].index, inplace = True)"
   ]
  },
  {
   "cell_type": "code",
   "execution_count": 41,
   "metadata": {
    "scrolled": true
   },
   "outputs": [
    {
     "data": {
      "text/html": [
       "<div>\n",
       "<style scoped>\n",
       "    .dataframe tbody tr th:only-of-type {\n",
       "        vertical-align: middle;\n",
       "    }\n",
       "\n",
       "    .dataframe tbody tr th {\n",
       "        vertical-align: top;\n",
       "    }\n",
       "\n",
       "    .dataframe thead th {\n",
       "        text-align: right;\n",
       "    }\n",
       "</style>\n",
       "<table border=\"1\" class=\"dataframe\">\n",
       "  <thead>\n",
       "    <tr style=\"text-align: right;\">\n",
       "      <th></th>\n",
       "      <th>count</th>\n",
       "      <th>mean</th>\n",
       "      <th>std</th>\n",
       "      <th>min</th>\n",
       "      <th>25%</th>\n",
       "      <th>50%</th>\n",
       "      <th>75%</th>\n",
       "      <th>max</th>\n",
       "    </tr>\n",
       "  </thead>\n",
       "  <tbody>\n",
       "    <tr>\n",
       "      <th>area</th>\n",
       "      <td>36691.0</td>\n",
       "      <td>55.050411</td>\n",
       "      <td>18.228081</td>\n",
       "      <td>22.440000</td>\n",
       "      <td>42.200000</td>\n",
       "      <td>52.360000</td>\n",
       "      <td>64.100000</td>\n",
       "      <td>1.301000e+02</td>\n",
       "    </tr>\n",
       "    <tr>\n",
       "      <th>build_yr</th>\n",
       "      <td>36691.0</td>\n",
       "      <td>1995.320351</td>\n",
       "      <td>30.938545</td>\n",
       "      <td>1900.000000</td>\n",
       "      <td>1975.000000</td>\n",
       "      <td>2008.000000</td>\n",
       "      <td>2023.000000</td>\n",
       "      <td>2.024000e+03</td>\n",
       "    </tr>\n",
       "    <tr>\n",
       "      <th>price</th>\n",
       "      <td>36691.0</td>\n",
       "      <td>705182.135183</td>\n",
       "      <td>359355.162684</td>\n",
       "      <td>180000.000000</td>\n",
       "      <td>459000.000000</td>\n",
       "      <td>640000.000000</td>\n",
       "      <td>850000.000000</td>\n",
       "      <td>2.631200e+06</td>\n",
       "    </tr>\n",
       "    <tr>\n",
       "      <th>price_of_sqm</th>\n",
       "      <td>36691.0</td>\n",
       "      <td>13101.514005</td>\n",
       "      <td>5316.510656</td>\n",
       "      <td>3696.857671</td>\n",
       "      <td>8928.571429</td>\n",
       "      <td>12410.714286</td>\n",
       "      <td>16556.122449</td>\n",
       "      <td>3.063209e+04</td>\n",
       "    </tr>\n",
       "  </tbody>\n",
       "</table>\n",
       "</div>"
      ],
      "text/plain": [
       "                count           mean            std            min  \\\n",
       "area          36691.0      55.050411      18.228081      22.440000   \n",
       "build_yr      36691.0    1995.320351      30.938545    1900.000000   \n",
       "price         36691.0  705182.135183  359355.162684  180000.000000   \n",
       "price_of_sqm  36691.0   13101.514005    5316.510656    3696.857671   \n",
       "\n",
       "                        25%            50%            75%           max  \n",
       "area              42.200000      52.360000      64.100000  1.301000e+02  \n",
       "build_yr        1975.000000    2008.000000    2023.000000  2.024000e+03  \n",
       "price         459000.000000  640000.000000  850000.000000  2.631200e+06  \n",
       "price_of_sqm    8928.571429   12410.714286   16556.122449  3.063209e+04  "
      ]
     },
     "execution_count": 41,
     "metadata": {},
     "output_type": "execute_result"
    }
   ],
   "source": [
    "frame[['area','build_yr','price','price_of_sqm']].describe().T"
   ]
  },
  {
   "cell_type": "code",
   "execution_count": 42,
   "metadata": {
    "scrolled": true
   },
   "outputs": [
    {
     "data": {
      "text/plain": [
       "(102, 562)"
      ]
     },
     "execution_count": 42,
     "metadata": {},
     "output_type": "execute_result"
    }
   ],
   "source": [
    "len(frame[frame.floor>15]), len(frame[frame.floors>15])"
   ]
  },
  {
   "cell_type": "code",
   "execution_count": 43,
   "metadata": {},
   "outputs": [],
   "source": [
    "frame.drop(frame[frame.floor>15].index, axis=0, inplace=True)\n",
    "frame.drop(frame[frame.floors>15].index, axis=0, inplace=True)"
   ]
  },
  {
   "cell_type": "code",
   "execution_count": 44,
   "metadata": {},
   "outputs": [
    {
     "data": {
      "text/plain": [
       "12"
      ]
     },
     "execution_count": 44,
     "metadata": {},
     "output_type": "execute_result"
    }
   ],
   "source": [
    "len(frame[frame.rooms>6])"
   ]
  },
  {
   "cell_type": "code",
   "execution_count": 45,
   "metadata": {},
   "outputs": [],
   "source": [
    "frame.drop(frame[frame.rooms>6].index, axis=0, inplace=True)"
   ]
  },
  {
   "cell_type": "code",
   "execution_count": 46,
   "metadata": {},
   "outputs": [
    {
     "data": {
      "text/plain": [
       "(36117, 15)"
      ]
     },
     "execution_count": 46,
     "metadata": {},
     "output_type": "execute_result"
    }
   ],
   "source": [
    "frame.shape"
   ]
  },
  {
   "cell_type": "markdown",
   "metadata": {},
   "source": [
    "## dealing with outliers in localization"
   ]
  },
  {
   "cell_type": "code",
   "execution_count": 47,
   "metadata": {},
   "outputs": [
    {
     "data": {
      "text/plain": [
       "(14.2201684, 23.6725471)"
      ]
     },
     "execution_count": 47,
     "metadata": {},
     "output_type": "execute_result"
    }
   ],
   "source": [
    "frame.localization_x.min(), frame.localization_x.max()"
   ]
  },
  {
   "cell_type": "code",
   "execution_count": 48,
   "metadata": {},
   "outputs": [
    {
     "data": {
      "text/plain": [
       "(48.17369, 54.8339)"
      ]
     },
     "execution_count": 48,
     "metadata": {},
     "output_type": "execute_result"
    }
   ],
   "source": [
    "frame.localization_y.min(), frame.localization_y.max()"
   ]
  },
  {
   "cell_type": "code",
   "execution_count": 49,
   "metadata": {},
   "outputs": [],
   "source": [
    "outliers_dict_2 = dict()\n",
    "outliers_dict_2['localization_x'] = (14,25)\n",
    "outliers_dict_2['localization_y'] = (48,55)"
   ]
  },
  {
   "cell_type": "code",
   "execution_count": 50,
   "metadata": {},
   "outputs": [],
   "source": [
    "for key in outliers_dict_2.keys():\n",
    "    frame.drop(frame[frame[key] < outliers_dict_2[key][0]].index, inplace = True)\n",
    "    frame.drop(frame[frame[key] > outliers_dict_2[key][1]].index, inplace = True)"
   ]
  },
  {
   "cell_type": "code",
   "execution_count": 51,
   "metadata": {},
   "outputs": [
    {
     "data": {
      "text/plain": [
       "19"
      ]
     },
     "execution_count": 51,
     "metadata": {},
     "output_type": "execute_result"
    }
   ],
   "source": [
    "len(frame[(frame.localization_x%1==0) | (frame.localization_y%1==0)])"
   ]
  },
  {
   "cell_type": "code",
   "execution_count": 52,
   "metadata": {},
   "outputs": [],
   "source": [
    "frame.drop(frame[(frame.localization_x%1==0) | (frame.localization_y%1==0)].index,inplace=True)"
   ]
  },
  {
   "cell_type": "code",
   "execution_count": 53,
   "metadata": {},
   "outputs": [
    {
     "data": {
      "text/plain": [
       "(36098, 15)"
      ]
     },
     "execution_count": 53,
     "metadata": {},
     "output_type": "execute_result"
    }
   ],
   "source": [
    "frame.shape"
   ]
  },
  {
   "cell_type": "markdown",
   "metadata": {},
   "source": [
    "## checking histograms"
   ]
  },
  {
   "cell_type": "code",
   "execution_count": 54,
   "metadata": {},
   "outputs": [
    {
     "data": {
      "image/png": "[encoded data removed]",
      "text/plain": [
       "<Figure size 1500x500 with 10 Axes>"
      ]
     },
     "metadata": {},
     "output_type": "display_data"
    }
   ],
   "source": [
    "fig, axList = plt.subplots(nrows=2, ncols=5)\n",
    "axList = axList.flatten()\n",
    "fig.set_size_inches(15,5)\n",
    "\n",
    "numeric_columns = [x for x in frame.columns if frame[x].dtype in ['float64','int64']]\n",
    "kurtosis_dict = dict(frame[numeric_columns].kurtosis())\n",
    "\n",
    "for ax, column in zip(axList, numeric_columns):\n",
    "    sns.histplot(frame, x=frame[column], ax=ax, bins=25)\n",
    "    ax.title.set_text(f'skew: {round(frame[column].skew(), 1)}, kurtosis: {round(kurtosis_dict[column], 2)}')\n",
    "    \n",
    "plt.tight_layout()"
   ]
  },
  {
   "cell_type": "markdown",
   "metadata": {},
   "source": [
    "## data summary"
   ]
  },
  {
   "cell_type": "code",
   "execution_count": 55,
   "metadata": {},
   "outputs": [
    {
     "data": {
      "text/html": [
       "<div>\n",
       "<style scoped>\n",
       "    .dataframe tbody tr th:only-of-type {\n",
       "        vertical-align: middle;\n",
       "    }\n",
       "\n",
       "    .dataframe tbody tr th {\n",
       "        vertical-align: top;\n",
       "    }\n",
       "\n",
       "    .dataframe thead th {\n",
       "        text-align: right;\n",
       "    }\n",
       "</style>\n",
       "<table border=\"1\" class=\"dataframe\">\n",
       "  <thead>\n",
       "    <tr style=\"text-align: right;\">\n",
       "      <th></th>\n",
       "      <th>count</th>\n",
       "      <th>mean</th>\n",
       "      <th>std</th>\n",
       "      <th>min</th>\n",
       "      <th>25%</th>\n",
       "      <th>50%</th>\n",
       "      <th>75%</th>\n",
       "      <th>max</th>\n",
       "    </tr>\n",
       "  </thead>\n",
       "  <tbody>\n",
       "    <tr>\n",
       "      <th>localization_y</th>\n",
       "      <td>36098.0</td>\n",
       "      <td>52.01</td>\n",
       "      <td>1.47</td>\n",
       "      <td>48.17</td>\n",
       "      <td>50.87</td>\n",
       "      <td>52.18</td>\n",
       "      <td>53.12</td>\n",
       "      <td>54.83</td>\n",
       "    </tr>\n",
       "    <tr>\n",
       "      <th>localization_x</th>\n",
       "      <td>36098.0</td>\n",
       "      <td>19.15</td>\n",
       "      <td>1.91</td>\n",
       "      <td>14.22</td>\n",
       "      <td>18.02</td>\n",
       "      <td>19.42</td>\n",
       "      <td>20.92</td>\n",
       "      <td>23.67</td>\n",
       "    </tr>\n",
       "    <tr>\n",
       "      <th>area</th>\n",
       "      <td>36098.0</td>\n",
       "      <td>55.04</td>\n",
       "      <td>18.22</td>\n",
       "      <td>22.44</td>\n",
       "      <td>42.19</td>\n",
       "      <td>52.40</td>\n",
       "      <td>64.10</td>\n",
       "      <td>130.10</td>\n",
       "    </tr>\n",
       "    <tr>\n",
       "      <th>rooms</th>\n",
       "      <td>36098.0</td>\n",
       "      <td>2.54</td>\n",
       "      <td>0.86</td>\n",
       "      <td>1.00</td>\n",
       "      <td>2.00</td>\n",
       "      <td>2.00</td>\n",
       "      <td>3.00</td>\n",
       "      <td>6.00</td>\n",
       "    </tr>\n",
       "    <tr>\n",
       "      <th>floor</th>\n",
       "      <td>36098.0</td>\n",
       "      <td>2.37</td>\n",
       "      <td>2.21</td>\n",
       "      <td>0.00</td>\n",
       "      <td>1.00</td>\n",
       "      <td>2.00</td>\n",
       "      <td>3.00</td>\n",
       "      <td>15.00</td>\n",
       "    </tr>\n",
       "    <tr>\n",
       "      <th>floors</th>\n",
       "      <td>36098.0</td>\n",
       "      <td>4.60</td>\n",
       "      <td>2.73</td>\n",
       "      <td>0.00</td>\n",
       "      <td>3.00</td>\n",
       "      <td>4.00</td>\n",
       "      <td>5.00</td>\n",
       "      <td>15.00</td>\n",
       "    </tr>\n",
       "    <tr>\n",
       "      <th>build_yr</th>\n",
       "      <td>36098.0</td>\n",
       "      <td>1995.07</td>\n",
       "      <td>31.03</td>\n",
       "      <td>1900.00</td>\n",
       "      <td>1975.00</td>\n",
       "      <td>2008.00</td>\n",
       "      <td>2023.00</td>\n",
       "      <td>2024.00</td>\n",
       "    </tr>\n",
       "    <tr>\n",
       "      <th>price</th>\n",
       "      <td>36098.0</td>\n",
       "      <td>700353.44</td>\n",
       "      <td>356509.48</td>\n",
       "      <td>180000.00</td>\n",
       "      <td>455000.00</td>\n",
       "      <td>637000.00</td>\n",
       "      <td>849000.00</td>\n",
       "      <td>2631200.00</td>\n",
       "    </tr>\n",
       "    <tr>\n",
       "      <th>price_of_sqm</th>\n",
       "      <td>36098.0</td>\n",
       "      <td>13016.44</td>\n",
       "      <td>5274.58</td>\n",
       "      <td>3696.86</td>\n",
       "      <td>8900.00</td>\n",
       "      <td>12323.59</td>\n",
       "      <td>16451.45</td>\n",
       "      <td>30632.09</td>\n",
       "    </tr>\n",
       "  </tbody>\n",
       "</table>\n",
       "</div>"
      ],
      "text/plain": [
       "                  count       mean        std        min        25%  \\\n",
       "localization_y  36098.0      52.01       1.47      48.17      50.87   \n",
       "localization_x  36098.0      19.15       1.91      14.22      18.02   \n",
       "area            36098.0      55.04      18.22      22.44      42.19   \n",
       "rooms           36098.0       2.54       0.86       1.00       2.00   \n",
       "floor           36098.0       2.37       2.21       0.00       1.00   \n",
       "floors          36098.0       4.60       2.73       0.00       3.00   \n",
       "build_yr        36098.0    1995.07      31.03    1900.00    1975.00   \n",
       "price           36098.0  700353.44  356509.48  180000.00  455000.00   \n",
       "price_of_sqm    36098.0   13016.44    5274.58    3696.86    8900.00   \n",
       "\n",
       "                      50%        75%         max  \n",
       "localization_y      52.18      53.12       54.83  \n",
       "localization_x      19.42      20.92       23.67  \n",
       "area                52.40      64.10      130.10  \n",
       "rooms                2.00       3.00        6.00  \n",
       "floor                2.00       3.00       15.00  \n",
       "floors               4.00       5.00       15.00  \n",
       "build_yr          2008.00    2023.00     2024.00  \n",
       "price           637000.00  849000.00  2631200.00  \n",
       "price_of_sqm     12323.59   16451.45    30632.09  "
      ]
     },
     "execution_count": 55,
     "metadata": {},
     "output_type": "execute_result"
    }
   ],
   "source": [
    "round(frame.describe().T, 2)"
   ]
  },
  {
   "cell_type": "code",
   "execution_count": 56,
   "metadata": {},
   "outputs": [
    {
     "data": {
      "text/html": [
       "<div>\n",
       "<style scoped>\n",
       "    .dataframe tbody tr th:only-of-type {\n",
       "        vertical-align: middle;\n",
       "    }\n",
       "\n",
       "    .dataframe tbody tr th {\n",
       "        vertical-align: top;\n",
       "    }\n",
       "\n",
       "    .dataframe thead th {\n",
       "        text-align: right;\n",
       "    }\n",
       "</style>\n",
       "<table border=\"1\" class=\"dataframe\">\n",
       "  <thead>\n",
       "    <tr style=\"text-align: right;\">\n",
       "      <th></th>\n",
       "      <th>count</th>\n",
       "      <th>unique</th>\n",
       "      <th>top</th>\n",
       "      <th>freq</th>\n",
       "    </tr>\n",
       "  </thead>\n",
       "  <tbody>\n",
       "    <tr>\n",
       "      <th>city</th>\n",
       "      <td>36098</td>\n",
       "      <td>1061</td>\n",
       "      <td>Warszawa</td>\n",
       "      <td>6873</td>\n",
       "    </tr>\n",
       "    <tr>\n",
       "      <th>district</th>\n",
       "      <td>30621</td>\n",
       "      <td>1042</td>\n",
       "      <td>Śródmieście</td>\n",
       "      <td>1515</td>\n",
       "    </tr>\n",
       "    <tr>\n",
       "      <th>voivodeship</th>\n",
       "      <td>36098</td>\n",
       "      <td>16</td>\n",
       "      <td>mazowieckie</td>\n",
       "      <td>8431</td>\n",
       "    </tr>\n",
       "    <tr>\n",
       "      <th>market</th>\n",
       "      <td>36098</td>\n",
       "      <td>2</td>\n",
       "      <td>aftermarket</td>\n",
       "      <td>28401</td>\n",
       "    </tr>\n",
       "    <tr>\n",
       "      <th>offer_type</th>\n",
       "      <td>36098</td>\n",
       "      <td>1</td>\n",
       "      <td>sprzedaz</td>\n",
       "      <td>36098</td>\n",
       "    </tr>\n",
       "    <tr>\n",
       "      <th>url</th>\n",
       "      <td>36098</td>\n",
       "      <td>36098</td>\n",
       "      <td>https://gratka.pl/nieruchomosci/mieszkanie-wroclaw-ul-kamienna/ob/36396823</td>\n",
       "      <td>1</td>\n",
       "    </tr>\n",
       "  </tbody>\n",
       "</table>\n",
       "</div>"
      ],
      "text/plain": [
       "             count unique  \\\n",
       "city         36098   1061   \n",
       "district     30621   1042   \n",
       "voivodeship  36098     16   \n",
       "market       36098      2   \n",
       "offer_type   36098      1   \n",
       "url          36098  36098   \n",
       "\n",
       "                                                                                    top  \\\n",
       "city                                                                           Warszawa   \n",
       "district                                                                    Śródmieście   \n",
       "voivodeship                                                                 mazowieckie   \n",
       "market                                                                      aftermarket   \n",
       "offer_type                                                                     sprzedaz   \n",
       "url          https://gratka.pl/nieruchomosci/mieszkanie-wroclaw-ul-kamienna/ob/36396823   \n",
       "\n",
       "              freq  \n",
       "city          6873  \n",
       "district      1515  \n",
       "voivodeship   8431  \n",
       "market       28401  \n",
       "offer_type   36098  \n",
       "url              1  "
      ]
     },
     "execution_count": 56,
     "metadata": {},
     "output_type": "execute_result"
    }
   ],
   "source": [
    "frame.describe(include=['object']).T"
   ]
  },
  {
   "cell_type": "code",
   "execution_count": 57,
   "metadata": {},
   "outputs": [],
   "source": [
    "frame.reset_index(drop=True, inplace=True)"
   ]
  },
  {
   "cell_type": "code",
   "execution_count": 58,
   "metadata": {},
   "outputs": [
    {
     "name": "stdout",
     "output_type": "stream",
     "text": [
      "<class 'pandas.core.frame.DataFrame'>\n",
      "RangeIndex: 36098 entries, 0 to 36097\n",
      "Data columns (total 15 columns):\n",
      " #   Column          Non-Null Count  Dtype  \n",
      "---  ------          --------------  -----  \n",
      " 0   city            36098 non-null  object \n",
      " 1   district        30621 non-null  object \n",
      " 2   voivodeship     36098 non-null  object \n",
      " 3   localization_y  36098 non-null  float64\n",
      " 4   localization_x  36098 non-null  float64\n",
      " 5   market          36098 non-null  object \n",
      " 6   offer_type      36098 non-null  object \n",
      " 7   area            36098 non-null  float64\n",
      " 8   rooms           36098 non-null  int64  \n",
      " 9   floor           36098 non-null  int64  \n",
      " 10  floors          36098 non-null  int64  \n",
      " 11  build_yr        36098 non-null  float64\n",
      " 12  price           36098 non-null  float64\n",
      " 13  url             36098 non-null  object \n",
      " 14  price_of_sqm    36098 non-null  float64\n",
      "dtypes: float64(6), int64(3), object(6)\n",
      "memory usage: 4.1+ MB\n"
     ]
    }
   ],
   "source": [
    "frame.info()"
   ]
  },
  {
   "cell_type": "markdown",
   "metadata": {},
   "source": [
    "## saving the frame"
   ]
  },
  {
   "cell_type": "code",
   "execution_count": 59,
   "metadata": {},
   "outputs": [],
   "source": [
    "# outfile = open('apartment_data_frame','wb')\n",
    "# pkl.dump(frame, outfile)\n",
    "# outfile.close()"
   ]
  },
  {
   "cell_type": "code",
   "execution_count": null,
   "metadata": {},
   "outputs": [],
   "source": []
  }
 ],
 "metadata": {
  "kernelspec": {
   "display_name": "Python 3",
   "language": "python",
   "name": "python3"
  },
  "language_info": {
   "codemirror_mode": {
    "name": "ipython",
    "version": 3
   },
   "file_extension": ".py",
   "mimetype": "text/x-python",
   "name": "python",
   "nbconvert_exporter": "python",
   "pygments_lexer": "ipython3",
   "version": "3.11.5"
  }
 },
 "nbformat": 4,
 "nbformat_minor": 4
}
