{
 "cells": [
  {
   "cell_type": "code",
   "execution_count": 1,
   "metadata": {},
   "outputs": [],
   "source": [
    "from bs4 import BeautifulSoup\n",
    "import requests\n",
    "import time\n",
    "import re\n",
    "import numpy as np\n",
    "import pandas as pd"
   ]
  },
  {
   "cell_type": "markdown",
   "metadata": {},
   "source": [
    "## auctions collection"
   ]
  },
  {
   "cell_type": "code",
   "execution_count": 2,
   "metadata": {},
   "outputs": [],
   "source": [
    "flat_size = [[0,30],[30,35],[35,40],\n",
    "             [50,52],[52,55],[55,57],[57,60],\n",
    "             [60,65],[65,70],[70,80],[80,100],[100,1000]]"
   ]
  },
  {
   "cell_type": "code",
   "execution_count": 3,
   "metadata": {},
   "outputs": [
    {
     "name": "stdout",
     "output_type": "stream",
     "text": [
      "mi=0, ma=30, 162 pages\n",
      "mi=30, ma=35, 163 pages\n",
      "mi=35, ma=40, 273 pages\n",
      "mi=50, ma=52, 163 pages\n",
      "mi=52, ma=55, 214 pages\n",
      "mi=55, ma=57, 138 pages\n",
      "mi=57, ma=60, 198 pages\n",
      "mi=60, ma=65, 310 pages\n",
      "mi=65, ma=70, 204 pages\n",
      "mi=70, ma=80, 287 pages\n",
      "mi=80, ma=100, 273 pages\n",
      "mi=100, ma=1000, 257 pages\n",
      "0.0 min.\n"
     ]
    }
   ],
   "source": [
    "start = time.time()\n",
    "\n",
    "for mi,ma in flat_size:\n",
    "    url = f'https://gratka.pl/nieruchomosci/mieszkania?powierzchnia-w-m2:min={mi}&powierzchnia-w-m2:max={ma}'\n",
    "    page = requests.get(url)\n",
    "    soup = BeautifulSoup(page.content, 'html.parser')\n",
    "    pagination = soup.find_all(class_=\"pagination__input\")\n",
    "    print(f'mi={mi}, ma={ma}, {pagination[0][\"max\"]} pages')\n",
    "        \n",
    "stop = time.time()\n",
    "print((stop-start)//60,'min.')"
   ]
  },
  {
   "cell_type": "code",
   "execution_count": 3,
   "metadata": {},
   "outputs": [],
   "source": [
    "auction_list = []"
   ]
  },
  {
   "cell_type": "code",
   "execution_count": 4,
   "metadata": {},
   "outputs": [
    {
     "name": "stdout",
     "output_type": "stream",
     "text": [
      "mi=0 ma=30 complete, auction list has now 5176 links\n",
      "mi=30 ma=35 complete, auction list has now 10374 links\n",
      "mi=35 ma=40 complete, auction list has now 19067 links\n",
      "mi=50 ma=52 complete, auction list has now 24260 links\n",
      "mi=52 ma=55 complete, auction list has now 31075 links\n",
      "mi=55 ma=57 complete, auction list has now 35474 links\n",
      "mi=57 ma=60 complete, auction list has now 41756 links\n",
      "mi=60 ma=65 complete, auction list has now 51656 links\n",
      "mi=65 ma=70 complete, auction list has now 58165 links\n",
      "mi=70 ma=80 complete, auction list has now 67267 links\n",
      "mi=80 ma=100 complete, auction list has now 75941 links\n",
      "mi=100 ma=1000 complete, auction list has now 84121 links\n",
      "98.0 min.\n"
     ]
    }
   ],
   "source": [
    "start = time.time()\n",
    "\n",
    "for mi,ma in flat_size:\n",
    "    url = f'https://gratka.pl/nieruchomosci/mieszkania?powierzchnia-w-m2:min={mi}&powierzchnia-w-m2:max={ma}'\n",
    "    page = requests.get(url)\n",
    "    soup = BeautifulSoup(page.content, 'html.parser')\n",
    "    pagination = soup.find_all(class_=\"pagination__input\")\n",
    "    for i in range(int(pagination[0][\"max\"])):\n",
    "        url = f'https://gratka.pl/nieruchomosci/mieszkania?page={i+1}&powierzchnia-w-m2:min={mi}&powierzchnia-w-m2:max={ma}'\n",
    "        page = requests.get(url)\n",
    "        soup = BeautifulSoup(page.content, 'html.parser')\n",
    "        links = soup.find_all(class_=\"teaserEstate__anchor\")\n",
    "        for link in links:\n",
    "            auction_list.append(link['href'])\n",
    "#         time.sleep(1)\n",
    "#         if i%50 == 0:\n",
    "#         time.sleep(5)\n",
    "    print(f'mi={mi} ma={ma} complete, auction list has now {len(auction_list)} links')\n",
    "        \n",
    "stop = time.time()\n",
    "print((stop-start)//60,'min.')"
   ]
  },
  {
   "cell_type": "code",
   "execution_count": 5,
   "metadata": {},
   "outputs": [
    {
     "data": {
      "text/plain": [
       "84121"
      ]
     },
     "execution_count": 5,
     "metadata": {},
     "output_type": "execute_result"
    }
   ],
   "source": [
    "len(auction_list)"
   ]
  },
  {
   "cell_type": "code",
   "execution_count": 6,
   "metadata": {},
   "outputs": [
    {
     "data": {
      "text/plain": [
       "72077"
      ]
     },
     "execution_count": 6,
     "metadata": {},
     "output_type": "execute_result"
    }
   ],
   "source": [
    "len(set(auction_list))"
   ]
  },
  {
   "cell_type": "code",
   "execution_count": 8,
   "metadata": {},
   "outputs": [],
   "source": [
    "auction_list = set(auction_list)"
   ]
  },
  {
   "cell_type": "markdown",
   "metadata": {},
   "source": [
    "## saving auction list"
   ]
  },
  {
   "cell_type": "code",
   "execution_count": 9,
   "metadata": {},
   "outputs": [],
   "source": [
    "with open('apartments_links.txt','w') as file:\n",
    "    for link in auction_list:\n",
    "        file.write(link)\n",
    "        file.write('\\n')"
   ]
  },
  {
   "cell_type": "code",
   "execution_count": null,
   "metadata": {},
   "outputs": [],
   "source": []
  }
 ],
 "metadata": {
  "kernelspec": {
   "display_name": "Python 3",
   "language": "python",
   "name": "python3"
  },
  "language_info": {
   "codemirror_mode": {
    "name": "ipython",
    "version": 3
   },
   "file_extension": ".py",
   "mimetype": "text/x-python",
   "name": "python",
   "nbconvert_exporter": "python",
   "pygments_lexer": "ipython3",
   "version": "3.6.12"
  }
 },
 "nbformat": 4,
 "nbformat_minor": 4
}
